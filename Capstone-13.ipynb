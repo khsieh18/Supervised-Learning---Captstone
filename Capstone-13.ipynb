{
 "cells": [
  {
   "cell_type": "markdown",
   "metadata": {},
   "source": [
    "- 1stFlrSF:\t First Floor square feet\n",
    "- 2ndFlrSF:\t Second floor square feet\n",
    "- 3SsnPorch:\t Three season porch area in square feet\n",
    "- Alley:\t Type of alley access\n",
    "- Bedroom:\t Number of bedrooms above basement level\n",
    "- BldgType:\t Type of dwelling\n",
    "- BsmtCond:\t General condition of the basement\n",
    "- BsmtExposure:\t Walkout or garden level basement walls\n",
    "- BsmtFinSF1:\t Type 1 finished square feet\n",
    "- BsmtFinSF2:\t Type 2 finished square feet\n",
    "- BsmtFinType1:\t Quality of basement finished area\n",
    "- BsmtFinType2:\t Quality of second finished area (if present)\n",
    "- BsmtFullBath:\t Basement full bathrooms\n",
    "- BsmtHalfBath:\t Basement half bathrooms\n",
    "- BsmtQual:\t Height of the basement\n",
    "- BsmtUnfSF:\t Unfinished square feet of basement area\n",
    "- CentralAir:\t Central air conditioning\n",
    "- Condition1:\t Proximity to main road or railroad\n",
    "- Condition2:\t Proximity to main road or railroad (if a second is present)\n",
    "- Electrical:\t Electrical system\n",
    "- EnclosedPorch:\t Enclosed porch area in square feet\n",
    "- ExterCond:\t Present condition of the material on the exterior\n",
    "- Exterior1st:\t Exterior covering on house\n",
    "- Exterior2nd:\t Exterior covering on house (if more than one material)\n",
    "- ExterQual:\t Exterior material quality\n",
    "- Fence:\t Fence quality\n",
    "- FireplaceQu:\t Fireplace quality\n",
    "- Fireplaces:\t Number of fireplaces\n",
    "- Foundation:\t Type of foundation\n",
    "- FullBath:\t Full bathrooms above grade\n",
    "- Functional:\t Home functionality rating\n",
    "- GarageArea:\t Size of garage in square feet\n",
    "- GarageCars:\t Size of garage in car capacity\n",
    "- GarageCond:\t Garage condition\n",
    "- GarageFinish:\t Interior finish of the garage\n",
    "- GarageQual:\t Garage quality\n",
    "- GarageType:\t Garage location\n",
    "- GarageYrBlt:\t Year garage was built\n",
    "- GrLivArea:\t Above grade (ground) living area square feet\n",
    "- HalfBath:\t Half baths above grade\n",
    "- - Heating:\t Type of heating\n",
    "- HeatingQC:\t Heating quality and condition\n",
    "- HouseStyle:\t Style of dwelling\n",
    "- Id:\tObservation Id\n",
    "- Kitchen:\t Number of kitchens\n",
    "- KitchenQual:\t Kitchen quality\n",
    "- LandContour:\t Flatness of the property\n",
    "- LandSlope:\t Slope of property\n",
    "- LotArea:\t Lot size in square feet\n",
    "- LotConfig:\t Lot configuration\n",
    "- LotFrontage:\t Linear feet of street connected to property\n",
    "- LotShape:\t General shape of property\n",
    "- LowQualFinSF:\t Low quality finished square feet (all floors)\n",
    "- MasVnrArea:\t Masonry veneer area in square feet\n",
    "- MasVnrType:\t Masonry veneer type\n",
    "- MiscFeature:\t Miscellaneous feature not covered in other categories\n",
    "- MiscVal:\t $Value of miscellaneous feature\n",
    "- MoSold:\t Month Sold\n",
    "- MSSubClass:\t The building class\n",
    "- MSZoning:\t The general zoning classification\n",
    "- Neighborhood:\t Physical locations within Ames city limits\n",
    "- OpenPorchSF:\t Open porch area in square feet\n",
    "- OverallCond:\t Overall condition rating\n",
    "- OverallQual:\t Overall material and finish quality\n",
    "- PavedDrive:\t Paved driveway\n",
    "- PoolArea:\t Pool area in square feet\n",
    "- PoolQC:\t Pool quality\n",
    "- RoofMatl:\t Roof material\n",
    "- RoofStyle:\t Type of roof\n",
    "- SaleCondition:\t Condition of sale\n",
    "- SalePrice:\t the property's sale price in dollars. This is the target variable that you're trying to predict.\n",
    "- SaleType:\t Type of sale\n",
    "- ScreenPorch:\t Screen porch area in square feet\n",
    "- Street:\t Type of road access\n",
    "- TotalBsmtSF:\t Total square feet of basement area\n",
    "- TotRmsAbvGrd:\t Total rooms above grade (does not include bathrooms)\n",
    "- Utilities:\t Type of utilities available\n",
    "- WoodDeckSF:\t Wood deck area in square feet\n",
    "- YearBuilt:\t Original construction date\n",
    "- YearRemodAdd:\t Remodel date\n",
    "- YrSold:\t Year Sold\n"
   ]
  },
  {
   "cell_type": "code",
   "execution_count": 1,
   "metadata": {},
   "outputs": [],
   "source": [
    "import pandas as pd\n",
    "import numpy as np\n",
    "import matplotlib.pyplot as plt\n",
    "%matplotlib inline\n",
    "import seaborn as sns\n",
    "\n",
    "from scipy import stats\n",
    "from scipy.stats import norm\n",
    "\n",
    "from sklearn.preprocessing import StandardScaler\n",
    "from sklearn import ensemble, tree, linear_model\n",
    "from sklearn.metrics import r2_score, mean_squared_error\n",
    "from sklearn.utils import shuffle\n",
    "from sklearn.model_selection import train_test_split, cross_val_score\n",
    "\n",
    "\n",
    "\n",
    "import warnings\n",
    "warnings.filterwarnings('ignore')"
   ]
  },
  {
   "cell_type": "code",
   "execution_count": 2,
   "metadata": {},
   "outputs": [],
   "source": [
    "df=pd.read_csv('train.csv')"
   ]
  },
  {
   "cell_type": "code",
   "execution_count": 3,
   "metadata": {
    "scrolled": true
   },
   "outputs": [
    {
     "data": {
      "text/html": [
       "<div>\n",
       "<style scoped>\n",
       "    .dataframe tbody tr th:only-of-type {\n",
       "        vertical-align: middle;\n",
       "    }\n",
       "\n",
       "    .dataframe tbody tr th {\n",
       "        vertical-align: top;\n",
       "    }\n",
       "\n",
       "    .dataframe thead th {\n",
       "        text-align: right;\n",
       "    }\n",
       "</style>\n",
       "<table border=\"1\" class=\"dataframe\">\n",
       "  <thead>\n",
       "    <tr style=\"text-align: right;\">\n",
       "      <th></th>\n",
       "      <th>1stFlrSF</th>\n",
       "      <th>2ndFlrSF</th>\n",
       "      <th>3SsnPorch</th>\n",
       "      <th>Alley</th>\n",
       "      <th>BedroomAbvGr</th>\n",
       "      <th>BldgType</th>\n",
       "      <th>BsmtCond</th>\n",
       "      <th>BsmtExposure</th>\n",
       "      <th>BsmtFinSF1</th>\n",
       "      <th>BsmtFinSF2</th>\n",
       "      <th>BsmtFinType1</th>\n",
       "      <th>BsmtFinType2</th>\n",
       "      <th>BsmtFullBath</th>\n",
       "      <th>BsmtHalfBath</th>\n",
       "      <th>BsmtQual</th>\n",
       "      <th>BsmtUnfSF</th>\n",
       "      <th>CentralAir</th>\n",
       "      <th>Condition1</th>\n",
       "      <th>Condition2</th>\n",
       "      <th>Electrical</th>\n",
       "      <th>EnclosedPorch</th>\n",
       "      <th>ExterCond</th>\n",
       "      <th>ExterQual</th>\n",
       "      <th>Exterior1st</th>\n",
       "      <th>Exterior2nd</th>\n",
       "      <th>Fence</th>\n",
       "      <th>FireplaceQu</th>\n",
       "      <th>Fireplaces</th>\n",
       "      <th>Foundation</th>\n",
       "      <th>FullBath</th>\n",
       "      <th>Functional</th>\n",
       "      <th>GarageArea</th>\n",
       "      <th>GarageCars</th>\n",
       "      <th>GarageCond</th>\n",
       "      <th>GarageFinish</th>\n",
       "      <th>GarageQual</th>\n",
       "      <th>GarageType</th>\n",
       "      <th>GarageYrBlt</th>\n",
       "      <th>GrLivArea</th>\n",
       "      <th>HalfBath</th>\n",
       "      <th>Heating</th>\n",
       "      <th>HeatingQC</th>\n",
       "      <th>HouseStyle</th>\n",
       "      <th>Id</th>\n",
       "      <th>KitchenAbvGr</th>\n",
       "      <th>KitchenQual</th>\n",
       "      <th>LandContour</th>\n",
       "      <th>LandSlope</th>\n",
       "      <th>LotArea</th>\n",
       "      <th>LotConfig</th>\n",
       "      <th>LotFrontage</th>\n",
       "      <th>LotShape</th>\n",
       "      <th>LowQualFinSF</th>\n",
       "      <th>MSSubClass</th>\n",
       "      <th>MSZoning</th>\n",
       "      <th>MasVnrArea</th>\n",
       "      <th>MasVnrType</th>\n",
       "      <th>MiscFeature</th>\n",
       "      <th>MiscVal</th>\n",
       "      <th>MoSold</th>\n",
       "      <th>Neighborhood</th>\n",
       "      <th>OpenPorchSF</th>\n",
       "      <th>OverallCond</th>\n",
       "      <th>OverallQual</th>\n",
       "      <th>PavedDrive</th>\n",
       "      <th>PoolArea</th>\n",
       "      <th>PoolQC</th>\n",
       "      <th>RoofMatl</th>\n",
       "      <th>RoofStyle</th>\n",
       "      <th>SaleCondition</th>\n",
       "      <th>SalePrice</th>\n",
       "      <th>SaleType</th>\n",
       "      <th>ScreenPorch</th>\n",
       "      <th>Street</th>\n",
       "      <th>TotRmsAbvGrd</th>\n",
       "      <th>TotalBsmtSF</th>\n",
       "      <th>Utilities</th>\n",
       "      <th>WoodDeckSF</th>\n",
       "      <th>YearBuilt</th>\n",
       "      <th>YearRemodAdd</th>\n",
       "      <th>YrSold</th>\n",
       "    </tr>\n",
       "  </thead>\n",
       "  <tbody>\n",
       "    <tr>\n",
       "      <th>0</th>\n",
       "      <td>856</td>\n",
       "      <td>854</td>\n",
       "      <td>0</td>\n",
       "      <td>NaN</td>\n",
       "      <td>3</td>\n",
       "      <td>1Fam</td>\n",
       "      <td>TA</td>\n",
       "      <td>No</td>\n",
       "      <td>706</td>\n",
       "      <td>0</td>\n",
       "      <td>GLQ</td>\n",
       "      <td>Unf</td>\n",
       "      <td>1</td>\n",
       "      <td>0</td>\n",
       "      <td>Gd</td>\n",
       "      <td>150</td>\n",
       "      <td>Y</td>\n",
       "      <td>Norm</td>\n",
       "      <td>Norm</td>\n",
       "      <td>SBrkr</td>\n",
       "      <td>0</td>\n",
       "      <td>TA</td>\n",
       "      <td>Gd</td>\n",
       "      <td>VinylSd</td>\n",
       "      <td>VinylSd</td>\n",
       "      <td>NaN</td>\n",
       "      <td>NaN</td>\n",
       "      <td>0</td>\n",
       "      <td>PConc</td>\n",
       "      <td>2</td>\n",
       "      <td>Typ</td>\n",
       "      <td>548</td>\n",
       "      <td>2</td>\n",
       "      <td>TA</td>\n",
       "      <td>RFn</td>\n",
       "      <td>TA</td>\n",
       "      <td>Attchd</td>\n",
       "      <td>2003.0</td>\n",
       "      <td>1710</td>\n",
       "      <td>1</td>\n",
       "      <td>GasA</td>\n",
       "      <td>Ex</td>\n",
       "      <td>2Story</td>\n",
       "      <td>1</td>\n",
       "      <td>1</td>\n",
       "      <td>Gd</td>\n",
       "      <td>Lvl</td>\n",
       "      <td>Gtl</td>\n",
       "      <td>8450</td>\n",
       "      <td>Inside</td>\n",
       "      <td>65.0</td>\n",
       "      <td>Reg</td>\n",
       "      <td>0</td>\n",
       "      <td>60</td>\n",
       "      <td>RL</td>\n",
       "      <td>196.0</td>\n",
       "      <td>BrkFace</td>\n",
       "      <td>NaN</td>\n",
       "      <td>0</td>\n",
       "      <td>2</td>\n",
       "      <td>CollgCr</td>\n",
       "      <td>61</td>\n",
       "      <td>5</td>\n",
       "      <td>7</td>\n",
       "      <td>Y</td>\n",
       "      <td>0</td>\n",
       "      <td>NaN</td>\n",
       "      <td>CompShg</td>\n",
       "      <td>Gable</td>\n",
       "      <td>Normal</td>\n",
       "      <td>208500</td>\n",
       "      <td>WD</td>\n",
       "      <td>0</td>\n",
       "      <td>Pave</td>\n",
       "      <td>8</td>\n",
       "      <td>856</td>\n",
       "      <td>AllPub</td>\n",
       "      <td>0</td>\n",
       "      <td>2003</td>\n",
       "      <td>2003</td>\n",
       "      <td>2008</td>\n",
       "    </tr>\n",
       "    <tr>\n",
       "      <th>1</th>\n",
       "      <td>1262</td>\n",
       "      <td>0</td>\n",
       "      <td>0</td>\n",
       "      <td>NaN</td>\n",
       "      <td>3</td>\n",
       "      <td>1Fam</td>\n",
       "      <td>TA</td>\n",
       "      <td>Gd</td>\n",
       "      <td>978</td>\n",
       "      <td>0</td>\n",
       "      <td>ALQ</td>\n",
       "      <td>Unf</td>\n",
       "      <td>0</td>\n",
       "      <td>1</td>\n",
       "      <td>Gd</td>\n",
       "      <td>284</td>\n",
       "      <td>Y</td>\n",
       "      <td>Feedr</td>\n",
       "      <td>Norm</td>\n",
       "      <td>SBrkr</td>\n",
       "      <td>0</td>\n",
       "      <td>TA</td>\n",
       "      <td>TA</td>\n",
       "      <td>MetalSd</td>\n",
       "      <td>MetalSd</td>\n",
       "      <td>NaN</td>\n",
       "      <td>TA</td>\n",
       "      <td>1</td>\n",
       "      <td>CBlock</td>\n",
       "      <td>2</td>\n",
       "      <td>Typ</td>\n",
       "      <td>460</td>\n",
       "      <td>2</td>\n",
       "      <td>TA</td>\n",
       "      <td>RFn</td>\n",
       "      <td>TA</td>\n",
       "      <td>Attchd</td>\n",
       "      <td>1976.0</td>\n",
       "      <td>1262</td>\n",
       "      <td>0</td>\n",
       "      <td>GasA</td>\n",
       "      <td>Ex</td>\n",
       "      <td>1Story</td>\n",
       "      <td>2</td>\n",
       "      <td>1</td>\n",
       "      <td>TA</td>\n",
       "      <td>Lvl</td>\n",
       "      <td>Gtl</td>\n",
       "      <td>9600</td>\n",
       "      <td>FR2</td>\n",
       "      <td>80.0</td>\n",
       "      <td>Reg</td>\n",
       "      <td>0</td>\n",
       "      <td>20</td>\n",
       "      <td>RL</td>\n",
       "      <td>0.0</td>\n",
       "      <td>None</td>\n",
       "      <td>NaN</td>\n",
       "      <td>0</td>\n",
       "      <td>5</td>\n",
       "      <td>Veenker</td>\n",
       "      <td>0</td>\n",
       "      <td>8</td>\n",
       "      <td>6</td>\n",
       "      <td>Y</td>\n",
       "      <td>0</td>\n",
       "      <td>NaN</td>\n",
       "      <td>CompShg</td>\n",
       "      <td>Gable</td>\n",
       "      <td>Normal</td>\n",
       "      <td>181500</td>\n",
       "      <td>WD</td>\n",
       "      <td>0</td>\n",
       "      <td>Pave</td>\n",
       "      <td>6</td>\n",
       "      <td>1262</td>\n",
       "      <td>AllPub</td>\n",
       "      <td>298</td>\n",
       "      <td>1976</td>\n",
       "      <td>1976</td>\n",
       "      <td>2007</td>\n",
       "    </tr>\n",
       "    <tr>\n",
       "      <th>2</th>\n",
       "      <td>920</td>\n",
       "      <td>866</td>\n",
       "      <td>0</td>\n",
       "      <td>NaN</td>\n",
       "      <td>3</td>\n",
       "      <td>1Fam</td>\n",
       "      <td>TA</td>\n",
       "      <td>Mn</td>\n",
       "      <td>486</td>\n",
       "      <td>0</td>\n",
       "      <td>GLQ</td>\n",
       "      <td>Unf</td>\n",
       "      <td>1</td>\n",
       "      <td>0</td>\n",
       "      <td>Gd</td>\n",
       "      <td>434</td>\n",
       "      <td>Y</td>\n",
       "      <td>Norm</td>\n",
       "      <td>Norm</td>\n",
       "      <td>SBrkr</td>\n",
       "      <td>0</td>\n",
       "      <td>TA</td>\n",
       "      <td>Gd</td>\n",
       "      <td>VinylSd</td>\n",
       "      <td>VinylSd</td>\n",
       "      <td>NaN</td>\n",
       "      <td>TA</td>\n",
       "      <td>1</td>\n",
       "      <td>PConc</td>\n",
       "      <td>2</td>\n",
       "      <td>Typ</td>\n",
       "      <td>608</td>\n",
       "      <td>2</td>\n",
       "      <td>TA</td>\n",
       "      <td>RFn</td>\n",
       "      <td>TA</td>\n",
       "      <td>Attchd</td>\n",
       "      <td>2001.0</td>\n",
       "      <td>1786</td>\n",
       "      <td>1</td>\n",
       "      <td>GasA</td>\n",
       "      <td>Ex</td>\n",
       "      <td>2Story</td>\n",
       "      <td>3</td>\n",
       "      <td>1</td>\n",
       "      <td>Gd</td>\n",
       "      <td>Lvl</td>\n",
       "      <td>Gtl</td>\n",
       "      <td>11250</td>\n",
       "      <td>Inside</td>\n",
       "      <td>68.0</td>\n",
       "      <td>IR1</td>\n",
       "      <td>0</td>\n",
       "      <td>60</td>\n",
       "      <td>RL</td>\n",
       "      <td>162.0</td>\n",
       "      <td>BrkFace</td>\n",
       "      <td>NaN</td>\n",
       "      <td>0</td>\n",
       "      <td>9</td>\n",
       "      <td>CollgCr</td>\n",
       "      <td>42</td>\n",
       "      <td>5</td>\n",
       "      <td>7</td>\n",
       "      <td>Y</td>\n",
       "      <td>0</td>\n",
       "      <td>NaN</td>\n",
       "      <td>CompShg</td>\n",
       "      <td>Gable</td>\n",
       "      <td>Normal</td>\n",
       "      <td>223500</td>\n",
       "      <td>WD</td>\n",
       "      <td>0</td>\n",
       "      <td>Pave</td>\n",
       "      <td>6</td>\n",
       "      <td>920</td>\n",
       "      <td>AllPub</td>\n",
       "      <td>0</td>\n",
       "      <td>2001</td>\n",
       "      <td>2002</td>\n",
       "      <td>2008</td>\n",
       "    </tr>\n",
       "    <tr>\n",
       "      <th>3</th>\n",
       "      <td>961</td>\n",
       "      <td>756</td>\n",
       "      <td>0</td>\n",
       "      <td>NaN</td>\n",
       "      <td>3</td>\n",
       "      <td>1Fam</td>\n",
       "      <td>Gd</td>\n",
       "      <td>No</td>\n",
       "      <td>216</td>\n",
       "      <td>0</td>\n",
       "      <td>ALQ</td>\n",
       "      <td>Unf</td>\n",
       "      <td>1</td>\n",
       "      <td>0</td>\n",
       "      <td>TA</td>\n",
       "      <td>540</td>\n",
       "      <td>Y</td>\n",
       "      <td>Norm</td>\n",
       "      <td>Norm</td>\n",
       "      <td>SBrkr</td>\n",
       "      <td>272</td>\n",
       "      <td>TA</td>\n",
       "      <td>TA</td>\n",
       "      <td>Wd Sdng</td>\n",
       "      <td>Wd Shng</td>\n",
       "      <td>NaN</td>\n",
       "      <td>Gd</td>\n",
       "      <td>1</td>\n",
       "      <td>BrkTil</td>\n",
       "      <td>1</td>\n",
       "      <td>Typ</td>\n",
       "      <td>642</td>\n",
       "      <td>3</td>\n",
       "      <td>TA</td>\n",
       "      <td>Unf</td>\n",
       "      <td>TA</td>\n",
       "      <td>Detchd</td>\n",
       "      <td>1998.0</td>\n",
       "      <td>1717</td>\n",
       "      <td>0</td>\n",
       "      <td>GasA</td>\n",
       "      <td>Gd</td>\n",
       "      <td>2Story</td>\n",
       "      <td>4</td>\n",
       "      <td>1</td>\n",
       "      <td>Gd</td>\n",
       "      <td>Lvl</td>\n",
       "      <td>Gtl</td>\n",
       "      <td>9550</td>\n",
       "      <td>Corner</td>\n",
       "      <td>60.0</td>\n",
       "      <td>IR1</td>\n",
       "      <td>0</td>\n",
       "      <td>70</td>\n",
       "      <td>RL</td>\n",
       "      <td>0.0</td>\n",
       "      <td>None</td>\n",
       "      <td>NaN</td>\n",
       "      <td>0</td>\n",
       "      <td>2</td>\n",
       "      <td>Crawfor</td>\n",
       "      <td>35</td>\n",
       "      <td>5</td>\n",
       "      <td>7</td>\n",
       "      <td>Y</td>\n",
       "      <td>0</td>\n",
       "      <td>NaN</td>\n",
       "      <td>CompShg</td>\n",
       "      <td>Gable</td>\n",
       "      <td>Abnorml</td>\n",
       "      <td>140000</td>\n",
       "      <td>WD</td>\n",
       "      <td>0</td>\n",
       "      <td>Pave</td>\n",
       "      <td>7</td>\n",
       "      <td>756</td>\n",
       "      <td>AllPub</td>\n",
       "      <td>0</td>\n",
       "      <td>1915</td>\n",
       "      <td>1970</td>\n",
       "      <td>2006</td>\n",
       "    </tr>\n",
       "    <tr>\n",
       "      <th>4</th>\n",
       "      <td>1145</td>\n",
       "      <td>1053</td>\n",
       "      <td>0</td>\n",
       "      <td>NaN</td>\n",
       "      <td>4</td>\n",
       "      <td>1Fam</td>\n",
       "      <td>TA</td>\n",
       "      <td>Av</td>\n",
       "      <td>655</td>\n",
       "      <td>0</td>\n",
       "      <td>GLQ</td>\n",
       "      <td>Unf</td>\n",
       "      <td>1</td>\n",
       "      <td>0</td>\n",
       "      <td>Gd</td>\n",
       "      <td>490</td>\n",
       "      <td>Y</td>\n",
       "      <td>Norm</td>\n",
       "      <td>Norm</td>\n",
       "      <td>SBrkr</td>\n",
       "      <td>0</td>\n",
       "      <td>TA</td>\n",
       "      <td>Gd</td>\n",
       "      <td>VinylSd</td>\n",
       "      <td>VinylSd</td>\n",
       "      <td>NaN</td>\n",
       "      <td>TA</td>\n",
       "      <td>1</td>\n",
       "      <td>PConc</td>\n",
       "      <td>2</td>\n",
       "      <td>Typ</td>\n",
       "      <td>836</td>\n",
       "      <td>3</td>\n",
       "      <td>TA</td>\n",
       "      <td>RFn</td>\n",
       "      <td>TA</td>\n",
       "      <td>Attchd</td>\n",
       "      <td>2000.0</td>\n",
       "      <td>2198</td>\n",
       "      <td>1</td>\n",
       "      <td>GasA</td>\n",
       "      <td>Ex</td>\n",
       "      <td>2Story</td>\n",
       "      <td>5</td>\n",
       "      <td>1</td>\n",
       "      <td>Gd</td>\n",
       "      <td>Lvl</td>\n",
       "      <td>Gtl</td>\n",
       "      <td>14260</td>\n",
       "      <td>FR2</td>\n",
       "      <td>84.0</td>\n",
       "      <td>IR1</td>\n",
       "      <td>0</td>\n",
       "      <td>60</td>\n",
       "      <td>RL</td>\n",
       "      <td>350.0</td>\n",
       "      <td>BrkFace</td>\n",
       "      <td>NaN</td>\n",
       "      <td>0</td>\n",
       "      <td>12</td>\n",
       "      <td>NoRidge</td>\n",
       "      <td>84</td>\n",
       "      <td>5</td>\n",
       "      <td>8</td>\n",
       "      <td>Y</td>\n",
       "      <td>0</td>\n",
       "      <td>NaN</td>\n",
       "      <td>CompShg</td>\n",
       "      <td>Gable</td>\n",
       "      <td>Normal</td>\n",
       "      <td>250000</td>\n",
       "      <td>WD</td>\n",
       "      <td>0</td>\n",
       "      <td>Pave</td>\n",
       "      <td>9</td>\n",
       "      <td>1145</td>\n",
       "      <td>AllPub</td>\n",
       "      <td>192</td>\n",
       "      <td>2000</td>\n",
       "      <td>2000</td>\n",
       "      <td>2008</td>\n",
       "    </tr>\n",
       "  </tbody>\n",
       "</table>\n",
       "</div>"
      ],
      "text/plain": [
       "   1stFlrSF  2ndFlrSF  3SsnPorch Alley  BedroomAbvGr BldgType BsmtCond  \\\n",
       "0       856       854          0   NaN             3     1Fam       TA   \n",
       "1      1262         0          0   NaN             3     1Fam       TA   \n",
       "2       920       866          0   NaN             3     1Fam       TA   \n",
       "3       961       756          0   NaN             3     1Fam       Gd   \n",
       "4      1145      1053          0   NaN             4     1Fam       TA   \n",
       "\n",
       "  BsmtExposure  BsmtFinSF1  BsmtFinSF2 BsmtFinType1 BsmtFinType2  \\\n",
       "0           No         706           0          GLQ          Unf   \n",
       "1           Gd         978           0          ALQ          Unf   \n",
       "2           Mn         486           0          GLQ          Unf   \n",
       "3           No         216           0          ALQ          Unf   \n",
       "4           Av         655           0          GLQ          Unf   \n",
       "\n",
       "   BsmtFullBath  BsmtHalfBath BsmtQual  BsmtUnfSF CentralAir Condition1  \\\n",
       "0             1             0       Gd        150          Y       Norm   \n",
       "1             0             1       Gd        284          Y      Feedr   \n",
       "2             1             0       Gd        434          Y       Norm   \n",
       "3             1             0       TA        540          Y       Norm   \n",
       "4             1             0       Gd        490          Y       Norm   \n",
       "\n",
       "  Condition2 Electrical  EnclosedPorch ExterCond ExterQual Exterior1st  \\\n",
       "0       Norm      SBrkr              0        TA        Gd     VinylSd   \n",
       "1       Norm      SBrkr              0        TA        TA     MetalSd   \n",
       "2       Norm      SBrkr              0        TA        Gd     VinylSd   \n",
       "3       Norm      SBrkr            272        TA        TA     Wd Sdng   \n",
       "4       Norm      SBrkr              0        TA        Gd     VinylSd   \n",
       "\n",
       "  Exterior2nd Fence FireplaceQu  Fireplaces Foundation  FullBath Functional  \\\n",
       "0     VinylSd   NaN         NaN           0      PConc         2        Typ   \n",
       "1     MetalSd   NaN          TA           1     CBlock         2        Typ   \n",
       "2     VinylSd   NaN          TA           1      PConc         2        Typ   \n",
       "3     Wd Shng   NaN          Gd           1     BrkTil         1        Typ   \n",
       "4     VinylSd   NaN          TA           1      PConc         2        Typ   \n",
       "\n",
       "   GarageArea  GarageCars GarageCond GarageFinish GarageQual GarageType  \\\n",
       "0         548           2         TA          RFn         TA     Attchd   \n",
       "1         460           2         TA          RFn         TA     Attchd   \n",
       "2         608           2         TA          RFn         TA     Attchd   \n",
       "3         642           3         TA          Unf         TA     Detchd   \n",
       "4         836           3         TA          RFn         TA     Attchd   \n",
       "\n",
       "   GarageYrBlt  GrLivArea  HalfBath Heating HeatingQC HouseStyle  Id  \\\n",
       "0       2003.0       1710         1    GasA        Ex     2Story   1   \n",
       "1       1976.0       1262         0    GasA        Ex     1Story   2   \n",
       "2       2001.0       1786         1    GasA        Ex     2Story   3   \n",
       "3       1998.0       1717         0    GasA        Gd     2Story   4   \n",
       "4       2000.0       2198         1    GasA        Ex     2Story   5   \n",
       "\n",
       "   KitchenAbvGr KitchenQual LandContour LandSlope  LotArea LotConfig  \\\n",
       "0             1          Gd         Lvl       Gtl     8450    Inside   \n",
       "1             1          TA         Lvl       Gtl     9600       FR2   \n",
       "2             1          Gd         Lvl       Gtl    11250    Inside   \n",
       "3             1          Gd         Lvl       Gtl     9550    Corner   \n",
       "4             1          Gd         Lvl       Gtl    14260       FR2   \n",
       "\n",
       "   LotFrontage LotShape  LowQualFinSF  MSSubClass MSZoning  MasVnrArea  \\\n",
       "0         65.0      Reg             0          60       RL       196.0   \n",
       "1         80.0      Reg             0          20       RL         0.0   \n",
       "2         68.0      IR1             0          60       RL       162.0   \n",
       "3         60.0      IR1             0          70       RL         0.0   \n",
       "4         84.0      IR1             0          60       RL       350.0   \n",
       "\n",
       "  MasVnrType MiscFeature  MiscVal  MoSold Neighborhood  OpenPorchSF  \\\n",
       "0    BrkFace         NaN        0       2      CollgCr           61   \n",
       "1       None         NaN        0       5      Veenker            0   \n",
       "2    BrkFace         NaN        0       9      CollgCr           42   \n",
       "3       None         NaN        0       2      Crawfor           35   \n",
       "4    BrkFace         NaN        0      12      NoRidge           84   \n",
       "\n",
       "   OverallCond  OverallQual PavedDrive  PoolArea PoolQC RoofMatl RoofStyle  \\\n",
       "0            5            7          Y         0    NaN  CompShg     Gable   \n",
       "1            8            6          Y         0    NaN  CompShg     Gable   \n",
       "2            5            7          Y         0    NaN  CompShg     Gable   \n",
       "3            5            7          Y         0    NaN  CompShg     Gable   \n",
       "4            5            8          Y         0    NaN  CompShg     Gable   \n",
       "\n",
       "  SaleCondition  SalePrice SaleType  ScreenPorch Street  TotRmsAbvGrd  \\\n",
       "0        Normal     208500       WD            0   Pave             8   \n",
       "1        Normal     181500       WD            0   Pave             6   \n",
       "2        Normal     223500       WD            0   Pave             6   \n",
       "3       Abnorml     140000       WD            0   Pave             7   \n",
       "4        Normal     250000       WD            0   Pave             9   \n",
       "\n",
       "   TotalBsmtSF Utilities  WoodDeckSF  YearBuilt  YearRemodAdd  YrSold  \n",
       "0          856    AllPub           0       2003          2003    2008  \n",
       "1         1262    AllPub         298       1976          1976    2007  \n",
       "2          920    AllPub           0       2001          2002    2008  \n",
       "3          756    AllPub           0       1915          1970    2006  \n",
       "4         1145    AllPub         192       2000          2000    2008  "
      ]
     },
     "execution_count": 3,
     "metadata": {},
     "output_type": "execute_result"
    }
   ],
   "source": [
    "from IPython.display import display\n",
    "pd.options.display.max_columns=None\n",
    "df=df.reindex_axis(sorted(df.columns),axis=1)\n",
    "df.head()"
   ]
  },
  {
   "cell_type": "code",
   "execution_count": 4,
   "metadata": {
    "scrolled": true
   },
   "outputs": [
    {
     "data": {
      "text/plain": [
       "(1460, 81)"
      ]
     },
     "execution_count": 4,
     "metadata": {},
     "output_type": "execute_result"
    }
   ],
   "source": [
    "df.shape"
   ]
  },
  {
   "cell_type": "markdown",
   "metadata": {},
   "source": [
    "### Remove \"Id\" from dataset"
   ]
  },
  {
   "cell_type": "code",
   "execution_count": 5,
   "metadata": {},
   "outputs": [],
   "source": [
    "df=df.drop(columns=['Id'])"
   ]
  },
  {
   "cell_type": "code",
   "execution_count": 6,
   "metadata": {},
   "outputs": [
    {
     "data": {
      "text/plain": [
       "(1460, 80)"
      ]
     },
     "execution_count": 6,
     "metadata": {},
     "output_type": "execute_result"
    }
   ],
   "source": [
    "df.shape"
   ]
  },
  {
   "cell_type": "code",
   "execution_count": 7,
   "metadata": {
    "scrolled": false
   },
   "outputs": [
    {
     "data": {
      "text/plain": [
       "1stFlrSF           int64\n",
       "2ndFlrSF           int64\n",
       "3SsnPorch          int64\n",
       "Alley             object\n",
       "BedroomAbvGr       int64\n",
       "BldgType          object\n",
       "BsmtCond          object\n",
       "BsmtExposure      object\n",
       "BsmtFinSF1         int64\n",
       "BsmtFinSF2         int64\n",
       "BsmtFinType1      object\n",
       "BsmtFinType2      object\n",
       "BsmtFullBath       int64\n",
       "BsmtHalfBath       int64\n",
       "BsmtQual          object\n",
       "BsmtUnfSF          int64\n",
       "CentralAir        object\n",
       "Condition1        object\n",
       "Condition2        object\n",
       "Electrical        object\n",
       "EnclosedPorch      int64\n",
       "ExterCond         object\n",
       "ExterQual         object\n",
       "Exterior1st       object\n",
       "Exterior2nd       object\n",
       "Fence             object\n",
       "FireplaceQu       object\n",
       "Fireplaces         int64\n",
       "Foundation        object\n",
       "FullBath           int64\n",
       "                  ...   \n",
       "LotShape          object\n",
       "LowQualFinSF       int64\n",
       "MSSubClass         int64\n",
       "MSZoning          object\n",
       "MasVnrArea       float64\n",
       "MasVnrType        object\n",
       "MiscFeature       object\n",
       "MiscVal            int64\n",
       "MoSold             int64\n",
       "Neighborhood      object\n",
       "OpenPorchSF        int64\n",
       "OverallCond        int64\n",
       "OverallQual        int64\n",
       "PavedDrive        object\n",
       "PoolArea           int64\n",
       "PoolQC            object\n",
       "RoofMatl          object\n",
       "RoofStyle         object\n",
       "SaleCondition     object\n",
       "SalePrice          int64\n",
       "SaleType          object\n",
       "ScreenPorch        int64\n",
       "Street            object\n",
       "TotRmsAbvGrd       int64\n",
       "TotalBsmtSF        int64\n",
       "Utilities         object\n",
       "WoodDeckSF         int64\n",
       "YearBuilt          int64\n",
       "YearRemodAdd       int64\n",
       "YrSold             int64\n",
       "Length: 80, dtype: object"
      ]
     },
     "execution_count": 7,
     "metadata": {},
     "output_type": "execute_result"
    }
   ],
   "source": [
    "df.dtypes"
   ]
  },
  {
   "cell_type": "markdown",
   "metadata": {},
   "source": [
    "## Data Cleaning"
   ]
  },
  {
   "cell_type": "markdown",
   "metadata": {},
   "source": [
    "### Checking NAs"
   ]
  },
  {
   "cell_type": "code",
   "execution_count": 8,
   "metadata": {
    "scrolled": false
   },
   "outputs": [
    {
     "data": {
      "text/plain": [
       "PoolQC          1453\n",
       "MiscFeature     1406\n",
       "Alley           1369\n",
       "Fence           1179\n",
       "FireplaceQu      690\n",
       "LotFrontage      259\n",
       "GarageYrBlt       81\n",
       "GarageType        81\n",
       "GarageQual        81\n",
       "GarageFinish      81\n",
       "GarageCond        81\n",
       "BsmtFinType2      38\n",
       "BsmtExposure      38\n",
       "BsmtQual          37\n",
       "BsmtFinType1      37\n",
       "BsmtCond          37\n",
       "MasVnrArea         8\n",
       "MasVnrType         8\n",
       "Electrical         1\n",
       "dtype: int64"
      ]
     },
     "execution_count": 8,
     "metadata": {},
     "output_type": "execute_result"
    }
   ],
   "source": [
    "null_cols=df.columns[df.isnull().any()]\n",
    "df[null_cols].isnull().sum().sort_values(ascending=False)"
   ]
  },
  {
   "cell_type": "code",
   "execution_count": 9,
   "metadata": {
    "scrolled": true
   },
   "outputs": [
    {
     "data": {
      "text/plain": [
       "PoolQC          99.520548\n",
       "MiscFeature     96.301370\n",
       "Alley           93.767123\n",
       "Fence           80.753425\n",
       "FireplaceQu     47.260274\n",
       "LotFrontage     17.739726\n",
       "GarageYrBlt      5.547945\n",
       "GarageType       5.547945\n",
       "GarageQual       5.547945\n",
       "GarageFinish     5.547945\n",
       "GarageCond       5.547945\n",
       "BsmtFinType2     2.602740\n",
       "BsmtExposure     2.602740\n",
       "BsmtQual         2.534247\n",
       "BsmtFinType1     2.534247\n",
       "BsmtCond         2.534247\n",
       "MasVnrArea       0.547945\n",
       "MasVnrType       0.547945\n",
       "Electrical       0.068493\n",
       "dtype: float64"
      ]
     },
     "execution_count": 9,
     "metadata": {},
     "output_type": "execute_result"
    }
   ],
   "source": [
    "dg=(df[null_cols].isnull().sum()/len(df)*100).sort_values(ascending=False)\n",
    "dg"
   ]
  },
  {
   "cell_type": "code",
   "execution_count": 10,
   "metadata": {},
   "outputs": [
    {
     "data": {
      "text/plain": [
       "array(['PoolQC', 'MiscFeature', 'Alley', 'Fence', 'FireplaceQu',\n",
       "       'LotFrontage', 'GarageYrBlt', 'GarageType', 'GarageQual',\n",
       "       'GarageFinish', 'GarageCond', 'BsmtFinType2', 'BsmtExposure',\n",
       "       'BsmtQual', 'BsmtFinType1', 'BsmtCond', 'MasVnrArea', 'MasVnrType',\n",
       "       'Electrical'], dtype=object)"
      ]
     },
     "execution_count": 10,
     "metadata": {},
     "output_type": "execute_result"
    }
   ],
   "source": [
    "featureName=dg.index.values\n",
    "featureName"
   ]
  },
  {
   "cell_type": "code",
   "execution_count": 11,
   "metadata": {},
   "outputs": [],
   "source": [
    "def missingness(featureName):\n",
    "    for i in featureName:\n",
    "        print(i)\n",
    "        print(df[i].value_counts(dropna=False))\n",
    "        print(\"Value missing: %2.1f %%\" % (df[i].isnull().sum()/len(df)*100))\n",
    "        print()"
   ]
  },
  {
   "cell_type": "markdown",
   "metadata": {},
   "source": [
    "### Checking unique values of feature with more than 70% missning values"
   ]
  },
  {
   "cell_type": "code",
   "execution_count": 12,
   "metadata": {
    "scrolled": true
   },
   "outputs": [
    {
     "name": "stdout",
     "output_type": "stream",
     "text": [
      "PoolQC\n",
      "NaN    1453\n",
      "Gd        3\n",
      "Fa        2\n",
      "Ex        2\n",
      "Name: PoolQC, dtype: int64\n",
      "Value missing: 99.5 %\n",
      "\n",
      "MiscFeature\n",
      "NaN     1406\n",
      "Shed      49\n",
      "Othr       2\n",
      "Gar2       2\n",
      "TenC       1\n",
      "Name: MiscFeature, dtype: int64\n",
      "Value missing: 96.3 %\n",
      "\n",
      "Alley\n",
      "NaN     1369\n",
      "Grvl      50\n",
      "Pave      41\n",
      "Name: Alley, dtype: int64\n",
      "Value missing: 93.8 %\n",
      "\n",
      "Fence\n",
      "NaN      1179\n",
      "MnPrv     157\n",
      "GdPrv      59\n",
      "GdWo       54\n",
      "MnWw       11\n",
      "Name: Fence, dtype: int64\n",
      "Value missing: 80.8 %\n",
      "\n",
      "FireplaceQu\n",
      "NaN    690\n",
      "Gd     380\n",
      "TA     313\n",
      "Fa      33\n",
      "Ex      24\n",
      "Po      20\n",
      "Name: FireplaceQu, dtype: int64\n",
      "Value missing: 47.3 %\n",
      "\n",
      "LotFrontage\n",
      "NaN       259\n",
      " 60.0     143\n",
      " 70.0      70\n",
      " 80.0      69\n",
      " 50.0      57\n",
      " 75.0      53\n",
      " 65.0      44\n",
      " 85.0      40\n",
      " 78.0      25\n",
      " 21.0      23\n",
      " 90.0      23\n",
      " 68.0      19\n",
      " 24.0      19\n",
      " 64.0      19\n",
      " 73.0      18\n",
      " 72.0      17\n",
      " 79.0      17\n",
      " 63.0      17\n",
      " 55.0      17\n",
      " 100.0     16\n",
      " 51.0      15\n",
      " 66.0      15\n",
      " 74.0      15\n",
      " 52.0      14\n",
      " 59.0      13\n",
      " 71.0      12\n",
      " 67.0      12\n",
      " 57.0      12\n",
      " 82.0      12\n",
      " 43.0      12\n",
      "         ... \n",
      " 129.0      2\n",
      " 313.0      2\n",
      " 118.0      2\n",
      " 122.0      2\n",
      " 121.0      2\n",
      " 101.0      2\n",
      " 109.0      2\n",
      " 115.0      2\n",
      " 116.0      2\n",
      " 114.0      2\n",
      " 153.0      1\n",
      " 149.0      1\n",
      " 150.0      1\n",
      " 111.0      1\n",
      " 182.0      1\n",
      " 46.0       1\n",
      " 112.0      1\n",
      " 141.0      1\n",
      " 33.0       1\n",
      " 152.0      1\n",
      " 160.0      1\n",
      " 168.0      1\n",
      " 128.0      1\n",
      " 144.0      1\n",
      " 39.0       1\n",
      " 106.0      1\n",
      " 38.0       1\n",
      " 138.0      1\n",
      " 140.0      1\n",
      " 137.0      1\n",
      "Name: LotFrontage, Length: 111, dtype: int64\n",
      "Value missing: 17.7 %\n",
      "\n",
      "GarageYrBlt\n",
      "NaN        81\n",
      " 2005.0    65\n",
      " 2006.0    59\n",
      " 2004.0    53\n",
      " 2003.0    50\n",
      " 2007.0    49\n",
      " 1977.0    35\n",
      " 1998.0    31\n",
      " 1999.0    30\n",
      " 1976.0    29\n",
      " 2008.0    29\n",
      " 2000.0    27\n",
      " 2002.0    26\n",
      " 1968.0    26\n",
      " 1950.0    24\n",
      " 1993.0    22\n",
      " 1962.0    21\n",
      " 2009.0    21\n",
      " 1966.0    21\n",
      " 1965.0    21\n",
      " 1958.0    21\n",
      " 1970.0    20\n",
      " 1996.0    20\n",
      " 1957.0    20\n",
      " 2001.0    20\n",
      " 1997.0    19\n",
      " 1978.0    19\n",
      " 1960.0    19\n",
      " 1954.0    19\n",
      " 1974.0    18\n",
      "           ..\n",
      " 1916.0     5\n",
      " 1922.0     5\n",
      " 1936.0     5\n",
      " 1945.0     4\n",
      " 1946.0     4\n",
      " 1982.0     4\n",
      " 1931.0     4\n",
      " 1928.0     4\n",
      " 1935.0     4\n",
      " 1932.0     3\n",
      " 1952.0     3\n",
      " 1921.0     3\n",
      " 1938.0     3\n",
      " 2010.0     3\n",
      " 1910.0     3\n",
      " 1924.0     3\n",
      " 1923.0     3\n",
      " 1947.0     2\n",
      " 1918.0     2\n",
      " 1929.0     2\n",
      " 1914.0     2\n",
      " 1915.0     2\n",
      " 1934.0     2\n",
      " 1937.0     2\n",
      " 1942.0     2\n",
      " 1906.0     1\n",
      " 1927.0     1\n",
      " 1900.0     1\n",
      " 1908.0     1\n",
      " 1933.0     1\n",
      "Name: GarageYrBlt, Length: 98, dtype: int64\n",
      "Value missing: 5.5 %\n",
      "\n",
      "GarageType\n",
      "Attchd     870\n",
      "Detchd     387\n",
      "BuiltIn     88\n",
      "NaN         81\n",
      "Basment     19\n",
      "CarPort      9\n",
      "2Types       6\n",
      "Name: GarageType, dtype: int64\n",
      "Value missing: 5.5 %\n",
      "\n",
      "GarageQual\n",
      "TA     1311\n",
      "NaN      81\n",
      "Fa       48\n",
      "Gd       14\n",
      "Ex        3\n",
      "Po        3\n",
      "Name: GarageQual, dtype: int64\n",
      "Value missing: 5.5 %\n",
      "\n",
      "GarageFinish\n",
      "Unf    605\n",
      "RFn    422\n",
      "Fin    352\n",
      "NaN     81\n",
      "Name: GarageFinish, dtype: int64\n",
      "Value missing: 5.5 %\n",
      "\n",
      "GarageCond\n",
      "TA     1326\n",
      "NaN      81\n",
      "Fa       35\n",
      "Gd        9\n",
      "Po        7\n",
      "Ex        2\n",
      "Name: GarageCond, dtype: int64\n",
      "Value missing: 5.5 %\n",
      "\n",
      "BsmtFinType2\n",
      "Unf    1256\n",
      "Rec      54\n",
      "LwQ      46\n",
      "NaN      38\n",
      "BLQ      33\n",
      "ALQ      19\n",
      "GLQ      14\n",
      "Name: BsmtFinType2, dtype: int64\n",
      "Value missing: 2.6 %\n",
      "\n",
      "BsmtExposure\n",
      "No     953\n",
      "Av     221\n",
      "Gd     134\n",
      "Mn     114\n",
      "NaN     38\n",
      "Name: BsmtExposure, dtype: int64\n",
      "Value missing: 2.6 %\n",
      "\n",
      "BsmtQual\n",
      "TA     649\n",
      "Gd     618\n",
      "Ex     121\n",
      "NaN     37\n",
      "Fa      35\n",
      "Name: BsmtQual, dtype: int64\n",
      "Value missing: 2.5 %\n",
      "\n",
      "BsmtFinType1\n",
      "Unf    430\n",
      "GLQ    418\n",
      "ALQ    220\n",
      "BLQ    148\n",
      "Rec    133\n",
      "LwQ     74\n",
      "NaN     37\n",
      "Name: BsmtFinType1, dtype: int64\n",
      "Value missing: 2.5 %\n",
      "\n",
      "BsmtCond\n",
      "TA     1311\n",
      "Gd       65\n",
      "Fa       45\n",
      "NaN      37\n",
      "Po        2\n",
      "Name: BsmtCond, dtype: int64\n",
      "Value missing: 2.5 %\n",
      "\n",
      "MasVnrArea\n",
      " 0.0       861\n",
      " 72.0        8\n",
      " 180.0       8\n",
      "NaN          8\n",
      " 108.0       8\n",
      " 120.0       7\n",
      " 16.0        7\n",
      " 106.0       6\n",
      " 80.0        6\n",
      " 340.0       6\n",
      " 200.0       6\n",
      " 132.0       5\n",
      " 170.0       5\n",
      " 360.0       5\n",
      " 84.0        5\n",
      " 320.0       5\n",
      " 270.0       4\n",
      " 183.0       4\n",
      " 100.0       4\n",
      " 168.0       4\n",
      " 252.0       4\n",
      " 178.0       4\n",
      " 246.0       4\n",
      " 196.0       4\n",
      " 288.0       4\n",
      " 216.0       4\n",
      " 160.0       4\n",
      " 220.0       4\n",
      " 336.0       4\n",
      " 210.0       4\n",
      "          ... \n",
      " 24.0        1\n",
      " 760.0       1\n",
      " 138.0       1\n",
      " 27.0        1\n",
      " 541.0       1\n",
      " 275.0       1\n",
      " 365.0       1\n",
      " 562.0       1\n",
      " 161.0       1\n",
      " 247.0       1\n",
      " 452.0       1\n",
      " 278.0       1\n",
      " 375.0       1\n",
      " 225.0       1\n",
      " 604.0       1\n",
      " 762.0       1\n",
      " 290.0       1\n",
      " 109.0       1\n",
      " 299.0       1\n",
      " 731.0       1\n",
      " 167.0       1\n",
      " 309.0       1\n",
      " 202.0       1\n",
      " 1129.0      1\n",
      " 651.0       1\n",
      " 337.0       1\n",
      " 415.0       1\n",
      " 293.0       1\n",
      " 259.0       1\n",
      " 621.0       1\n",
      "Name: MasVnrArea, Length: 328, dtype: int64\n",
      "Value missing: 0.5 %\n",
      "\n",
      "MasVnrType\n",
      "None       864\n",
      "BrkFace    445\n",
      "Stone      128\n",
      "BrkCmn      15\n",
      "NaN          8\n",
      "Name: MasVnrType, dtype: int64\n",
      "Value missing: 0.5 %\n",
      "\n",
      "Electrical\n",
      "SBrkr    1334\n",
      "FuseA      94\n",
      "FuseF      27\n",
      "FuseP       3\n",
      "Mix         1\n",
      "NaN         1\n",
      "Name: Electrical, dtype: int64\n",
      "Value missing: 0.1 %\n",
      "\n"
     ]
    }
   ],
   "source": [
    "missingness(featureName)"
   ]
  },
  {
   "cell_type": "markdown",
   "metadata": {},
   "source": [
    "### Remove columns with more than 70% of missing values"
   ]
  },
  {
   "cell_type": "code",
   "execution_count": 13,
   "metadata": {},
   "outputs": [],
   "source": [
    "df=df.drop(columns=['PoolQC','MiscFeature','Alley','Fence'])"
   ]
  },
  {
   "cell_type": "code",
   "execution_count": 14,
   "metadata": {},
   "outputs": [
    {
     "data": {
      "text/plain": [
       "(1460, 76)"
      ]
     },
     "execution_count": 14,
     "metadata": {},
     "output_type": "execute_result"
    }
   ],
   "source": [
    "df.shape"
   ]
  },
  {
   "cell_type": "markdown",
   "metadata": {},
   "source": [
    "### Checking the rest of features with missing values"
   ]
  },
  {
   "cell_type": "code",
   "execution_count": 15,
   "metadata": {},
   "outputs": [
    {
     "name": "stdout",
     "output_type": "stream",
     "text": [
      "FireplaceQu     47.260274\n",
      "LotFrontage     17.739726\n",
      "GarageYrBlt      5.547945\n",
      "GarageType       5.547945\n",
      "GarageQual       5.547945\n",
      "GarageFinish     5.547945\n",
      "GarageCond       5.547945\n",
      "BsmtFinType2     2.602740\n",
      "BsmtExposure     2.602740\n",
      "BsmtQual         2.534247\n",
      "BsmtFinType1     2.534247\n",
      "BsmtCond         2.534247\n",
      "MasVnrType       0.547945\n",
      "MasVnrArea       0.547945\n",
      "Electrical       0.068493\n",
      "dtype: float64\n"
     ]
    },
    {
     "data": {
      "text/plain": [
       "array(['FireplaceQu', 'LotFrontage', 'GarageYrBlt', 'GarageType',\n",
       "       'GarageQual', 'GarageFinish', 'GarageCond', 'BsmtFinType2',\n",
       "       'BsmtExposure', 'BsmtQual', 'BsmtFinType1', 'BsmtCond',\n",
       "       'MasVnrType', 'MasVnrArea', 'Electrical'], dtype=object)"
      ]
     },
     "execution_count": 15,
     "metadata": {},
     "output_type": "execute_result"
    }
   ],
   "source": [
    "null_cols=df.columns[df.isnull().any()]\n",
    "dg=(df[null_cols].isnull().sum()/len(df)*100).sort_values(ascending=False)\n",
    "print(dg)\n",
    "nullCol=dg.index.values\n",
    "nullCol"
   ]
  },
  {
   "cell_type": "markdown",
   "metadata": {},
   "source": [
    "### It looks like \"FireplaceQu\" has \"NaN\" value when \"Fireplaces\" has \"zero\" value. \n",
    "### Let's check if the number of missing value in \"FireplaceQu\" is the same as the number of rows with zero value in \"Fireplaces\""
   ]
  },
  {
   "cell_type": "code",
   "execution_count": 16,
   "metadata": {
    "scrolled": false
   },
   "outputs": [
    {
     "data": {
      "text/plain": [
       "690"
      ]
     },
     "execution_count": 16,
     "metadata": {},
     "output_type": "execute_result"
    }
   ],
   "source": [
    "df['FireplaceQu'].isnull().sum()"
   ]
  },
  {
   "cell_type": "code",
   "execution_count": 17,
   "metadata": {},
   "outputs": [
    {
     "data": {
      "text/plain": [
       "690"
      ]
     },
     "execution_count": 17,
     "metadata": {},
     "output_type": "execute_result"
    }
   ],
   "source": [
    "len(df.loc[df['Fireplaces']==0])"
   ]
  },
  {
   "cell_type": "markdown",
   "metadata": {},
   "source": [
    "### It turns out the number is the same. \n",
    "### We can go ahead and replace the \"NaN\" in \"FireplaceQu\" with \"0\""
   ]
  },
  {
   "cell_type": "markdown",
   "metadata": {},
   "source": [
    "### Also, we will change the datatype of \"FireplaceQu\" to a \"Ordinal\" Variable"
   ]
  },
  {
   "cell_type": "markdown",
   "metadata": {},
   "source": [
    "### First we will need to replace \"NaN\" with \"0\" value"
   ]
  },
  {
   "cell_type": "code",
   "execution_count": 18,
   "metadata": {},
   "outputs": [],
   "source": [
    "df['FireplaceQu'].fillna(0,inplace=True)"
   ]
  },
  {
   "cell_type": "code",
   "execution_count": 19,
   "metadata": {},
   "outputs": [
    {
     "data": {
      "text/plain": [
       "0     690\n",
       "Gd    380\n",
       "TA    313\n",
       "Fa     33\n",
       "Ex     24\n",
       "Po     20\n",
       "Name: FireplaceQu, dtype: int64"
      ]
     },
     "execution_count": 19,
     "metadata": {},
     "output_type": "execute_result"
    }
   ],
   "source": [
    "df['FireplaceQu'].value_counts()"
   ]
  },
  {
   "cell_type": "markdown",
   "metadata": {},
   "source": [
    "### Replace string values to ordinal value in \"FireplaceQu\""
   ]
  },
  {
   "cell_type": "code",
   "execution_count": 20,
   "metadata": {
    "scrolled": true
   },
   "outputs": [],
   "source": [
    "#quality={'Po':1,'Fa':2,'TA':3,'Gd':4,\"Ex\":5}\n",
    "df.FireplaceQu[df.FireplaceQu=='Po']=1\n",
    "df.FireplaceQu[df.FireplaceQu=='Fa']=2\n",
    "df.FireplaceQu[df.FireplaceQu=='TA']=3\n",
    "df.FireplaceQu[df.FireplaceQu=='Gd']=4\n",
    "df.FireplaceQu[df.FireplaceQu=='Ex']=5"
   ]
  },
  {
   "cell_type": "code",
   "execution_count": 21,
   "metadata": {},
   "outputs": [
    {
     "data": {
      "text/plain": [
       "dtype('O')"
      ]
     },
     "execution_count": 21,
     "metadata": {},
     "output_type": "execute_result"
    }
   ],
   "source": [
    "df.FireplaceQu.dtypes"
   ]
  },
  {
   "cell_type": "markdown",
   "metadata": {},
   "source": [
    "### Let's change the datatype of \"FireplaceQu\" to \"int\""
   ]
  },
  {
   "cell_type": "code",
   "execution_count": 22,
   "metadata": {},
   "outputs": [],
   "source": [
    "df=df.astype({\"FireplaceQu\":int})"
   ]
  },
  {
   "cell_type": "code",
   "execution_count": 23,
   "metadata": {},
   "outputs": [
    {
     "data": {
      "text/plain": [
       "dtype('int32')"
      ]
     },
     "execution_count": 23,
     "metadata": {},
     "output_type": "execute_result"
    }
   ],
   "source": [
    "df.FireplaceQu.dtypes"
   ]
  },
  {
   "cell_type": "code",
   "execution_count": 24,
   "metadata": {},
   "outputs": [
    {
     "data": {
      "text/plain": [
       "259"
      ]
     },
     "execution_count": 24,
     "metadata": {},
     "output_type": "execute_result"
    }
   ],
   "source": [
    "df['LotFrontage'].isnull().sum()"
   ]
  },
  {
   "cell_type": "markdown",
   "metadata": {},
   "source": [
    "### Some Lot just does not have LotFronage.\n",
    "### Change \"NaN\" value to \"zero\" in \"LotFrontage\""
   ]
  },
  {
   "cell_type": "code",
   "execution_count": 25,
   "metadata": {
    "scrolled": true
   },
   "outputs": [],
   "source": [
    "df['LotFrontage'].fillna(0,inplace=True)"
   ]
  },
  {
   "cell_type": "markdown",
   "metadata": {},
   "source": [
    "### Check if the number of \"0\" value is the same as the number \"NaN\" value"
   ]
  },
  {
   "cell_type": "code",
   "execution_count": 26,
   "metadata": {
    "scrolled": false
   },
   "outputs": [
    {
     "data": {
      "text/plain": [
       "0.0      259\n",
       "60.0     143\n",
       "70.0      70\n",
       "80.0      69\n",
       "50.0      57\n",
       "75.0      53\n",
       "65.0      44\n",
       "85.0      40\n",
       "78.0      25\n",
       "21.0      23\n",
       "90.0      23\n",
       "68.0      19\n",
       "24.0      19\n",
       "64.0      19\n",
       "73.0      18\n",
       "72.0      17\n",
       "79.0      17\n",
       "63.0      17\n",
       "55.0      17\n",
       "100.0     16\n",
       "51.0      15\n",
       "66.0      15\n",
       "74.0      15\n",
       "52.0      14\n",
       "59.0      13\n",
       "71.0      12\n",
       "67.0      12\n",
       "57.0      12\n",
       "82.0      12\n",
       "43.0      12\n",
       "        ... \n",
       "129.0      2\n",
       "313.0      2\n",
       "118.0      2\n",
       "122.0      2\n",
       "121.0      2\n",
       "101.0      2\n",
       "109.0      2\n",
       "115.0      2\n",
       "116.0      2\n",
       "114.0      2\n",
       "153.0      1\n",
       "149.0      1\n",
       "150.0      1\n",
       "111.0      1\n",
       "182.0      1\n",
       "46.0       1\n",
       "112.0      1\n",
       "141.0      1\n",
       "33.0       1\n",
       "152.0      1\n",
       "160.0      1\n",
       "168.0      1\n",
       "128.0      1\n",
       "144.0      1\n",
       "39.0       1\n",
       "106.0      1\n",
       "38.0       1\n",
       "138.0      1\n",
       "140.0      1\n",
       "137.0      1\n",
       "Name: LotFrontage, Length: 111, dtype: int64"
      ]
     },
     "execution_count": 26,
     "metadata": {},
     "output_type": "execute_result"
    }
   ],
   "source": [
    "df['LotFrontage'].value_counts()"
   ]
  },
  {
   "cell_type": "markdown",
   "metadata": {},
   "source": [
    "### Double check all the missing values again "
   ]
  },
  {
   "cell_type": "code",
   "execution_count": 27,
   "metadata": {},
   "outputs": [
    {
     "data": {
      "text/plain": [
       "GarageYrBlt     5.547945\n",
       "GarageType      5.547945\n",
       "GarageQual      5.547945\n",
       "GarageFinish    5.547945\n",
       "GarageCond      5.547945\n",
       "BsmtFinType2    2.602740\n",
       "BsmtExposure    2.602740\n",
       "BsmtQual        2.534247\n",
       "BsmtFinType1    2.534247\n",
       "BsmtCond        2.534247\n",
       "MasVnrType      0.547945\n",
       "MasVnrArea      0.547945\n",
       "Electrical      0.068493\n",
       "dtype: float64"
      ]
     },
     "execution_count": 27,
     "metadata": {},
     "output_type": "execute_result"
    }
   ],
   "source": [
    "null_cols=df.columns[df.isnull().any()]\n",
    "df[null_cols].isnull().sum().sort_values(ascending=False)\n",
    "dg=(df[null_cols].isnull().sum()/len(df)*100).sort_values(ascending=False)\n",
    "dg"
   ]
  },
  {
   "cell_type": "markdown",
   "metadata": {},
   "source": [
    "### All the remaining variables have less than 6% of missing values.\n",
    "### We will remove all the rows with any missing values."
   ]
  },
  {
   "cell_type": "code",
   "execution_count": 28,
   "metadata": {},
   "outputs": [],
   "source": [
    "df_miss=df.dropna()"
   ]
  },
  {
   "cell_type": "code",
   "execution_count": 29,
   "metadata": {},
   "outputs": [
    {
     "data": {
      "text/plain": [
       "1stFlrSF         0\n",
       "2ndFlrSF         0\n",
       "3SsnPorch        0\n",
       "BedroomAbvGr     0\n",
       "BldgType         0\n",
       "BsmtCond         0\n",
       "BsmtExposure     0\n",
       "BsmtFinSF1       0\n",
       "BsmtFinSF2       0\n",
       "BsmtFinType1     0\n",
       "BsmtFinType2     0\n",
       "BsmtFullBath     0\n",
       "BsmtHalfBath     0\n",
       "BsmtQual         0\n",
       "BsmtUnfSF        0\n",
       "CentralAir       0\n",
       "Condition1       0\n",
       "Condition2       0\n",
       "Electrical       0\n",
       "EnclosedPorch    0\n",
       "ExterCond        0\n",
       "ExterQual        0\n",
       "Exterior1st      0\n",
       "Exterior2nd      0\n",
       "FireplaceQu      0\n",
       "Fireplaces       0\n",
       "Foundation       0\n",
       "FullBath         0\n",
       "Functional       0\n",
       "GarageArea       0\n",
       "                ..\n",
       "LotConfig        0\n",
       "LotFrontage      0\n",
       "LotShape         0\n",
       "LowQualFinSF     0\n",
       "MSSubClass       0\n",
       "MSZoning         0\n",
       "MasVnrArea       0\n",
       "MasVnrType       0\n",
       "MiscVal          0\n",
       "MoSold           0\n",
       "Neighborhood     0\n",
       "OpenPorchSF      0\n",
       "OverallCond      0\n",
       "OverallQual      0\n",
       "PavedDrive       0\n",
       "PoolArea         0\n",
       "RoofMatl         0\n",
       "RoofStyle        0\n",
       "SaleCondition    0\n",
       "SalePrice        0\n",
       "SaleType         0\n",
       "ScreenPorch      0\n",
       "Street           0\n",
       "TotRmsAbvGrd     0\n",
       "TotalBsmtSF      0\n",
       "Utilities        0\n",
       "WoodDeckSF       0\n",
       "YearBuilt        0\n",
       "YearRemodAdd     0\n",
       "YrSold           0\n",
       "Length: 76, dtype: int64"
      ]
     },
     "execution_count": 29,
     "metadata": {},
     "output_type": "execute_result"
    }
   ],
   "source": [
    "df_miss.isnull().sum()"
   ]
  },
  {
   "cell_type": "code",
   "execution_count": 30,
   "metadata": {},
   "outputs": [
    {
     "data": {
      "text/plain": [
       "(1338, 76)"
      ]
     },
     "execution_count": 30,
     "metadata": {},
     "output_type": "execute_result"
    }
   ],
   "source": [
    "df_miss.shape"
   ]
  },
  {
   "cell_type": "code",
   "execution_count": 31,
   "metadata": {},
   "outputs": [
    {
     "data": {
      "text/plain": [
       "122"
      ]
     },
     "execution_count": 31,
     "metadata": {},
     "output_type": "execute_result"
    }
   ],
   "source": [
    "len(df)-len(df_miss)"
   ]
  },
  {
   "cell_type": "markdown",
   "metadata": {},
   "source": [
    "### Checking the percentage of data removed"
   ]
  },
  {
   "cell_type": "code",
   "execution_count": 32,
   "metadata": {
    "scrolled": true
   },
   "outputs": [
    {
     "data": {
      "text/plain": [
       "8.356164383561644"
      ]
     },
     "execution_count": 32,
     "metadata": {},
     "output_type": "execute_result"
    }
   ],
   "source": [
    "(len(df)-len(df_miss))/len(df)*100"
   ]
  },
  {
   "cell_type": "markdown",
   "metadata": {},
   "source": [
    "## Start working on Outliers"
   ]
  },
  {
   "cell_type": "markdown",
   "metadata": {},
   "source": [
    "### Explore z-score for \"SalePrice\" variable"
   ]
  },
  {
   "cell_type": "code",
   "execution_count": 33,
   "metadata": {
    "scrolled": true
   },
   "outputs": [
    {
     "data": {
      "text/plain": [
       "1338"
      ]
     },
     "execution_count": 33,
     "metadata": {},
     "output_type": "execute_result"
    }
   ],
   "source": [
    "df_miss['z']=np.abs(stats.zscore(df_miss['SalePrice']))\n",
    "len(df_miss['z'])"
   ]
  },
  {
   "cell_type": "code",
   "execution_count": 34,
   "metadata": {},
   "outputs": [
    {
     "data": {
      "text/plain": [
       "dtype('float64')"
      ]
     },
     "execution_count": 34,
     "metadata": {},
     "output_type": "execute_result"
    }
   ],
   "source": [
    "df_miss['z'].dtype"
   ]
  },
  {
   "cell_type": "markdown",
   "metadata": {},
   "source": [
    "### Setup \"Threshold\""
   ]
  },
  {
   "cell_type": "code",
   "execution_count": 35,
   "metadata": {},
   "outputs": [],
   "source": [
    "threshold=3"
   ]
  },
  {
   "cell_type": "markdown",
   "metadata": {},
   "source": [
    "### Checking the percentage of outliers"
   ]
  },
  {
   "cell_type": "code",
   "execution_count": 36,
   "metadata": {
    "scrolled": true
   },
   "outputs": [
    {
     "data": {
      "text/plain": [
       "1.4947683109118086"
      ]
     },
     "execution_count": 36,
     "metadata": {},
     "output_type": "execute_result"
    }
   ],
   "source": [
    "len(df_miss[df_miss['z']>threshold])/len(df_miss)*100"
   ]
  },
  {
   "cell_type": "code",
   "execution_count": 37,
   "metadata": {},
   "outputs": [
    {
     "data": {
      "text/plain": [
       "(1318, 77)"
      ]
     },
     "execution_count": 37,
     "metadata": {},
     "output_type": "execute_result"
    }
   ],
   "source": [
    "df_out=df_miss.drop(df_miss[df_miss.z>threshold].index)\n",
    "df_out.shape"
   ]
  },
  {
   "cell_type": "markdown",
   "metadata": {},
   "source": [
    "### Percentage data will be used for the feature engineering step"
   ]
  },
  {
   "cell_type": "code",
   "execution_count": 38,
   "metadata": {},
   "outputs": [
    {
     "data": {
      "text/plain": [
       "90.27397260273973"
      ]
     },
     "execution_count": 38,
     "metadata": {},
     "output_type": "execute_result"
    }
   ],
   "source": [
    "len(df_out)/len(df)*100"
   ]
  },
  {
   "cell_type": "markdown",
   "metadata": {},
   "source": [
    "### Remove column \"z\" from dataframe"
   ]
  },
  {
   "cell_type": "code",
   "execution_count": 39,
   "metadata": {},
   "outputs": [],
   "source": [
    "df_out=df_out.drop(columns=['z'])"
   ]
  },
  {
   "cell_type": "code",
   "execution_count": 40,
   "metadata": {},
   "outputs": [
    {
     "data": {
      "text/plain": [
       "(1318, 76)"
      ]
     },
     "execution_count": 40,
     "metadata": {},
     "output_type": "execute_result"
    }
   ],
   "source": [
    "df_out.shape"
   ]
  },
  {
   "cell_type": "markdown",
   "metadata": {},
   "source": [
    "## Convert all 'object' datatype variables to 'numerical\" variables."
   ]
  },
  {
   "cell_type": "markdown",
   "metadata": {},
   "source": [
    "### First we need to convert \"object\" datatype to \"categorical\" datatype."
   ]
  },
  {
   "cell_type": "code",
   "execution_count": 41,
   "metadata": {
    "scrolled": true
   },
   "outputs": [
    {
     "data": {
      "text/html": [
       "<div>\n",
       "<style scoped>\n",
       "    .dataframe tbody tr th:only-of-type {\n",
       "        vertical-align: middle;\n",
       "    }\n",
       "\n",
       "    .dataframe tbody tr th {\n",
       "        vertical-align: top;\n",
       "    }\n",
       "\n",
       "    .dataframe thead th {\n",
       "        text-align: right;\n",
       "    }\n",
       "</style>\n",
       "<table border=\"1\" class=\"dataframe\">\n",
       "  <thead>\n",
       "    <tr style=\"text-align: right;\">\n",
       "      <th></th>\n",
       "      <th>BldgType</th>\n",
       "      <th>BsmtCond</th>\n",
       "      <th>BsmtExposure</th>\n",
       "      <th>BsmtFinType1</th>\n",
       "      <th>BsmtFinType2</th>\n",
       "      <th>BsmtQual</th>\n",
       "      <th>CentralAir</th>\n",
       "      <th>Condition1</th>\n",
       "      <th>Condition2</th>\n",
       "      <th>Electrical</th>\n",
       "      <th>ExterCond</th>\n",
       "      <th>ExterQual</th>\n",
       "      <th>Exterior1st</th>\n",
       "      <th>Exterior2nd</th>\n",
       "      <th>Foundation</th>\n",
       "      <th>Functional</th>\n",
       "      <th>GarageCond</th>\n",
       "      <th>GarageFinish</th>\n",
       "      <th>GarageQual</th>\n",
       "      <th>GarageType</th>\n",
       "      <th>Heating</th>\n",
       "      <th>HeatingQC</th>\n",
       "      <th>HouseStyle</th>\n",
       "      <th>KitchenQual</th>\n",
       "      <th>LandContour</th>\n",
       "      <th>LandSlope</th>\n",
       "      <th>LotConfig</th>\n",
       "      <th>LotShape</th>\n",
       "      <th>MSZoning</th>\n",
       "      <th>MasVnrType</th>\n",
       "      <th>Neighborhood</th>\n",
       "      <th>PavedDrive</th>\n",
       "      <th>RoofMatl</th>\n",
       "      <th>RoofStyle</th>\n",
       "      <th>SaleCondition</th>\n",
       "      <th>SaleType</th>\n",
       "      <th>Street</th>\n",
       "      <th>Utilities</th>\n",
       "    </tr>\n",
       "  </thead>\n",
       "  <tbody>\n",
       "    <tr>\n",
       "      <th>0</th>\n",
       "      <td>1Fam</td>\n",
       "      <td>TA</td>\n",
       "      <td>No</td>\n",
       "      <td>GLQ</td>\n",
       "      <td>Unf</td>\n",
       "      <td>Gd</td>\n",
       "      <td>Y</td>\n",
       "      <td>Norm</td>\n",
       "      <td>Norm</td>\n",
       "      <td>SBrkr</td>\n",
       "      <td>TA</td>\n",
       "      <td>Gd</td>\n",
       "      <td>VinylSd</td>\n",
       "      <td>VinylSd</td>\n",
       "      <td>PConc</td>\n",
       "      <td>Typ</td>\n",
       "      <td>TA</td>\n",
       "      <td>RFn</td>\n",
       "      <td>TA</td>\n",
       "      <td>Attchd</td>\n",
       "      <td>GasA</td>\n",
       "      <td>Ex</td>\n",
       "      <td>2Story</td>\n",
       "      <td>Gd</td>\n",
       "      <td>Lvl</td>\n",
       "      <td>Gtl</td>\n",
       "      <td>Inside</td>\n",
       "      <td>Reg</td>\n",
       "      <td>RL</td>\n",
       "      <td>BrkFace</td>\n",
       "      <td>CollgCr</td>\n",
       "      <td>Y</td>\n",
       "      <td>CompShg</td>\n",
       "      <td>Gable</td>\n",
       "      <td>Normal</td>\n",
       "      <td>WD</td>\n",
       "      <td>Pave</td>\n",
       "      <td>AllPub</td>\n",
       "    </tr>\n",
       "    <tr>\n",
       "      <th>1</th>\n",
       "      <td>1Fam</td>\n",
       "      <td>TA</td>\n",
       "      <td>Gd</td>\n",
       "      <td>ALQ</td>\n",
       "      <td>Unf</td>\n",
       "      <td>Gd</td>\n",
       "      <td>Y</td>\n",
       "      <td>Feedr</td>\n",
       "      <td>Norm</td>\n",
       "      <td>SBrkr</td>\n",
       "      <td>TA</td>\n",
       "      <td>TA</td>\n",
       "      <td>MetalSd</td>\n",
       "      <td>MetalSd</td>\n",
       "      <td>CBlock</td>\n",
       "      <td>Typ</td>\n",
       "      <td>TA</td>\n",
       "      <td>RFn</td>\n",
       "      <td>TA</td>\n",
       "      <td>Attchd</td>\n",
       "      <td>GasA</td>\n",
       "      <td>Ex</td>\n",
       "      <td>1Story</td>\n",
       "      <td>TA</td>\n",
       "      <td>Lvl</td>\n",
       "      <td>Gtl</td>\n",
       "      <td>FR2</td>\n",
       "      <td>Reg</td>\n",
       "      <td>RL</td>\n",
       "      <td>None</td>\n",
       "      <td>Veenker</td>\n",
       "      <td>Y</td>\n",
       "      <td>CompShg</td>\n",
       "      <td>Gable</td>\n",
       "      <td>Normal</td>\n",
       "      <td>WD</td>\n",
       "      <td>Pave</td>\n",
       "      <td>AllPub</td>\n",
       "    </tr>\n",
       "    <tr>\n",
       "      <th>2</th>\n",
       "      <td>1Fam</td>\n",
       "      <td>TA</td>\n",
       "      <td>Mn</td>\n",
       "      <td>GLQ</td>\n",
       "      <td>Unf</td>\n",
       "      <td>Gd</td>\n",
       "      <td>Y</td>\n",
       "      <td>Norm</td>\n",
       "      <td>Norm</td>\n",
       "      <td>SBrkr</td>\n",
       "      <td>TA</td>\n",
       "      <td>Gd</td>\n",
       "      <td>VinylSd</td>\n",
       "      <td>VinylSd</td>\n",
       "      <td>PConc</td>\n",
       "      <td>Typ</td>\n",
       "      <td>TA</td>\n",
       "      <td>RFn</td>\n",
       "      <td>TA</td>\n",
       "      <td>Attchd</td>\n",
       "      <td>GasA</td>\n",
       "      <td>Ex</td>\n",
       "      <td>2Story</td>\n",
       "      <td>Gd</td>\n",
       "      <td>Lvl</td>\n",
       "      <td>Gtl</td>\n",
       "      <td>Inside</td>\n",
       "      <td>IR1</td>\n",
       "      <td>RL</td>\n",
       "      <td>BrkFace</td>\n",
       "      <td>CollgCr</td>\n",
       "      <td>Y</td>\n",
       "      <td>CompShg</td>\n",
       "      <td>Gable</td>\n",
       "      <td>Normal</td>\n",
       "      <td>WD</td>\n",
       "      <td>Pave</td>\n",
       "      <td>AllPub</td>\n",
       "    </tr>\n",
       "    <tr>\n",
       "      <th>3</th>\n",
       "      <td>1Fam</td>\n",
       "      <td>Gd</td>\n",
       "      <td>No</td>\n",
       "      <td>ALQ</td>\n",
       "      <td>Unf</td>\n",
       "      <td>TA</td>\n",
       "      <td>Y</td>\n",
       "      <td>Norm</td>\n",
       "      <td>Norm</td>\n",
       "      <td>SBrkr</td>\n",
       "      <td>TA</td>\n",
       "      <td>TA</td>\n",
       "      <td>Wd Sdng</td>\n",
       "      <td>Wd Shng</td>\n",
       "      <td>BrkTil</td>\n",
       "      <td>Typ</td>\n",
       "      <td>TA</td>\n",
       "      <td>Unf</td>\n",
       "      <td>TA</td>\n",
       "      <td>Detchd</td>\n",
       "      <td>GasA</td>\n",
       "      <td>Gd</td>\n",
       "      <td>2Story</td>\n",
       "      <td>Gd</td>\n",
       "      <td>Lvl</td>\n",
       "      <td>Gtl</td>\n",
       "      <td>Corner</td>\n",
       "      <td>IR1</td>\n",
       "      <td>RL</td>\n",
       "      <td>None</td>\n",
       "      <td>Crawfor</td>\n",
       "      <td>Y</td>\n",
       "      <td>CompShg</td>\n",
       "      <td>Gable</td>\n",
       "      <td>Abnorml</td>\n",
       "      <td>WD</td>\n",
       "      <td>Pave</td>\n",
       "      <td>AllPub</td>\n",
       "    </tr>\n",
       "    <tr>\n",
       "      <th>4</th>\n",
       "      <td>1Fam</td>\n",
       "      <td>TA</td>\n",
       "      <td>Av</td>\n",
       "      <td>GLQ</td>\n",
       "      <td>Unf</td>\n",
       "      <td>Gd</td>\n",
       "      <td>Y</td>\n",
       "      <td>Norm</td>\n",
       "      <td>Norm</td>\n",
       "      <td>SBrkr</td>\n",
       "      <td>TA</td>\n",
       "      <td>Gd</td>\n",
       "      <td>VinylSd</td>\n",
       "      <td>VinylSd</td>\n",
       "      <td>PConc</td>\n",
       "      <td>Typ</td>\n",
       "      <td>TA</td>\n",
       "      <td>RFn</td>\n",
       "      <td>TA</td>\n",
       "      <td>Attchd</td>\n",
       "      <td>GasA</td>\n",
       "      <td>Ex</td>\n",
       "      <td>2Story</td>\n",
       "      <td>Gd</td>\n",
       "      <td>Lvl</td>\n",
       "      <td>Gtl</td>\n",
       "      <td>FR2</td>\n",
       "      <td>IR1</td>\n",
       "      <td>RL</td>\n",
       "      <td>BrkFace</td>\n",
       "      <td>NoRidge</td>\n",
       "      <td>Y</td>\n",
       "      <td>CompShg</td>\n",
       "      <td>Gable</td>\n",
       "      <td>Normal</td>\n",
       "      <td>WD</td>\n",
       "      <td>Pave</td>\n",
       "      <td>AllPub</td>\n",
       "    </tr>\n",
       "  </tbody>\n",
       "</table>\n",
       "</div>"
      ],
      "text/plain": [
       "  BldgType BsmtCond BsmtExposure BsmtFinType1 BsmtFinType2 BsmtQual  \\\n",
       "0     1Fam       TA           No          GLQ          Unf       Gd   \n",
       "1     1Fam       TA           Gd          ALQ          Unf       Gd   \n",
       "2     1Fam       TA           Mn          GLQ          Unf       Gd   \n",
       "3     1Fam       Gd           No          ALQ          Unf       TA   \n",
       "4     1Fam       TA           Av          GLQ          Unf       Gd   \n",
       "\n",
       "  CentralAir Condition1 Condition2 Electrical ExterCond ExterQual Exterior1st  \\\n",
       "0          Y       Norm       Norm      SBrkr        TA        Gd     VinylSd   \n",
       "1          Y      Feedr       Norm      SBrkr        TA        TA     MetalSd   \n",
       "2          Y       Norm       Norm      SBrkr        TA        Gd     VinylSd   \n",
       "3          Y       Norm       Norm      SBrkr        TA        TA     Wd Sdng   \n",
       "4          Y       Norm       Norm      SBrkr        TA        Gd     VinylSd   \n",
       "\n",
       "  Exterior2nd Foundation Functional GarageCond GarageFinish GarageQual  \\\n",
       "0     VinylSd      PConc        Typ         TA          RFn         TA   \n",
       "1     MetalSd     CBlock        Typ         TA          RFn         TA   \n",
       "2     VinylSd      PConc        Typ         TA          RFn         TA   \n",
       "3     Wd Shng     BrkTil        Typ         TA          Unf         TA   \n",
       "4     VinylSd      PConc        Typ         TA          RFn         TA   \n",
       "\n",
       "  GarageType Heating HeatingQC HouseStyle KitchenQual LandContour LandSlope  \\\n",
       "0     Attchd    GasA        Ex     2Story          Gd         Lvl       Gtl   \n",
       "1     Attchd    GasA        Ex     1Story          TA         Lvl       Gtl   \n",
       "2     Attchd    GasA        Ex     2Story          Gd         Lvl       Gtl   \n",
       "3     Detchd    GasA        Gd     2Story          Gd         Lvl       Gtl   \n",
       "4     Attchd    GasA        Ex     2Story          Gd         Lvl       Gtl   \n",
       "\n",
       "  LotConfig LotShape MSZoning MasVnrType Neighborhood PavedDrive RoofMatl  \\\n",
       "0    Inside      Reg       RL    BrkFace      CollgCr          Y  CompShg   \n",
       "1       FR2      Reg       RL       None      Veenker          Y  CompShg   \n",
       "2    Inside      IR1       RL    BrkFace      CollgCr          Y  CompShg   \n",
       "3    Corner      IR1       RL       None      Crawfor          Y  CompShg   \n",
       "4       FR2      IR1       RL    BrkFace      NoRidge          Y  CompShg   \n",
       "\n",
       "  RoofStyle SaleCondition SaleType Street Utilities  \n",
       "0     Gable        Normal       WD   Pave    AllPub  \n",
       "1     Gable        Normal       WD   Pave    AllPub  \n",
       "2     Gable        Normal       WD   Pave    AllPub  \n",
       "3     Gable       Abnorml       WD   Pave    AllPub  \n",
       "4     Gable        Normal       WD   Pave    AllPub  "
      ]
     },
     "execution_count": 41,
     "metadata": {},
     "output_type": "execute_result"
    }
   ],
   "source": [
    "df_out.select_dtypes(include=['object']).head()"
   ]
  },
  {
   "cell_type": "code",
   "execution_count": 42,
   "metadata": {},
   "outputs": [
    {
     "data": {
      "text/plain": [
       "['BldgType',\n",
       " 'BsmtCond',\n",
       " 'BsmtExposure',\n",
       " 'BsmtFinType1',\n",
       " 'BsmtFinType2',\n",
       " 'BsmtQual',\n",
       " 'CentralAir',\n",
       " 'Condition1',\n",
       " 'Condition2',\n",
       " 'Electrical',\n",
       " 'ExterCond',\n",
       " 'ExterQual',\n",
       " 'Exterior1st',\n",
       " 'Exterior2nd',\n",
       " 'Foundation',\n",
       " 'Functional',\n",
       " 'GarageCond',\n",
       " 'GarageFinish',\n",
       " 'GarageQual',\n",
       " 'GarageType',\n",
       " 'Heating',\n",
       " 'HeatingQC',\n",
       " 'HouseStyle',\n",
       " 'KitchenQual',\n",
       " 'LandContour',\n",
       " 'LandSlope',\n",
       " 'LotConfig',\n",
       " 'LotShape',\n",
       " 'MSZoning',\n",
       " 'MasVnrType',\n",
       " 'Neighborhood',\n",
       " 'PavedDrive',\n",
       " 'RoofMatl',\n",
       " 'RoofStyle',\n",
       " 'SaleCondition',\n",
       " 'SaleType',\n",
       " 'Street',\n",
       " 'Utilities']"
      ]
     },
     "execution_count": 42,
     "metadata": {},
     "output_type": "execute_result"
    }
   ],
   "source": [
    "df_out_object_col=list(df_out.select_dtypes(include=['object']).columns.values)\n",
    "df_out_object_col"
   ]
  },
  {
   "cell_type": "code",
   "execution_count": 43,
   "metadata": {},
   "outputs": [
    {
     "data": {
      "text/html": [
       "<div>\n",
       "<style scoped>\n",
       "    .dataframe tbody tr th:only-of-type {\n",
       "        vertical-align: middle;\n",
       "    }\n",
       "\n",
       "    .dataframe tbody tr th {\n",
       "        vertical-align: top;\n",
       "    }\n",
       "\n",
       "    .dataframe thead th {\n",
       "        text-align: right;\n",
       "    }\n",
       "</style>\n",
       "<table border=\"1\" class=\"dataframe\">\n",
       "  <thead>\n",
       "    <tr style=\"text-align: right;\">\n",
       "      <th></th>\n",
       "      <th>BldgType</th>\n",
       "      <th>BsmtCond</th>\n",
       "      <th>BsmtExposure</th>\n",
       "      <th>BsmtFinType1</th>\n",
       "      <th>BsmtFinType2</th>\n",
       "      <th>BsmtQual</th>\n",
       "      <th>CentralAir</th>\n",
       "      <th>Condition1</th>\n",
       "      <th>Condition2</th>\n",
       "      <th>Electrical</th>\n",
       "      <th>ExterCond</th>\n",
       "      <th>ExterQual</th>\n",
       "      <th>Exterior1st</th>\n",
       "      <th>Exterior2nd</th>\n",
       "      <th>Foundation</th>\n",
       "      <th>Functional</th>\n",
       "      <th>GarageCond</th>\n",
       "      <th>GarageFinish</th>\n",
       "      <th>GarageQual</th>\n",
       "      <th>GarageType</th>\n",
       "      <th>Heating</th>\n",
       "      <th>HeatingQC</th>\n",
       "      <th>HouseStyle</th>\n",
       "      <th>KitchenQual</th>\n",
       "      <th>LandContour</th>\n",
       "      <th>LandSlope</th>\n",
       "      <th>LotConfig</th>\n",
       "      <th>LotShape</th>\n",
       "      <th>MSZoning</th>\n",
       "      <th>MasVnrType</th>\n",
       "      <th>Neighborhood</th>\n",
       "      <th>PavedDrive</th>\n",
       "      <th>RoofMatl</th>\n",
       "      <th>RoofStyle</th>\n",
       "      <th>SaleCondition</th>\n",
       "      <th>SaleType</th>\n",
       "      <th>Street</th>\n",
       "      <th>Utilities</th>\n",
       "    </tr>\n",
       "  </thead>\n",
       "  <tbody>\n",
       "    <tr>\n",
       "      <th>0</th>\n",
       "      <td>1Fam</td>\n",
       "      <td>TA</td>\n",
       "      <td>No</td>\n",
       "      <td>GLQ</td>\n",
       "      <td>Unf</td>\n",
       "      <td>Gd</td>\n",
       "      <td>Y</td>\n",
       "      <td>Norm</td>\n",
       "      <td>Norm</td>\n",
       "      <td>SBrkr</td>\n",
       "      <td>TA</td>\n",
       "      <td>Gd</td>\n",
       "      <td>VinylSd</td>\n",
       "      <td>VinylSd</td>\n",
       "      <td>PConc</td>\n",
       "      <td>Typ</td>\n",
       "      <td>TA</td>\n",
       "      <td>RFn</td>\n",
       "      <td>TA</td>\n",
       "      <td>Attchd</td>\n",
       "      <td>GasA</td>\n",
       "      <td>Ex</td>\n",
       "      <td>2Story</td>\n",
       "      <td>Gd</td>\n",
       "      <td>Lvl</td>\n",
       "      <td>Gtl</td>\n",
       "      <td>Inside</td>\n",
       "      <td>Reg</td>\n",
       "      <td>RL</td>\n",
       "      <td>BrkFace</td>\n",
       "      <td>CollgCr</td>\n",
       "      <td>Y</td>\n",
       "      <td>CompShg</td>\n",
       "      <td>Gable</td>\n",
       "      <td>Normal</td>\n",
       "      <td>WD</td>\n",
       "      <td>Pave</td>\n",
       "      <td>AllPub</td>\n",
       "    </tr>\n",
       "    <tr>\n",
       "      <th>1</th>\n",
       "      <td>1Fam</td>\n",
       "      <td>TA</td>\n",
       "      <td>Gd</td>\n",
       "      <td>ALQ</td>\n",
       "      <td>Unf</td>\n",
       "      <td>Gd</td>\n",
       "      <td>Y</td>\n",
       "      <td>Feedr</td>\n",
       "      <td>Norm</td>\n",
       "      <td>SBrkr</td>\n",
       "      <td>TA</td>\n",
       "      <td>TA</td>\n",
       "      <td>MetalSd</td>\n",
       "      <td>MetalSd</td>\n",
       "      <td>CBlock</td>\n",
       "      <td>Typ</td>\n",
       "      <td>TA</td>\n",
       "      <td>RFn</td>\n",
       "      <td>TA</td>\n",
       "      <td>Attchd</td>\n",
       "      <td>GasA</td>\n",
       "      <td>Ex</td>\n",
       "      <td>1Story</td>\n",
       "      <td>TA</td>\n",
       "      <td>Lvl</td>\n",
       "      <td>Gtl</td>\n",
       "      <td>FR2</td>\n",
       "      <td>Reg</td>\n",
       "      <td>RL</td>\n",
       "      <td>None</td>\n",
       "      <td>Veenker</td>\n",
       "      <td>Y</td>\n",
       "      <td>CompShg</td>\n",
       "      <td>Gable</td>\n",
       "      <td>Normal</td>\n",
       "      <td>WD</td>\n",
       "      <td>Pave</td>\n",
       "      <td>AllPub</td>\n",
       "    </tr>\n",
       "    <tr>\n",
       "      <th>2</th>\n",
       "      <td>1Fam</td>\n",
       "      <td>TA</td>\n",
       "      <td>Mn</td>\n",
       "      <td>GLQ</td>\n",
       "      <td>Unf</td>\n",
       "      <td>Gd</td>\n",
       "      <td>Y</td>\n",
       "      <td>Norm</td>\n",
       "      <td>Norm</td>\n",
       "      <td>SBrkr</td>\n",
       "      <td>TA</td>\n",
       "      <td>Gd</td>\n",
       "      <td>VinylSd</td>\n",
       "      <td>VinylSd</td>\n",
       "      <td>PConc</td>\n",
       "      <td>Typ</td>\n",
       "      <td>TA</td>\n",
       "      <td>RFn</td>\n",
       "      <td>TA</td>\n",
       "      <td>Attchd</td>\n",
       "      <td>GasA</td>\n",
       "      <td>Ex</td>\n",
       "      <td>2Story</td>\n",
       "      <td>Gd</td>\n",
       "      <td>Lvl</td>\n",
       "      <td>Gtl</td>\n",
       "      <td>Inside</td>\n",
       "      <td>IR1</td>\n",
       "      <td>RL</td>\n",
       "      <td>BrkFace</td>\n",
       "      <td>CollgCr</td>\n",
       "      <td>Y</td>\n",
       "      <td>CompShg</td>\n",
       "      <td>Gable</td>\n",
       "      <td>Normal</td>\n",
       "      <td>WD</td>\n",
       "      <td>Pave</td>\n",
       "      <td>AllPub</td>\n",
       "    </tr>\n",
       "    <tr>\n",
       "      <th>3</th>\n",
       "      <td>1Fam</td>\n",
       "      <td>Gd</td>\n",
       "      <td>No</td>\n",
       "      <td>ALQ</td>\n",
       "      <td>Unf</td>\n",
       "      <td>TA</td>\n",
       "      <td>Y</td>\n",
       "      <td>Norm</td>\n",
       "      <td>Norm</td>\n",
       "      <td>SBrkr</td>\n",
       "      <td>TA</td>\n",
       "      <td>TA</td>\n",
       "      <td>Wd Sdng</td>\n",
       "      <td>Wd Shng</td>\n",
       "      <td>BrkTil</td>\n",
       "      <td>Typ</td>\n",
       "      <td>TA</td>\n",
       "      <td>Unf</td>\n",
       "      <td>TA</td>\n",
       "      <td>Detchd</td>\n",
       "      <td>GasA</td>\n",
       "      <td>Gd</td>\n",
       "      <td>2Story</td>\n",
       "      <td>Gd</td>\n",
       "      <td>Lvl</td>\n",
       "      <td>Gtl</td>\n",
       "      <td>Corner</td>\n",
       "      <td>IR1</td>\n",
       "      <td>RL</td>\n",
       "      <td>None</td>\n",
       "      <td>Crawfor</td>\n",
       "      <td>Y</td>\n",
       "      <td>CompShg</td>\n",
       "      <td>Gable</td>\n",
       "      <td>Abnorml</td>\n",
       "      <td>WD</td>\n",
       "      <td>Pave</td>\n",
       "      <td>AllPub</td>\n",
       "    </tr>\n",
       "    <tr>\n",
       "      <th>4</th>\n",
       "      <td>1Fam</td>\n",
       "      <td>TA</td>\n",
       "      <td>Av</td>\n",
       "      <td>GLQ</td>\n",
       "      <td>Unf</td>\n",
       "      <td>Gd</td>\n",
       "      <td>Y</td>\n",
       "      <td>Norm</td>\n",
       "      <td>Norm</td>\n",
       "      <td>SBrkr</td>\n",
       "      <td>TA</td>\n",
       "      <td>Gd</td>\n",
       "      <td>VinylSd</td>\n",
       "      <td>VinylSd</td>\n",
       "      <td>PConc</td>\n",
       "      <td>Typ</td>\n",
       "      <td>TA</td>\n",
       "      <td>RFn</td>\n",
       "      <td>TA</td>\n",
       "      <td>Attchd</td>\n",
       "      <td>GasA</td>\n",
       "      <td>Ex</td>\n",
       "      <td>2Story</td>\n",
       "      <td>Gd</td>\n",
       "      <td>Lvl</td>\n",
       "      <td>Gtl</td>\n",
       "      <td>FR2</td>\n",
       "      <td>IR1</td>\n",
       "      <td>RL</td>\n",
       "      <td>BrkFace</td>\n",
       "      <td>NoRidge</td>\n",
       "      <td>Y</td>\n",
       "      <td>CompShg</td>\n",
       "      <td>Gable</td>\n",
       "      <td>Normal</td>\n",
       "      <td>WD</td>\n",
       "      <td>Pave</td>\n",
       "      <td>AllPub</td>\n",
       "    </tr>\n",
       "  </tbody>\n",
       "</table>\n",
       "</div>"
      ],
      "text/plain": [
       "  BldgType BsmtCond BsmtExposure BsmtFinType1 BsmtFinType2 BsmtQual  \\\n",
       "0     1Fam       TA           No          GLQ          Unf       Gd   \n",
       "1     1Fam       TA           Gd          ALQ          Unf       Gd   \n",
       "2     1Fam       TA           Mn          GLQ          Unf       Gd   \n",
       "3     1Fam       Gd           No          ALQ          Unf       TA   \n",
       "4     1Fam       TA           Av          GLQ          Unf       Gd   \n",
       "\n",
       "  CentralAir Condition1 Condition2 Electrical ExterCond ExterQual Exterior1st  \\\n",
       "0          Y       Norm       Norm      SBrkr        TA        Gd     VinylSd   \n",
       "1          Y      Feedr       Norm      SBrkr        TA        TA     MetalSd   \n",
       "2          Y       Norm       Norm      SBrkr        TA        Gd     VinylSd   \n",
       "3          Y       Norm       Norm      SBrkr        TA        TA     Wd Sdng   \n",
       "4          Y       Norm       Norm      SBrkr        TA        Gd     VinylSd   \n",
       "\n",
       "  Exterior2nd Foundation Functional GarageCond GarageFinish GarageQual  \\\n",
       "0     VinylSd      PConc        Typ         TA          RFn         TA   \n",
       "1     MetalSd     CBlock        Typ         TA          RFn         TA   \n",
       "2     VinylSd      PConc        Typ         TA          RFn         TA   \n",
       "3     Wd Shng     BrkTil        Typ         TA          Unf         TA   \n",
       "4     VinylSd      PConc        Typ         TA          RFn         TA   \n",
       "\n",
       "  GarageType Heating HeatingQC HouseStyle KitchenQual LandContour LandSlope  \\\n",
       "0     Attchd    GasA        Ex     2Story          Gd         Lvl       Gtl   \n",
       "1     Attchd    GasA        Ex     1Story          TA         Lvl       Gtl   \n",
       "2     Attchd    GasA        Ex     2Story          Gd         Lvl       Gtl   \n",
       "3     Detchd    GasA        Gd     2Story          Gd         Lvl       Gtl   \n",
       "4     Attchd    GasA        Ex     2Story          Gd         Lvl       Gtl   \n",
       "\n",
       "  LotConfig LotShape MSZoning MasVnrType Neighborhood PavedDrive RoofMatl  \\\n",
       "0    Inside      Reg       RL    BrkFace      CollgCr          Y  CompShg   \n",
       "1       FR2      Reg       RL       None      Veenker          Y  CompShg   \n",
       "2    Inside      IR1       RL    BrkFace      CollgCr          Y  CompShg   \n",
       "3    Corner      IR1       RL       None      Crawfor          Y  CompShg   \n",
       "4       FR2      IR1       RL    BrkFace      NoRidge          Y  CompShg   \n",
       "\n",
       "  RoofStyle SaleCondition SaleType Street Utilities  \n",
       "0     Gable        Normal       WD   Pave    AllPub  \n",
       "1     Gable        Normal       WD   Pave    AllPub  \n",
       "2     Gable        Normal       WD   Pave    AllPub  \n",
       "3     Gable       Abnorml       WD   Pave    AllPub  \n",
       "4     Gable        Normal       WD   Pave    AllPub  "
      ]
     },
     "execution_count": 43,
     "metadata": {},
     "output_type": "execute_result"
    }
   ],
   "source": [
    "df_out[df_out_object_col].head()"
   ]
  },
  {
   "cell_type": "code",
   "execution_count": 44,
   "metadata": {},
   "outputs": [],
   "source": [
    "df_out[df_out_object_col]=df_out[df_out_object_col].astype('category',copy=True)"
   ]
  },
  {
   "cell_type": "code",
   "execution_count": 45,
   "metadata": {},
   "outputs": [
    {
     "data": {
      "text/plain": [
       "CategoricalDtype(categories=['1Fam', '2fmCon', 'Duplex', 'Twnhs', 'TwnhsE'], ordered=False)"
      ]
     },
     "execution_count": 45,
     "metadata": {},
     "output_type": "execute_result"
    }
   ],
   "source": [
    "df_out['BldgType'].dtypes"
   ]
  },
  {
   "cell_type": "code",
   "execution_count": 46,
   "metadata": {},
   "outputs": [
    {
     "name": "stdout",
     "output_type": "stream",
     "text": [
      "category\n",
      "category\n",
      "category\n",
      "category\n",
      "category\n",
      "category\n",
      "category\n",
      "category\n",
      "category\n",
      "category\n",
      "category\n",
      "category\n",
      "category\n",
      "category\n",
      "category\n",
      "category\n",
      "category\n",
      "category\n",
      "category\n",
      "category\n",
      "category\n",
      "category\n",
      "category\n",
      "category\n",
      "category\n",
      "category\n",
      "category\n",
      "category\n",
      "category\n",
      "category\n",
      "category\n",
      "category\n",
      "category\n",
      "category\n",
      "category\n",
      "category\n",
      "category\n",
      "category\n"
     ]
    }
   ],
   "source": [
    "for item in df_out_object_col:\n",
    "    print(df_out[item].dtypes)"
   ]
  },
  {
   "cell_type": "markdown",
   "metadata": {},
   "source": [
    "### Then we need to convert \"Category\" variable to \"Numerical\" values with \"Label Encoding\" technique."
   ]
  },
  {
   "cell_type": "code",
   "execution_count": 47,
   "metadata": {
    "scrolled": false
   },
   "outputs": [],
   "source": [
    "for item in df_out_object_col:\n",
    "    df_out[item]=df_out[item].cat.codes"
   ]
  },
  {
   "cell_type": "code",
   "execution_count": 48,
   "metadata": {
    "scrolled": false
   },
   "outputs": [
    {
     "data": {
      "text/html": [
       "<div>\n",
       "<style scoped>\n",
       "    .dataframe tbody tr th:only-of-type {\n",
       "        vertical-align: middle;\n",
       "    }\n",
       "\n",
       "    .dataframe tbody tr th {\n",
       "        vertical-align: top;\n",
       "    }\n",
       "\n",
       "    .dataframe thead th {\n",
       "        text-align: right;\n",
       "    }\n",
       "</style>\n",
       "<table border=\"1\" class=\"dataframe\">\n",
       "  <thead>\n",
       "    <tr style=\"text-align: right;\">\n",
       "      <th></th>\n",
       "      <th>BldgType</th>\n",
       "      <th>BsmtCond</th>\n",
       "      <th>BsmtExposure</th>\n",
       "      <th>BsmtFinType1</th>\n",
       "      <th>BsmtFinType2</th>\n",
       "      <th>BsmtQual</th>\n",
       "      <th>CentralAir</th>\n",
       "      <th>Condition1</th>\n",
       "      <th>Condition2</th>\n",
       "      <th>Electrical</th>\n",
       "      <th>ExterCond</th>\n",
       "      <th>ExterQual</th>\n",
       "      <th>Exterior1st</th>\n",
       "      <th>Exterior2nd</th>\n",
       "      <th>Foundation</th>\n",
       "      <th>Functional</th>\n",
       "      <th>GarageCond</th>\n",
       "      <th>GarageFinish</th>\n",
       "      <th>GarageQual</th>\n",
       "      <th>GarageType</th>\n",
       "      <th>Heating</th>\n",
       "      <th>HeatingQC</th>\n",
       "      <th>HouseStyle</th>\n",
       "      <th>KitchenQual</th>\n",
       "      <th>LandContour</th>\n",
       "      <th>LandSlope</th>\n",
       "      <th>LotConfig</th>\n",
       "      <th>LotShape</th>\n",
       "      <th>MSZoning</th>\n",
       "      <th>MasVnrType</th>\n",
       "      <th>Neighborhood</th>\n",
       "      <th>PavedDrive</th>\n",
       "      <th>RoofMatl</th>\n",
       "      <th>RoofStyle</th>\n",
       "      <th>SaleCondition</th>\n",
       "      <th>SaleType</th>\n",
       "      <th>Street</th>\n",
       "      <th>Utilities</th>\n",
       "    </tr>\n",
       "  </thead>\n",
       "  <tbody>\n",
       "    <tr>\n",
       "      <th>0</th>\n",
       "      <td>0</td>\n",
       "      <td>3</td>\n",
       "      <td>3</td>\n",
       "      <td>2</td>\n",
       "      <td>5</td>\n",
       "      <td>2</td>\n",
       "      <td>1</td>\n",
       "      <td>2</td>\n",
       "      <td>2</td>\n",
       "      <td>4</td>\n",
       "      <td>3</td>\n",
       "      <td>2</td>\n",
       "      <td>11</td>\n",
       "      <td>13</td>\n",
       "      <td>2</td>\n",
       "      <td>6</td>\n",
       "      <td>4</td>\n",
       "      <td>1</td>\n",
       "      <td>4</td>\n",
       "      <td>1</td>\n",
       "      <td>0</td>\n",
       "      <td>0</td>\n",
       "      <td>5</td>\n",
       "      <td>2</td>\n",
       "      <td>3</td>\n",
       "      <td>0</td>\n",
       "      <td>4</td>\n",
       "      <td>3</td>\n",
       "      <td>3</td>\n",
       "      <td>1</td>\n",
       "      <td>5</td>\n",
       "      <td>2</td>\n",
       "      <td>1</td>\n",
       "      <td>1</td>\n",
       "      <td>4</td>\n",
       "      <td>8</td>\n",
       "      <td>1</td>\n",
       "      <td>0</td>\n",
       "    </tr>\n",
       "    <tr>\n",
       "      <th>1</th>\n",
       "      <td>0</td>\n",
       "      <td>3</td>\n",
       "      <td>1</td>\n",
       "      <td>0</td>\n",
       "      <td>5</td>\n",
       "      <td>2</td>\n",
       "      <td>1</td>\n",
       "      <td>1</td>\n",
       "      <td>2</td>\n",
       "      <td>4</td>\n",
       "      <td>3</td>\n",
       "      <td>3</td>\n",
       "      <td>7</td>\n",
       "      <td>8</td>\n",
       "      <td>1</td>\n",
       "      <td>6</td>\n",
       "      <td>4</td>\n",
       "      <td>1</td>\n",
       "      <td>4</td>\n",
       "      <td>1</td>\n",
       "      <td>0</td>\n",
       "      <td>0</td>\n",
       "      <td>2</td>\n",
       "      <td>3</td>\n",
       "      <td>3</td>\n",
       "      <td>0</td>\n",
       "      <td>2</td>\n",
       "      <td>3</td>\n",
       "      <td>3</td>\n",
       "      <td>2</td>\n",
       "      <td>24</td>\n",
       "      <td>2</td>\n",
       "      <td>1</td>\n",
       "      <td>1</td>\n",
       "      <td>4</td>\n",
       "      <td>8</td>\n",
       "      <td>1</td>\n",
       "      <td>0</td>\n",
       "    </tr>\n",
       "    <tr>\n",
       "      <th>2</th>\n",
       "      <td>0</td>\n",
       "      <td>3</td>\n",
       "      <td>2</td>\n",
       "      <td>2</td>\n",
       "      <td>5</td>\n",
       "      <td>2</td>\n",
       "      <td>1</td>\n",
       "      <td>2</td>\n",
       "      <td>2</td>\n",
       "      <td>4</td>\n",
       "      <td>3</td>\n",
       "      <td>2</td>\n",
       "      <td>11</td>\n",
       "      <td>13</td>\n",
       "      <td>2</td>\n",
       "      <td>6</td>\n",
       "      <td>4</td>\n",
       "      <td>1</td>\n",
       "      <td>4</td>\n",
       "      <td>1</td>\n",
       "      <td>0</td>\n",
       "      <td>0</td>\n",
       "      <td>5</td>\n",
       "      <td>2</td>\n",
       "      <td>3</td>\n",
       "      <td>0</td>\n",
       "      <td>4</td>\n",
       "      <td>0</td>\n",
       "      <td>3</td>\n",
       "      <td>1</td>\n",
       "      <td>5</td>\n",
       "      <td>2</td>\n",
       "      <td>1</td>\n",
       "      <td>1</td>\n",
       "      <td>4</td>\n",
       "      <td>8</td>\n",
       "      <td>1</td>\n",
       "      <td>0</td>\n",
       "    </tr>\n",
       "    <tr>\n",
       "      <th>3</th>\n",
       "      <td>0</td>\n",
       "      <td>1</td>\n",
       "      <td>3</td>\n",
       "      <td>0</td>\n",
       "      <td>5</td>\n",
       "      <td>3</td>\n",
       "      <td>1</td>\n",
       "      <td>2</td>\n",
       "      <td>2</td>\n",
       "      <td>4</td>\n",
       "      <td>3</td>\n",
       "      <td>3</td>\n",
       "      <td>12</td>\n",
       "      <td>15</td>\n",
       "      <td>0</td>\n",
       "      <td>6</td>\n",
       "      <td>4</td>\n",
       "      <td>2</td>\n",
       "      <td>4</td>\n",
       "      <td>5</td>\n",
       "      <td>0</td>\n",
       "      <td>2</td>\n",
       "      <td>5</td>\n",
       "      <td>2</td>\n",
       "      <td>3</td>\n",
       "      <td>0</td>\n",
       "      <td>0</td>\n",
       "      <td>0</td>\n",
       "      <td>3</td>\n",
       "      <td>2</td>\n",
       "      <td>6</td>\n",
       "      <td>2</td>\n",
       "      <td>1</td>\n",
       "      <td>1</td>\n",
       "      <td>0</td>\n",
       "      <td>8</td>\n",
       "      <td>1</td>\n",
       "      <td>0</td>\n",
       "    </tr>\n",
       "    <tr>\n",
       "      <th>4</th>\n",
       "      <td>0</td>\n",
       "      <td>3</td>\n",
       "      <td>0</td>\n",
       "      <td>2</td>\n",
       "      <td>5</td>\n",
       "      <td>2</td>\n",
       "      <td>1</td>\n",
       "      <td>2</td>\n",
       "      <td>2</td>\n",
       "      <td>4</td>\n",
       "      <td>3</td>\n",
       "      <td>2</td>\n",
       "      <td>11</td>\n",
       "      <td>13</td>\n",
       "      <td>2</td>\n",
       "      <td>6</td>\n",
       "      <td>4</td>\n",
       "      <td>1</td>\n",
       "      <td>4</td>\n",
       "      <td>1</td>\n",
       "      <td>0</td>\n",
       "      <td>0</td>\n",
       "      <td>5</td>\n",
       "      <td>2</td>\n",
       "      <td>3</td>\n",
       "      <td>0</td>\n",
       "      <td>2</td>\n",
       "      <td>0</td>\n",
       "      <td>3</td>\n",
       "      <td>1</td>\n",
       "      <td>15</td>\n",
       "      <td>2</td>\n",
       "      <td>1</td>\n",
       "      <td>1</td>\n",
       "      <td>4</td>\n",
       "      <td>8</td>\n",
       "      <td>1</td>\n",
       "      <td>0</td>\n",
       "    </tr>\n",
       "  </tbody>\n",
       "</table>\n",
       "</div>"
      ],
      "text/plain": [
       "   BldgType  BsmtCond  BsmtExposure  BsmtFinType1  BsmtFinType2  BsmtQual  \\\n",
       "0         0         3             3             2             5         2   \n",
       "1         0         3             1             0             5         2   \n",
       "2         0         3             2             2             5         2   \n",
       "3         0         1             3             0             5         3   \n",
       "4         0         3             0             2             5         2   \n",
       "\n",
       "   CentralAir  Condition1  Condition2  Electrical  ExterCond  ExterQual  \\\n",
       "0           1           2           2           4          3          2   \n",
       "1           1           1           2           4          3          3   \n",
       "2           1           2           2           4          3          2   \n",
       "3           1           2           2           4          3          3   \n",
       "4           1           2           2           4          3          2   \n",
       "\n",
       "   Exterior1st  Exterior2nd  Foundation  Functional  GarageCond  GarageFinish  \\\n",
       "0           11           13           2           6           4             1   \n",
       "1            7            8           1           6           4             1   \n",
       "2           11           13           2           6           4             1   \n",
       "3           12           15           0           6           4             2   \n",
       "4           11           13           2           6           4             1   \n",
       "\n",
       "   GarageQual  GarageType  Heating  HeatingQC  HouseStyle  KitchenQual  \\\n",
       "0           4           1        0          0           5            2   \n",
       "1           4           1        0          0           2            3   \n",
       "2           4           1        0          0           5            2   \n",
       "3           4           5        0          2           5            2   \n",
       "4           4           1        0          0           5            2   \n",
       "\n",
       "   LandContour  LandSlope  LotConfig  LotShape  MSZoning  MasVnrType  \\\n",
       "0            3          0          4         3         3           1   \n",
       "1            3          0          2         3         3           2   \n",
       "2            3          0          4         0         3           1   \n",
       "3            3          0          0         0         3           2   \n",
       "4            3          0          2         0         3           1   \n",
       "\n",
       "   Neighborhood  PavedDrive  RoofMatl  RoofStyle  SaleCondition  SaleType  \\\n",
       "0             5           2         1          1              4         8   \n",
       "1            24           2         1          1              4         8   \n",
       "2             5           2         1          1              4         8   \n",
       "3             6           2         1          1              0         8   \n",
       "4            15           2         1          1              4         8   \n",
       "\n",
       "   Street  Utilities  \n",
       "0       1          0  \n",
       "1       1          0  \n",
       "2       1          0  \n",
       "3       1          0  \n",
       "4       1          0  "
      ]
     },
     "execution_count": 48,
     "metadata": {},
     "output_type": "execute_result"
    }
   ],
   "source": [
    "df_out[df_out_object_col].head()"
   ]
  },
  {
   "cell_type": "markdown",
   "metadata": {},
   "source": [
    "## Feature Selection"
   ]
  },
  {
   "cell_type": "markdown",
   "metadata": {},
   "source": [
    "### 1. Filter Method - Correlation Coefficient"
   ]
  },
  {
   "cell_type": "code",
   "execution_count": 49,
   "metadata": {},
   "outputs": [],
   "source": [
    "corr=df_out.corr()\n",
    "corr.sort_values([\"SalePrice\"],ascending=False,inplace=True)\n",
    "dc=corr.SalePrice"
   ]
  },
  {
   "cell_type": "code",
   "execution_count": 50,
   "metadata": {},
   "outputs": [
    {
     "data": {
      "text/plain": [
       "SalePrice        1.000000\n",
       "OverallQual      0.787558\n",
       "GrLivArea        0.669168\n",
       "GarageCars       0.645356\n",
       "GarageArea       0.605845\n",
       "1stFlrSF         0.574687\n",
       "TotalBsmtSF      0.565156\n",
       "FullBath         0.556483\n",
       "YearBuilt        0.540736\n",
       "YearRemodAdd     0.533880\n",
       "FireplaceQu      0.511371\n",
       "GarageYrBlt      0.502445\n",
       "TotRmsAbvGrd     0.500812\n",
       "Foundation       0.472338\n",
       "Fireplaces       0.441213\n",
       "MasVnrArea       0.401726\n",
       "OpenPorchSF      0.334349\n",
       "BsmtFinSF1       0.316212\n",
       "WoodDeckSF       0.314208\n",
       "2ndFlrSF         0.268134\n",
       "HalfBath         0.251482\n",
       "LotArea          0.245630\n",
       "Electrical       0.230448\n",
       "CentralAir       0.221095\n",
       "SaleCondition    0.217193\n",
       "BsmtFullBath     0.216414\n",
       "PavedDrive       0.191644\n",
       "BsmtUnfSF        0.188832\n",
       "LotFrontage      0.187709\n",
       "Neighborhood     0.186784\n",
       "                   ...   \n",
       "BsmtCond         0.052078\n",
       "Street           0.045431\n",
       "PoolArea         0.032981\n",
       "Condition2       0.005001\n",
       "MasVnrType       0.004972\n",
       "LandContour     -0.001613\n",
       "MiscVal         -0.013775\n",
       "YrSold          -0.017135\n",
       "Utilities       -0.018236\n",
       "SaleType        -0.023260\n",
       "BsmtFinSF2      -0.028344\n",
       "BsmtHalfBath    -0.043828\n",
       "BsmtFinType1    -0.047088\n",
       "Heating         -0.051638\n",
       "LowQualFinSF    -0.054584\n",
       "LotConfig       -0.057858\n",
       "BldgType        -0.067404\n",
       "MSSubClass      -0.082260\n",
       "OverallCond     -0.105969\n",
       "KitchenAbvGr    -0.119534\n",
       "EnclosedPorch   -0.141240\n",
       "MSZoning        -0.197454\n",
       "LotShape        -0.254453\n",
       "BsmtExposure    -0.276788\n",
       "GarageType      -0.400603\n",
       "HeatingQC       -0.419550\n",
       "GarageFinish    -0.532023\n",
       "BsmtQual        -0.585445\n",
       "KitchenQual     -0.586866\n",
       "ExterQual       -0.616351\n",
       "Name: SalePrice, Length: 76, dtype: float64"
      ]
     },
     "execution_count": 50,
     "metadata": {},
     "output_type": "execute_result"
    }
   ],
   "source": [
    "dc"
   ]
  },
  {
   "cell_type": "code",
   "execution_count": 51,
   "metadata": {
    "scrolled": true
   },
   "outputs": [
    {
     "data": {
      "text/plain": [
       "Index(['SalePrice', 'OverallQual', 'GrLivArea', 'GarageCars', 'GarageArea',\n",
       "       '1stFlrSF', 'TotalBsmtSF', 'FullBath', 'YearBuilt', 'YearRemodAdd',\n",
       "       'FireplaceQu', 'GarageYrBlt', 'TotRmsAbvGrd', 'Foundation',\n",
       "       'Fireplaces', 'MasVnrArea', 'OpenPorchSF', 'BsmtFinSF1', 'WoodDeckSF',\n",
       "       '2ndFlrSF', 'HalfBath', 'LotArea', 'Electrical', 'CentralAir',\n",
       "       'SaleCondition', 'BsmtFullBath', 'PavedDrive', 'BsmtUnfSF',\n",
       "       'LotFrontage', 'Neighborhood', 'RoofStyle', 'GarageCond',\n",
       "       'BedroomAbvGr', 'HouseStyle', 'GarageQual', 'Exterior2nd',\n",
       "       'Exterior1st', 'Functional', 'ExterCond', 'Condition1', 'RoofMatl',\n",
       "       'LandSlope', 'MoSold', 'ScreenPorch', 'BsmtFinType2', '3SsnPorch',\n",
       "       'BsmtCond', 'Street', 'PoolArea', 'Condition2', 'MasVnrType',\n",
       "       'LandContour', 'MiscVal', 'YrSold', 'Utilities', 'SaleType',\n",
       "       'BsmtFinSF2', 'BsmtHalfBath', 'BsmtFinType1', 'Heating', 'LowQualFinSF',\n",
       "       'LotConfig', 'BldgType', 'MSSubClass', 'OverallCond', 'KitchenAbvGr',\n",
       "       'EnclosedPorch', 'MSZoning', 'LotShape', 'BsmtExposure', 'GarageType',\n",
       "       'HeatingQC', 'GarageFinish', 'BsmtQual', 'KitchenQual', 'ExterQual'],\n",
       "      dtype='object')"
      ]
     },
     "execution_count": 51,
     "metadata": {},
     "output_type": "execute_result"
    }
   ],
   "source": [
    "dc.index"
   ]
  },
  {
   "cell_type": "code",
   "execution_count": 52,
   "metadata": {},
   "outputs": [
    {
     "data": {
      "text/plain": [
       "array([ 1.        ,  0.7875578 ,  0.6691678 ,  0.64535555,  0.60584492,\n",
       "        0.57468693,  0.56515591,  0.55648257,  0.54073618,  0.53387957,\n",
       "        0.51137121,  0.50244467,  0.500812  ,  0.47233792,  0.44121252,\n",
       "        0.40172606,  0.33434857,  0.31621243,  0.31420821,  0.26813404,\n",
       "        0.25148237,  0.24562999,  0.23044814,  0.22109505,  0.21719329,\n",
       "        0.21641383,  0.19164376,  0.1888324 ,  0.18770874,  0.186784  ,\n",
       "        0.17331522,  0.16152983,  0.16014423,  0.15388281,  0.15012766,\n",
       "        0.1297516 ,  0.11952962,  0.1173793 ,  0.10852979,  0.10149667,\n",
       "        0.09078799,  0.07663649,  0.07537071,  0.07342898,  0.06188179,\n",
       "        0.0592067 ,  0.05207832,  0.04543149,  0.03298128,  0.0050012 ,\n",
       "        0.00497207, -0.00161256, -0.01377451, -0.01713518, -0.01823609,\n",
       "       -0.02325979, -0.02834359, -0.043828  , -0.04708824, -0.05163829,\n",
       "       -0.05458422, -0.05785799, -0.06740395, -0.08225995, -0.10596948,\n",
       "       -0.11953372, -0.14123985, -0.19745364, -0.25445313, -0.27678788,\n",
       "       -0.40060273, -0.41955025, -0.53202273, -0.58544471, -0.58686593,\n",
       "       -0.61635119])"
      ]
     },
     "execution_count": 52,
     "metadata": {},
     "output_type": "execute_result"
    }
   ],
   "source": [
    "dc.values"
   ]
  },
  {
   "cell_type": "code",
   "execution_count": 53,
   "metadata": {},
   "outputs": [
    {
     "data": {
      "text/plain": [
       "array(['SalePrice', 'OverallQual', 'GrLivArea', 'GarageCars',\n",
       "       'GarageArea', '1stFlrSF', 'TotalBsmtSF', 'FullBath', 'YearBuilt',\n",
       "       'YearRemodAdd', 'FireplaceQu', 'GarageYrBlt', 'TotRmsAbvGrd',\n",
       "       'Foundation', 'Fireplaces', 'MasVnrArea', 'OpenPorchSF',\n",
       "       'BsmtFinSF1', 'WoodDeckSF', '2ndFlrSF', 'HalfBath', 'LotArea',\n",
       "       'Electrical', 'CentralAir', 'SaleCondition', 'BsmtFullBath',\n",
       "       'PavedDrive', 'BsmtUnfSF', 'LotFrontage', 'Neighborhood',\n",
       "       'RoofStyle', 'GarageCond', 'BedroomAbvGr', 'HouseStyle',\n",
       "       'GarageQual', 'Exterior2nd', 'Exterior1st', 'Functional',\n",
       "       'ExterCond', 'Condition1', 'RoofMatl', 'LandSlope', 'MoSold',\n",
       "       'ScreenPorch', 'BsmtFinType2', '3SsnPorch', 'BsmtCond', 'Street',\n",
       "       'PoolArea', 'Condition2', 'MasVnrType', 'LandContour', 'MiscVal',\n",
       "       'YrSold', 'Utilities', 'SaleType', 'BsmtFinSF2', 'BsmtHalfBath',\n",
       "       'BsmtFinType1', 'Heating', 'LowQualFinSF', 'LotConfig', 'BldgType',\n",
       "       'MSSubClass', 'OverallCond', 'KitchenAbvGr', 'EnclosedPorch',\n",
       "       'MSZoning', 'LotShape', 'BsmtExposure', 'GarageType', 'HeatingQC',\n",
       "       'GarageFinish', 'BsmtQual', 'KitchenQual', 'ExterQual'],\n",
       "      dtype=object)"
      ]
     },
     "execution_count": 53,
     "metadata": {},
     "output_type": "execute_result"
    }
   ],
   "source": [
    "dc.index.values"
   ]
  },
  {
   "cell_type": "code",
   "execution_count": 54,
   "metadata": {},
   "outputs": [
    {
     "data": {
      "text/plain": [
       "OverallQual     0.787558\n",
       "GrLivArea       0.669168\n",
       "GarageCars      0.645356\n",
       "GarageArea      0.605845\n",
       "1stFlrSF        0.574687\n",
       "TotalBsmtSF     0.565156\n",
       "FullBath        0.556483\n",
       "YearBuilt       0.540736\n",
       "YearRemodAdd    0.533880\n",
       "FireplaceQu     0.511371\n",
       "GarageYrBlt     0.502445\n",
       "TotRmsAbvGrd    0.500812\n",
       "Name: SalePrice, dtype: float64"
      ]
     },
     "execution_count": 54,
     "metadata": {},
     "output_type": "execute_result"
    }
   ],
   "source": [
    "dc_new=dc[(dc.values>0.5)&(dc.values<1)]\n",
    "dc_new"
   ]
  },
  {
   "cell_type": "code",
   "execution_count": 55,
   "metadata": {},
   "outputs": [
    {
     "data": {
      "text/plain": [
       "array(['OverallQual', 'GrLivArea', 'GarageCars', 'GarageArea', '1stFlrSF',\n",
       "       'TotalBsmtSF', 'FullBath', 'YearBuilt', 'YearRemodAdd',\n",
       "       'FireplaceQu', 'GarageYrBlt', 'TotRmsAbvGrd'], dtype=object)"
      ]
     },
     "execution_count": 55,
     "metadata": {},
     "output_type": "execute_result"
    }
   ],
   "source": [
    "feature_col=dc_new.index.values\n",
    "feature_col"
   ]
  },
  {
   "cell_type": "markdown",
   "metadata": {},
   "source": [
    "## Log Transformation of \"SalePrice'"
   ]
  },
  {
   "cell_type": "code",
   "execution_count": 56,
   "metadata": {
    "scrolled": true
   },
   "outputs": [
    {
     "data": {
      "text/plain": [
       "<matplotlib.axes._subplots.AxesSubplot at 0x1a2ee940>"
      ]
     },
     "execution_count": 56,
     "metadata": {},
     "output_type": "execute_result"
    },
    {
     "data": {
      "image/png": "[encoded data removed]",
      "text/plain": [
       "<Figure size 432x288 with 1 Axes>"
      ]
     },
     "metadata": {},
     "output_type": "display_data"
    }
   ],
   "source": [
    "y=df_out[['SalePrice']]\n",
    "sns.distplot(y)"
   ]
  },
  {
   "cell_type": "code",
   "execution_count": 57,
   "metadata": {
    "scrolled": false
   },
   "outputs": [
    {
     "data": {
      "text/plain": [
       "<matplotlib.axes._subplots.AxesSubplot at 0x1c38e630>"
      ]
     },
     "execution_count": 57,
     "metadata": {},
     "output_type": "execute_result"
    },
    {
     "data": {
      "image/png": "[encoded data removed]",
      "text/plain": [
       "<Figure size 432x288 with 1 Axes>"
      ]
     },
     "metadata": {},
     "output_type": "display_data"
    }
   ],
   "source": [
    "sns.distplot(np.log(y))"
   ]
  },
  {
   "cell_type": "markdown",
   "metadata": {},
   "source": [
    "### Select the features to be used in the data analysis"
   ]
  },
  {
   "cell_type": "code",
   "execution_count": 58,
   "metadata": {},
   "outputs": [],
   "source": [
    "X=df_out[feature_col]\n",
    "y=np.log(df_out[['SalePrice']])"
   ]
  },
  {
   "cell_type": "code",
   "execution_count": 59,
   "metadata": {},
   "outputs": [
    {
     "data": {
      "text/html": [
       "<div>\n",
       "<style scoped>\n",
       "    .dataframe tbody tr th:only-of-type {\n",
       "        vertical-align: middle;\n",
       "    }\n",
       "\n",
       "    .dataframe tbody tr th {\n",
       "        vertical-align: top;\n",
       "    }\n",
       "\n",
       "    .dataframe thead th {\n",
       "        text-align: right;\n",
       "    }\n",
       "</style>\n",
       "<table border=\"1\" class=\"dataframe\">\n",
       "  <thead>\n",
       "    <tr style=\"text-align: right;\">\n",
       "      <th></th>\n",
       "      <th>OverallQual</th>\n",
       "      <th>GrLivArea</th>\n",
       "      <th>GarageCars</th>\n",
       "      <th>GarageArea</th>\n",
       "      <th>1stFlrSF</th>\n",
       "      <th>TotalBsmtSF</th>\n",
       "      <th>FullBath</th>\n",
       "      <th>YearBuilt</th>\n",
       "      <th>YearRemodAdd</th>\n",
       "      <th>FireplaceQu</th>\n",
       "      <th>GarageYrBlt</th>\n",
       "      <th>TotRmsAbvGrd</th>\n",
       "    </tr>\n",
       "  </thead>\n",
       "  <tbody>\n",
       "    <tr>\n",
       "      <th>0</th>\n",
       "      <td>7</td>\n",
       "      <td>1710</td>\n",
       "      <td>2</td>\n",
       "      <td>548</td>\n",
       "      <td>856</td>\n",
       "      <td>856</td>\n",
       "      <td>2</td>\n",
       "      <td>2003</td>\n",
       "      <td>2003</td>\n",
       "      <td>0</td>\n",
       "      <td>2003.0</td>\n",
       "      <td>8</td>\n",
       "    </tr>\n",
       "    <tr>\n",
       "      <th>1</th>\n",
       "      <td>6</td>\n",
       "      <td>1262</td>\n",
       "      <td>2</td>\n",
       "      <td>460</td>\n",
       "      <td>1262</td>\n",
       "      <td>1262</td>\n",
       "      <td>2</td>\n",
       "      <td>1976</td>\n",
       "      <td>1976</td>\n",
       "      <td>3</td>\n",
       "      <td>1976.0</td>\n",
       "      <td>6</td>\n",
       "    </tr>\n",
       "    <tr>\n",
       "      <th>2</th>\n",
       "      <td>7</td>\n",
       "      <td>1786</td>\n",
       "      <td>2</td>\n",
       "      <td>608</td>\n",
       "      <td>920</td>\n",
       "      <td>920</td>\n",
       "      <td>2</td>\n",
       "      <td>2001</td>\n",
       "      <td>2002</td>\n",
       "      <td>3</td>\n",
       "      <td>2001.0</td>\n",
       "      <td>6</td>\n",
       "    </tr>\n",
       "    <tr>\n",
       "      <th>3</th>\n",
       "      <td>7</td>\n",
       "      <td>1717</td>\n",
       "      <td>3</td>\n",
       "      <td>642</td>\n",
       "      <td>961</td>\n",
       "      <td>756</td>\n",
       "      <td>1</td>\n",
       "      <td>1915</td>\n",
       "      <td>1970</td>\n",
       "      <td>4</td>\n",
       "      <td>1998.0</td>\n",
       "      <td>7</td>\n",
       "    </tr>\n",
       "    <tr>\n",
       "      <th>4</th>\n",
       "      <td>8</td>\n",
       "      <td>2198</td>\n",
       "      <td>3</td>\n",
       "      <td>836</td>\n",
       "      <td>1145</td>\n",
       "      <td>1145</td>\n",
       "      <td>2</td>\n",
       "      <td>2000</td>\n",
       "      <td>2000</td>\n",
       "      <td>3</td>\n",
       "      <td>2000.0</td>\n",
       "      <td>9</td>\n",
       "    </tr>\n",
       "  </tbody>\n",
       "</table>\n",
       "</div>"
      ],
      "text/plain": [
       "   OverallQual  GrLivArea  GarageCars  GarageArea  1stFlrSF  TotalBsmtSF  \\\n",
       "0            7       1710           2         548       856          856   \n",
       "1            6       1262           2         460      1262         1262   \n",
       "2            7       1786           2         608       920          920   \n",
       "3            7       1717           3         642       961          756   \n",
       "4            8       2198           3         836      1145         1145   \n",
       "\n",
       "   FullBath  YearBuilt  YearRemodAdd  FireplaceQu  GarageYrBlt  TotRmsAbvGrd  \n",
       "0         2       2003          2003            0       2003.0             8  \n",
       "1         2       1976          1976            3       1976.0             6  \n",
       "2         2       2001          2002            3       2001.0             6  \n",
       "3         1       1915          1970            4       1998.0             7  \n",
       "4         2       2000          2000            3       2000.0             9  "
      ]
     },
     "execution_count": 59,
     "metadata": {},
     "output_type": "execute_result"
    }
   ],
   "source": [
    "X.head()"
   ]
  },
  {
   "cell_type": "code",
   "execution_count": 60,
   "metadata": {},
   "outputs": [
    {
     "data": {
      "text/html": [
       "<div>\n",
       "<style scoped>\n",
       "    .dataframe tbody tr th:only-of-type {\n",
       "        vertical-align: middle;\n",
       "    }\n",
       "\n",
       "    .dataframe tbody tr th {\n",
       "        vertical-align: top;\n",
       "    }\n",
       "\n",
       "    .dataframe thead th {\n",
       "        text-align: right;\n",
       "    }\n",
       "</style>\n",
       "<table border=\"1\" class=\"dataframe\">\n",
       "  <thead>\n",
       "    <tr style=\"text-align: right;\">\n",
       "      <th></th>\n",
       "      <th>SalePrice</th>\n",
       "    </tr>\n",
       "  </thead>\n",
       "  <tbody>\n",
       "    <tr>\n",
       "      <th>0</th>\n",
       "      <td>12.247694</td>\n",
       "    </tr>\n",
       "    <tr>\n",
       "      <th>1</th>\n",
       "      <td>12.109011</td>\n",
       "    </tr>\n",
       "    <tr>\n",
       "      <th>2</th>\n",
       "      <td>12.317167</td>\n",
       "    </tr>\n",
       "    <tr>\n",
       "      <th>3</th>\n",
       "      <td>11.849398</td>\n",
       "    </tr>\n",
       "    <tr>\n",
       "      <th>4</th>\n",
       "      <td>12.429216</td>\n",
       "    </tr>\n",
       "  </tbody>\n",
       "</table>\n",
       "</div>"
      ],
      "text/plain": [
       "   SalePrice\n",
       "0  12.247694\n",
       "1  12.109011\n",
       "2  12.317167\n",
       "3  11.849398\n",
       "4  12.429216"
      ]
     },
     "execution_count": 60,
     "metadata": {},
     "output_type": "execute_result"
    }
   ],
   "source": [
    "y.head()"
   ]
  },
  {
   "cell_type": "markdown",
   "metadata": {},
   "source": [
    "## Modeling"
   ]
  },
  {
   "cell_type": "markdown",
   "metadata": {},
   "source": [
    "### Split the data to train and test dataset"
   ]
  },
  {
   "cell_type": "code",
   "execution_count": 61,
   "metadata": {},
   "outputs": [],
   "source": [
    "x_train, x_test, y_train, y_test = train_test_split(X, y, test_size=0.1, random_state=200)"
   ]
  },
  {
   "cell_type": "markdown",
   "metadata": {},
   "source": [
    "### Ridge Regression"
   ]
  },
  {
   "cell_type": "code",
   "execution_count": 62,
   "metadata": {
    "scrolled": true
   },
   "outputs": [
    {
     "data": {
      "text/plain": [
       "0.1494721671439278"
      ]
     },
     "execution_count": 62,
     "metadata": {},
     "output_type": "execute_result"
    }
   ],
   "source": [
    "from sklearn.linear_model import Ridge\n",
    "RR=Ridge(alpha=10,fit_intercept=False)\n",
    "RR_fit=RR.fit(x_train,y_train)\n",
    "y_pred=RR_fit.predict(x_train)\n",
    "np.sqrt(mean_squared_error(y_pred,y_train))"
   ]
  },
  {
   "cell_type": "code",
   "execution_count": 63,
   "metadata": {},
   "outputs": [
    {
     "data": {
      "text/plain": [
       "0.2652481245848191"
      ]
     },
     "execution_count": 63,
     "metadata": {},
     "output_type": "execute_result"
    }
   ],
   "source": [
    "y_pred=RR_fit.predict(x_test)\n",
    "np.sqrt(mean_squared_error(y_pred,y_test))"
   ]
  },
  {
   "cell_type": "markdown",
   "metadata": {},
   "source": [
    "### Lasso Regression"
   ]
  },
  {
   "cell_type": "code",
   "execution_count": 64,
   "metadata": {
    "scrolled": true
   },
   "outputs": [
    {
     "data": {
      "text/plain": [
       "0.18324303660153016"
      ]
     },
     "execution_count": 64,
     "metadata": {},
     "output_type": "execute_result"
    }
   ],
   "source": [
    "from sklearn.linear_model import Lasso\n",
    "LR=Lasso(alpha=10,fit_intercept=False)\n",
    "LR_fit=LR.fit(x_train,y_train)\n",
    "y_pred=LR_fit.predict(x_train)\n",
    "np.sqrt(mean_squared_error(y_pred,y_train))"
   ]
  },
  {
   "cell_type": "code",
   "execution_count": 65,
   "metadata": {},
   "outputs": [
    {
     "data": {
      "text/plain": [
       "0.2856415334226336"
      ]
     },
     "execution_count": 65,
     "metadata": {},
     "output_type": "execute_result"
    }
   ],
   "source": [
    "y_pred=LR_fit.predict(x_test)\n",
    "np.sqrt(mean_squared_error(y_pred,y_test))"
   ]
  },
  {
   "cell_type": "markdown",
   "metadata": {},
   "source": [
    "### Elastic Net Model"
   ]
  },
  {
   "cell_type": "code",
   "execution_count": 66,
   "metadata": {},
   "outputs": [],
   "source": [
    "from sklearn.linear_model import ElasticNetCV\n",
    "EN = ElasticNetCV(alphas=[0.0001, 0.0005, 0.001, 0.01, 0.1, 1, 10], \n",
    "                       l1_ratio=[.01, .1, .5, .9, .99], max_iter=5000)\n",
    "EN_fit=EN.fit(x_train, y_train)"
   ]
  },
  {
   "cell_type": "code",
   "execution_count": 67,
   "metadata": {},
   "outputs": [
    {
     "data": {
      "text/plain": [
       "0.14936399282987664"
      ]
     },
     "execution_count": 67,
     "metadata": {},
     "output_type": "execute_result"
    }
   ],
   "source": [
    "y_pred=EN_fit.predict(x_train)\n",
    "np.sqrt(mean_squared_error(y_pred,y_train))"
   ]
  },
  {
   "cell_type": "code",
   "execution_count": 68,
   "metadata": {},
   "outputs": [
    {
     "data": {
      "text/plain": [
       "0.2627850680495355"
      ]
     },
     "execution_count": 68,
     "metadata": {},
     "output_type": "execute_result"
    }
   ],
   "source": [
    "y_pred=EN_fit.predict(x_test)\n",
    "np.sqrt(mean_squared_error(y_pred,y_test))"
   ]
  },
  {
   "cell_type": "markdown",
   "metadata": {},
   "source": [
    "### Decision Tree Model"
   ]
  },
  {
   "cell_type": "code",
   "execution_count": 69,
   "metadata": {},
   "outputs": [],
   "source": [
    "from sklearn.tree import DecisionTreeRegressor\n",
    "DT=DecisionTreeRegressor()\n",
    "DT_fit=DT.fit(x_train,y_train)"
   ]
  },
  {
   "cell_type": "code",
   "execution_count": 70,
   "metadata": {},
   "outputs": [
    {
     "data": {
      "text/plain": [
       "0.006473479566308707"
      ]
     },
     "execution_count": 70,
     "metadata": {},
     "output_type": "execute_result"
    }
   ],
   "source": [
    "y_pred=DT_fit.predict(x_train)\n",
    "np.sqrt(mean_squared_error(y_pred,y_train))"
   ]
  },
  {
   "cell_type": "code",
   "execution_count": 71,
   "metadata": {},
   "outputs": [
    {
     "data": {
      "text/plain": [
       "0.2082543962842535"
      ]
     },
     "execution_count": 71,
     "metadata": {},
     "output_type": "execute_result"
    }
   ],
   "source": [
    "y_pred=DT_fit.predict(x_test)\n",
    "np.sqrt(mean_squared_error(y_pred,y_test))"
   ]
  },
  {
   "cell_type": "markdown",
   "metadata": {},
   "source": [
    "### Random Forest Model"
   ]
  },
  {
   "cell_type": "code",
   "execution_count": 72,
   "metadata": {},
   "outputs": [],
   "source": [
    "RF = ensemble.RandomForestRegressor(n_estimators=100, random_state=0)\n",
    "RF_fit=RF.fit(x_train, y_train)"
   ]
  },
  {
   "cell_type": "code",
   "execution_count": 73,
   "metadata": {
    "scrolled": true
   },
   "outputs": [
    {
     "data": {
      "text/plain": [
       "0.05645300134606978"
      ]
     },
     "execution_count": 73,
     "metadata": {},
     "output_type": "execute_result"
    }
   ],
   "source": [
    "y_pred=RF_fit.predict(x_train)\n",
    "np.sqrt(mean_squared_error(y_pred,y_train))"
   ]
  },
  {
   "cell_type": "code",
   "execution_count": 74,
   "metadata": {},
   "outputs": [
    {
     "data": {
      "text/plain": [
       "0.1582242966480905"
      ]
     },
     "execution_count": 74,
     "metadata": {},
     "output_type": "execute_result"
    }
   ],
   "source": [
    "y_pred=RF_fit.predict(x_test)\n",
    "np.sqrt(mean_squared_error(y_pred,y_test))"
   ]
  },
  {
   "cell_type": "markdown",
   "metadata": {},
   "source": [
    "### XGBoost Model"
   ]
  },
  {
   "cell_type": "code",
   "execution_count": 75,
   "metadata": {},
   "outputs": [],
   "source": [
    "XG = ensemble.GradientBoostingRegressor(loss='huber', learning_rate=0.05, n_estimators=3000, max_depth=10, \n",
    "                                  max_features='sqrt', min_samples_leaf=15, \n",
    "                                  min_samples_split=10)\n",
    "XG_fit=XG.fit(x_train, y_train)"
   ]
  },
  {
   "cell_type": "code",
   "execution_count": 76,
   "metadata": {},
   "outputs": [
    {
     "data": {
      "text/plain": [
       "0.04789549220505006"
      ]
     },
     "execution_count": 76,
     "metadata": {},
     "output_type": "execute_result"
    }
   ],
   "source": [
    "y_pred=XG_fit.predict(x_train)\n",
    "np.sqrt(mean_squared_error(y_pred,y_train))"
   ]
  },
  {
   "cell_type": "code",
   "execution_count": 77,
   "metadata": {},
   "outputs": [
    {
     "data": {
      "text/plain": [
       "0.1660827363400115"
      ]
     },
     "execution_count": 77,
     "metadata": {},
     "output_type": "execute_result"
    }
   ],
   "source": [
    "y_pred=XG_fit.predict(x_test)\n",
    "np.sqrt(mean_squared_error(y_pred,y_test))"
   ]
  },
  {
   "cell_type": "markdown",
   "metadata": {},
   "source": [
    "### Wrapper Method - Recursive Feature Elimination Method"
   ]
  },
  {
   "cell_type": "code",
   "execution_count": 78,
   "metadata": {},
   "outputs": [],
   "source": [
    "from sklearn.feature_selection import RFECV"
   ]
  },
  {
   "cell_type": "markdown",
   "metadata": {},
   "source": [
    "### Ridge Regression"
   ]
  },
  {
   "cell_type": "code",
   "execution_count": 79,
   "metadata": {
    "scrolled": true
   },
   "outputs": [
    {
     "data": {
      "text/plain": [
       "9"
      ]
     },
     "execution_count": 79,
     "metadata": {},
     "output_type": "execute_result"
    }
   ],
   "source": [
    "RM_RR=RFECV(DT, step=1, cv=20, scoring='neg_mean_squared_error')\n",
    "RM_RR_fit=RM_RR.fit(x_train,y_train)\n",
    "RM_RR_fit.n_features_"
   ]
  },
  {
   "cell_type": "code",
   "execution_count": 80,
   "metadata": {
    "scrolled": true
   },
   "outputs": [
    {
     "data": {
      "text/plain": [
       "0.0072364823618383195"
      ]
     },
     "execution_count": 80,
     "metadata": {},
     "output_type": "execute_result"
    }
   ],
   "source": [
    "y_pred=RM_RR_fit.predict(x_train)\n",
    "np.sqrt(mean_squared_error(y_pred,y_train))"
   ]
  },
  {
   "cell_type": "code",
   "execution_count": 81,
   "metadata": {
    "scrolled": true
   },
   "outputs": [
    {
     "data": {
      "text/plain": [
       "0.22093570733243909"
      ]
     },
     "execution_count": 81,
     "metadata": {},
     "output_type": "execute_result"
    }
   ],
   "source": [
    "y_pred=RM_RR_fit.predict(x_test)\n",
    "np.sqrt(mean_squared_error(y_pred,y_test))"
   ]
  },
  {
   "cell_type": "markdown",
   "metadata": {},
   "source": [
    "### Lasso Regression"
   ]
  },
  {
   "cell_type": "code",
   "execution_count": 82,
   "metadata": {
    "scrolled": true
   },
   "outputs": [
    {
     "data": {
      "text/plain": [
       "11"
      ]
     },
     "execution_count": 82,
     "metadata": {},
     "output_type": "execute_result"
    }
   ],
   "source": [
    "RM_LR=RFECV(DT, step=1, cv=20, scoring='neg_mean_squared_error')\n",
    "RM_LR_fit=RM_LR.fit(x_train,y_train)\n",
    "RM_LR_fit.n_features_"
   ]
  },
  {
   "cell_type": "code",
   "execution_count": 83,
   "metadata": {
    "scrolled": true
   },
   "outputs": [
    {
     "data": {
      "text/plain": [
       "0.006473479566308707"
      ]
     },
     "execution_count": 83,
     "metadata": {},
     "output_type": "execute_result"
    }
   ],
   "source": [
    "y_pred=RM_LR_fit.predict(x_train)\n",
    "np.sqrt(mean_squared_error(y_pred,y_train))"
   ]
  },
  {
   "cell_type": "code",
   "execution_count": 84,
   "metadata": {
    "scrolled": false
   },
   "outputs": [
    {
     "data": {
      "text/plain": [
       "0.21292475488655296"
      ]
     },
     "execution_count": 84,
     "metadata": {},
     "output_type": "execute_result"
    }
   ],
   "source": [
    "y_pred=RM_LR_fit.predict(x_test)\n",
    "np.sqrt(mean_squared_error(y_pred,y_test))"
   ]
  },
  {
   "cell_type": "markdown",
   "metadata": {},
   "source": [
    "### Elastic Net Model"
   ]
  },
  {
   "cell_type": "code",
   "execution_count": 85,
   "metadata": {
    "scrolled": true
   },
   "outputs": [
    {
     "data": {
      "text/plain": [
       "10"
      ]
     },
     "execution_count": 85,
     "metadata": {},
     "output_type": "execute_result"
    }
   ],
   "source": [
    "RM_EN=RFECV(DT, step=1, cv=20, scoring='neg_mean_squared_error')\n",
    "RM_EN_fit=RM_EN.fit(x_train,y_train)\n",
    "RM_EN_fit.n_features_"
   ]
  },
  {
   "cell_type": "code",
   "execution_count": 86,
   "metadata": {
    "scrolled": true
   },
   "outputs": [
    {
     "data": {
      "text/plain": [
       "0.006847958809773468"
      ]
     },
     "execution_count": 86,
     "metadata": {},
     "output_type": "execute_result"
    }
   ],
   "source": [
    "y_pred=RM_EN_fit.predict(x_train)\n",
    "np.sqrt(mean_squared_error(y_pred,y_train))"
   ]
  },
  {
   "cell_type": "code",
   "execution_count": 87,
   "metadata": {
    "scrolled": false
   },
   "outputs": [
    {
     "data": {
      "text/plain": [
       "0.20296869918910243"
      ]
     },
     "execution_count": 87,
     "metadata": {},
     "output_type": "execute_result"
    }
   ],
   "source": [
    "y_pred=RM_EN_fit.predict(x_test)\n",
    "np.sqrt(mean_squared_error(y_pred,y_test))"
   ]
  },
  {
   "cell_type": "markdown",
   "metadata": {},
   "source": [
    "### Decision Tree Model"
   ]
  },
  {
   "cell_type": "code",
   "execution_count": 88,
   "metadata": {},
   "outputs": [
    {
     "data": {
      "text/plain": [
       "9"
      ]
     },
     "execution_count": 88,
     "metadata": {},
     "output_type": "execute_result"
    }
   ],
   "source": [
    "RM_DT=RFECV(DT, step=1, cv=20, scoring='neg_mean_squared_error')\n",
    "RM_DT_fit=RM_DT.fit(x_train,y_train)\n",
    "RM_DT_fit.n_features_"
   ]
  },
  {
   "cell_type": "code",
   "execution_count": 89,
   "metadata": {
    "scrolled": true
   },
   "outputs": [
    {
     "data": {
      "text/plain": [
       "0.0072364823618383195"
      ]
     },
     "execution_count": 89,
     "metadata": {},
     "output_type": "execute_result"
    }
   ],
   "source": [
    "y_pred=RM_DT_fit.predict(x_train)\n",
    "np.sqrt(mean_squared_error(y_pred,y_train))"
   ]
  },
  {
   "cell_type": "code",
   "execution_count": 90,
   "metadata": {},
   "outputs": [
    {
     "data": {
      "text/plain": [
       "0.2174531486449438"
      ]
     },
     "execution_count": 90,
     "metadata": {},
     "output_type": "execute_result"
    }
   ],
   "source": [
    "y_pred=RM_DT_fit.predict(x_test)\n",
    "np.sqrt(mean_squared_error(y_pred,y_test))"
   ]
  },
  {
   "cell_type": "markdown",
   "metadata": {},
   "source": [
    "### Random Forest Model"
   ]
  },
  {
   "cell_type": "code",
   "execution_count": 91,
   "metadata": {},
   "outputs": [
    {
     "data": {
      "text/plain": [
       "10"
      ]
     },
     "execution_count": 91,
     "metadata": {},
     "output_type": "execute_result"
    }
   ],
   "source": [
    "RM_RF=RFECV(RF, step=1, cv=20, scoring='neg_mean_squared_error')\n",
    "RM_RF_fit=RM_RF.fit(x_train,y_train)\n",
    "RM_RF_fit.n_features_"
   ]
  },
  {
   "cell_type": "code",
   "execution_count": 92,
   "metadata": {
    "scrolled": false
   },
   "outputs": [
    {
     "data": {
      "text/plain": [
       "0.056243770718501486"
      ]
     },
     "execution_count": 92,
     "metadata": {},
     "output_type": "execute_result"
    }
   ],
   "source": [
    "y_pred=RM_RF_fit.predict(x_train)\n",
    "np.sqrt(mean_squared_error(y_pred,y_train))"
   ]
  },
  {
   "cell_type": "code",
   "execution_count": 93,
   "metadata": {
    "scrolled": true
   },
   "outputs": [
    {
     "data": {
      "text/plain": [
       "0.15796070157349926"
      ]
     },
     "execution_count": 93,
     "metadata": {},
     "output_type": "execute_result"
    }
   ],
   "source": [
    "y_pred=RM_RF_fit.predict(x_test)\n",
    "np.sqrt(mean_squared_error(y_pred,y_test))"
   ]
  },
  {
   "cell_type": "markdown",
   "metadata": {},
   "source": [
    "### XGBoost Model"
   ]
  },
  {
   "cell_type": "code",
   "execution_count": 94,
   "metadata": {},
   "outputs": [
    {
     "data": {
      "text/plain": [
       "10"
      ]
     },
     "execution_count": 94,
     "metadata": {},
     "output_type": "execute_result"
    }
   ],
   "source": [
    "RM_XG=RFECV(RF, step=1, cv=20, scoring='neg_mean_squared_error')\n",
    "RM_XG_fit=RM_XG.fit(x_train,y_train)\n",
    "RM_XG_fit.n_features_"
   ]
  },
  {
   "cell_type": "code",
   "execution_count": 95,
   "metadata": {},
   "outputs": [
    {
     "data": {
      "text/plain": [
       "0.056243770718501486"
      ]
     },
     "execution_count": 95,
     "metadata": {},
     "output_type": "execute_result"
    }
   ],
   "source": [
    "y_pred=RM_XG_fit.predict(x_train)\n",
    "np.sqrt(mean_squared_error(y_pred,y_train))"
   ]
  },
  {
   "cell_type": "code",
   "execution_count": 96,
   "metadata": {
    "scrolled": true
   },
   "outputs": [
    {
     "data": {
      "text/plain": [
       "0.15796070157349926"
      ]
     },
     "execution_count": 96,
     "metadata": {},
     "output_type": "execute_result"
    }
   ],
   "source": [
    "y_pred=RM_XG_fit.predict(x_test)\n",
    "np.sqrt(mean_squared_error(y_pred,y_test))"
   ]
  },
  {
   "cell_type": "markdown",
   "metadata": {},
   "source": [
    "## Embedded Method - XGBoost Feature Importance"
   ]
  },
  {
   "cell_type": "code",
   "execution_count": 97,
   "metadata": {},
   "outputs": [
    {
     "name": "stdout",
     "output_type": "stream",
     "text": [
      "[0.0649186  0.03330079 0.00047124 0.00392698 0.00093126 0.0006171\n",
      " 0.00687783 0.05813053 0.00212057 0.00900962 0.00049368 0.00258059\n",
      " 0.000561   0.00243473 0.08772875 0.00035904 0.00135761 0.\n",
      " 0.00117809 0.00307426 0.00162689 0.00190739 0.00762956 0.01101799\n",
      " 0.00830276 0.00103223 0.00214301 0.00256937 0.00098736 0.06537861\n",
      " 0.00144737 0.00059466 0.0074276  0.00026928 0.00485824 0.02263063\n",
      " 0.09158841 0.00252449 0.         0.00863936 0.00406162 0.\n",
      " 0.0041626  0.00074052 0.000561   0.09642421 0.00525093 0.03484915\n",
      " 0.00677685 0.         0.00755102 0.00190739 0.03772146 0.0030406\n",
      " 0.00034782 0.02153107 0.0200837  0.03783365 0.00535191 0.00929011\n",
      " 0.0003366  0.         0.00023562 0.00259181 0.00146981 0.00094248\n",
      " 0.00158201 0.         0.00792128 0.061878   0.         0.03620676\n",
      " 0.02183401 0.03002457 0.01484399]\n"
     ]
    }
   ],
   "source": [
    "from xgboost import XGBClassifier\n",
    "model = XGBClassifier()\n",
    "df_out_X=df_out.drop(columns=['SalePrice'])\n",
    "df_out_y=df_out['SalePrice']\n",
    "model.fit(df_out_X, df_out_y)\n",
    "print(model.feature_importances_)"
   ]
  },
  {
   "cell_type": "code",
   "execution_count": 98,
   "metadata": {},
   "outputs": [
    {
     "data": {
      "text/plain": [
       "75"
      ]
     },
     "execution_count": 98,
     "metadata": {},
     "output_type": "execute_result"
    }
   ],
   "source": [
    "len(model.feature_importances_)"
   ]
  },
  {
   "cell_type": "code",
   "execution_count": 99,
   "metadata": {},
   "outputs": [
    {
     "data": {
      "text/plain": [
       "(1318, 75)"
      ]
     },
     "execution_count": 99,
     "metadata": {},
     "output_type": "execute_result"
    }
   ],
   "source": [
    "df_out_X.shape"
   ]
  },
  {
   "cell_type": "code",
   "execution_count": 100,
   "metadata": {},
   "outputs": [],
   "source": [
    "df_out_X_col=df_out_X.columns.values"
   ]
  },
  {
   "cell_type": "code",
   "execution_count": 101,
   "metadata": {
    "scrolled": false
   },
   "outputs": [
    {
     "data": {
      "image/png": "[encoded data removed]",
      "text/plain": [
       "<Figure size 720x1440 with 1 Axes>"
      ]
     },
     "metadata": {},
     "output_type": "display_data"
    }
   ],
   "source": [
    "plt.rcParams[\"figure.figsize\"] = (10,20)\n",
    "plt.barh(df_out_X_col, model.feature_importances_)\n",
    "plt.show()"
   ]
  },
  {
   "cell_type": "code",
   "execution_count": 102,
   "metadata": {},
   "outputs": [],
   "source": [
    "df_XG=pd.DataFrame()"
   ]
  },
  {
   "cell_type": "code",
   "execution_count": 103,
   "metadata": {},
   "outputs": [],
   "source": [
    "df_XG['Feature']=df_out_X_col\n",
    "df_XG['Feature_Importance']=model.feature_importances_"
   ]
  },
  {
   "cell_type": "code",
   "execution_count": 104,
   "metadata": {},
   "outputs": [
    {
     "data": {
      "text/html": [
       "<div>\n",
       "<style scoped>\n",
       "    .dataframe tbody tr th:only-of-type {\n",
       "        vertical-align: middle;\n",
       "    }\n",
       "\n",
       "    .dataframe tbody tr th {\n",
       "        vertical-align: top;\n",
       "    }\n",
       "\n",
       "    .dataframe thead th {\n",
       "        text-align: right;\n",
       "    }\n",
       "</style>\n",
       "<table border=\"1\" class=\"dataframe\">\n",
       "  <thead>\n",
       "    <tr style=\"text-align: right;\">\n",
       "      <th></th>\n",
       "      <th>Feature</th>\n",
       "      <th>Feature_Importance</th>\n",
       "    </tr>\n",
       "  </thead>\n",
       "  <tbody>\n",
       "    <tr>\n",
       "      <th>0</th>\n",
       "      <td>1stFlrSF</td>\n",
       "      <td>0.064919</td>\n",
       "    </tr>\n",
       "    <tr>\n",
       "      <th>1</th>\n",
       "      <td>2ndFlrSF</td>\n",
       "      <td>0.033301</td>\n",
       "    </tr>\n",
       "    <tr>\n",
       "      <th>2</th>\n",
       "      <td>3SsnPorch</td>\n",
       "      <td>0.000471</td>\n",
       "    </tr>\n",
       "    <tr>\n",
       "      <th>3</th>\n",
       "      <td>BedroomAbvGr</td>\n",
       "      <td>0.003927</td>\n",
       "    </tr>\n",
       "    <tr>\n",
       "      <th>4</th>\n",
       "      <td>BldgType</td>\n",
       "      <td>0.000931</td>\n",
       "    </tr>\n",
       "  </tbody>\n",
       "</table>\n",
       "</div>"
      ],
      "text/plain": [
       "        Feature  Feature_Importance\n",
       "0      1stFlrSF            0.064919\n",
       "1      2ndFlrSF            0.033301\n",
       "2     3SsnPorch            0.000471\n",
       "3  BedroomAbvGr            0.003927\n",
       "4      BldgType            0.000931"
      ]
     },
     "execution_count": 104,
     "metadata": {},
     "output_type": "execute_result"
    }
   ],
   "source": [
    "df_XG.head()"
   ]
  },
  {
   "cell_type": "code",
   "execution_count": 105,
   "metadata": {},
   "outputs": [],
   "source": [
    "df_XG=df_XG.sort_values(by=['Feature_Importance'],ascending=False)"
   ]
  },
  {
   "cell_type": "code",
   "execution_count": 106,
   "metadata": {},
   "outputs": [
    {
     "data": {
      "text/html": [
       "<div>\n",
       "<style scoped>\n",
       "    .dataframe tbody tr th:only-of-type {\n",
       "        vertical-align: middle;\n",
       "    }\n",
       "\n",
       "    .dataframe tbody tr th {\n",
       "        vertical-align: top;\n",
       "    }\n",
       "\n",
       "    .dataframe thead th {\n",
       "        text-align: right;\n",
       "    }\n",
       "</style>\n",
       "<table border=\"1\" class=\"dataframe\">\n",
       "  <thead>\n",
       "    <tr style=\"text-align: right;\">\n",
       "      <th></th>\n",
       "      <th>Feature</th>\n",
       "      <th>Feature_Importance</th>\n",
       "    </tr>\n",
       "  </thead>\n",
       "  <tbody>\n",
       "    <tr>\n",
       "      <th>45</th>\n",
       "      <td>LotArea</td>\n",
       "      <td>0.096424</td>\n",
       "    </tr>\n",
       "    <tr>\n",
       "      <th>36</th>\n",
       "      <td>GrLivArea</td>\n",
       "      <td>0.091588</td>\n",
       "    </tr>\n",
       "    <tr>\n",
       "      <th>14</th>\n",
       "      <td>BsmtUnfSF</td>\n",
       "      <td>0.087729</td>\n",
       "    </tr>\n",
       "    <tr>\n",
       "      <th>29</th>\n",
       "      <td>GarageArea</td>\n",
       "      <td>0.065379</td>\n",
       "    </tr>\n",
       "    <tr>\n",
       "      <th>0</th>\n",
       "      <td>1stFlrSF</td>\n",
       "      <td>0.064919</td>\n",
       "    </tr>\n",
       "    <tr>\n",
       "      <th>69</th>\n",
       "      <td>TotalBsmtSF</td>\n",
       "      <td>0.061878</td>\n",
       "    </tr>\n",
       "    <tr>\n",
       "      <th>7</th>\n",
       "      <td>BsmtFinSF1</td>\n",
       "      <td>0.058131</td>\n",
       "    </tr>\n",
       "    <tr>\n",
       "      <th>57</th>\n",
       "      <td>OpenPorchSF</td>\n",
       "      <td>0.037834</td>\n",
       "    </tr>\n",
       "    <tr>\n",
       "      <th>52</th>\n",
       "      <td>MasVnrArea</td>\n",
       "      <td>0.037721</td>\n",
       "    </tr>\n",
       "    <tr>\n",
       "      <th>71</th>\n",
       "      <td>WoodDeckSF</td>\n",
       "      <td>0.036207</td>\n",
       "    </tr>\n",
       "    <tr>\n",
       "      <th>47</th>\n",
       "      <td>LotFrontage</td>\n",
       "      <td>0.034849</td>\n",
       "    </tr>\n",
       "    <tr>\n",
       "      <th>1</th>\n",
       "      <td>2ndFlrSF</td>\n",
       "      <td>0.033301</td>\n",
       "    </tr>\n",
       "    <tr>\n",
       "      <th>73</th>\n",
       "      <td>YearRemodAdd</td>\n",
       "      <td>0.030025</td>\n",
       "    </tr>\n",
       "    <tr>\n",
       "      <th>35</th>\n",
       "      <td>GarageYrBlt</td>\n",
       "      <td>0.022631</td>\n",
       "    </tr>\n",
       "    <tr>\n",
       "      <th>72</th>\n",
       "      <td>YearBuilt</td>\n",
       "      <td>0.021834</td>\n",
       "    </tr>\n",
       "    <tr>\n",
       "      <th>55</th>\n",
       "      <td>MoSold</td>\n",
       "      <td>0.021531</td>\n",
       "    </tr>\n",
       "    <tr>\n",
       "      <th>56</th>\n",
       "      <td>Neighborhood</td>\n",
       "      <td>0.020084</td>\n",
       "    </tr>\n",
       "    <tr>\n",
       "      <th>74</th>\n",
       "      <td>YrSold</td>\n",
       "      <td>0.014844</td>\n",
       "    </tr>\n",
       "    <tr>\n",
       "      <th>23</th>\n",
       "      <td>Exterior2nd</td>\n",
       "      <td>0.011018</td>\n",
       "    </tr>\n",
       "    <tr>\n",
       "      <th>59</th>\n",
       "      <td>OverallQual</td>\n",
       "      <td>0.009290</td>\n",
       "    </tr>\n",
       "    <tr>\n",
       "      <th>9</th>\n",
       "      <td>BsmtFinType1</td>\n",
       "      <td>0.009010</td>\n",
       "    </tr>\n",
       "    <tr>\n",
       "      <th>39</th>\n",
       "      <td>HeatingQC</td>\n",
       "      <td>0.008639</td>\n",
       "    </tr>\n",
       "    <tr>\n",
       "      <th>24</th>\n",
       "      <td>FireplaceQu</td>\n",
       "      <td>0.008303</td>\n",
       "    </tr>\n",
       "    <tr>\n",
       "      <th>68</th>\n",
       "      <td>TotRmsAbvGrd</td>\n",
       "      <td>0.007921</td>\n",
       "    </tr>\n",
       "    <tr>\n",
       "      <th>22</th>\n",
       "      <td>Exterior1st</td>\n",
       "      <td>0.007630</td>\n",
       "    </tr>\n",
       "    <tr>\n",
       "      <th>50</th>\n",
       "      <td>MSSubClass</td>\n",
       "      <td>0.007551</td>\n",
       "    </tr>\n",
       "    <tr>\n",
       "      <th>32</th>\n",
       "      <td>GarageFinish</td>\n",
       "      <td>0.007428</td>\n",
       "    </tr>\n",
       "    <tr>\n",
       "      <th>6</th>\n",
       "      <td>BsmtExposure</td>\n",
       "      <td>0.006878</td>\n",
       "    </tr>\n",
       "    <tr>\n",
       "      <th>48</th>\n",
       "      <td>LotShape</td>\n",
       "      <td>0.006777</td>\n",
       "    </tr>\n",
       "    <tr>\n",
       "      <th>58</th>\n",
       "      <td>OverallCond</td>\n",
       "      <td>0.005352</td>\n",
       "    </tr>\n",
       "    <tr>\n",
       "      <th>...</th>\n",
       "      <td>...</td>\n",
       "      <td>...</td>\n",
       "    </tr>\n",
       "    <tr>\n",
       "      <th>51</th>\n",
       "      <td>MSZoning</td>\n",
       "      <td>0.001907</td>\n",
       "    </tr>\n",
       "    <tr>\n",
       "      <th>20</th>\n",
       "      <td>ExterCond</td>\n",
       "      <td>0.001627</td>\n",
       "    </tr>\n",
       "    <tr>\n",
       "      <th>66</th>\n",
       "      <td>ScreenPorch</td>\n",
       "      <td>0.001582</td>\n",
       "    </tr>\n",
       "    <tr>\n",
       "      <th>64</th>\n",
       "      <td>SaleCondition</td>\n",
       "      <td>0.001470</td>\n",
       "    </tr>\n",
       "    <tr>\n",
       "      <th>30</th>\n",
       "      <td>GarageCars</td>\n",
       "      <td>0.001447</td>\n",
       "    </tr>\n",
       "    <tr>\n",
       "      <th>16</th>\n",
       "      <td>Condition1</td>\n",
       "      <td>0.001358</td>\n",
       "    </tr>\n",
       "    <tr>\n",
       "      <th>18</th>\n",
       "      <td>Electrical</td>\n",
       "      <td>0.001178</td>\n",
       "    </tr>\n",
       "    <tr>\n",
       "      <th>25</th>\n",
       "      <td>Fireplaces</td>\n",
       "      <td>0.001032</td>\n",
       "    </tr>\n",
       "    <tr>\n",
       "      <th>28</th>\n",
       "      <td>Functional</td>\n",
       "      <td>0.000987</td>\n",
       "    </tr>\n",
       "    <tr>\n",
       "      <th>65</th>\n",
       "      <td>SaleType</td>\n",
       "      <td>0.000942</td>\n",
       "    </tr>\n",
       "    <tr>\n",
       "      <th>4</th>\n",
       "      <td>BldgType</td>\n",
       "      <td>0.000931</td>\n",
       "    </tr>\n",
       "    <tr>\n",
       "      <th>43</th>\n",
       "      <td>LandContour</td>\n",
       "      <td>0.000741</td>\n",
       "    </tr>\n",
       "    <tr>\n",
       "      <th>5</th>\n",
       "      <td>BsmtCond</td>\n",
       "      <td>0.000617</td>\n",
       "    </tr>\n",
       "    <tr>\n",
       "      <th>31</th>\n",
       "      <td>GarageCond</td>\n",
       "      <td>0.000595</td>\n",
       "    </tr>\n",
       "    <tr>\n",
       "      <th>44</th>\n",
       "      <td>LandSlope</td>\n",
       "      <td>0.000561</td>\n",
       "    </tr>\n",
       "    <tr>\n",
       "      <th>12</th>\n",
       "      <td>BsmtHalfBath</td>\n",
       "      <td>0.000561</td>\n",
       "    </tr>\n",
       "    <tr>\n",
       "      <th>10</th>\n",
       "      <td>BsmtFinType2</td>\n",
       "      <td>0.000494</td>\n",
       "    </tr>\n",
       "    <tr>\n",
       "      <th>2</th>\n",
       "      <td>3SsnPorch</td>\n",
       "      <td>0.000471</td>\n",
       "    </tr>\n",
       "    <tr>\n",
       "      <th>15</th>\n",
       "      <td>CentralAir</td>\n",
       "      <td>0.000359</td>\n",
       "    </tr>\n",
       "    <tr>\n",
       "      <th>54</th>\n",
       "      <td>MiscVal</td>\n",
       "      <td>0.000348</td>\n",
       "    </tr>\n",
       "    <tr>\n",
       "      <th>60</th>\n",
       "      <td>PavedDrive</td>\n",
       "      <td>0.000337</td>\n",
       "    </tr>\n",
       "    <tr>\n",
       "      <th>33</th>\n",
       "      <td>GarageQual</td>\n",
       "      <td>0.000269</td>\n",
       "    </tr>\n",
       "    <tr>\n",
       "      <th>62</th>\n",
       "      <td>RoofMatl</td>\n",
       "      <td>0.000236</td>\n",
       "    </tr>\n",
       "    <tr>\n",
       "      <th>49</th>\n",
       "      <td>LowQualFinSF</td>\n",
       "      <td>0.000000</td>\n",
       "    </tr>\n",
       "    <tr>\n",
       "      <th>67</th>\n",
       "      <td>Street</td>\n",
       "      <td>0.000000</td>\n",
       "    </tr>\n",
       "    <tr>\n",
       "      <th>61</th>\n",
       "      <td>PoolArea</td>\n",
       "      <td>0.000000</td>\n",
       "    </tr>\n",
       "    <tr>\n",
       "      <th>70</th>\n",
       "      <td>Utilities</td>\n",
       "      <td>0.000000</td>\n",
       "    </tr>\n",
       "    <tr>\n",
       "      <th>38</th>\n",
       "      <td>Heating</td>\n",
       "      <td>0.000000</td>\n",
       "    </tr>\n",
       "    <tr>\n",
       "      <th>17</th>\n",
       "      <td>Condition2</td>\n",
       "      <td>0.000000</td>\n",
       "    </tr>\n",
       "    <tr>\n",
       "      <th>41</th>\n",
       "      <td>KitchenAbvGr</td>\n",
       "      <td>0.000000</td>\n",
       "    </tr>\n",
       "  </tbody>\n",
       "</table>\n",
       "<p>75 rows × 2 columns</p>\n",
       "</div>"
      ],
      "text/plain": [
       "          Feature  Feature_Importance\n",
       "45        LotArea            0.096424\n",
       "36      GrLivArea            0.091588\n",
       "14      BsmtUnfSF            0.087729\n",
       "29     GarageArea            0.065379\n",
       "0        1stFlrSF            0.064919\n",
       "69    TotalBsmtSF            0.061878\n",
       "7      BsmtFinSF1            0.058131\n",
       "57    OpenPorchSF            0.037834\n",
       "52     MasVnrArea            0.037721\n",
       "71     WoodDeckSF            0.036207\n",
       "47    LotFrontage            0.034849\n",
       "1        2ndFlrSF            0.033301\n",
       "73   YearRemodAdd            0.030025\n",
       "35    GarageYrBlt            0.022631\n",
       "72      YearBuilt            0.021834\n",
       "55         MoSold            0.021531\n",
       "56   Neighborhood            0.020084\n",
       "74         YrSold            0.014844\n",
       "23    Exterior2nd            0.011018\n",
       "59    OverallQual            0.009290\n",
       "9    BsmtFinType1            0.009010\n",
       "39      HeatingQC            0.008639\n",
       "24    FireplaceQu            0.008303\n",
       "68   TotRmsAbvGrd            0.007921\n",
       "22    Exterior1st            0.007630\n",
       "50     MSSubClass            0.007551\n",
       "32   GarageFinish            0.007428\n",
       "6    BsmtExposure            0.006878\n",
       "48       LotShape            0.006777\n",
       "58    OverallCond            0.005352\n",
       "..            ...                 ...\n",
       "51       MSZoning            0.001907\n",
       "20      ExterCond            0.001627\n",
       "66    ScreenPorch            0.001582\n",
       "64  SaleCondition            0.001470\n",
       "30     GarageCars            0.001447\n",
       "16     Condition1            0.001358\n",
       "18     Electrical            0.001178\n",
       "25     Fireplaces            0.001032\n",
       "28     Functional            0.000987\n",
       "65       SaleType            0.000942\n",
       "4        BldgType            0.000931\n",
       "43    LandContour            0.000741\n",
       "5        BsmtCond            0.000617\n",
       "31     GarageCond            0.000595\n",
       "44      LandSlope            0.000561\n",
       "12   BsmtHalfBath            0.000561\n",
       "10   BsmtFinType2            0.000494\n",
       "2       3SsnPorch            0.000471\n",
       "15     CentralAir            0.000359\n",
       "54        MiscVal            0.000348\n",
       "60     PavedDrive            0.000337\n",
       "33     GarageQual            0.000269\n",
       "62       RoofMatl            0.000236\n",
       "49   LowQualFinSF            0.000000\n",
       "67         Street            0.000000\n",
       "61       PoolArea            0.000000\n",
       "70      Utilities            0.000000\n",
       "38        Heating            0.000000\n",
       "17     Condition2            0.000000\n",
       "41   KitchenAbvGr            0.000000\n",
       "\n",
       "[75 rows x 2 columns]"
      ]
     },
     "execution_count": 106,
     "metadata": {},
     "output_type": "execute_result"
    }
   ],
   "source": [
    "df_XG"
   ]
  },
  {
   "cell_type": "code",
   "execution_count": 107,
   "metadata": {},
   "outputs": [],
   "source": [
    "feature_col_XG=df_XG['Feature'][:12].values"
   ]
  },
  {
   "cell_type": "code",
   "execution_count": 108,
   "metadata": {},
   "outputs": [
    {
     "data": {
      "text/plain": [
       "array(['LotArea', 'GrLivArea', 'BsmtUnfSF', 'GarageArea', '1stFlrSF',\n",
       "       'TotalBsmtSF', 'BsmtFinSF1', 'OpenPorchSF', 'MasVnrArea',\n",
       "       'WoodDeckSF', 'LotFrontage', '2ndFlrSF'], dtype=object)"
      ]
     },
     "execution_count": 108,
     "metadata": {},
     "output_type": "execute_result"
    }
   ],
   "source": [
    "feature_col_XG"
   ]
  },
  {
   "cell_type": "markdown",
   "metadata": {},
   "source": [
    "### Using the new selected features in the 6 models again."
   ]
  },
  {
   "cell_type": "code",
   "execution_count": 109,
   "metadata": {},
   "outputs": [],
   "source": [
    "X=df_out[feature_col_XG]\n",
    "y=np.log(df_out[['SalePrice']])"
   ]
  },
  {
   "cell_type": "code",
   "execution_count": 110,
   "metadata": {},
   "outputs": [
    {
     "data": {
      "text/plain": [
       "array(['LotArea', 'GrLivArea', 'BsmtUnfSF', 'GarageArea', '1stFlrSF',\n",
       "       'TotalBsmtSF', 'BsmtFinSF1', 'OpenPorchSF', 'MasVnrArea',\n",
       "       'WoodDeckSF', 'LotFrontage', '2ndFlrSF'], dtype=object)"
      ]
     },
     "execution_count": 110,
     "metadata": {},
     "output_type": "execute_result"
    }
   ],
   "source": [
    "feature_col_XG"
   ]
  },
  {
   "cell_type": "markdown",
   "metadata": {},
   "source": [
    "### Split the data to train and test dataset"
   ]
  },
  {
   "cell_type": "code",
   "execution_count": 111,
   "metadata": {},
   "outputs": [],
   "source": [
    "x_train, x_test, y_train, y_test = train_test_split(X, y, test_size=0.1, random_state=200)"
   ]
  },
  {
   "cell_type": "markdown",
   "metadata": {},
   "source": [
    "### Ridge Regression"
   ]
  },
  {
   "cell_type": "code",
   "execution_count": 112,
   "metadata": {},
   "outputs": [
    {
     "data": {
      "text/plain": [
       "2.629600867663847"
      ]
     },
     "execution_count": 112,
     "metadata": {},
     "output_type": "execute_result"
    }
   ],
   "source": [
    "from sklearn.linear_model import Ridge\n",
    "RR=Ridge(alpha=10,fit_intercept=False)\n",
    "RR_fit=RR.fit(x_train,y_train)\n",
    "y_pred=RR_fit.predict(x_train)\n",
    "np.sqrt(mean_squared_error(y_pred,y_train))"
   ]
  },
  {
   "cell_type": "code",
   "execution_count": 113,
   "metadata": {},
   "outputs": [
    {
     "data": {
      "text/plain": [
       "3.811703670145779"
      ]
     },
     "execution_count": 113,
     "metadata": {},
     "output_type": "execute_result"
    }
   ],
   "source": [
    "y_pred=RR_fit.predict(x_test)\n",
    "np.sqrt(mean_squared_error(y_pred,y_test))"
   ]
  },
  {
   "cell_type": "markdown",
   "metadata": {},
   "source": [
    "### Lasso Regression"
   ]
  },
  {
   "cell_type": "code",
   "execution_count": 114,
   "metadata": {},
   "outputs": [
    {
     "data": {
      "text/plain": [
       "2.652560274456522"
      ]
     },
     "execution_count": 114,
     "metadata": {},
     "output_type": "execute_result"
    }
   ],
   "source": [
    "from sklearn.linear_model import Lasso\n",
    "LR=Lasso(alpha=10,fit_intercept=False)\n",
    "LR_fit=LR.fit(x_train,y_train)\n",
    "y_pred=LR_fit.predict(x_train)\n",
    "np.sqrt(mean_squared_error(y_pred,y_train))"
   ]
  },
  {
   "cell_type": "code",
   "execution_count": 115,
   "metadata": {},
   "outputs": [
    {
     "data": {
      "text/plain": [
       "3.757419116649446"
      ]
     },
     "execution_count": 115,
     "metadata": {},
     "output_type": "execute_result"
    }
   ],
   "source": [
    "y_pred=LR_fit.predict(x_test)\n",
    "np.sqrt(mean_squared_error(y_pred,y_test))"
   ]
  },
  {
   "cell_type": "markdown",
   "metadata": {},
   "source": [
    "### Elastic Net Model"
   ]
  },
  {
   "cell_type": "code",
   "execution_count": 116,
   "metadata": {},
   "outputs": [],
   "source": [
    "from sklearn.linear_model import ElasticNetCV\n",
    "EN = ElasticNetCV(alphas=[0.0001, 0.0005, 0.001, 0.01, 0.1, 1, 10], \n",
    "                       l1_ratio=[.01, .1, .5, .9, .99], max_iter=5000)\n",
    "EN_fit=EN.fit(x_train, y_train)"
   ]
  },
  {
   "cell_type": "code",
   "execution_count": 117,
   "metadata": {},
   "outputs": [
    {
     "data": {
      "text/plain": [
       "0.20097660980067533"
      ]
     },
     "execution_count": 117,
     "metadata": {},
     "output_type": "execute_result"
    }
   ],
   "source": [
    "y_pred=EN_fit.predict(x_train)\n",
    "np.sqrt(mean_squared_error(y_pred,y_train))"
   ]
  },
  {
   "cell_type": "code",
   "execution_count": 118,
   "metadata": {},
   "outputs": [
    {
     "data": {
      "text/plain": [
       "0.37201606909663565"
      ]
     },
     "execution_count": 118,
     "metadata": {},
     "output_type": "execute_result"
    }
   ],
   "source": [
    "y_pred=EN_fit.predict(x_test)\n",
    "np.sqrt(mean_squared_error(y_pred,y_test))"
   ]
  },
  {
   "cell_type": "markdown",
   "metadata": {},
   "source": [
    "### Decision Tree Model"
   ]
  },
  {
   "cell_type": "code",
   "execution_count": 119,
   "metadata": {},
   "outputs": [],
   "source": [
    "from sklearn.tree import DecisionTreeRegressor\n",
    "DT=DecisionTreeRegressor()\n",
    "DT_fit=DT.fit(x_train,y_train)"
   ]
  },
  {
   "cell_type": "code",
   "execution_count": 120,
   "metadata": {},
   "outputs": [
    {
     "data": {
      "text/plain": [
       "0.0020953788322777955"
      ]
     },
     "execution_count": 120,
     "metadata": {},
     "output_type": "execute_result"
    }
   ],
   "source": [
    "y_pred=DT_fit.predict(x_train)\n",
    "np.sqrt(mean_squared_error(y_pred,y_train))"
   ]
  },
  {
   "cell_type": "code",
   "execution_count": 121,
   "metadata": {},
   "outputs": [
    {
     "data": {
      "text/plain": [
       "0.26602585484348545"
      ]
     },
     "execution_count": 121,
     "metadata": {},
     "output_type": "execute_result"
    }
   ],
   "source": [
    "y_pred=DT_fit.predict(x_test)\n",
    "np.sqrt(mean_squared_error(y_pred,y_test))"
   ]
  },
  {
   "cell_type": "markdown",
   "metadata": {},
   "source": [
    "### Random Forest Model"
   ]
  },
  {
   "cell_type": "code",
   "execution_count": 122,
   "metadata": {},
   "outputs": [],
   "source": [
    "RF = ensemble.RandomForestRegressor(n_estimators=100, random_state=0)\n",
    "RF_fit=RF.fit(x_train, y_train)"
   ]
  },
  {
   "cell_type": "code",
   "execution_count": 123,
   "metadata": {},
   "outputs": [
    {
     "data": {
      "text/plain": [
       "0.06764442155124281"
      ]
     },
     "execution_count": 123,
     "metadata": {},
     "output_type": "execute_result"
    }
   ],
   "source": [
    "y_pred=RF_fit.predict(x_train)\n",
    "np.sqrt(mean_squared_error(y_pred,y_train))"
   ]
  },
  {
   "cell_type": "code",
   "execution_count": 124,
   "metadata": {},
   "outputs": [
    {
     "data": {
      "text/plain": [
       "0.17935936310778064"
      ]
     },
     "execution_count": 124,
     "metadata": {},
     "output_type": "execute_result"
    }
   ],
   "source": [
    "y_pred=RF_fit.predict(x_test)\n",
    "np.sqrt(mean_squared_error(y_pred,y_test))"
   ]
  },
  {
   "cell_type": "markdown",
   "metadata": {},
   "source": [
    "### XGBoost Model"
   ]
  },
  {
   "cell_type": "code",
   "execution_count": 125,
   "metadata": {},
   "outputs": [],
   "source": [
    "XG = ensemble.GradientBoostingRegressor(loss='huber', learning_rate=0.05, n_estimators=3000, max_depth=10, \n",
    "                                  max_features='sqrt', min_samples_leaf=15, \n",
    "                                  min_samples_split=10)\n",
    "XG_fit=XG.fit(x_train, y_train)"
   ]
  },
  {
   "cell_type": "code",
   "execution_count": 126,
   "metadata": {},
   "outputs": [
    {
     "data": {
      "text/plain": [
       "0.04932978674320244"
      ]
     },
     "execution_count": 126,
     "metadata": {},
     "output_type": "execute_result"
    }
   ],
   "source": [
    "y_pred=XG_fit.predict(x_train)\n",
    "np.sqrt(mean_squared_error(y_pred,y_train))"
   ]
  },
  {
   "cell_type": "code",
   "execution_count": 127,
   "metadata": {},
   "outputs": [
    {
     "data": {
      "text/plain": [
       "0.17843435128384175"
      ]
     },
     "execution_count": 127,
     "metadata": {},
     "output_type": "execute_result"
    }
   ],
   "source": [
    "y_pred=XG_fit.predict(x_test)\n",
    "np.sqrt(mean_squared_error(y_pred,y_test))"
   ]
  },
  {
   "cell_type": "code",
   "execution_count": null,
   "metadata": {},
   "outputs": [],
   "source": []
  }
 ],
 "metadata": {
  "kernelspec": {
   "display_name": "Python 3",
   "language": "python",
   "name": "python3"
  },
  "language_info": {
   "codemirror_mode": {
    "name": "ipython",
    "version": 3
   },
   "file_extension": ".py",
   "mimetype": "text/x-python",
   "name": "python",
   "nbconvert_exporter": "python",
   "pygments_lexer": "ipython3",
   "version": "3.7.0"
  }
 },
 "nbformat": 4,
 "nbformat_minor": 2
}
