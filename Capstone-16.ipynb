{
 "cells": [
  {
   "cell_type": "markdown",
   "metadata": {},
   "source": [
    "- 1stFlrSF:\t First Floor square feet\n",
    "- 2ndFlrSF:\t Second floor square feet\n",
    "- 3SsnPorch:\t Three season porch area in square feet\n",
    "- Alley:\t Type of alley access\n",
    "- Bedroom:\t Number of bedrooms above basement level\n",
    "- BldgType:\t Type of dwelling\n",
    "- BsmtCond:\t General condition of the basement\n",
    "- BsmtExposure:\t Walkout or garden level basement walls\n",
    "- BsmtFinSF1:\t Type 1 finished square feet\n",
    "- BsmtFinSF2:\t Type 2 finished square feet\n",
    "- BsmtFinType1:\t Quality of basement finished area\n",
    "- BsmtFinType2:\t Quality of second finished area (if present)\n",
    "- BsmtFullBath:\t Basement full bathrooms\n",
    "- BsmtHalfBath:\t Basement half bathrooms\n",
    "- BsmtQual:\t Height of the basement\n",
    "- BsmtUnfSF:\t Unfinished square feet of basement area\n",
    "- CentralAir:\t Central air conditioning\n",
    "- Condition1:\t Proximity to main road or railroad\n",
    "- Condition2:\t Proximity to main road or railroad (if a second is present)\n",
    "- Electrical:\t Electrical system\n",
    "- EnclosedPorch:\t Enclosed porch area in square feet\n",
    "- ExterCond:\t Present condition of the material on the exterior\n",
    "- Exterior1st:\t Exterior covering on house\n",
    "- Exterior2nd:\t Exterior covering on house (if more than one material)\n",
    "- ExterQual:\t Exterior material quality\n",
    "- Fence:\t Fence quality\n",
    "- FireplaceQu:\t Fireplace quality\n",
    "- Fireplaces:\t Number of fireplaces\n",
    "- Foundation:\t Type of foundation\n",
    "- FullBath:\t Full bathrooms above grade\n",
    "- Functional:\t Home functionality rating\n",
    "- GarageArea:\t Size of garage in square feet\n",
    "- GarageCars:\t Size of garage in car capacity\n",
    "- GarageCond:\t Garage condition\n",
    "- GarageFinish:\t Interior finish of the garage\n",
    "- GarageQual:\t Garage quality\n",
    "- GarageType:\t Garage location\n",
    "- GarageYrBlt:\t Year garage was built\n",
    "- GrLivArea:\t Above grade (ground) living area square feet\n",
    "- HalfBath:\t Half baths above grade\n",
    "- - Heating:\t Type of heating\n",
    "- HeatingQC:\t Heating quality and condition\n",
    "- HouseStyle:\t Style of dwelling\n",
    "- Id:\tObservation Id\n",
    "- Kitchen:\t Number of kitchens\n",
    "- KitchenQual:\t Kitchen quality\n",
    "- LandContour:\t Flatness of the property\n",
    "- LandSlope:\t Slope of property\n",
    "- LotArea:\t Lot size in square feet\n",
    "- LotConfig:\t Lot configuration\n",
    "- LotFrontage:\t Linear feet of street connected to property\n",
    "- LotShape:\t General shape of property\n",
    "- LowQualFinSF:\t Low quality finished square feet (all floors)\n",
    "- MasVnrArea:\t Masonry veneer area in square feet\n",
    "- MasVnrType:\t Masonry veneer type\n",
    "- MiscFeature:\t Miscellaneous feature not covered in other categories\n",
    "- MiscVal:\t $Value of miscellaneous feature\n",
    "- MoSold:\t Month Sold\n",
    "- MSSubClass:\t The building class\n",
    "- MSZoning:\t The general zoning classification\n",
    "- Neighborhood:\t Physical locations within Ames city limits\n",
    "- OpenPorchSF:\t Open porch area in square feet\n",
    "- OverallCond:\t Overall condition rating\n",
    "- OverallQual:\t Overall material and finish quality\n",
    "- PavedDrive:\t Paved driveway\n",
    "- PoolArea:\t Pool area in square feet\n",
    "- PoolQC:\t Pool quality\n",
    "- RoofMatl:\t Roof material\n",
    "- RoofStyle:\t Type of roof\n",
    "- SaleCondition:\t Condition of sale\n",
    "- SalePrice:\t the property's sale price in dollars. This is the target variable that you're trying to predict.\n",
    "- SaleType:\t Type of sale\n",
    "- ScreenPorch:\t Screen porch area in square feet\n",
    "- Street:\t Type of road access\n",
    "- TotalBsmtSF:\t Total square feet of basement area\n",
    "- TotRmsAbvGrd:\t Total rooms above grade (does not include bathrooms)\n",
    "- Utilities:\t Type of utilities available\n",
    "- WoodDeckSF:\t Wood deck area in square feet\n",
    "- YearBuilt:\t Original construction date\n",
    "- YearRemodAdd:\t Remodel date\n",
    "- YrSold:\t Year Sold\n"
   ]
  },
  {
   "cell_type": "code",
   "execution_count": 1,
   "metadata": {},
   "outputs": [],
   "source": [
    "import pandas as pd\n",
    "import numpy as np\n",
    "import matplotlib.pyplot as plt\n",
    "%matplotlib inline\n",
    "import seaborn as sns\n",
    "\n",
    "from scipy import stats\n",
    "from scipy.stats import norm\n",
    "\n",
    "\n",
    "from sklearn.preprocessing import StandardScaler\n",
    "from sklearn import ensemble, tree, linear_model\n",
    "from sklearn.metrics import r2_score, mean_squared_error\n",
    "from sklearn.utils import shuffle\n",
    "from sklearn.model_selection import train_test_split, cross_val_score\n",
    "\n",
    "\n",
    "\n",
    "import warnings\n",
    "warnings.filterwarnings('ignore')"
   ]
  },
  {
   "cell_type": "code",
   "execution_count": 2,
   "metadata": {},
   "outputs": [],
   "source": [
    "df=pd.read_csv('train.csv')"
   ]
  },
  {
   "cell_type": "code",
   "execution_count": 3,
   "metadata": {
    "scrolled": true
   },
   "outputs": [
    {
     "data": {
      "text/html": [
       "<div>\n",
       "<style scoped>\n",
       "    .dataframe tbody tr th:only-of-type {\n",
       "        vertical-align: middle;\n",
       "    }\n",
       "\n",
       "    .dataframe tbody tr th {\n",
       "        vertical-align: top;\n",
       "    }\n",
       "\n",
       "    .dataframe thead th {\n",
       "        text-align: right;\n",
       "    }\n",
       "</style>\n",
       "<table border=\"1\" class=\"dataframe\">\n",
       "  <thead>\n",
       "    <tr style=\"text-align: right;\">\n",
       "      <th></th>\n",
       "      <th>1stFlrSF</th>\n",
       "      <th>2ndFlrSF</th>\n",
       "      <th>3SsnPorch</th>\n",
       "      <th>Alley</th>\n",
       "      <th>BedroomAbvGr</th>\n",
       "      <th>BldgType</th>\n",
       "      <th>BsmtCond</th>\n",
       "      <th>BsmtExposure</th>\n",
       "      <th>BsmtFinSF1</th>\n",
       "      <th>BsmtFinSF2</th>\n",
       "      <th>BsmtFinType1</th>\n",
       "      <th>BsmtFinType2</th>\n",
       "      <th>BsmtFullBath</th>\n",
       "      <th>BsmtHalfBath</th>\n",
       "      <th>BsmtQual</th>\n",
       "      <th>BsmtUnfSF</th>\n",
       "      <th>CentralAir</th>\n",
       "      <th>Condition1</th>\n",
       "      <th>Condition2</th>\n",
       "      <th>Electrical</th>\n",
       "      <th>EnclosedPorch</th>\n",
       "      <th>ExterCond</th>\n",
       "      <th>ExterQual</th>\n",
       "      <th>Exterior1st</th>\n",
       "      <th>Exterior2nd</th>\n",
       "      <th>Fence</th>\n",
       "      <th>FireplaceQu</th>\n",
       "      <th>Fireplaces</th>\n",
       "      <th>Foundation</th>\n",
       "      <th>FullBath</th>\n",
       "      <th>Functional</th>\n",
       "      <th>GarageArea</th>\n",
       "      <th>GarageCars</th>\n",
       "      <th>GarageCond</th>\n",
       "      <th>GarageFinish</th>\n",
       "      <th>GarageQual</th>\n",
       "      <th>GarageType</th>\n",
       "      <th>GarageYrBlt</th>\n",
       "      <th>GrLivArea</th>\n",
       "      <th>HalfBath</th>\n",
       "      <th>Heating</th>\n",
       "      <th>HeatingQC</th>\n",
       "      <th>HouseStyle</th>\n",
       "      <th>Id</th>\n",
       "      <th>KitchenAbvGr</th>\n",
       "      <th>KitchenQual</th>\n",
       "      <th>LandContour</th>\n",
       "      <th>LandSlope</th>\n",
       "      <th>LotArea</th>\n",
       "      <th>LotConfig</th>\n",
       "      <th>LotFrontage</th>\n",
       "      <th>LotShape</th>\n",
       "      <th>LowQualFinSF</th>\n",
       "      <th>MSSubClass</th>\n",
       "      <th>MSZoning</th>\n",
       "      <th>MasVnrArea</th>\n",
       "      <th>MasVnrType</th>\n",
       "      <th>MiscFeature</th>\n",
       "      <th>MiscVal</th>\n",
       "      <th>MoSold</th>\n",
       "      <th>Neighborhood</th>\n",
       "      <th>OpenPorchSF</th>\n",
       "      <th>OverallCond</th>\n",
       "      <th>OverallQual</th>\n",
       "      <th>PavedDrive</th>\n",
       "      <th>PoolArea</th>\n",
       "      <th>PoolQC</th>\n",
       "      <th>RoofMatl</th>\n",
       "      <th>RoofStyle</th>\n",
       "      <th>SaleCondition</th>\n",
       "      <th>SalePrice</th>\n",
       "      <th>SaleType</th>\n",
       "      <th>ScreenPorch</th>\n",
       "      <th>Street</th>\n",
       "      <th>TotRmsAbvGrd</th>\n",
       "      <th>TotalBsmtSF</th>\n",
       "      <th>Utilities</th>\n",
       "      <th>WoodDeckSF</th>\n",
       "      <th>YearBuilt</th>\n",
       "      <th>YearRemodAdd</th>\n",
       "      <th>YrSold</th>\n",
       "    </tr>\n",
       "  </thead>\n",
       "  <tbody>\n",
       "    <tr>\n",
       "      <th>0</th>\n",
       "      <td>856</td>\n",
       "      <td>854</td>\n",
       "      <td>0</td>\n",
       "      <td>NaN</td>\n",
       "      <td>3</td>\n",
       "      <td>1Fam</td>\n",
       "      <td>TA</td>\n",
       "      <td>No</td>\n",
       "      <td>706</td>\n",
       "      <td>0</td>\n",
       "      <td>GLQ</td>\n",
       "      <td>Unf</td>\n",
       "      <td>1</td>\n",
       "      <td>0</td>\n",
       "      <td>Gd</td>\n",
       "      <td>150</td>\n",
       "      <td>Y</td>\n",
       "      <td>Norm</td>\n",
       "      <td>Norm</td>\n",
       "      <td>SBrkr</td>\n",
       "      <td>0</td>\n",
       "      <td>TA</td>\n",
       "      <td>Gd</td>\n",
       "      <td>VinylSd</td>\n",
       "      <td>VinylSd</td>\n",
       "      <td>NaN</td>\n",
       "      <td>NaN</td>\n",
       "      <td>0</td>\n",
       "      <td>PConc</td>\n",
       "      <td>2</td>\n",
       "      <td>Typ</td>\n",
       "      <td>548</td>\n",
       "      <td>2</td>\n",
       "      <td>TA</td>\n",
       "      <td>RFn</td>\n",
       "      <td>TA</td>\n",
       "      <td>Attchd</td>\n",
       "      <td>2003.0</td>\n",
       "      <td>1710</td>\n",
       "      <td>1</td>\n",
       "      <td>GasA</td>\n",
       "      <td>Ex</td>\n",
       "      <td>2Story</td>\n",
       "      <td>1</td>\n",
       "      <td>1</td>\n",
       "      <td>Gd</td>\n",
       "      <td>Lvl</td>\n",
       "      <td>Gtl</td>\n",
       "      <td>8450</td>\n",
       "      <td>Inside</td>\n",
       "      <td>65.0</td>\n",
       "      <td>Reg</td>\n",
       "      <td>0</td>\n",
       "      <td>60</td>\n",
       "      <td>RL</td>\n",
       "      <td>196.0</td>\n",
       "      <td>BrkFace</td>\n",
       "      <td>NaN</td>\n",
       "      <td>0</td>\n",
       "      <td>2</td>\n",
       "      <td>CollgCr</td>\n",
       "      <td>61</td>\n",
       "      <td>5</td>\n",
       "      <td>7</td>\n",
       "      <td>Y</td>\n",
       "      <td>0</td>\n",
       "      <td>NaN</td>\n",
       "      <td>CompShg</td>\n",
       "      <td>Gable</td>\n",
       "      <td>Normal</td>\n",
       "      <td>208500</td>\n",
       "      <td>WD</td>\n",
       "      <td>0</td>\n",
       "      <td>Pave</td>\n",
       "      <td>8</td>\n",
       "      <td>856</td>\n",
       "      <td>AllPub</td>\n",
       "      <td>0</td>\n",
       "      <td>2003</td>\n",
       "      <td>2003</td>\n",
       "      <td>2008</td>\n",
       "    </tr>\n",
       "    <tr>\n",
       "      <th>1</th>\n",
       "      <td>1262</td>\n",
       "      <td>0</td>\n",
       "      <td>0</td>\n",
       "      <td>NaN</td>\n",
       "      <td>3</td>\n",
       "      <td>1Fam</td>\n",
       "      <td>TA</td>\n",
       "      <td>Gd</td>\n",
       "      <td>978</td>\n",
       "      <td>0</td>\n",
       "      <td>ALQ</td>\n",
       "      <td>Unf</td>\n",
       "      <td>0</td>\n",
       "      <td>1</td>\n",
       "      <td>Gd</td>\n",
       "      <td>284</td>\n",
       "      <td>Y</td>\n",
       "      <td>Feedr</td>\n",
       "      <td>Norm</td>\n",
       "      <td>SBrkr</td>\n",
       "      <td>0</td>\n",
       "      <td>TA</td>\n",
       "      <td>TA</td>\n",
       "      <td>MetalSd</td>\n",
       "      <td>MetalSd</td>\n",
       "      <td>NaN</td>\n",
       "      <td>TA</td>\n",
       "      <td>1</td>\n",
       "      <td>CBlock</td>\n",
       "      <td>2</td>\n",
       "      <td>Typ</td>\n",
       "      <td>460</td>\n",
       "      <td>2</td>\n",
       "      <td>TA</td>\n",
       "      <td>RFn</td>\n",
       "      <td>TA</td>\n",
       "      <td>Attchd</td>\n",
       "      <td>1976.0</td>\n",
       "      <td>1262</td>\n",
       "      <td>0</td>\n",
       "      <td>GasA</td>\n",
       "      <td>Ex</td>\n",
       "      <td>1Story</td>\n",
       "      <td>2</td>\n",
       "      <td>1</td>\n",
       "      <td>TA</td>\n",
       "      <td>Lvl</td>\n",
       "      <td>Gtl</td>\n",
       "      <td>9600</td>\n",
       "      <td>FR2</td>\n",
       "      <td>80.0</td>\n",
       "      <td>Reg</td>\n",
       "      <td>0</td>\n",
       "      <td>20</td>\n",
       "      <td>RL</td>\n",
       "      <td>0.0</td>\n",
       "      <td>None</td>\n",
       "      <td>NaN</td>\n",
       "      <td>0</td>\n",
       "      <td>5</td>\n",
       "      <td>Veenker</td>\n",
       "      <td>0</td>\n",
       "      <td>8</td>\n",
       "      <td>6</td>\n",
       "      <td>Y</td>\n",
       "      <td>0</td>\n",
       "      <td>NaN</td>\n",
       "      <td>CompShg</td>\n",
       "      <td>Gable</td>\n",
       "      <td>Normal</td>\n",
       "      <td>181500</td>\n",
       "      <td>WD</td>\n",
       "      <td>0</td>\n",
       "      <td>Pave</td>\n",
       "      <td>6</td>\n",
       "      <td>1262</td>\n",
       "      <td>AllPub</td>\n",
       "      <td>298</td>\n",
       "      <td>1976</td>\n",
       "      <td>1976</td>\n",
       "      <td>2007</td>\n",
       "    </tr>\n",
       "    <tr>\n",
       "      <th>2</th>\n",
       "      <td>920</td>\n",
       "      <td>866</td>\n",
       "      <td>0</td>\n",
       "      <td>NaN</td>\n",
       "      <td>3</td>\n",
       "      <td>1Fam</td>\n",
       "      <td>TA</td>\n",
       "      <td>Mn</td>\n",
       "      <td>486</td>\n",
       "      <td>0</td>\n",
       "      <td>GLQ</td>\n",
       "      <td>Unf</td>\n",
       "      <td>1</td>\n",
       "      <td>0</td>\n",
       "      <td>Gd</td>\n",
       "      <td>434</td>\n",
       "      <td>Y</td>\n",
       "      <td>Norm</td>\n",
       "      <td>Norm</td>\n",
       "      <td>SBrkr</td>\n",
       "      <td>0</td>\n",
       "      <td>TA</td>\n",
       "      <td>Gd</td>\n",
       "      <td>VinylSd</td>\n",
       "      <td>VinylSd</td>\n",
       "      <td>NaN</td>\n",
       "      <td>TA</td>\n",
       "      <td>1</td>\n",
       "      <td>PConc</td>\n",
       "      <td>2</td>\n",
       "      <td>Typ</td>\n",
       "      <td>608</td>\n",
       "      <td>2</td>\n",
       "      <td>TA</td>\n",
       "      <td>RFn</td>\n",
       "      <td>TA</td>\n",
       "      <td>Attchd</td>\n",
       "      <td>2001.0</td>\n",
       "      <td>1786</td>\n",
       "      <td>1</td>\n",
       "      <td>GasA</td>\n",
       "      <td>Ex</td>\n",
       "      <td>2Story</td>\n",
       "      <td>3</td>\n",
       "      <td>1</td>\n",
       "      <td>Gd</td>\n",
       "      <td>Lvl</td>\n",
       "      <td>Gtl</td>\n",
       "      <td>11250</td>\n",
       "      <td>Inside</td>\n",
       "      <td>68.0</td>\n",
       "      <td>IR1</td>\n",
       "      <td>0</td>\n",
       "      <td>60</td>\n",
       "      <td>RL</td>\n",
       "      <td>162.0</td>\n",
       "      <td>BrkFace</td>\n",
       "      <td>NaN</td>\n",
       "      <td>0</td>\n",
       "      <td>9</td>\n",
       "      <td>CollgCr</td>\n",
       "      <td>42</td>\n",
       "      <td>5</td>\n",
       "      <td>7</td>\n",
       "      <td>Y</td>\n",
       "      <td>0</td>\n",
       "      <td>NaN</td>\n",
       "      <td>CompShg</td>\n",
       "      <td>Gable</td>\n",
       "      <td>Normal</td>\n",
       "      <td>223500</td>\n",
       "      <td>WD</td>\n",
       "      <td>0</td>\n",
       "      <td>Pave</td>\n",
       "      <td>6</td>\n",
       "      <td>920</td>\n",
       "      <td>AllPub</td>\n",
       "      <td>0</td>\n",
       "      <td>2001</td>\n",
       "      <td>2002</td>\n",
       "      <td>2008</td>\n",
       "    </tr>\n",
       "    <tr>\n",
       "      <th>3</th>\n",
       "      <td>961</td>\n",
       "      <td>756</td>\n",
       "      <td>0</td>\n",
       "      <td>NaN</td>\n",
       "      <td>3</td>\n",
       "      <td>1Fam</td>\n",
       "      <td>Gd</td>\n",
       "      <td>No</td>\n",
       "      <td>216</td>\n",
       "      <td>0</td>\n",
       "      <td>ALQ</td>\n",
       "      <td>Unf</td>\n",
       "      <td>1</td>\n",
       "      <td>0</td>\n",
       "      <td>TA</td>\n",
       "      <td>540</td>\n",
       "      <td>Y</td>\n",
       "      <td>Norm</td>\n",
       "      <td>Norm</td>\n",
       "      <td>SBrkr</td>\n",
       "      <td>272</td>\n",
       "      <td>TA</td>\n",
       "      <td>TA</td>\n",
       "      <td>Wd Sdng</td>\n",
       "      <td>Wd Shng</td>\n",
       "      <td>NaN</td>\n",
       "      <td>Gd</td>\n",
       "      <td>1</td>\n",
       "      <td>BrkTil</td>\n",
       "      <td>1</td>\n",
       "      <td>Typ</td>\n",
       "      <td>642</td>\n",
       "      <td>3</td>\n",
       "      <td>TA</td>\n",
       "      <td>Unf</td>\n",
       "      <td>TA</td>\n",
       "      <td>Detchd</td>\n",
       "      <td>1998.0</td>\n",
       "      <td>1717</td>\n",
       "      <td>0</td>\n",
       "      <td>GasA</td>\n",
       "      <td>Gd</td>\n",
       "      <td>2Story</td>\n",
       "      <td>4</td>\n",
       "      <td>1</td>\n",
       "      <td>Gd</td>\n",
       "      <td>Lvl</td>\n",
       "      <td>Gtl</td>\n",
       "      <td>9550</td>\n",
       "      <td>Corner</td>\n",
       "      <td>60.0</td>\n",
       "      <td>IR1</td>\n",
       "      <td>0</td>\n",
       "      <td>70</td>\n",
       "      <td>RL</td>\n",
       "      <td>0.0</td>\n",
       "      <td>None</td>\n",
       "      <td>NaN</td>\n",
       "      <td>0</td>\n",
       "      <td>2</td>\n",
       "      <td>Crawfor</td>\n",
       "      <td>35</td>\n",
       "      <td>5</td>\n",
       "      <td>7</td>\n",
       "      <td>Y</td>\n",
       "      <td>0</td>\n",
       "      <td>NaN</td>\n",
       "      <td>CompShg</td>\n",
       "      <td>Gable</td>\n",
       "      <td>Abnorml</td>\n",
       "      <td>140000</td>\n",
       "      <td>WD</td>\n",
       "      <td>0</td>\n",
       "      <td>Pave</td>\n",
       "      <td>7</td>\n",
       "      <td>756</td>\n",
       "      <td>AllPub</td>\n",
       "      <td>0</td>\n",
       "      <td>1915</td>\n",
       "      <td>1970</td>\n",
       "      <td>2006</td>\n",
       "    </tr>\n",
       "    <tr>\n",
       "      <th>4</th>\n",
       "      <td>1145</td>\n",
       "      <td>1053</td>\n",
       "      <td>0</td>\n",
       "      <td>NaN</td>\n",
       "      <td>4</td>\n",
       "      <td>1Fam</td>\n",
       "      <td>TA</td>\n",
       "      <td>Av</td>\n",
       "      <td>655</td>\n",
       "      <td>0</td>\n",
       "      <td>GLQ</td>\n",
       "      <td>Unf</td>\n",
       "      <td>1</td>\n",
       "      <td>0</td>\n",
       "      <td>Gd</td>\n",
       "      <td>490</td>\n",
       "      <td>Y</td>\n",
       "      <td>Norm</td>\n",
       "      <td>Norm</td>\n",
       "      <td>SBrkr</td>\n",
       "      <td>0</td>\n",
       "      <td>TA</td>\n",
       "      <td>Gd</td>\n",
       "      <td>VinylSd</td>\n",
       "      <td>VinylSd</td>\n",
       "      <td>NaN</td>\n",
       "      <td>TA</td>\n",
       "      <td>1</td>\n",
       "      <td>PConc</td>\n",
       "      <td>2</td>\n",
       "      <td>Typ</td>\n",
       "      <td>836</td>\n",
       "      <td>3</td>\n",
       "      <td>TA</td>\n",
       "      <td>RFn</td>\n",
       "      <td>TA</td>\n",
       "      <td>Attchd</td>\n",
       "      <td>2000.0</td>\n",
       "      <td>2198</td>\n",
       "      <td>1</td>\n",
       "      <td>GasA</td>\n",
       "      <td>Ex</td>\n",
       "      <td>2Story</td>\n",
       "      <td>5</td>\n",
       "      <td>1</td>\n",
       "      <td>Gd</td>\n",
       "      <td>Lvl</td>\n",
       "      <td>Gtl</td>\n",
       "      <td>14260</td>\n",
       "      <td>FR2</td>\n",
       "      <td>84.0</td>\n",
       "      <td>IR1</td>\n",
       "      <td>0</td>\n",
       "      <td>60</td>\n",
       "      <td>RL</td>\n",
       "      <td>350.0</td>\n",
       "      <td>BrkFace</td>\n",
       "      <td>NaN</td>\n",
       "      <td>0</td>\n",
       "      <td>12</td>\n",
       "      <td>NoRidge</td>\n",
       "      <td>84</td>\n",
       "      <td>5</td>\n",
       "      <td>8</td>\n",
       "      <td>Y</td>\n",
       "      <td>0</td>\n",
       "      <td>NaN</td>\n",
       "      <td>CompShg</td>\n",
       "      <td>Gable</td>\n",
       "      <td>Normal</td>\n",
       "      <td>250000</td>\n",
       "      <td>WD</td>\n",
       "      <td>0</td>\n",
       "      <td>Pave</td>\n",
       "      <td>9</td>\n",
       "      <td>1145</td>\n",
       "      <td>AllPub</td>\n",
       "      <td>192</td>\n",
       "      <td>2000</td>\n",
       "      <td>2000</td>\n",
       "      <td>2008</td>\n",
       "    </tr>\n",
       "  </tbody>\n",
       "</table>\n",
       "</div>"
      ],
      "text/plain": [
       "   1stFlrSF  2ndFlrSF  3SsnPorch Alley  BedroomAbvGr BldgType BsmtCond  \\\n",
       "0       856       854          0   NaN             3     1Fam       TA   \n",
       "1      1262         0          0   NaN             3     1Fam       TA   \n",
       "2       920       866          0   NaN             3     1Fam       TA   \n",
       "3       961       756          0   NaN             3     1Fam       Gd   \n",
       "4      1145      1053          0   NaN             4     1Fam       TA   \n",
       "\n",
       "  BsmtExposure  BsmtFinSF1  BsmtFinSF2 BsmtFinType1 BsmtFinType2  \\\n",
       "0           No         706           0          GLQ          Unf   \n",
       "1           Gd         978           0          ALQ          Unf   \n",
       "2           Mn         486           0          GLQ          Unf   \n",
       "3           No         216           0          ALQ          Unf   \n",
       "4           Av         655           0          GLQ          Unf   \n",
       "\n",
       "   BsmtFullBath  BsmtHalfBath BsmtQual  BsmtUnfSF CentralAir Condition1  \\\n",
       "0             1             0       Gd        150          Y       Norm   \n",
       "1             0             1       Gd        284          Y      Feedr   \n",
       "2             1             0       Gd        434          Y       Norm   \n",
       "3             1             0       TA        540          Y       Norm   \n",
       "4             1             0       Gd        490          Y       Norm   \n",
       "\n",
       "  Condition2 Electrical  EnclosedPorch ExterCond ExterQual Exterior1st  \\\n",
       "0       Norm      SBrkr              0        TA        Gd     VinylSd   \n",
       "1       Norm      SBrkr              0        TA        TA     MetalSd   \n",
       "2       Norm      SBrkr              0        TA        Gd     VinylSd   \n",
       "3       Norm      SBrkr            272        TA        TA     Wd Sdng   \n",
       "4       Norm      SBrkr              0        TA        Gd     VinylSd   \n",
       "\n",
       "  Exterior2nd Fence FireplaceQu  Fireplaces Foundation  FullBath Functional  \\\n",
       "0     VinylSd   NaN         NaN           0      PConc         2        Typ   \n",
       "1     MetalSd   NaN          TA           1     CBlock         2        Typ   \n",
       "2     VinylSd   NaN          TA           1      PConc         2        Typ   \n",
       "3     Wd Shng   NaN          Gd           1     BrkTil         1        Typ   \n",
       "4     VinylSd   NaN          TA           1      PConc         2        Typ   \n",
       "\n",
       "   GarageArea  GarageCars GarageCond GarageFinish GarageQual GarageType  \\\n",
       "0         548           2         TA          RFn         TA     Attchd   \n",
       "1         460           2         TA          RFn         TA     Attchd   \n",
       "2         608           2         TA          RFn         TA     Attchd   \n",
       "3         642           3         TA          Unf         TA     Detchd   \n",
       "4         836           3         TA          RFn         TA     Attchd   \n",
       "\n",
       "   GarageYrBlt  GrLivArea  HalfBath Heating HeatingQC HouseStyle  Id  \\\n",
       "0       2003.0       1710         1    GasA        Ex     2Story   1   \n",
       "1       1976.0       1262         0    GasA        Ex     1Story   2   \n",
       "2       2001.0       1786         1    GasA        Ex     2Story   3   \n",
       "3       1998.0       1717         0    GasA        Gd     2Story   4   \n",
       "4       2000.0       2198         1    GasA        Ex     2Story   5   \n",
       "\n",
       "   KitchenAbvGr KitchenQual LandContour LandSlope  LotArea LotConfig  \\\n",
       "0             1          Gd         Lvl       Gtl     8450    Inside   \n",
       "1             1          TA         Lvl       Gtl     9600       FR2   \n",
       "2             1          Gd         Lvl       Gtl    11250    Inside   \n",
       "3             1          Gd         Lvl       Gtl     9550    Corner   \n",
       "4             1          Gd         Lvl       Gtl    14260       FR2   \n",
       "\n",
       "   LotFrontage LotShape  LowQualFinSF  MSSubClass MSZoning  MasVnrArea  \\\n",
       "0         65.0      Reg             0          60       RL       196.0   \n",
       "1         80.0      Reg             0          20       RL         0.0   \n",
       "2         68.0      IR1             0          60       RL       162.0   \n",
       "3         60.0      IR1             0          70       RL         0.0   \n",
       "4         84.0      IR1             0          60       RL       350.0   \n",
       "\n",
       "  MasVnrType MiscFeature  MiscVal  MoSold Neighborhood  OpenPorchSF  \\\n",
       "0    BrkFace         NaN        0       2      CollgCr           61   \n",
       "1       None         NaN        0       5      Veenker            0   \n",
       "2    BrkFace         NaN        0       9      CollgCr           42   \n",
       "3       None         NaN        0       2      Crawfor           35   \n",
       "4    BrkFace         NaN        0      12      NoRidge           84   \n",
       "\n",
       "   OverallCond  OverallQual PavedDrive  PoolArea PoolQC RoofMatl RoofStyle  \\\n",
       "0            5            7          Y         0    NaN  CompShg     Gable   \n",
       "1            8            6          Y         0    NaN  CompShg     Gable   \n",
       "2            5            7          Y         0    NaN  CompShg     Gable   \n",
       "3            5            7          Y         0    NaN  CompShg     Gable   \n",
       "4            5            8          Y         0    NaN  CompShg     Gable   \n",
       "\n",
       "  SaleCondition  SalePrice SaleType  ScreenPorch Street  TotRmsAbvGrd  \\\n",
       "0        Normal     208500       WD            0   Pave             8   \n",
       "1        Normal     181500       WD            0   Pave             6   \n",
       "2        Normal     223500       WD            0   Pave             6   \n",
       "3       Abnorml     140000       WD            0   Pave             7   \n",
       "4        Normal     250000       WD            0   Pave             9   \n",
       "\n",
       "   TotalBsmtSF Utilities  WoodDeckSF  YearBuilt  YearRemodAdd  YrSold  \n",
       "0          856    AllPub           0       2003          2003    2008  \n",
       "1         1262    AllPub         298       1976          1976    2007  \n",
       "2          920    AllPub           0       2001          2002    2008  \n",
       "3          756    AllPub           0       1915          1970    2006  \n",
       "4         1145    AllPub         192       2000          2000    2008  "
      ]
     },
     "execution_count": 3,
     "metadata": {},
     "output_type": "execute_result"
    }
   ],
   "source": [
    "from IPython.display import display\n",
    "pd.options.display.max_columns=None\n",
    "df=df.reindex_axis(sorted(df.columns),axis=1)\n",
    "df.head()"
   ]
  },
  {
   "cell_type": "code",
   "execution_count": 4,
   "metadata": {
    "scrolled": true
   },
   "outputs": [
    {
     "data": {
      "text/plain": [
       "(1460, 81)"
      ]
     },
     "execution_count": 4,
     "metadata": {},
     "output_type": "execute_result"
    }
   ],
   "source": [
    "df.shape"
   ]
  },
  {
   "cell_type": "markdown",
   "metadata": {},
   "source": [
    "### Remove \"Id\" from dataset"
   ]
  },
  {
   "cell_type": "code",
   "execution_count": 5,
   "metadata": {},
   "outputs": [],
   "source": [
    "df=df.drop(columns=['Id'])"
   ]
  },
  {
   "cell_type": "code",
   "execution_count": 6,
   "metadata": {
    "scrolled": true
   },
   "outputs": [
    {
     "data": {
      "text/plain": [
       "(1460, 80)"
      ]
     },
     "execution_count": 6,
     "metadata": {},
     "output_type": "execute_result"
    }
   ],
   "source": [
    "df.shape"
   ]
  },
  {
   "cell_type": "markdown",
   "metadata": {},
   "source": [
    "## Log Transformation of \"SalePrice'"
   ]
  },
  {
   "cell_type": "code",
   "execution_count": 7,
   "metadata": {
    "scrolled": true
   },
   "outputs": [
    {
     "data": {
      "text/plain": [
       "<matplotlib.axes._subplots.AxesSubplot at 0x1a2a3da0>"
      ]
     },
     "execution_count": 7,
     "metadata": {},
     "output_type": "execute_result"
    },
    {
     "data": {
      "image/png": "[encoded data removed]",
      "text/plain": [
       "<Figure size 432x288 with 1 Axes>"
      ]
     },
     "metadata": {},
     "output_type": "display_data"
    }
   ],
   "source": [
    "y=df['SalePrice']\n",
    "sns.distplot(y)"
   ]
  },
  {
   "cell_type": "code",
   "execution_count": 8,
   "metadata": {
    "scrolled": false
   },
   "outputs": [
    {
     "data": {
      "text/plain": [
       "<matplotlib.axes._subplots.AxesSubplot at 0x5264390>"
      ]
     },
     "execution_count": 8,
     "metadata": {},
     "output_type": "execute_result"
    },
    {
     "data": {
      "image/png": "[encoded data removed]",
      "text/plain": [
       "<Figure size 432x288 with 1 Axes>"
      ]
     },
     "metadata": {},
     "output_type": "display_data"
    }
   ],
   "source": [
    "sns.distplot(np.log(y))"
   ]
  },
  {
   "cell_type": "code",
   "execution_count": 9,
   "metadata": {},
   "outputs": [],
   "source": [
    "df['SalePrice']=np.log(df['SalePrice'])"
   ]
  },
  {
   "cell_type": "code",
   "execution_count": 10,
   "metadata": {
    "scrolled": true
   },
   "outputs": [
    {
     "data": {
      "text/plain": [
       "1stFlrSF           int64\n",
       "2ndFlrSF           int64\n",
       "3SsnPorch          int64\n",
       "Alley             object\n",
       "BedroomAbvGr       int64\n",
       "BldgType          object\n",
       "BsmtCond          object\n",
       "BsmtExposure      object\n",
       "BsmtFinSF1         int64\n",
       "BsmtFinSF2         int64\n",
       "BsmtFinType1      object\n",
       "BsmtFinType2      object\n",
       "BsmtFullBath       int64\n",
       "BsmtHalfBath       int64\n",
       "BsmtQual          object\n",
       "BsmtUnfSF          int64\n",
       "CentralAir        object\n",
       "Condition1        object\n",
       "Condition2        object\n",
       "Electrical        object\n",
       "EnclosedPorch      int64\n",
       "ExterCond         object\n",
       "ExterQual         object\n",
       "Exterior1st       object\n",
       "Exterior2nd       object\n",
       "Fence             object\n",
       "FireplaceQu       object\n",
       "Fireplaces         int64\n",
       "Foundation        object\n",
       "FullBath           int64\n",
       "                  ...   \n",
       "LotShape          object\n",
       "LowQualFinSF       int64\n",
       "MSSubClass         int64\n",
       "MSZoning          object\n",
       "MasVnrArea       float64\n",
       "MasVnrType        object\n",
       "MiscFeature       object\n",
       "MiscVal            int64\n",
       "MoSold             int64\n",
       "Neighborhood      object\n",
       "OpenPorchSF        int64\n",
       "OverallCond        int64\n",
       "OverallQual        int64\n",
       "PavedDrive        object\n",
       "PoolArea           int64\n",
       "PoolQC            object\n",
       "RoofMatl          object\n",
       "RoofStyle         object\n",
       "SaleCondition     object\n",
       "SalePrice        float64\n",
       "SaleType          object\n",
       "ScreenPorch        int64\n",
       "Street            object\n",
       "TotRmsAbvGrd       int64\n",
       "TotalBsmtSF        int64\n",
       "Utilities         object\n",
       "WoodDeckSF         int64\n",
       "YearBuilt          int64\n",
       "YearRemodAdd       int64\n",
       "YrSold             int64\n",
       "Length: 80, dtype: object"
      ]
     },
     "execution_count": 10,
     "metadata": {},
     "output_type": "execute_result"
    }
   ],
   "source": [
    "df.dtypes"
   ]
  },
  {
   "cell_type": "markdown",
   "metadata": {},
   "source": [
    "## Data Cleaning"
   ]
  },
  {
   "cell_type": "markdown",
   "metadata": {},
   "source": [
    "### Checking NAs"
   ]
  },
  {
   "cell_type": "code",
   "execution_count": 11,
   "metadata": {
    "scrolled": false
   },
   "outputs": [
    {
     "data": {
      "text/plain": [
       "PoolQC          1453\n",
       "MiscFeature     1406\n",
       "Alley           1369\n",
       "Fence           1179\n",
       "FireplaceQu      690\n",
       "LotFrontage      259\n",
       "GarageYrBlt       81\n",
       "GarageType        81\n",
       "GarageQual        81\n",
       "GarageFinish      81\n",
       "GarageCond        81\n",
       "BsmtFinType2      38\n",
       "BsmtExposure      38\n",
       "BsmtQual          37\n",
       "BsmtFinType1      37\n",
       "BsmtCond          37\n",
       "MasVnrArea         8\n",
       "MasVnrType         8\n",
       "Electrical         1\n",
       "dtype: int64"
      ]
     },
     "execution_count": 11,
     "metadata": {},
     "output_type": "execute_result"
    }
   ],
   "source": [
    "null_cols=df.columns[df.isnull().any()]\n",
    "df[null_cols].isnull().sum().sort_values(ascending=False)"
   ]
  },
  {
   "cell_type": "code",
   "execution_count": 12,
   "metadata": {
    "scrolled": true
   },
   "outputs": [
    {
     "data": {
      "text/plain": [
       "PoolQC          99.520548\n",
       "MiscFeature     96.301370\n",
       "Alley           93.767123\n",
       "Fence           80.753425\n",
       "FireplaceQu     47.260274\n",
       "LotFrontage     17.739726\n",
       "GarageYrBlt      5.547945\n",
       "GarageType       5.547945\n",
       "GarageQual       5.547945\n",
       "GarageFinish     5.547945\n",
       "GarageCond       5.547945\n",
       "BsmtFinType2     2.602740\n",
       "BsmtExposure     2.602740\n",
       "BsmtQual         2.534247\n",
       "BsmtFinType1     2.534247\n",
       "BsmtCond         2.534247\n",
       "MasVnrArea       0.547945\n",
       "MasVnrType       0.547945\n",
       "Electrical       0.068493\n",
       "dtype: float64"
      ]
     },
     "execution_count": 12,
     "metadata": {},
     "output_type": "execute_result"
    }
   ],
   "source": [
    "dg=(df[null_cols].isnull().sum()/len(df)*100).sort_values(ascending=False)\n",
    "dg"
   ]
  },
  {
   "cell_type": "code",
   "execution_count": 13,
   "metadata": {},
   "outputs": [
    {
     "data": {
      "text/plain": [
       "array(['PoolQC', 'MiscFeature', 'Alley', 'Fence', 'FireplaceQu',\n",
       "       'LotFrontage', 'GarageYrBlt', 'GarageType', 'GarageQual',\n",
       "       'GarageFinish', 'GarageCond', 'BsmtFinType2', 'BsmtExposure',\n",
       "       'BsmtQual', 'BsmtFinType1', 'BsmtCond', 'MasVnrArea', 'MasVnrType',\n",
       "       'Electrical'], dtype=object)"
      ]
     },
     "execution_count": 13,
     "metadata": {},
     "output_type": "execute_result"
    }
   ],
   "source": [
    "featureName=dg.index.values\n",
    "featureName"
   ]
  },
  {
   "cell_type": "code",
   "execution_count": 14,
   "metadata": {},
   "outputs": [],
   "source": [
    "def missingness(featureName):\n",
    "    for i in featureName:\n",
    "        print(i)\n",
    "        print(df[i].value_counts(dropna=False))\n",
    "        print(\"Value missing: %2.1f %%\" % (df[i].isnull().sum()/len(df)*100))\n",
    "        print()"
   ]
  },
  {
   "cell_type": "markdown",
   "metadata": {},
   "source": [
    "### Checking unique values of feature with more than 70% missning values"
   ]
  },
  {
   "cell_type": "code",
   "execution_count": 15,
   "metadata": {
    "scrolled": true
   },
   "outputs": [
    {
     "name": "stdout",
     "output_type": "stream",
     "text": [
      "PoolQC\n",
      "NaN    1453\n",
      "Gd        3\n",
      "Ex        2\n",
      "Fa        2\n",
      "Name: PoolQC, dtype: int64\n",
      "Value missing: 99.5 %\n",
      "\n",
      "MiscFeature\n",
      "NaN     1406\n",
      "Shed      49\n",
      "Gar2       2\n",
      "Othr       2\n",
      "TenC       1\n",
      "Name: MiscFeature, dtype: int64\n",
      "Value missing: 96.3 %\n",
      "\n",
      "Alley\n",
      "NaN     1369\n",
      "Grvl      50\n",
      "Pave      41\n",
      "Name: Alley, dtype: int64\n",
      "Value missing: 93.8 %\n",
      "\n",
      "Fence\n",
      "NaN      1179\n",
      "MnPrv     157\n",
      "GdPrv      59\n",
      "GdWo       54\n",
      "MnWw       11\n",
      "Name: Fence, dtype: int64\n",
      "Value missing: 80.8 %\n",
      "\n",
      "FireplaceQu\n",
      "NaN    690\n",
      "Gd     380\n",
      "TA     313\n",
      "Fa      33\n",
      "Ex      24\n",
      "Po      20\n",
      "Name: FireplaceQu, dtype: int64\n",
      "Value missing: 47.3 %\n",
      "\n",
      "LotFrontage\n",
      "NaN       259\n",
      " 60.0     143\n",
      " 70.0      70\n",
      " 80.0      69\n",
      " 50.0      57\n",
      " 75.0      53\n",
      " 65.0      44\n",
      " 85.0      40\n",
      " 78.0      25\n",
      " 21.0      23\n",
      " 90.0      23\n",
      " 68.0      19\n",
      " 24.0      19\n",
      " 64.0      19\n",
      " 73.0      18\n",
      " 72.0      17\n",
      " 79.0      17\n",
      " 63.0      17\n",
      " 55.0      17\n",
      " 100.0     16\n",
      " 51.0      15\n",
      " 66.0      15\n",
      " 74.0      15\n",
      " 52.0      14\n",
      " 59.0      13\n",
      " 71.0      12\n",
      " 67.0      12\n",
      " 57.0      12\n",
      " 82.0      12\n",
      " 43.0      12\n",
      "         ... \n",
      " 129.0      2\n",
      " 313.0      2\n",
      " 118.0      2\n",
      " 122.0      2\n",
      " 121.0      2\n",
      " 101.0      2\n",
      " 109.0      2\n",
      " 115.0      2\n",
      " 116.0      2\n",
      " 114.0      2\n",
      " 153.0      1\n",
      " 149.0      1\n",
      " 150.0      1\n",
      " 111.0      1\n",
      " 182.0      1\n",
      " 46.0       1\n",
      " 112.0      1\n",
      " 141.0      1\n",
      " 33.0       1\n",
      " 152.0      1\n",
      " 160.0      1\n",
      " 168.0      1\n",
      " 128.0      1\n",
      " 144.0      1\n",
      " 39.0       1\n",
      " 106.0      1\n",
      " 38.0       1\n",
      " 138.0      1\n",
      " 140.0      1\n",
      " 137.0      1\n",
      "Name: LotFrontage, Length: 111, dtype: int64\n",
      "Value missing: 17.7 %\n",
      "\n",
      "GarageYrBlt\n",
      "NaN        81\n",
      " 2005.0    65\n",
      " 2006.0    59\n",
      " 2004.0    53\n",
      " 2003.0    50\n",
      " 2007.0    49\n",
      " 1977.0    35\n",
      " 1998.0    31\n",
      " 1999.0    30\n",
      " 1976.0    29\n",
      " 2008.0    29\n",
      " 2000.0    27\n",
      " 2002.0    26\n",
      " 1968.0    26\n",
      " 1950.0    24\n",
      " 1993.0    22\n",
      " 1962.0    21\n",
      " 2009.0    21\n",
      " 1966.0    21\n",
      " 1965.0    21\n",
      " 1958.0    21\n",
      " 1970.0    20\n",
      " 1996.0    20\n",
      " 1957.0    20\n",
      " 2001.0    20\n",
      " 1997.0    19\n",
      " 1978.0    19\n",
      " 1960.0    19\n",
      " 1954.0    19\n",
      " 1974.0    18\n",
      "           ..\n",
      " 1916.0     5\n",
      " 1922.0     5\n",
      " 1936.0     5\n",
      " 1945.0     4\n",
      " 1946.0     4\n",
      " 1982.0     4\n",
      " 1931.0     4\n",
      " 1928.0     4\n",
      " 1935.0     4\n",
      " 1932.0     3\n",
      " 1952.0     3\n",
      " 1921.0     3\n",
      " 1938.0     3\n",
      " 2010.0     3\n",
      " 1910.0     3\n",
      " 1924.0     3\n",
      " 1923.0     3\n",
      " 1947.0     2\n",
      " 1918.0     2\n",
      " 1929.0     2\n",
      " 1914.0     2\n",
      " 1915.0     2\n",
      " 1934.0     2\n",
      " 1937.0     2\n",
      " 1942.0     2\n",
      " 1906.0     1\n",
      " 1927.0     1\n",
      " 1900.0     1\n",
      " 1908.0     1\n",
      " 1933.0     1\n",
      "Name: GarageYrBlt, Length: 98, dtype: int64\n",
      "Value missing: 5.5 %\n",
      "\n",
      "GarageType\n",
      "Attchd     870\n",
      "Detchd     387\n",
      "BuiltIn     88\n",
      "NaN         81\n",
      "Basment     19\n",
      "CarPort      9\n",
      "2Types       6\n",
      "Name: GarageType, dtype: int64\n",
      "Value missing: 5.5 %\n",
      "\n",
      "GarageQual\n",
      "TA     1311\n",
      "NaN      81\n",
      "Fa       48\n",
      "Gd       14\n",
      "Ex        3\n",
      "Po        3\n",
      "Name: GarageQual, dtype: int64\n",
      "Value missing: 5.5 %\n",
      "\n",
      "GarageFinish\n",
      "Unf    605\n",
      "RFn    422\n",
      "Fin    352\n",
      "NaN     81\n",
      "Name: GarageFinish, dtype: int64\n",
      "Value missing: 5.5 %\n",
      "\n",
      "GarageCond\n",
      "TA     1326\n",
      "NaN      81\n",
      "Fa       35\n",
      "Gd        9\n",
      "Po        7\n",
      "Ex        2\n",
      "Name: GarageCond, dtype: int64\n",
      "Value missing: 5.5 %\n",
      "\n",
      "BsmtFinType2\n",
      "Unf    1256\n",
      "Rec      54\n",
      "LwQ      46\n",
      "NaN      38\n",
      "BLQ      33\n",
      "ALQ      19\n",
      "GLQ      14\n",
      "Name: BsmtFinType2, dtype: int64\n",
      "Value missing: 2.6 %\n",
      "\n",
      "BsmtExposure\n",
      "No     953\n",
      "Av     221\n",
      "Gd     134\n",
      "Mn     114\n",
      "NaN     38\n",
      "Name: BsmtExposure, dtype: int64\n",
      "Value missing: 2.6 %\n",
      "\n",
      "BsmtQual\n",
      "TA     649\n",
      "Gd     618\n",
      "Ex     121\n",
      "NaN     37\n",
      "Fa      35\n",
      "Name: BsmtQual, dtype: int64\n",
      "Value missing: 2.5 %\n",
      "\n",
      "BsmtFinType1\n",
      "Unf    430\n",
      "GLQ    418\n",
      "ALQ    220\n",
      "BLQ    148\n",
      "Rec    133\n",
      "LwQ     74\n",
      "NaN     37\n",
      "Name: BsmtFinType1, dtype: int64\n",
      "Value missing: 2.5 %\n",
      "\n",
      "BsmtCond\n",
      "TA     1311\n",
      "Gd       65\n",
      "Fa       45\n",
      "NaN      37\n",
      "Po        2\n",
      "Name: BsmtCond, dtype: int64\n",
      "Value missing: 2.5 %\n",
      "\n",
      "MasVnrArea\n",
      " 0.0       861\n",
      " 72.0        8\n",
      " 180.0       8\n",
      "NaN          8\n",
      " 108.0       8\n",
      " 120.0       7\n",
      " 16.0        7\n",
      " 106.0       6\n",
      " 80.0        6\n",
      " 340.0       6\n",
      " 200.0       6\n",
      " 132.0       5\n",
      " 170.0       5\n",
      " 360.0       5\n",
      " 84.0        5\n",
      " 320.0       5\n",
      " 270.0       4\n",
      " 183.0       4\n",
      " 100.0       4\n",
      " 168.0       4\n",
      " 252.0       4\n",
      " 178.0       4\n",
      " 246.0       4\n",
      " 196.0       4\n",
      " 288.0       4\n",
      " 216.0       4\n",
      " 160.0       4\n",
      " 220.0       4\n",
      " 336.0       4\n",
      " 210.0       4\n",
      "          ... \n",
      " 24.0        1\n",
      " 760.0       1\n",
      " 138.0       1\n",
      " 27.0        1\n",
      " 541.0       1\n",
      " 275.0       1\n",
      " 365.0       1\n",
      " 562.0       1\n",
      " 161.0       1\n",
      " 247.0       1\n",
      " 452.0       1\n",
      " 278.0       1\n",
      " 375.0       1\n",
      " 225.0       1\n",
      " 604.0       1\n",
      " 762.0       1\n",
      " 290.0       1\n",
      " 109.0       1\n",
      " 299.0       1\n",
      " 731.0       1\n",
      " 167.0       1\n",
      " 309.0       1\n",
      " 202.0       1\n",
      " 1129.0      1\n",
      " 651.0       1\n",
      " 337.0       1\n",
      " 415.0       1\n",
      " 293.0       1\n",
      " 259.0       1\n",
      " 621.0       1\n",
      "Name: MasVnrArea, Length: 328, dtype: int64\n",
      "Value missing: 0.5 %\n",
      "\n",
      "MasVnrType\n",
      "None       864\n",
      "BrkFace    445\n",
      "Stone      128\n",
      "BrkCmn      15\n",
      "NaN          8\n",
      "Name: MasVnrType, dtype: int64\n",
      "Value missing: 0.5 %\n",
      "\n",
      "Electrical\n",
      "SBrkr    1334\n",
      "FuseA      94\n",
      "FuseF      27\n",
      "FuseP       3\n",
      "Mix         1\n",
      "NaN         1\n",
      "Name: Electrical, dtype: int64\n",
      "Value missing: 0.1 %\n",
      "\n"
     ]
    }
   ],
   "source": [
    "missingness(featureName)"
   ]
  },
  {
   "cell_type": "markdown",
   "metadata": {},
   "source": [
    "### Remove columns with more than 70% of missing values"
   ]
  },
  {
   "cell_type": "code",
   "execution_count": 16,
   "metadata": {},
   "outputs": [],
   "source": [
    "df=df.drop(columns=['PoolQC','MiscFeature','Alley','Fence'])"
   ]
  },
  {
   "cell_type": "code",
   "execution_count": 17,
   "metadata": {},
   "outputs": [
    {
     "data": {
      "text/plain": [
       "(1460, 76)"
      ]
     },
     "execution_count": 17,
     "metadata": {},
     "output_type": "execute_result"
    }
   ],
   "source": [
    "df.shape"
   ]
  },
  {
   "cell_type": "markdown",
   "metadata": {},
   "source": [
    "### Checking the rest of features with missing values"
   ]
  },
  {
   "cell_type": "code",
   "execution_count": 18,
   "metadata": {},
   "outputs": [
    {
     "name": "stdout",
     "output_type": "stream",
     "text": [
      "FireplaceQu     47.260274\n",
      "LotFrontage     17.739726\n",
      "GarageYrBlt      5.547945\n",
      "GarageType       5.547945\n",
      "GarageQual       5.547945\n",
      "GarageFinish     5.547945\n",
      "GarageCond       5.547945\n",
      "BsmtFinType2     2.602740\n",
      "BsmtExposure     2.602740\n",
      "BsmtQual         2.534247\n",
      "BsmtFinType1     2.534247\n",
      "BsmtCond         2.534247\n",
      "MasVnrType       0.547945\n",
      "MasVnrArea       0.547945\n",
      "Electrical       0.068493\n",
      "dtype: float64\n"
     ]
    },
    {
     "data": {
      "text/plain": [
       "array(['FireplaceQu', 'LotFrontage', 'GarageYrBlt', 'GarageType',\n",
       "       'GarageQual', 'GarageFinish', 'GarageCond', 'BsmtFinType2',\n",
       "       'BsmtExposure', 'BsmtQual', 'BsmtFinType1', 'BsmtCond',\n",
       "       'MasVnrType', 'MasVnrArea', 'Electrical'], dtype=object)"
      ]
     },
     "execution_count": 18,
     "metadata": {},
     "output_type": "execute_result"
    }
   ],
   "source": [
    "null_cols=df.columns[df.isnull().any()]\n",
    "dg=(df[null_cols].isnull().sum()/len(df)*100).sort_values(ascending=False)\n",
    "print(dg)\n",
    "nullCol=dg.index.values\n",
    "nullCol"
   ]
  },
  {
   "cell_type": "markdown",
   "metadata": {},
   "source": [
    "### It looks like \"FireplaceQu\" has \"NaN\" value when \"Fireplaces\" has \"zero\" value. \n",
    "### Let's check if the number of missing value in \"FireplaceQu\" is the same as the number of rows with zero value in \"Fireplaces\""
   ]
  },
  {
   "cell_type": "code",
   "execution_count": 19,
   "metadata": {
    "scrolled": false
   },
   "outputs": [
    {
     "data": {
      "text/plain": [
       "690"
      ]
     },
     "execution_count": 19,
     "metadata": {},
     "output_type": "execute_result"
    }
   ],
   "source": [
    "df['FireplaceQu'].isnull().sum()"
   ]
  },
  {
   "cell_type": "code",
   "execution_count": 20,
   "metadata": {},
   "outputs": [
    {
     "data": {
      "text/plain": [
       "690"
      ]
     },
     "execution_count": 20,
     "metadata": {},
     "output_type": "execute_result"
    }
   ],
   "source": [
    "len(df.loc[df['Fireplaces']==0])"
   ]
  },
  {
   "cell_type": "markdown",
   "metadata": {},
   "source": [
    "### It turns out the number is the same. \n",
    "### We can go ahead and replace the \"NaN\" in \"FireplaceQu\" with \"0\""
   ]
  },
  {
   "cell_type": "markdown",
   "metadata": {},
   "source": [
    "### Also, we will change the datatype of \"FireplaceQu\" to a \"Ordinal\" Variable"
   ]
  },
  {
   "cell_type": "markdown",
   "metadata": {},
   "source": [
    "### First we will need to replace \"NaN\" with \"0\" value"
   ]
  },
  {
   "cell_type": "code",
   "execution_count": 21,
   "metadata": {},
   "outputs": [],
   "source": [
    "df['FireplaceQu'].fillna(0,inplace=True)"
   ]
  },
  {
   "cell_type": "code",
   "execution_count": 22,
   "metadata": {},
   "outputs": [
    {
     "data": {
      "text/plain": [
       "0     690\n",
       "Gd    380\n",
       "TA    313\n",
       "Fa     33\n",
       "Ex     24\n",
       "Po     20\n",
       "Name: FireplaceQu, dtype: int64"
      ]
     },
     "execution_count": 22,
     "metadata": {},
     "output_type": "execute_result"
    }
   ],
   "source": [
    "df['FireplaceQu'].value_counts()"
   ]
  },
  {
   "cell_type": "markdown",
   "metadata": {},
   "source": [
    "### Replace string values to ordinal value in \"FireplaceQu\""
   ]
  },
  {
   "cell_type": "code",
   "execution_count": 23,
   "metadata": {
    "scrolled": true
   },
   "outputs": [],
   "source": [
    "#quality={'Po':1,'Fa':2,'TA':3,'Gd':4,\"Ex\":5}\n",
    "df.FireplaceQu[df.FireplaceQu=='Po']=1\n",
    "df.FireplaceQu[df.FireplaceQu=='Fa']=2\n",
    "df.FireplaceQu[df.FireplaceQu=='TA']=3\n",
    "df.FireplaceQu[df.FireplaceQu=='Gd']=4\n",
    "df.FireplaceQu[df.FireplaceQu=='Ex']=5"
   ]
  },
  {
   "cell_type": "code",
   "execution_count": 24,
   "metadata": {},
   "outputs": [
    {
     "data": {
      "text/plain": [
       "dtype('O')"
      ]
     },
     "execution_count": 24,
     "metadata": {},
     "output_type": "execute_result"
    }
   ],
   "source": [
    "df.FireplaceQu.dtypes"
   ]
  },
  {
   "cell_type": "markdown",
   "metadata": {},
   "source": [
    "### Let's change the datatype of \"FireplaceQu\" to \"int\""
   ]
  },
  {
   "cell_type": "code",
   "execution_count": 25,
   "metadata": {},
   "outputs": [],
   "source": [
    "df=df.astype({\"FireplaceQu\":int})"
   ]
  },
  {
   "cell_type": "code",
   "execution_count": 26,
   "metadata": {},
   "outputs": [
    {
     "data": {
      "text/plain": [
       "dtype('int32')"
      ]
     },
     "execution_count": 26,
     "metadata": {},
     "output_type": "execute_result"
    }
   ],
   "source": [
    "df.FireplaceQu.dtypes"
   ]
  },
  {
   "cell_type": "code",
   "execution_count": 27,
   "metadata": {},
   "outputs": [
    {
     "data": {
      "text/plain": [
       "259"
      ]
     },
     "execution_count": 27,
     "metadata": {},
     "output_type": "execute_result"
    }
   ],
   "source": [
    "df['LotFrontage'].isnull().sum()"
   ]
  },
  {
   "cell_type": "markdown",
   "metadata": {},
   "source": [
    "### Some Lot just does not have LotFronage.\n",
    "### Change \"NaN\" value to \"zero\" in \"LotFrontage\""
   ]
  },
  {
   "cell_type": "code",
   "execution_count": 28,
   "metadata": {
    "scrolled": true
   },
   "outputs": [],
   "source": [
    "df['LotFrontage'].fillna(0,inplace=True)"
   ]
  },
  {
   "cell_type": "markdown",
   "metadata": {},
   "source": [
    "### Check if the number of \"0\" value is the same as the number \"NaN\" value"
   ]
  },
  {
   "cell_type": "code",
   "execution_count": 29,
   "metadata": {
    "scrolled": false
   },
   "outputs": [
    {
     "data": {
      "text/plain": [
       "0.0      259\n",
       "60.0     143\n",
       "70.0      70\n",
       "80.0      69\n",
       "50.0      57\n",
       "75.0      53\n",
       "65.0      44\n",
       "85.0      40\n",
       "78.0      25\n",
       "21.0      23\n",
       "90.0      23\n",
       "68.0      19\n",
       "24.0      19\n",
       "64.0      19\n",
       "73.0      18\n",
       "72.0      17\n",
       "79.0      17\n",
       "63.0      17\n",
       "55.0      17\n",
       "100.0     16\n",
       "51.0      15\n",
       "66.0      15\n",
       "74.0      15\n",
       "52.0      14\n",
       "59.0      13\n",
       "71.0      12\n",
       "67.0      12\n",
       "57.0      12\n",
       "82.0      12\n",
       "43.0      12\n",
       "        ... \n",
       "129.0      2\n",
       "313.0      2\n",
       "118.0      2\n",
       "122.0      2\n",
       "121.0      2\n",
       "101.0      2\n",
       "109.0      2\n",
       "115.0      2\n",
       "116.0      2\n",
       "114.0      2\n",
       "153.0      1\n",
       "149.0      1\n",
       "150.0      1\n",
       "111.0      1\n",
       "182.0      1\n",
       "46.0       1\n",
       "112.0      1\n",
       "141.0      1\n",
       "33.0       1\n",
       "152.0      1\n",
       "160.0      1\n",
       "168.0      1\n",
       "128.0      1\n",
       "144.0      1\n",
       "39.0       1\n",
       "106.0      1\n",
       "38.0       1\n",
       "138.0      1\n",
       "140.0      1\n",
       "137.0      1\n",
       "Name: LotFrontage, Length: 111, dtype: int64"
      ]
     },
     "execution_count": 29,
     "metadata": {},
     "output_type": "execute_result"
    }
   ],
   "source": [
    "df['LotFrontage'].value_counts()"
   ]
  },
  {
   "cell_type": "markdown",
   "metadata": {},
   "source": [
    "### Double check all the missing values again "
   ]
  },
  {
   "cell_type": "code",
   "execution_count": 30,
   "metadata": {},
   "outputs": [
    {
     "data": {
      "text/plain": [
       "GarageYrBlt     5.547945\n",
       "GarageType      5.547945\n",
       "GarageQual      5.547945\n",
       "GarageFinish    5.547945\n",
       "GarageCond      5.547945\n",
       "BsmtFinType2    2.602740\n",
       "BsmtExposure    2.602740\n",
       "BsmtQual        2.534247\n",
       "BsmtFinType1    2.534247\n",
       "BsmtCond        2.534247\n",
       "MasVnrType      0.547945\n",
       "MasVnrArea      0.547945\n",
       "Electrical      0.068493\n",
       "dtype: float64"
      ]
     },
     "execution_count": 30,
     "metadata": {},
     "output_type": "execute_result"
    }
   ],
   "source": [
    "null_cols=df.columns[df.isnull().any()]\n",
    "df[null_cols].isnull().sum().sort_values(ascending=False)\n",
    "dg=(df[null_cols].isnull().sum()/len(df)*100).sort_values(ascending=False)\n",
    "dg"
   ]
  },
  {
   "cell_type": "markdown",
   "metadata": {},
   "source": [
    "### All the remaining variables have less than 6% of missing values.\n",
    "### We will remove all the rows with any missing values."
   ]
  },
  {
   "cell_type": "code",
   "execution_count": 31,
   "metadata": {},
   "outputs": [],
   "source": [
    "df_miss=df.dropna()"
   ]
  },
  {
   "cell_type": "code",
   "execution_count": 32,
   "metadata": {},
   "outputs": [
    {
     "data": {
      "text/plain": [
       "1stFlrSF         0\n",
       "2ndFlrSF         0\n",
       "3SsnPorch        0\n",
       "BedroomAbvGr     0\n",
       "BldgType         0\n",
       "BsmtCond         0\n",
       "BsmtExposure     0\n",
       "BsmtFinSF1       0\n",
       "BsmtFinSF2       0\n",
       "BsmtFinType1     0\n",
       "BsmtFinType2     0\n",
       "BsmtFullBath     0\n",
       "BsmtHalfBath     0\n",
       "BsmtQual         0\n",
       "BsmtUnfSF        0\n",
       "CentralAir       0\n",
       "Condition1       0\n",
       "Condition2       0\n",
       "Electrical       0\n",
       "EnclosedPorch    0\n",
       "ExterCond        0\n",
       "ExterQual        0\n",
       "Exterior1st      0\n",
       "Exterior2nd      0\n",
       "FireplaceQu      0\n",
       "Fireplaces       0\n",
       "Foundation       0\n",
       "FullBath         0\n",
       "Functional       0\n",
       "GarageArea       0\n",
       "                ..\n",
       "LotConfig        0\n",
       "LotFrontage      0\n",
       "LotShape         0\n",
       "LowQualFinSF     0\n",
       "MSSubClass       0\n",
       "MSZoning         0\n",
       "MasVnrArea       0\n",
       "MasVnrType       0\n",
       "MiscVal          0\n",
       "MoSold           0\n",
       "Neighborhood     0\n",
       "OpenPorchSF      0\n",
       "OverallCond      0\n",
       "OverallQual      0\n",
       "PavedDrive       0\n",
       "PoolArea         0\n",
       "RoofMatl         0\n",
       "RoofStyle        0\n",
       "SaleCondition    0\n",
       "SalePrice        0\n",
       "SaleType         0\n",
       "ScreenPorch      0\n",
       "Street           0\n",
       "TotRmsAbvGrd     0\n",
       "TotalBsmtSF      0\n",
       "Utilities        0\n",
       "WoodDeckSF       0\n",
       "YearBuilt        0\n",
       "YearRemodAdd     0\n",
       "YrSold           0\n",
       "Length: 76, dtype: int64"
      ]
     },
     "execution_count": 32,
     "metadata": {},
     "output_type": "execute_result"
    }
   ],
   "source": [
    "df_miss.isnull().sum()"
   ]
  },
  {
   "cell_type": "code",
   "execution_count": 33,
   "metadata": {},
   "outputs": [
    {
     "data": {
      "text/plain": [
       "(1338, 76)"
      ]
     },
     "execution_count": 33,
     "metadata": {},
     "output_type": "execute_result"
    }
   ],
   "source": [
    "df_miss.shape"
   ]
  },
  {
   "cell_type": "code",
   "execution_count": 34,
   "metadata": {},
   "outputs": [
    {
     "data": {
      "text/plain": [
       "122"
      ]
     },
     "execution_count": 34,
     "metadata": {},
     "output_type": "execute_result"
    }
   ],
   "source": [
    "len(df)-len(df_miss)"
   ]
  },
  {
   "cell_type": "markdown",
   "metadata": {},
   "source": [
    "### Checking the percentage of data removed"
   ]
  },
  {
   "cell_type": "code",
   "execution_count": 35,
   "metadata": {
    "scrolled": true
   },
   "outputs": [
    {
     "data": {
      "text/plain": [
       "8.356164383561644"
      ]
     },
     "execution_count": 35,
     "metadata": {},
     "output_type": "execute_result"
    }
   ],
   "source": [
    "(len(df)-len(df_miss))/len(df)*100"
   ]
  },
  {
   "cell_type": "markdown",
   "metadata": {},
   "source": [
    "## Start working on Outliers"
   ]
  },
  {
   "cell_type": "markdown",
   "metadata": {},
   "source": [
    "### Explore z-score for \"SalePrice\" variable"
   ]
  },
  {
   "cell_type": "code",
   "execution_count": 36,
   "metadata": {
    "scrolled": true
   },
   "outputs": [
    {
     "data": {
      "text/plain": [
       "1338"
      ]
     },
     "execution_count": 36,
     "metadata": {},
     "output_type": "execute_result"
    }
   ],
   "source": [
    "df_miss['z']=np.abs(stats.zscore(df_miss['SalePrice']))\n",
    "len(df_miss['z'])"
   ]
  },
  {
   "cell_type": "code",
   "execution_count": 37,
   "metadata": {},
   "outputs": [
    {
     "data": {
      "text/plain": [
       "dtype('float64')"
      ]
     },
     "execution_count": 37,
     "metadata": {},
     "output_type": "execute_result"
    }
   ],
   "source": [
    "df_miss['z'].dtype"
   ]
  },
  {
   "cell_type": "markdown",
   "metadata": {},
   "source": [
    "### Setup \"Threshold\""
   ]
  },
  {
   "cell_type": "code",
   "execution_count": 38,
   "metadata": {},
   "outputs": [],
   "source": [
    "threshold=3"
   ]
  },
  {
   "cell_type": "markdown",
   "metadata": {},
   "source": [
    "### Checking the percentage of outliers"
   ]
  },
  {
   "cell_type": "code",
   "execution_count": 39,
   "metadata": {
    "scrolled": true
   },
   "outputs": [
    {
     "data": {
      "text/plain": [
       "0.8221225710014948"
      ]
     },
     "execution_count": 39,
     "metadata": {},
     "output_type": "execute_result"
    }
   ],
   "source": [
    "len(df_miss[df_miss['z']>threshold])/len(df_miss)*100"
   ]
  },
  {
   "cell_type": "code",
   "execution_count": 40,
   "metadata": {},
   "outputs": [
    {
     "data": {
      "text/plain": [
       "(1327, 77)"
      ]
     },
     "execution_count": 40,
     "metadata": {},
     "output_type": "execute_result"
    }
   ],
   "source": [
    "df_out=df_miss.drop(df_miss[df_miss.z>threshold].index)\n",
    "df_out.shape"
   ]
  },
  {
   "cell_type": "markdown",
   "metadata": {},
   "source": [
    "### Percentage data will be used for the feature engineering step"
   ]
  },
  {
   "cell_type": "code",
   "execution_count": 41,
   "metadata": {},
   "outputs": [
    {
     "data": {
      "text/plain": [
       "90.89041095890411"
      ]
     },
     "execution_count": 41,
     "metadata": {},
     "output_type": "execute_result"
    }
   ],
   "source": [
    "len(df_out)/len(df)*100"
   ]
  },
  {
   "cell_type": "markdown",
   "metadata": {},
   "source": [
    "### Remove column \"z\" from dataframe"
   ]
  },
  {
   "cell_type": "code",
   "execution_count": 42,
   "metadata": {},
   "outputs": [],
   "source": [
    "df_out=df_out.drop(columns=['z'])"
   ]
  },
  {
   "cell_type": "code",
   "execution_count": 43,
   "metadata": {},
   "outputs": [
    {
     "data": {
      "text/plain": [
       "(1327, 76)"
      ]
     },
     "execution_count": 43,
     "metadata": {},
     "output_type": "execute_result"
    }
   ],
   "source": [
    "df_out.shape"
   ]
  },
  {
   "cell_type": "markdown",
   "metadata": {},
   "source": [
    "## Convert all 'object' datatype variables to 'numerical\" variables."
   ]
  },
  {
   "cell_type": "markdown",
   "metadata": {},
   "source": [
    "### First we need to convert \"object\" datatype to \"categorical\" datatype."
   ]
  },
  {
   "cell_type": "code",
   "execution_count": 44,
   "metadata": {
    "scrolled": true
   },
   "outputs": [
    {
     "data": {
      "text/html": [
       "<div>\n",
       "<style scoped>\n",
       "    .dataframe tbody tr th:only-of-type {\n",
       "        vertical-align: middle;\n",
       "    }\n",
       "\n",
       "    .dataframe tbody tr th {\n",
       "        vertical-align: top;\n",
       "    }\n",
       "\n",
       "    .dataframe thead th {\n",
       "        text-align: right;\n",
       "    }\n",
       "</style>\n",
       "<table border=\"1\" class=\"dataframe\">\n",
       "  <thead>\n",
       "    <tr style=\"text-align: right;\">\n",
       "      <th></th>\n",
       "      <th>BldgType</th>\n",
       "      <th>BsmtCond</th>\n",
       "      <th>BsmtExposure</th>\n",
       "      <th>BsmtFinType1</th>\n",
       "      <th>BsmtFinType2</th>\n",
       "      <th>BsmtQual</th>\n",
       "      <th>CentralAir</th>\n",
       "      <th>Condition1</th>\n",
       "      <th>Condition2</th>\n",
       "      <th>Electrical</th>\n",
       "      <th>ExterCond</th>\n",
       "      <th>ExterQual</th>\n",
       "      <th>Exterior1st</th>\n",
       "      <th>Exterior2nd</th>\n",
       "      <th>Foundation</th>\n",
       "      <th>Functional</th>\n",
       "      <th>GarageCond</th>\n",
       "      <th>GarageFinish</th>\n",
       "      <th>GarageQual</th>\n",
       "      <th>GarageType</th>\n",
       "      <th>Heating</th>\n",
       "      <th>HeatingQC</th>\n",
       "      <th>HouseStyle</th>\n",
       "      <th>KitchenQual</th>\n",
       "      <th>LandContour</th>\n",
       "      <th>LandSlope</th>\n",
       "      <th>LotConfig</th>\n",
       "      <th>LotShape</th>\n",
       "      <th>MSZoning</th>\n",
       "      <th>MasVnrType</th>\n",
       "      <th>Neighborhood</th>\n",
       "      <th>PavedDrive</th>\n",
       "      <th>RoofMatl</th>\n",
       "      <th>RoofStyle</th>\n",
       "      <th>SaleCondition</th>\n",
       "      <th>SaleType</th>\n",
       "      <th>Street</th>\n",
       "      <th>Utilities</th>\n",
       "    </tr>\n",
       "  </thead>\n",
       "  <tbody>\n",
       "    <tr>\n",
       "      <th>0</th>\n",
       "      <td>1Fam</td>\n",
       "      <td>TA</td>\n",
       "      <td>No</td>\n",
       "      <td>GLQ</td>\n",
       "      <td>Unf</td>\n",
       "      <td>Gd</td>\n",
       "      <td>Y</td>\n",
       "      <td>Norm</td>\n",
       "      <td>Norm</td>\n",
       "      <td>SBrkr</td>\n",
       "      <td>TA</td>\n",
       "      <td>Gd</td>\n",
       "      <td>VinylSd</td>\n",
       "      <td>VinylSd</td>\n",
       "      <td>PConc</td>\n",
       "      <td>Typ</td>\n",
       "      <td>TA</td>\n",
       "      <td>RFn</td>\n",
       "      <td>TA</td>\n",
       "      <td>Attchd</td>\n",
       "      <td>GasA</td>\n",
       "      <td>Ex</td>\n",
       "      <td>2Story</td>\n",
       "      <td>Gd</td>\n",
       "      <td>Lvl</td>\n",
       "      <td>Gtl</td>\n",
       "      <td>Inside</td>\n",
       "      <td>Reg</td>\n",
       "      <td>RL</td>\n",
       "      <td>BrkFace</td>\n",
       "      <td>CollgCr</td>\n",
       "      <td>Y</td>\n",
       "      <td>CompShg</td>\n",
       "      <td>Gable</td>\n",
       "      <td>Normal</td>\n",
       "      <td>WD</td>\n",
       "      <td>Pave</td>\n",
       "      <td>AllPub</td>\n",
       "    </tr>\n",
       "    <tr>\n",
       "      <th>1</th>\n",
       "      <td>1Fam</td>\n",
       "      <td>TA</td>\n",
       "      <td>Gd</td>\n",
       "      <td>ALQ</td>\n",
       "      <td>Unf</td>\n",
       "      <td>Gd</td>\n",
       "      <td>Y</td>\n",
       "      <td>Feedr</td>\n",
       "      <td>Norm</td>\n",
       "      <td>SBrkr</td>\n",
       "      <td>TA</td>\n",
       "      <td>TA</td>\n",
       "      <td>MetalSd</td>\n",
       "      <td>MetalSd</td>\n",
       "      <td>CBlock</td>\n",
       "      <td>Typ</td>\n",
       "      <td>TA</td>\n",
       "      <td>RFn</td>\n",
       "      <td>TA</td>\n",
       "      <td>Attchd</td>\n",
       "      <td>GasA</td>\n",
       "      <td>Ex</td>\n",
       "      <td>1Story</td>\n",
       "      <td>TA</td>\n",
       "      <td>Lvl</td>\n",
       "      <td>Gtl</td>\n",
       "      <td>FR2</td>\n",
       "      <td>Reg</td>\n",
       "      <td>RL</td>\n",
       "      <td>None</td>\n",
       "      <td>Veenker</td>\n",
       "      <td>Y</td>\n",
       "      <td>CompShg</td>\n",
       "      <td>Gable</td>\n",
       "      <td>Normal</td>\n",
       "      <td>WD</td>\n",
       "      <td>Pave</td>\n",
       "      <td>AllPub</td>\n",
       "    </tr>\n",
       "    <tr>\n",
       "      <th>2</th>\n",
       "      <td>1Fam</td>\n",
       "      <td>TA</td>\n",
       "      <td>Mn</td>\n",
       "      <td>GLQ</td>\n",
       "      <td>Unf</td>\n",
       "      <td>Gd</td>\n",
       "      <td>Y</td>\n",
       "      <td>Norm</td>\n",
       "      <td>Norm</td>\n",
       "      <td>SBrkr</td>\n",
       "      <td>TA</td>\n",
       "      <td>Gd</td>\n",
       "      <td>VinylSd</td>\n",
       "      <td>VinylSd</td>\n",
       "      <td>PConc</td>\n",
       "      <td>Typ</td>\n",
       "      <td>TA</td>\n",
       "      <td>RFn</td>\n",
       "      <td>TA</td>\n",
       "      <td>Attchd</td>\n",
       "      <td>GasA</td>\n",
       "      <td>Ex</td>\n",
       "      <td>2Story</td>\n",
       "      <td>Gd</td>\n",
       "      <td>Lvl</td>\n",
       "      <td>Gtl</td>\n",
       "      <td>Inside</td>\n",
       "      <td>IR1</td>\n",
       "      <td>RL</td>\n",
       "      <td>BrkFace</td>\n",
       "      <td>CollgCr</td>\n",
       "      <td>Y</td>\n",
       "      <td>CompShg</td>\n",
       "      <td>Gable</td>\n",
       "      <td>Normal</td>\n",
       "      <td>WD</td>\n",
       "      <td>Pave</td>\n",
       "      <td>AllPub</td>\n",
       "    </tr>\n",
       "    <tr>\n",
       "      <th>3</th>\n",
       "      <td>1Fam</td>\n",
       "      <td>Gd</td>\n",
       "      <td>No</td>\n",
       "      <td>ALQ</td>\n",
       "      <td>Unf</td>\n",
       "      <td>TA</td>\n",
       "      <td>Y</td>\n",
       "      <td>Norm</td>\n",
       "      <td>Norm</td>\n",
       "      <td>SBrkr</td>\n",
       "      <td>TA</td>\n",
       "      <td>TA</td>\n",
       "      <td>Wd Sdng</td>\n",
       "      <td>Wd Shng</td>\n",
       "      <td>BrkTil</td>\n",
       "      <td>Typ</td>\n",
       "      <td>TA</td>\n",
       "      <td>Unf</td>\n",
       "      <td>TA</td>\n",
       "      <td>Detchd</td>\n",
       "      <td>GasA</td>\n",
       "      <td>Gd</td>\n",
       "      <td>2Story</td>\n",
       "      <td>Gd</td>\n",
       "      <td>Lvl</td>\n",
       "      <td>Gtl</td>\n",
       "      <td>Corner</td>\n",
       "      <td>IR1</td>\n",
       "      <td>RL</td>\n",
       "      <td>None</td>\n",
       "      <td>Crawfor</td>\n",
       "      <td>Y</td>\n",
       "      <td>CompShg</td>\n",
       "      <td>Gable</td>\n",
       "      <td>Abnorml</td>\n",
       "      <td>WD</td>\n",
       "      <td>Pave</td>\n",
       "      <td>AllPub</td>\n",
       "    </tr>\n",
       "    <tr>\n",
       "      <th>4</th>\n",
       "      <td>1Fam</td>\n",
       "      <td>TA</td>\n",
       "      <td>Av</td>\n",
       "      <td>GLQ</td>\n",
       "      <td>Unf</td>\n",
       "      <td>Gd</td>\n",
       "      <td>Y</td>\n",
       "      <td>Norm</td>\n",
       "      <td>Norm</td>\n",
       "      <td>SBrkr</td>\n",
       "      <td>TA</td>\n",
       "      <td>Gd</td>\n",
       "      <td>VinylSd</td>\n",
       "      <td>VinylSd</td>\n",
       "      <td>PConc</td>\n",
       "      <td>Typ</td>\n",
       "      <td>TA</td>\n",
       "      <td>RFn</td>\n",
       "      <td>TA</td>\n",
       "      <td>Attchd</td>\n",
       "      <td>GasA</td>\n",
       "      <td>Ex</td>\n",
       "      <td>2Story</td>\n",
       "      <td>Gd</td>\n",
       "      <td>Lvl</td>\n",
       "      <td>Gtl</td>\n",
       "      <td>FR2</td>\n",
       "      <td>IR1</td>\n",
       "      <td>RL</td>\n",
       "      <td>BrkFace</td>\n",
       "      <td>NoRidge</td>\n",
       "      <td>Y</td>\n",
       "      <td>CompShg</td>\n",
       "      <td>Gable</td>\n",
       "      <td>Normal</td>\n",
       "      <td>WD</td>\n",
       "      <td>Pave</td>\n",
       "      <td>AllPub</td>\n",
       "    </tr>\n",
       "  </tbody>\n",
       "</table>\n",
       "</div>"
      ],
      "text/plain": [
       "  BldgType BsmtCond BsmtExposure BsmtFinType1 BsmtFinType2 BsmtQual  \\\n",
       "0     1Fam       TA           No          GLQ          Unf       Gd   \n",
       "1     1Fam       TA           Gd          ALQ          Unf       Gd   \n",
       "2     1Fam       TA           Mn          GLQ          Unf       Gd   \n",
       "3     1Fam       Gd           No          ALQ          Unf       TA   \n",
       "4     1Fam       TA           Av          GLQ          Unf       Gd   \n",
       "\n",
       "  CentralAir Condition1 Condition2 Electrical ExterCond ExterQual Exterior1st  \\\n",
       "0          Y       Norm       Norm      SBrkr        TA        Gd     VinylSd   \n",
       "1          Y      Feedr       Norm      SBrkr        TA        TA     MetalSd   \n",
       "2          Y       Norm       Norm      SBrkr        TA        Gd     VinylSd   \n",
       "3          Y       Norm       Norm      SBrkr        TA        TA     Wd Sdng   \n",
       "4          Y       Norm       Norm      SBrkr        TA        Gd     VinylSd   \n",
       "\n",
       "  Exterior2nd Foundation Functional GarageCond GarageFinish GarageQual  \\\n",
       "0     VinylSd      PConc        Typ         TA          RFn         TA   \n",
       "1     MetalSd     CBlock        Typ         TA          RFn         TA   \n",
       "2     VinylSd      PConc        Typ         TA          RFn         TA   \n",
       "3     Wd Shng     BrkTil        Typ         TA          Unf         TA   \n",
       "4     VinylSd      PConc        Typ         TA          RFn         TA   \n",
       "\n",
       "  GarageType Heating HeatingQC HouseStyle KitchenQual LandContour LandSlope  \\\n",
       "0     Attchd    GasA        Ex     2Story          Gd         Lvl       Gtl   \n",
       "1     Attchd    GasA        Ex     1Story          TA         Lvl       Gtl   \n",
       "2     Attchd    GasA        Ex     2Story          Gd         Lvl       Gtl   \n",
       "3     Detchd    GasA        Gd     2Story          Gd         Lvl       Gtl   \n",
       "4     Attchd    GasA        Ex     2Story          Gd         Lvl       Gtl   \n",
       "\n",
       "  LotConfig LotShape MSZoning MasVnrType Neighborhood PavedDrive RoofMatl  \\\n",
       "0    Inside      Reg       RL    BrkFace      CollgCr          Y  CompShg   \n",
       "1       FR2      Reg       RL       None      Veenker          Y  CompShg   \n",
       "2    Inside      IR1       RL    BrkFace      CollgCr          Y  CompShg   \n",
       "3    Corner      IR1       RL       None      Crawfor          Y  CompShg   \n",
       "4       FR2      IR1       RL    BrkFace      NoRidge          Y  CompShg   \n",
       "\n",
       "  RoofStyle SaleCondition SaleType Street Utilities  \n",
       "0     Gable        Normal       WD   Pave    AllPub  \n",
       "1     Gable        Normal       WD   Pave    AllPub  \n",
       "2     Gable        Normal       WD   Pave    AllPub  \n",
       "3     Gable       Abnorml       WD   Pave    AllPub  \n",
       "4     Gable        Normal       WD   Pave    AllPub  "
      ]
     },
     "execution_count": 44,
     "metadata": {},
     "output_type": "execute_result"
    }
   ],
   "source": [
    "df_out.select_dtypes(include=['object']).head()"
   ]
  },
  {
   "cell_type": "code",
   "execution_count": 45,
   "metadata": {},
   "outputs": [
    {
     "data": {
      "text/plain": [
       "['BldgType',\n",
       " 'BsmtCond',\n",
       " 'BsmtExposure',\n",
       " 'BsmtFinType1',\n",
       " 'BsmtFinType2',\n",
       " 'BsmtQual',\n",
       " 'CentralAir',\n",
       " 'Condition1',\n",
       " 'Condition2',\n",
       " 'Electrical',\n",
       " 'ExterCond',\n",
       " 'ExterQual',\n",
       " 'Exterior1st',\n",
       " 'Exterior2nd',\n",
       " 'Foundation',\n",
       " 'Functional',\n",
       " 'GarageCond',\n",
       " 'GarageFinish',\n",
       " 'GarageQual',\n",
       " 'GarageType',\n",
       " 'Heating',\n",
       " 'HeatingQC',\n",
       " 'HouseStyle',\n",
       " 'KitchenQual',\n",
       " 'LandContour',\n",
       " 'LandSlope',\n",
       " 'LotConfig',\n",
       " 'LotShape',\n",
       " 'MSZoning',\n",
       " 'MasVnrType',\n",
       " 'Neighborhood',\n",
       " 'PavedDrive',\n",
       " 'RoofMatl',\n",
       " 'RoofStyle',\n",
       " 'SaleCondition',\n",
       " 'SaleType',\n",
       " 'Street',\n",
       " 'Utilities']"
      ]
     },
     "execution_count": 45,
     "metadata": {},
     "output_type": "execute_result"
    }
   ],
   "source": [
    "df_out_object_col=list(df_out.select_dtypes(include=['object']).columns.values)\n",
    "df_out_object_col"
   ]
  },
  {
   "cell_type": "code",
   "execution_count": 46,
   "metadata": {},
   "outputs": [
    {
     "data": {
      "text/html": [
       "<div>\n",
       "<style scoped>\n",
       "    .dataframe tbody tr th:only-of-type {\n",
       "        vertical-align: middle;\n",
       "    }\n",
       "\n",
       "    .dataframe tbody tr th {\n",
       "        vertical-align: top;\n",
       "    }\n",
       "\n",
       "    .dataframe thead th {\n",
       "        text-align: right;\n",
       "    }\n",
       "</style>\n",
       "<table border=\"1\" class=\"dataframe\">\n",
       "  <thead>\n",
       "    <tr style=\"text-align: right;\">\n",
       "      <th></th>\n",
       "      <th>BldgType</th>\n",
       "      <th>BsmtCond</th>\n",
       "      <th>BsmtExposure</th>\n",
       "      <th>BsmtFinType1</th>\n",
       "      <th>BsmtFinType2</th>\n",
       "      <th>BsmtQual</th>\n",
       "      <th>CentralAir</th>\n",
       "      <th>Condition1</th>\n",
       "      <th>Condition2</th>\n",
       "      <th>Electrical</th>\n",
       "      <th>ExterCond</th>\n",
       "      <th>ExterQual</th>\n",
       "      <th>Exterior1st</th>\n",
       "      <th>Exterior2nd</th>\n",
       "      <th>Foundation</th>\n",
       "      <th>Functional</th>\n",
       "      <th>GarageCond</th>\n",
       "      <th>GarageFinish</th>\n",
       "      <th>GarageQual</th>\n",
       "      <th>GarageType</th>\n",
       "      <th>Heating</th>\n",
       "      <th>HeatingQC</th>\n",
       "      <th>HouseStyle</th>\n",
       "      <th>KitchenQual</th>\n",
       "      <th>LandContour</th>\n",
       "      <th>LandSlope</th>\n",
       "      <th>LotConfig</th>\n",
       "      <th>LotShape</th>\n",
       "      <th>MSZoning</th>\n",
       "      <th>MasVnrType</th>\n",
       "      <th>Neighborhood</th>\n",
       "      <th>PavedDrive</th>\n",
       "      <th>RoofMatl</th>\n",
       "      <th>RoofStyle</th>\n",
       "      <th>SaleCondition</th>\n",
       "      <th>SaleType</th>\n",
       "      <th>Street</th>\n",
       "      <th>Utilities</th>\n",
       "    </tr>\n",
       "  </thead>\n",
       "  <tbody>\n",
       "    <tr>\n",
       "      <th>0</th>\n",
       "      <td>1Fam</td>\n",
       "      <td>TA</td>\n",
       "      <td>No</td>\n",
       "      <td>GLQ</td>\n",
       "      <td>Unf</td>\n",
       "      <td>Gd</td>\n",
       "      <td>Y</td>\n",
       "      <td>Norm</td>\n",
       "      <td>Norm</td>\n",
       "      <td>SBrkr</td>\n",
       "      <td>TA</td>\n",
       "      <td>Gd</td>\n",
       "      <td>VinylSd</td>\n",
       "      <td>VinylSd</td>\n",
       "      <td>PConc</td>\n",
       "      <td>Typ</td>\n",
       "      <td>TA</td>\n",
       "      <td>RFn</td>\n",
       "      <td>TA</td>\n",
       "      <td>Attchd</td>\n",
       "      <td>GasA</td>\n",
       "      <td>Ex</td>\n",
       "      <td>2Story</td>\n",
       "      <td>Gd</td>\n",
       "      <td>Lvl</td>\n",
       "      <td>Gtl</td>\n",
       "      <td>Inside</td>\n",
       "      <td>Reg</td>\n",
       "      <td>RL</td>\n",
       "      <td>BrkFace</td>\n",
       "      <td>CollgCr</td>\n",
       "      <td>Y</td>\n",
       "      <td>CompShg</td>\n",
       "      <td>Gable</td>\n",
       "      <td>Normal</td>\n",
       "      <td>WD</td>\n",
       "      <td>Pave</td>\n",
       "      <td>AllPub</td>\n",
       "    </tr>\n",
       "    <tr>\n",
       "      <th>1</th>\n",
       "      <td>1Fam</td>\n",
       "      <td>TA</td>\n",
       "      <td>Gd</td>\n",
       "      <td>ALQ</td>\n",
       "      <td>Unf</td>\n",
       "      <td>Gd</td>\n",
       "      <td>Y</td>\n",
       "      <td>Feedr</td>\n",
       "      <td>Norm</td>\n",
       "      <td>SBrkr</td>\n",
       "      <td>TA</td>\n",
       "      <td>TA</td>\n",
       "      <td>MetalSd</td>\n",
       "      <td>MetalSd</td>\n",
       "      <td>CBlock</td>\n",
       "      <td>Typ</td>\n",
       "      <td>TA</td>\n",
       "      <td>RFn</td>\n",
       "      <td>TA</td>\n",
       "      <td>Attchd</td>\n",
       "      <td>GasA</td>\n",
       "      <td>Ex</td>\n",
       "      <td>1Story</td>\n",
       "      <td>TA</td>\n",
       "      <td>Lvl</td>\n",
       "      <td>Gtl</td>\n",
       "      <td>FR2</td>\n",
       "      <td>Reg</td>\n",
       "      <td>RL</td>\n",
       "      <td>None</td>\n",
       "      <td>Veenker</td>\n",
       "      <td>Y</td>\n",
       "      <td>CompShg</td>\n",
       "      <td>Gable</td>\n",
       "      <td>Normal</td>\n",
       "      <td>WD</td>\n",
       "      <td>Pave</td>\n",
       "      <td>AllPub</td>\n",
       "    </tr>\n",
       "    <tr>\n",
       "      <th>2</th>\n",
       "      <td>1Fam</td>\n",
       "      <td>TA</td>\n",
       "      <td>Mn</td>\n",
       "      <td>GLQ</td>\n",
       "      <td>Unf</td>\n",
       "      <td>Gd</td>\n",
       "      <td>Y</td>\n",
       "      <td>Norm</td>\n",
       "      <td>Norm</td>\n",
       "      <td>SBrkr</td>\n",
       "      <td>TA</td>\n",
       "      <td>Gd</td>\n",
       "      <td>VinylSd</td>\n",
       "      <td>VinylSd</td>\n",
       "      <td>PConc</td>\n",
       "      <td>Typ</td>\n",
       "      <td>TA</td>\n",
       "      <td>RFn</td>\n",
       "      <td>TA</td>\n",
       "      <td>Attchd</td>\n",
       "      <td>GasA</td>\n",
       "      <td>Ex</td>\n",
       "      <td>2Story</td>\n",
       "      <td>Gd</td>\n",
       "      <td>Lvl</td>\n",
       "      <td>Gtl</td>\n",
       "      <td>Inside</td>\n",
       "      <td>IR1</td>\n",
       "      <td>RL</td>\n",
       "      <td>BrkFace</td>\n",
       "      <td>CollgCr</td>\n",
       "      <td>Y</td>\n",
       "      <td>CompShg</td>\n",
       "      <td>Gable</td>\n",
       "      <td>Normal</td>\n",
       "      <td>WD</td>\n",
       "      <td>Pave</td>\n",
       "      <td>AllPub</td>\n",
       "    </tr>\n",
       "    <tr>\n",
       "      <th>3</th>\n",
       "      <td>1Fam</td>\n",
       "      <td>Gd</td>\n",
       "      <td>No</td>\n",
       "      <td>ALQ</td>\n",
       "      <td>Unf</td>\n",
       "      <td>TA</td>\n",
       "      <td>Y</td>\n",
       "      <td>Norm</td>\n",
       "      <td>Norm</td>\n",
       "      <td>SBrkr</td>\n",
       "      <td>TA</td>\n",
       "      <td>TA</td>\n",
       "      <td>Wd Sdng</td>\n",
       "      <td>Wd Shng</td>\n",
       "      <td>BrkTil</td>\n",
       "      <td>Typ</td>\n",
       "      <td>TA</td>\n",
       "      <td>Unf</td>\n",
       "      <td>TA</td>\n",
       "      <td>Detchd</td>\n",
       "      <td>GasA</td>\n",
       "      <td>Gd</td>\n",
       "      <td>2Story</td>\n",
       "      <td>Gd</td>\n",
       "      <td>Lvl</td>\n",
       "      <td>Gtl</td>\n",
       "      <td>Corner</td>\n",
       "      <td>IR1</td>\n",
       "      <td>RL</td>\n",
       "      <td>None</td>\n",
       "      <td>Crawfor</td>\n",
       "      <td>Y</td>\n",
       "      <td>CompShg</td>\n",
       "      <td>Gable</td>\n",
       "      <td>Abnorml</td>\n",
       "      <td>WD</td>\n",
       "      <td>Pave</td>\n",
       "      <td>AllPub</td>\n",
       "    </tr>\n",
       "    <tr>\n",
       "      <th>4</th>\n",
       "      <td>1Fam</td>\n",
       "      <td>TA</td>\n",
       "      <td>Av</td>\n",
       "      <td>GLQ</td>\n",
       "      <td>Unf</td>\n",
       "      <td>Gd</td>\n",
       "      <td>Y</td>\n",
       "      <td>Norm</td>\n",
       "      <td>Norm</td>\n",
       "      <td>SBrkr</td>\n",
       "      <td>TA</td>\n",
       "      <td>Gd</td>\n",
       "      <td>VinylSd</td>\n",
       "      <td>VinylSd</td>\n",
       "      <td>PConc</td>\n",
       "      <td>Typ</td>\n",
       "      <td>TA</td>\n",
       "      <td>RFn</td>\n",
       "      <td>TA</td>\n",
       "      <td>Attchd</td>\n",
       "      <td>GasA</td>\n",
       "      <td>Ex</td>\n",
       "      <td>2Story</td>\n",
       "      <td>Gd</td>\n",
       "      <td>Lvl</td>\n",
       "      <td>Gtl</td>\n",
       "      <td>FR2</td>\n",
       "      <td>IR1</td>\n",
       "      <td>RL</td>\n",
       "      <td>BrkFace</td>\n",
       "      <td>NoRidge</td>\n",
       "      <td>Y</td>\n",
       "      <td>CompShg</td>\n",
       "      <td>Gable</td>\n",
       "      <td>Normal</td>\n",
       "      <td>WD</td>\n",
       "      <td>Pave</td>\n",
       "      <td>AllPub</td>\n",
       "    </tr>\n",
       "  </tbody>\n",
       "</table>\n",
       "</div>"
      ],
      "text/plain": [
       "  BldgType BsmtCond BsmtExposure BsmtFinType1 BsmtFinType2 BsmtQual  \\\n",
       "0     1Fam       TA           No          GLQ          Unf       Gd   \n",
       "1     1Fam       TA           Gd          ALQ          Unf       Gd   \n",
       "2     1Fam       TA           Mn          GLQ          Unf       Gd   \n",
       "3     1Fam       Gd           No          ALQ          Unf       TA   \n",
       "4     1Fam       TA           Av          GLQ          Unf       Gd   \n",
       "\n",
       "  CentralAir Condition1 Condition2 Electrical ExterCond ExterQual Exterior1st  \\\n",
       "0          Y       Norm       Norm      SBrkr        TA        Gd     VinylSd   \n",
       "1          Y      Feedr       Norm      SBrkr        TA        TA     MetalSd   \n",
       "2          Y       Norm       Norm      SBrkr        TA        Gd     VinylSd   \n",
       "3          Y       Norm       Norm      SBrkr        TA        TA     Wd Sdng   \n",
       "4          Y       Norm       Norm      SBrkr        TA        Gd     VinylSd   \n",
       "\n",
       "  Exterior2nd Foundation Functional GarageCond GarageFinish GarageQual  \\\n",
       "0     VinylSd      PConc        Typ         TA          RFn         TA   \n",
       "1     MetalSd     CBlock        Typ         TA          RFn         TA   \n",
       "2     VinylSd      PConc        Typ         TA          RFn         TA   \n",
       "3     Wd Shng     BrkTil        Typ         TA          Unf         TA   \n",
       "4     VinylSd      PConc        Typ         TA          RFn         TA   \n",
       "\n",
       "  GarageType Heating HeatingQC HouseStyle KitchenQual LandContour LandSlope  \\\n",
       "0     Attchd    GasA        Ex     2Story          Gd         Lvl       Gtl   \n",
       "1     Attchd    GasA        Ex     1Story          TA         Lvl       Gtl   \n",
       "2     Attchd    GasA        Ex     2Story          Gd         Lvl       Gtl   \n",
       "3     Detchd    GasA        Gd     2Story          Gd         Lvl       Gtl   \n",
       "4     Attchd    GasA        Ex     2Story          Gd         Lvl       Gtl   \n",
       "\n",
       "  LotConfig LotShape MSZoning MasVnrType Neighborhood PavedDrive RoofMatl  \\\n",
       "0    Inside      Reg       RL    BrkFace      CollgCr          Y  CompShg   \n",
       "1       FR2      Reg       RL       None      Veenker          Y  CompShg   \n",
       "2    Inside      IR1       RL    BrkFace      CollgCr          Y  CompShg   \n",
       "3    Corner      IR1       RL       None      Crawfor          Y  CompShg   \n",
       "4       FR2      IR1       RL    BrkFace      NoRidge          Y  CompShg   \n",
       "\n",
       "  RoofStyle SaleCondition SaleType Street Utilities  \n",
       "0     Gable        Normal       WD   Pave    AllPub  \n",
       "1     Gable        Normal       WD   Pave    AllPub  \n",
       "2     Gable        Normal       WD   Pave    AllPub  \n",
       "3     Gable       Abnorml       WD   Pave    AllPub  \n",
       "4     Gable        Normal       WD   Pave    AllPub  "
      ]
     },
     "execution_count": 46,
     "metadata": {},
     "output_type": "execute_result"
    }
   ],
   "source": [
    "df_out[df_out_object_col].head()"
   ]
  },
  {
   "cell_type": "code",
   "execution_count": 47,
   "metadata": {},
   "outputs": [],
   "source": [
    "df_out[df_out_object_col]=df_out[df_out_object_col].astype('category',copy=True)"
   ]
  },
  {
   "cell_type": "code",
   "execution_count": 48,
   "metadata": {},
   "outputs": [
    {
     "data": {
      "text/plain": [
       "CategoricalDtype(categories=['1Fam', '2fmCon', 'Duplex', 'Twnhs', 'TwnhsE'], ordered=False)"
      ]
     },
     "execution_count": 48,
     "metadata": {},
     "output_type": "execute_result"
    }
   ],
   "source": [
    "df_out['BldgType'].dtypes"
   ]
  },
  {
   "cell_type": "code",
   "execution_count": 49,
   "metadata": {},
   "outputs": [
    {
     "name": "stdout",
     "output_type": "stream",
     "text": [
      "category\n",
      "category\n",
      "category\n",
      "category\n",
      "category\n",
      "category\n",
      "category\n",
      "category\n",
      "category\n",
      "category\n",
      "category\n",
      "category\n",
      "category\n",
      "category\n",
      "category\n",
      "category\n",
      "category\n",
      "category\n",
      "category\n",
      "category\n",
      "category\n",
      "category\n",
      "category\n",
      "category\n",
      "category\n",
      "category\n",
      "category\n",
      "category\n",
      "category\n",
      "category\n",
      "category\n",
      "category\n",
      "category\n",
      "category\n",
      "category\n",
      "category\n",
      "category\n",
      "category\n"
     ]
    }
   ],
   "source": [
    "for item in df_out_object_col:\n",
    "    print(df_out[item].dtypes)"
   ]
  },
  {
   "cell_type": "markdown",
   "metadata": {},
   "source": [
    "### Then we need to convert \"Category\" variable to \"Numerical\" values with \"Label Encoding\" technique."
   ]
  },
  {
   "cell_type": "code",
   "execution_count": 50,
   "metadata": {
    "scrolled": false
   },
   "outputs": [],
   "source": [
    "for item in df_out_object_col:\n",
    "    df_out[item]=df_out[item].cat.codes"
   ]
  },
  {
   "cell_type": "code",
   "execution_count": 51,
   "metadata": {
    "scrolled": false
   },
   "outputs": [
    {
     "data": {
      "text/html": [
       "<div>\n",
       "<style scoped>\n",
       "    .dataframe tbody tr th:only-of-type {\n",
       "        vertical-align: middle;\n",
       "    }\n",
       "\n",
       "    .dataframe tbody tr th {\n",
       "        vertical-align: top;\n",
       "    }\n",
       "\n",
       "    .dataframe thead th {\n",
       "        text-align: right;\n",
       "    }\n",
       "</style>\n",
       "<table border=\"1\" class=\"dataframe\">\n",
       "  <thead>\n",
       "    <tr style=\"text-align: right;\">\n",
       "      <th></th>\n",
       "      <th>BldgType</th>\n",
       "      <th>BsmtCond</th>\n",
       "      <th>BsmtExposure</th>\n",
       "      <th>BsmtFinType1</th>\n",
       "      <th>BsmtFinType2</th>\n",
       "      <th>BsmtQual</th>\n",
       "      <th>CentralAir</th>\n",
       "      <th>Condition1</th>\n",
       "      <th>Condition2</th>\n",
       "      <th>Electrical</th>\n",
       "      <th>ExterCond</th>\n",
       "      <th>ExterQual</th>\n",
       "      <th>Exterior1st</th>\n",
       "      <th>Exterior2nd</th>\n",
       "      <th>Foundation</th>\n",
       "      <th>Functional</th>\n",
       "      <th>GarageCond</th>\n",
       "      <th>GarageFinish</th>\n",
       "      <th>GarageQual</th>\n",
       "      <th>GarageType</th>\n",
       "      <th>Heating</th>\n",
       "      <th>HeatingQC</th>\n",
       "      <th>HouseStyle</th>\n",
       "      <th>KitchenQual</th>\n",
       "      <th>LandContour</th>\n",
       "      <th>LandSlope</th>\n",
       "      <th>LotConfig</th>\n",
       "      <th>LotShape</th>\n",
       "      <th>MSZoning</th>\n",
       "      <th>MasVnrType</th>\n",
       "      <th>Neighborhood</th>\n",
       "      <th>PavedDrive</th>\n",
       "      <th>RoofMatl</th>\n",
       "      <th>RoofStyle</th>\n",
       "      <th>SaleCondition</th>\n",
       "      <th>SaleType</th>\n",
       "      <th>Street</th>\n",
       "      <th>Utilities</th>\n",
       "    </tr>\n",
       "  </thead>\n",
       "  <tbody>\n",
       "    <tr>\n",
       "      <th>0</th>\n",
       "      <td>0</td>\n",
       "      <td>3</td>\n",
       "      <td>3</td>\n",
       "      <td>2</td>\n",
       "      <td>5</td>\n",
       "      <td>2</td>\n",
       "      <td>1</td>\n",
       "      <td>2</td>\n",
       "      <td>2</td>\n",
       "      <td>4</td>\n",
       "      <td>3</td>\n",
       "      <td>2</td>\n",
       "      <td>11</td>\n",
       "      <td>13</td>\n",
       "      <td>2</td>\n",
       "      <td>6</td>\n",
       "      <td>4</td>\n",
       "      <td>1</td>\n",
       "      <td>4</td>\n",
       "      <td>1</td>\n",
       "      <td>0</td>\n",
       "      <td>0</td>\n",
       "      <td>5</td>\n",
       "      <td>2</td>\n",
       "      <td>3</td>\n",
       "      <td>0</td>\n",
       "      <td>4</td>\n",
       "      <td>3</td>\n",
       "      <td>3</td>\n",
       "      <td>1</td>\n",
       "      <td>5</td>\n",
       "      <td>2</td>\n",
       "      <td>1</td>\n",
       "      <td>1</td>\n",
       "      <td>4</td>\n",
       "      <td>8</td>\n",
       "      <td>1</td>\n",
       "      <td>0</td>\n",
       "    </tr>\n",
       "    <tr>\n",
       "      <th>1</th>\n",
       "      <td>0</td>\n",
       "      <td>3</td>\n",
       "      <td>1</td>\n",
       "      <td>0</td>\n",
       "      <td>5</td>\n",
       "      <td>2</td>\n",
       "      <td>1</td>\n",
       "      <td>1</td>\n",
       "      <td>2</td>\n",
       "      <td>4</td>\n",
       "      <td>3</td>\n",
       "      <td>3</td>\n",
       "      <td>7</td>\n",
       "      <td>8</td>\n",
       "      <td>1</td>\n",
       "      <td>6</td>\n",
       "      <td>4</td>\n",
       "      <td>1</td>\n",
       "      <td>4</td>\n",
       "      <td>1</td>\n",
       "      <td>0</td>\n",
       "      <td>0</td>\n",
       "      <td>2</td>\n",
       "      <td>3</td>\n",
       "      <td>3</td>\n",
       "      <td>0</td>\n",
       "      <td>2</td>\n",
       "      <td>3</td>\n",
       "      <td>3</td>\n",
       "      <td>2</td>\n",
       "      <td>24</td>\n",
       "      <td>2</td>\n",
       "      <td>1</td>\n",
       "      <td>1</td>\n",
       "      <td>4</td>\n",
       "      <td>8</td>\n",
       "      <td>1</td>\n",
       "      <td>0</td>\n",
       "    </tr>\n",
       "    <tr>\n",
       "      <th>2</th>\n",
       "      <td>0</td>\n",
       "      <td>3</td>\n",
       "      <td>2</td>\n",
       "      <td>2</td>\n",
       "      <td>5</td>\n",
       "      <td>2</td>\n",
       "      <td>1</td>\n",
       "      <td>2</td>\n",
       "      <td>2</td>\n",
       "      <td>4</td>\n",
       "      <td>3</td>\n",
       "      <td>2</td>\n",
       "      <td>11</td>\n",
       "      <td>13</td>\n",
       "      <td>2</td>\n",
       "      <td>6</td>\n",
       "      <td>4</td>\n",
       "      <td>1</td>\n",
       "      <td>4</td>\n",
       "      <td>1</td>\n",
       "      <td>0</td>\n",
       "      <td>0</td>\n",
       "      <td>5</td>\n",
       "      <td>2</td>\n",
       "      <td>3</td>\n",
       "      <td>0</td>\n",
       "      <td>4</td>\n",
       "      <td>0</td>\n",
       "      <td>3</td>\n",
       "      <td>1</td>\n",
       "      <td>5</td>\n",
       "      <td>2</td>\n",
       "      <td>1</td>\n",
       "      <td>1</td>\n",
       "      <td>4</td>\n",
       "      <td>8</td>\n",
       "      <td>1</td>\n",
       "      <td>0</td>\n",
       "    </tr>\n",
       "    <tr>\n",
       "      <th>3</th>\n",
       "      <td>0</td>\n",
       "      <td>1</td>\n",
       "      <td>3</td>\n",
       "      <td>0</td>\n",
       "      <td>5</td>\n",
       "      <td>3</td>\n",
       "      <td>1</td>\n",
       "      <td>2</td>\n",
       "      <td>2</td>\n",
       "      <td>4</td>\n",
       "      <td>3</td>\n",
       "      <td>3</td>\n",
       "      <td>12</td>\n",
       "      <td>15</td>\n",
       "      <td>0</td>\n",
       "      <td>6</td>\n",
       "      <td>4</td>\n",
       "      <td>2</td>\n",
       "      <td>4</td>\n",
       "      <td>5</td>\n",
       "      <td>0</td>\n",
       "      <td>2</td>\n",
       "      <td>5</td>\n",
       "      <td>2</td>\n",
       "      <td>3</td>\n",
       "      <td>0</td>\n",
       "      <td>0</td>\n",
       "      <td>0</td>\n",
       "      <td>3</td>\n",
       "      <td>2</td>\n",
       "      <td>6</td>\n",
       "      <td>2</td>\n",
       "      <td>1</td>\n",
       "      <td>1</td>\n",
       "      <td>0</td>\n",
       "      <td>8</td>\n",
       "      <td>1</td>\n",
       "      <td>0</td>\n",
       "    </tr>\n",
       "    <tr>\n",
       "      <th>4</th>\n",
       "      <td>0</td>\n",
       "      <td>3</td>\n",
       "      <td>0</td>\n",
       "      <td>2</td>\n",
       "      <td>5</td>\n",
       "      <td>2</td>\n",
       "      <td>1</td>\n",
       "      <td>2</td>\n",
       "      <td>2</td>\n",
       "      <td>4</td>\n",
       "      <td>3</td>\n",
       "      <td>2</td>\n",
       "      <td>11</td>\n",
       "      <td>13</td>\n",
       "      <td>2</td>\n",
       "      <td>6</td>\n",
       "      <td>4</td>\n",
       "      <td>1</td>\n",
       "      <td>4</td>\n",
       "      <td>1</td>\n",
       "      <td>0</td>\n",
       "      <td>0</td>\n",
       "      <td>5</td>\n",
       "      <td>2</td>\n",
       "      <td>3</td>\n",
       "      <td>0</td>\n",
       "      <td>2</td>\n",
       "      <td>0</td>\n",
       "      <td>3</td>\n",
       "      <td>1</td>\n",
       "      <td>15</td>\n",
       "      <td>2</td>\n",
       "      <td>1</td>\n",
       "      <td>1</td>\n",
       "      <td>4</td>\n",
       "      <td>8</td>\n",
       "      <td>1</td>\n",
       "      <td>0</td>\n",
       "    </tr>\n",
       "  </tbody>\n",
       "</table>\n",
       "</div>"
      ],
      "text/plain": [
       "   BldgType  BsmtCond  BsmtExposure  BsmtFinType1  BsmtFinType2  BsmtQual  \\\n",
       "0         0         3             3             2             5         2   \n",
       "1         0         3             1             0             5         2   \n",
       "2         0         3             2             2             5         2   \n",
       "3         0         1             3             0             5         3   \n",
       "4         0         3             0             2             5         2   \n",
       "\n",
       "   CentralAir  Condition1  Condition2  Electrical  ExterCond  ExterQual  \\\n",
       "0           1           2           2           4          3          2   \n",
       "1           1           1           2           4          3          3   \n",
       "2           1           2           2           4          3          2   \n",
       "3           1           2           2           4          3          3   \n",
       "4           1           2           2           4          3          2   \n",
       "\n",
       "   Exterior1st  Exterior2nd  Foundation  Functional  GarageCond  GarageFinish  \\\n",
       "0           11           13           2           6           4             1   \n",
       "1            7            8           1           6           4             1   \n",
       "2           11           13           2           6           4             1   \n",
       "3           12           15           0           6           4             2   \n",
       "4           11           13           2           6           4             1   \n",
       "\n",
       "   GarageQual  GarageType  Heating  HeatingQC  HouseStyle  KitchenQual  \\\n",
       "0           4           1        0          0           5            2   \n",
       "1           4           1        0          0           2            3   \n",
       "2           4           1        0          0           5            2   \n",
       "3           4           5        0          2           5            2   \n",
       "4           4           1        0          0           5            2   \n",
       "\n",
       "   LandContour  LandSlope  LotConfig  LotShape  MSZoning  MasVnrType  \\\n",
       "0            3          0          4         3         3           1   \n",
       "1            3          0          2         3         3           2   \n",
       "2            3          0          4         0         3           1   \n",
       "3            3          0          0         0         3           2   \n",
       "4            3          0          2         0         3           1   \n",
       "\n",
       "   Neighborhood  PavedDrive  RoofMatl  RoofStyle  SaleCondition  SaleType  \\\n",
       "0             5           2         1          1              4         8   \n",
       "1            24           2         1          1              4         8   \n",
       "2             5           2         1          1              4         8   \n",
       "3             6           2         1          1              0         8   \n",
       "4            15           2         1          1              4         8   \n",
       "\n",
       "   Street  Utilities  \n",
       "0       1          0  \n",
       "1       1          0  \n",
       "2       1          0  \n",
       "3       1          0  \n",
       "4       1          0  "
      ]
     },
     "execution_count": 51,
     "metadata": {},
     "output_type": "execute_result"
    }
   ],
   "source": [
    "df_out[df_out_object_col].head()"
   ]
  },
  {
   "cell_type": "markdown",
   "metadata": {},
   "source": [
    "## Standardize all the continuous variables"
   ]
  },
  {
   "cell_type": "code",
   "execution_count": 52,
   "metadata": {},
   "outputs": [],
   "source": [
    "scaler=StandardScaler()\n",
    "array_out=scaler.fit_transform(df_out)"
   ]
  },
  {
   "cell_type": "code",
   "execution_count": 53,
   "metadata": {},
   "outputs": [],
   "source": [
    "values=array_out\n",
    "col=df_out.columns\n",
    "df_out=pd.DataFrame(data=values,columns=col)"
   ]
  },
  {
   "cell_type": "code",
   "execution_count": 54,
   "metadata": {},
   "outputs": [
    {
     "data": {
      "text/html": [
       "<div>\n",
       "<style scoped>\n",
       "    .dataframe tbody tr th:only-of-type {\n",
       "        vertical-align: middle;\n",
       "    }\n",
       "\n",
       "    .dataframe tbody tr th {\n",
       "        vertical-align: top;\n",
       "    }\n",
       "\n",
       "    .dataframe thead th {\n",
       "        text-align: right;\n",
       "    }\n",
       "</style>\n",
       "<table border=\"1\" class=\"dataframe\">\n",
       "  <thead>\n",
       "    <tr style=\"text-align: right;\">\n",
       "      <th></th>\n",
       "      <th>1stFlrSF</th>\n",
       "      <th>2ndFlrSF</th>\n",
       "      <th>3SsnPorch</th>\n",
       "      <th>BedroomAbvGr</th>\n",
       "      <th>BldgType</th>\n",
       "      <th>BsmtCond</th>\n",
       "      <th>BsmtExposure</th>\n",
       "      <th>BsmtFinSF1</th>\n",
       "      <th>BsmtFinSF2</th>\n",
       "      <th>BsmtFinType1</th>\n",
       "      <th>BsmtFinType2</th>\n",
       "      <th>BsmtFullBath</th>\n",
       "      <th>BsmtHalfBath</th>\n",
       "      <th>BsmtQual</th>\n",
       "      <th>BsmtUnfSF</th>\n",
       "      <th>CentralAir</th>\n",
       "      <th>Condition1</th>\n",
       "      <th>Condition2</th>\n",
       "      <th>Electrical</th>\n",
       "      <th>EnclosedPorch</th>\n",
       "      <th>ExterCond</th>\n",
       "      <th>ExterQual</th>\n",
       "      <th>Exterior1st</th>\n",
       "      <th>Exterior2nd</th>\n",
       "      <th>FireplaceQu</th>\n",
       "      <th>Fireplaces</th>\n",
       "      <th>Foundation</th>\n",
       "      <th>FullBath</th>\n",
       "      <th>Functional</th>\n",
       "      <th>GarageArea</th>\n",
       "      <th>GarageCars</th>\n",
       "      <th>GarageCond</th>\n",
       "      <th>GarageFinish</th>\n",
       "      <th>GarageQual</th>\n",
       "      <th>GarageType</th>\n",
       "      <th>GarageYrBlt</th>\n",
       "      <th>GrLivArea</th>\n",
       "      <th>HalfBath</th>\n",
       "      <th>Heating</th>\n",
       "      <th>HeatingQC</th>\n",
       "      <th>HouseStyle</th>\n",
       "      <th>KitchenAbvGr</th>\n",
       "      <th>KitchenQual</th>\n",
       "      <th>LandContour</th>\n",
       "      <th>LandSlope</th>\n",
       "      <th>LotArea</th>\n",
       "      <th>LotConfig</th>\n",
       "      <th>LotFrontage</th>\n",
       "      <th>LotShape</th>\n",
       "      <th>LowQualFinSF</th>\n",
       "      <th>MSSubClass</th>\n",
       "      <th>MSZoning</th>\n",
       "      <th>MasVnrArea</th>\n",
       "      <th>MasVnrType</th>\n",
       "      <th>MiscVal</th>\n",
       "      <th>MoSold</th>\n",
       "      <th>Neighborhood</th>\n",
       "      <th>OpenPorchSF</th>\n",
       "      <th>OverallCond</th>\n",
       "      <th>OverallQual</th>\n",
       "      <th>PavedDrive</th>\n",
       "      <th>PoolArea</th>\n",
       "      <th>RoofMatl</th>\n",
       "      <th>RoofStyle</th>\n",
       "      <th>SaleCondition</th>\n",
       "      <th>SalePrice</th>\n",
       "      <th>SaleType</th>\n",
       "      <th>ScreenPorch</th>\n",
       "      <th>Street</th>\n",
       "      <th>TotRmsAbvGrd</th>\n",
       "      <th>TotalBsmtSF</th>\n",
       "      <th>Utilities</th>\n",
       "      <th>WoodDeckSF</th>\n",
       "      <th>YearBuilt</th>\n",
       "      <th>YearRemodAdd</th>\n",
       "      <th>YrSold</th>\n",
       "    </tr>\n",
       "  </thead>\n",
       "  <tbody>\n",
       "    <tr>\n",
       "      <th>0</th>\n",
       "      <td>-0.831168</td>\n",
       "      <td>1.157522</td>\n",
       "      <td>-0.119186</td>\n",
       "      <td>0.177414</td>\n",
       "      <td>-0.396908</td>\n",
       "      <td>0.280279</td>\n",
       "      <td>0.642674</td>\n",
       "      <td>0.544686</td>\n",
       "      <td>-0.296107</td>\n",
       "      <td>-0.385304</td>\n",
       "      <td>0.317912</td>\n",
       "      <td>1.090559</td>\n",
       "      <td>-0.249983</td>\n",
       "      <td>-0.29032</td>\n",
       "      <td>-0.982823</td>\n",
       "      <td>0.213788</td>\n",
       "      <td>-0.060993</td>\n",
       "      <td>-0.036258</td>\n",
       "      <td>0.273021</td>\n",
       "      <td>-0.349900</td>\n",
       "      <td>0.341016</td>\n",
       "      <td>-0.775933</td>\n",
       "      <td>0.751785</td>\n",
       "      <td>0.753980</td>\n",
       "      <td>-1.068519</td>\n",
       "      <td>-1.003962</td>\n",
       "      <td>0.922123</td>\n",
       "      <td>0.797292</td>\n",
       "      <td>0.245298</td>\n",
       "      <td>0.259319</td>\n",
       "      <td>0.21303</td>\n",
       "      <td>0.189163</td>\n",
       "      <td>-0.222185</td>\n",
       "      <td>0.226723</td>\n",
       "      <td>-0.705444</td>\n",
       "      <td>0.989603</td>\n",
       "      <td>0.362788</td>\n",
       "      <td>1.189318</td>\n",
       "      <td>-0.11355</td>\n",
       "      <td>-0.861170</td>\n",
       "      <td>0.997702</td>\n",
       "      <td>-0.171919</td>\n",
       "      <td>-0.412699</td>\n",
       "      <td>0.307506</td>\n",
       "      <td>-0.225814</td>\n",
       "      <td>-0.212706</td>\n",
       "      <td>0.611422</td>\n",
       "      <td>0.211379</td>\n",
       "      <td>0.770677</td>\n",
       "      <td>-0.104174</td>\n",
       "      <td>0.091470</td>\n",
       "      <td>-0.050653</td>\n",
       "      <td>0.493456</td>\n",
       "      <td>-1.184630</td>\n",
       "      <td>-0.084808</td>\n",
       "      <td>-1.609030</td>\n",
       "      <td>-1.214746</td>\n",
       "      <td>0.204055</td>\n",
       "      <td>-0.559311</td>\n",
       "      <td>0.611109</td>\n",
       "      <td>0.24132</td>\n",
       "      <td>-0.066601</td>\n",
       "      <td>-0.123268</td>\n",
       "      <td>-0.496257</td>\n",
       "      <td>0.182147</td>\n",
       "      <td>0.525795</td>\n",
       "      <td>0.315313</td>\n",
       "      <td>-0.279917</td>\n",
       "      <td>0.054986</td>\n",
       "      <td>0.947463</td>\n",
       "      <td>-0.592764</td>\n",
       "      <td>-0.027462</td>\n",
       "      <td>-0.779739</td>\n",
       "      <td>1.018209</td>\n",
       "      <td>0.856842</td>\n",
       "      <td>0.147577</td>\n",
       "    </tr>\n",
       "    <tr>\n",
       "      <th>1</th>\n",
       "      <td>0.238000</td>\n",
       "      <td>-0.814008</td>\n",
       "      <td>-0.119186</td>\n",
       "      <td>0.177414</td>\n",
       "      <td>-0.396908</td>\n",
       "      <td>0.280279</td>\n",
       "      <td>-1.097793</td>\n",
       "      <td>1.147176</td>\n",
       "      <td>-0.296107</td>\n",
       "      <td>-1.484872</td>\n",
       "      <td>0.317912</td>\n",
       "      <td>-0.849350</td>\n",
       "      <td>3.896609</td>\n",
       "      <td>-0.29032</td>\n",
       "      <td>-0.677414</td>\n",
       "      <td>0.213788</td>\n",
       "      <td>-1.185136</td>\n",
       "      <td>-0.036258</td>\n",
       "      <td>0.273021</td>\n",
       "      <td>-0.349900</td>\n",
       "      <td>0.341016</td>\n",
       "      <td>0.688737</td>\n",
       "      <td>-0.545508</td>\n",
       "      <td>-0.682327</td>\n",
       "      <td>0.593761</td>\n",
       "      <td>0.552414</td>\n",
       "      <td>-0.566511</td>\n",
       "      <td>0.797292</td>\n",
       "      <td>0.245298</td>\n",
       "      <td>-0.215034</td>\n",
       "      <td>0.21303</td>\n",
       "      <td>0.189163</td>\n",
       "      <td>-0.222185</td>\n",
       "      <td>0.226723</td>\n",
       "      <td>-0.705444</td>\n",
       "      <td>-0.102441</td>\n",
       "      <td>-0.532593</td>\n",
       "      <td>-0.795871</td>\n",
       "      <td>-0.11355</td>\n",
       "      <td>-0.861170</td>\n",
       "      <td>-0.567868</td>\n",
       "      <td>-0.171919</td>\n",
       "      <td>0.815219</td>\n",
       "      <td>0.307506</td>\n",
       "      <td>-0.225814</td>\n",
       "      <td>-0.100811</td>\n",
       "      <td>-0.616047</td>\n",
       "      <td>0.639143</td>\n",
       "      <td>0.770677</td>\n",
       "      <td>-0.104174</td>\n",
       "      <td>-0.875706</td>\n",
       "      <td>-0.050653</td>\n",
       "      <td>-0.601882</td>\n",
       "      <td>0.400051</td>\n",
       "      <td>-0.084808</td>\n",
       "      <td>-0.496763</td>\n",
       "      <td>1.923950</td>\n",
       "      <td>-0.727828</td>\n",
       "      <td>2.223960</td>\n",
       "      <td>-0.159016</td>\n",
       "      <td>0.24132</td>\n",
       "      <td>-0.066601</td>\n",
       "      <td>-0.123268</td>\n",
       "      <td>-0.496257</td>\n",
       "      <td>0.182147</td>\n",
       "      <td>0.139348</td>\n",
       "      <td>0.315313</td>\n",
       "      <td>-0.279917</td>\n",
       "      <td>0.054986</td>\n",
       "      <td>-0.340737</td>\n",
       "      <td>0.433364</td>\n",
       "      <td>-0.027462</td>\n",
       "      <td>1.568766</td>\n",
       "      <td>0.104048</td>\n",
       "      <td>-0.476135</td>\n",
       "      <td>-0.605632</td>\n",
       "    </tr>\n",
       "    <tr>\n",
       "      <th>2</th>\n",
       "      <td>-0.662629</td>\n",
       "      <td>1.185225</td>\n",
       "      <td>-0.119186</td>\n",
       "      <td>0.177414</td>\n",
       "      <td>-0.396908</td>\n",
       "      <td>0.280279</td>\n",
       "      <td>-0.227559</td>\n",
       "      <td>0.057379</td>\n",
       "      <td>-0.296107</td>\n",
       "      <td>-0.385304</td>\n",
       "      <td>0.317912</td>\n",
       "      <td>1.090559</td>\n",
       "      <td>-0.249983</td>\n",
       "      <td>-0.29032</td>\n",
       "      <td>-0.335537</td>\n",
       "      <td>0.213788</td>\n",
       "      <td>-0.060993</td>\n",
       "      <td>-0.036258</td>\n",
       "      <td>0.273021</td>\n",
       "      <td>-0.349900</td>\n",
       "      <td>0.341016</td>\n",
       "      <td>-0.775933</td>\n",
       "      <td>0.751785</td>\n",
       "      <td>0.753980</td>\n",
       "      <td>0.593761</td>\n",
       "      <td>0.552414</td>\n",
       "      <td>0.922123</td>\n",
       "      <td>0.797292</td>\n",
       "      <td>0.245298</td>\n",
       "      <td>0.582741</td>\n",
       "      <td>0.21303</td>\n",
       "      <td>0.189163</td>\n",
       "      <td>-0.222185</td>\n",
       "      <td>0.226723</td>\n",
       "      <td>-0.705444</td>\n",
       "      <td>0.908711</td>\n",
       "      <td>0.514683</td>\n",
       "      <td>1.189318</td>\n",
       "      <td>-0.11355</td>\n",
       "      <td>-0.861170</td>\n",
       "      <td>0.997702</td>\n",
       "      <td>-0.171919</td>\n",
       "      <td>-0.412699</td>\n",
       "      <td>0.307506</td>\n",
       "      <td>-0.225814</td>\n",
       "      <td>0.059733</td>\n",
       "      <td>0.611422</td>\n",
       "      <td>0.296932</td>\n",
       "      <td>-1.345230</td>\n",
       "      <td>-0.104174</td>\n",
       "      <td>0.091470</td>\n",
       "      <td>-0.050653</td>\n",
       "      <td>0.303449</td>\n",
       "      <td>-1.184630</td>\n",
       "      <td>-0.084808</td>\n",
       "      <td>0.986261</td>\n",
       "      <td>-1.214746</td>\n",
       "      <td>-0.086204</td>\n",
       "      <td>-0.559311</td>\n",
       "      <td>0.611109</td>\n",
       "      <td>0.24132</td>\n",
       "      <td>-0.066601</td>\n",
       "      <td>-0.123268</td>\n",
       "      <td>-0.496257</td>\n",
       "      <td>0.182147</td>\n",
       "      <td>0.719383</td>\n",
       "      <td>0.315313</td>\n",
       "      <td>-0.279917</td>\n",
       "      <td>0.054986</td>\n",
       "      <td>-0.340737</td>\n",
       "      <td>-0.431010</td>\n",
       "      <td>-0.027462</td>\n",
       "      <td>-0.779739</td>\n",
       "      <td>0.950494</td>\n",
       "      <td>0.807472</td>\n",
       "      <td>0.147577</td>\n",
       "    </tr>\n",
       "    <tr>\n",
       "      <th>3</th>\n",
       "      <td>-0.554659</td>\n",
       "      <td>0.931281</td>\n",
       "      <td>-0.119186</td>\n",
       "      <td>0.177414</td>\n",
       "      <td>-0.396908</td>\n",
       "      <td>-2.832105</td>\n",
       "      <td>0.642674</td>\n",
       "      <td>-0.540680</td>\n",
       "      <td>-0.296107</td>\n",
       "      <td>-1.484872</td>\n",
       "      <td>0.317912</td>\n",
       "      <td>1.090559</td>\n",
       "      <td>-0.249983</td>\n",
       "      <td>0.86660</td>\n",
       "      <td>-0.093944</td>\n",
       "      <td>0.213788</td>\n",
       "      <td>-0.060993</td>\n",
       "      <td>-0.036258</td>\n",
       "      <td>0.273021</td>\n",
       "      <td>4.116111</td>\n",
       "      <td>0.341016</td>\n",
       "      <td>0.688737</td>\n",
       "      <td>1.076108</td>\n",
       "      <td>1.328503</td>\n",
       "      <td>1.147855</td>\n",
       "      <td>0.552414</td>\n",
       "      <td>-2.055145</td>\n",
       "      <td>-1.058860</td>\n",
       "      <td>0.245298</td>\n",
       "      <td>0.766014</td>\n",
       "      <td>1.80118</td>\n",
       "      <td>0.189163</td>\n",
       "      <td>1.011455</td>\n",
       "      <td>0.226723</td>\n",
       "      <td>1.543502</td>\n",
       "      <td>0.787372</td>\n",
       "      <td>0.376778</td>\n",
       "      <td>-0.795871</td>\n",
       "      <td>-0.11355</td>\n",
       "      <td>0.292563</td>\n",
       "      <td>0.997702</td>\n",
       "      <td>-0.171919</td>\n",
       "      <td>-0.412699</td>\n",
       "      <td>0.307506</td>\n",
       "      <td>-0.225814</td>\n",
       "      <td>-0.105676</td>\n",
       "      <td>-1.843515</td>\n",
       "      <td>0.068790</td>\n",
       "      <td>-1.345230</td>\n",
       "      <td>-0.104174</td>\n",
       "      <td>0.333264</td>\n",
       "      <td>-0.050653</td>\n",
       "      <td>-0.601882</td>\n",
       "      <td>0.400051</td>\n",
       "      <td>-0.084808</td>\n",
       "      <td>-1.609030</td>\n",
       "      <td>-1.049552</td>\n",
       "      <td>-0.193141</td>\n",
       "      <td>-0.559311</td>\n",
       "      <td>0.611109</td>\n",
       "      <td>0.24132</td>\n",
       "      <td>-0.066601</td>\n",
       "      <td>-0.123268</td>\n",
       "      <td>-0.496257</td>\n",
       "      <td>-3.624302</td>\n",
       "      <td>-0.584076</td>\n",
       "      <td>0.315313</td>\n",
       "      <td>-0.279917</td>\n",
       "      <td>0.054986</td>\n",
       "      <td>0.303363</td>\n",
       "      <td>-0.845505</td>\n",
       "      <td>-0.027462</td>\n",
       "      <td>-0.779739</td>\n",
       "      <td>-1.961278</td>\n",
       "      <td>-0.772352</td>\n",
       "      <td>-1.358840</td>\n",
       "    </tr>\n",
       "    <tr>\n",
       "      <th>4</th>\n",
       "      <td>-0.070110</td>\n",
       "      <td>1.616930</td>\n",
       "      <td>-0.119186</td>\n",
       "      <td>1.470980</td>\n",
       "      <td>-0.396908</td>\n",
       "      <td>0.280279</td>\n",
       "      <td>-1.968027</td>\n",
       "      <td>0.431720</td>\n",
       "      <td>-0.296107</td>\n",
       "      <td>-0.385304</td>\n",
       "      <td>0.317912</td>\n",
       "      <td>1.090559</td>\n",
       "      <td>-0.249983</td>\n",
       "      <td>-0.29032</td>\n",
       "      <td>-0.207903</td>\n",
       "      <td>0.213788</td>\n",
       "      <td>-0.060993</td>\n",
       "      <td>-0.036258</td>\n",
       "      <td>0.273021</td>\n",
       "      <td>-0.349900</td>\n",
       "      <td>0.341016</td>\n",
       "      <td>-0.775933</td>\n",
       "      <td>0.751785</td>\n",
       "      <td>0.753980</td>\n",
       "      <td>0.593761</td>\n",
       "      <td>0.552414</td>\n",
       "      <td>0.922123</td>\n",
       "      <td>0.797292</td>\n",
       "      <td>0.245298</td>\n",
       "      <td>1.811747</td>\n",
       "      <td>1.80118</td>\n",
       "      <td>0.189163</td>\n",
       "      <td>-0.222185</td>\n",
       "      <td>0.226723</td>\n",
       "      <td>-0.705444</td>\n",
       "      <td>0.868264</td>\n",
       "      <td>1.338113</td>\n",
       "      <td>1.189318</td>\n",
       "      <td>-0.11355</td>\n",
       "      <td>-0.861170</td>\n",
       "      <td>0.997702</td>\n",
       "      <td>-0.171919</td>\n",
       "      <td>-0.412699</td>\n",
       "      <td>0.307506</td>\n",
       "      <td>-0.225814</td>\n",
       "      <td>0.352605</td>\n",
       "      <td>-0.616047</td>\n",
       "      <td>0.753214</td>\n",
       "      <td>-1.345230</td>\n",
       "      <td>-0.104174</td>\n",
       "      <td>0.091470</td>\n",
       "      <td>-0.050653</td>\n",
       "      <td>1.354079</td>\n",
       "      <td>-1.184630</td>\n",
       "      <td>-0.084808</td>\n",
       "      <td>2.098529</td>\n",
       "      <td>0.437199</td>\n",
       "      <td>0.555420</td>\n",
       "      <td>-0.559311</td>\n",
       "      <td>1.381234</td>\n",
       "      <td>0.24132</td>\n",
       "      <td>-0.066601</td>\n",
       "      <td>-0.123268</td>\n",
       "      <td>-0.496257</td>\n",
       "      <td>0.182147</td>\n",
       "      <td>1.031614</td>\n",
       "      <td>0.315313</td>\n",
       "      <td>-0.279917</td>\n",
       "      <td>0.054986</td>\n",
       "      <td>1.591563</td>\n",
       "      <td>0.137657</td>\n",
       "      <td>-0.027462</td>\n",
       "      <td>0.733392</td>\n",
       "      <td>0.916636</td>\n",
       "      <td>0.708733</td>\n",
       "      <td>0.147577</td>\n",
       "    </tr>\n",
       "  </tbody>\n",
       "</table>\n",
       "</div>"
      ],
      "text/plain": [
       "   1stFlrSF  2ndFlrSF  3SsnPorch  BedroomAbvGr  BldgType  BsmtCond  \\\n",
       "0 -0.831168  1.157522  -0.119186      0.177414 -0.396908  0.280279   \n",
       "1  0.238000 -0.814008  -0.119186      0.177414 -0.396908  0.280279   \n",
       "2 -0.662629  1.185225  -0.119186      0.177414 -0.396908  0.280279   \n",
       "3 -0.554659  0.931281  -0.119186      0.177414 -0.396908 -2.832105   \n",
       "4 -0.070110  1.616930  -0.119186      1.470980 -0.396908  0.280279   \n",
       "\n",
       "   BsmtExposure  BsmtFinSF1  BsmtFinSF2  BsmtFinType1  BsmtFinType2  \\\n",
       "0      0.642674    0.544686   -0.296107     -0.385304      0.317912   \n",
       "1     -1.097793    1.147176   -0.296107     -1.484872      0.317912   \n",
       "2     -0.227559    0.057379   -0.296107     -0.385304      0.317912   \n",
       "3      0.642674   -0.540680   -0.296107     -1.484872      0.317912   \n",
       "4     -1.968027    0.431720   -0.296107     -0.385304      0.317912   \n",
       "\n",
       "   BsmtFullBath  BsmtHalfBath  BsmtQual  BsmtUnfSF  CentralAir  Condition1  \\\n",
       "0      1.090559     -0.249983  -0.29032  -0.982823    0.213788   -0.060993   \n",
       "1     -0.849350      3.896609  -0.29032  -0.677414    0.213788   -1.185136   \n",
       "2      1.090559     -0.249983  -0.29032  -0.335537    0.213788   -0.060993   \n",
       "3      1.090559     -0.249983   0.86660  -0.093944    0.213788   -0.060993   \n",
       "4      1.090559     -0.249983  -0.29032  -0.207903    0.213788   -0.060993   \n",
       "\n",
       "   Condition2  Electrical  EnclosedPorch  ExterCond  ExterQual  Exterior1st  \\\n",
       "0   -0.036258    0.273021      -0.349900   0.341016  -0.775933     0.751785   \n",
       "1   -0.036258    0.273021      -0.349900   0.341016   0.688737    -0.545508   \n",
       "2   -0.036258    0.273021      -0.349900   0.341016  -0.775933     0.751785   \n",
       "3   -0.036258    0.273021       4.116111   0.341016   0.688737     1.076108   \n",
       "4   -0.036258    0.273021      -0.349900   0.341016  -0.775933     0.751785   \n",
       "\n",
       "   Exterior2nd  FireplaceQu  Fireplaces  Foundation  FullBath  Functional  \\\n",
       "0     0.753980    -1.068519   -1.003962    0.922123  0.797292    0.245298   \n",
       "1    -0.682327     0.593761    0.552414   -0.566511  0.797292    0.245298   \n",
       "2     0.753980     0.593761    0.552414    0.922123  0.797292    0.245298   \n",
       "3     1.328503     1.147855    0.552414   -2.055145 -1.058860    0.245298   \n",
       "4     0.753980     0.593761    0.552414    0.922123  0.797292    0.245298   \n",
       "\n",
       "   GarageArea  GarageCars  GarageCond  GarageFinish  GarageQual  GarageType  \\\n",
       "0    0.259319     0.21303    0.189163     -0.222185    0.226723   -0.705444   \n",
       "1   -0.215034     0.21303    0.189163     -0.222185    0.226723   -0.705444   \n",
       "2    0.582741     0.21303    0.189163     -0.222185    0.226723   -0.705444   \n",
       "3    0.766014     1.80118    0.189163      1.011455    0.226723    1.543502   \n",
       "4    1.811747     1.80118    0.189163     -0.222185    0.226723   -0.705444   \n",
       "\n",
       "   GarageYrBlt  GrLivArea  HalfBath  Heating  HeatingQC  HouseStyle  \\\n",
       "0     0.989603   0.362788  1.189318 -0.11355  -0.861170    0.997702   \n",
       "1    -0.102441  -0.532593 -0.795871 -0.11355  -0.861170   -0.567868   \n",
       "2     0.908711   0.514683  1.189318 -0.11355  -0.861170    0.997702   \n",
       "3     0.787372   0.376778 -0.795871 -0.11355   0.292563    0.997702   \n",
       "4     0.868264   1.338113  1.189318 -0.11355  -0.861170    0.997702   \n",
       "\n",
       "   KitchenAbvGr  KitchenQual  LandContour  LandSlope   LotArea  LotConfig  \\\n",
       "0     -0.171919    -0.412699     0.307506  -0.225814 -0.212706   0.611422   \n",
       "1     -0.171919     0.815219     0.307506  -0.225814 -0.100811  -0.616047   \n",
       "2     -0.171919    -0.412699     0.307506  -0.225814  0.059733   0.611422   \n",
       "3     -0.171919    -0.412699     0.307506  -0.225814 -0.105676  -1.843515   \n",
       "4     -0.171919    -0.412699     0.307506  -0.225814  0.352605  -0.616047   \n",
       "\n",
       "   LotFrontage  LotShape  LowQualFinSF  MSSubClass  MSZoning  MasVnrArea  \\\n",
       "0     0.211379  0.770677     -0.104174    0.091470 -0.050653    0.493456   \n",
       "1     0.639143  0.770677     -0.104174   -0.875706 -0.050653   -0.601882   \n",
       "2     0.296932 -1.345230     -0.104174    0.091470 -0.050653    0.303449   \n",
       "3     0.068790 -1.345230     -0.104174    0.333264 -0.050653   -0.601882   \n",
       "4     0.753214 -1.345230     -0.104174    0.091470 -0.050653    1.354079   \n",
       "\n",
       "   MasVnrType   MiscVal    MoSold  Neighborhood  OpenPorchSF  OverallCond  \\\n",
       "0   -1.184630 -0.084808 -1.609030     -1.214746     0.204055    -0.559311   \n",
       "1    0.400051 -0.084808 -0.496763      1.923950    -0.727828     2.223960   \n",
       "2   -1.184630 -0.084808  0.986261     -1.214746    -0.086204    -0.559311   \n",
       "3    0.400051 -0.084808 -1.609030     -1.049552    -0.193141    -0.559311   \n",
       "4   -1.184630 -0.084808  2.098529      0.437199     0.555420    -0.559311   \n",
       "\n",
       "   OverallQual  PavedDrive  PoolArea  RoofMatl  RoofStyle  SaleCondition  \\\n",
       "0     0.611109     0.24132 -0.066601 -0.123268  -0.496257       0.182147   \n",
       "1    -0.159016     0.24132 -0.066601 -0.123268  -0.496257       0.182147   \n",
       "2     0.611109     0.24132 -0.066601 -0.123268  -0.496257       0.182147   \n",
       "3     0.611109     0.24132 -0.066601 -0.123268  -0.496257      -3.624302   \n",
       "4     1.381234     0.24132 -0.066601 -0.123268  -0.496257       0.182147   \n",
       "\n",
       "   SalePrice  SaleType  ScreenPorch    Street  TotRmsAbvGrd  TotalBsmtSF  \\\n",
       "0   0.525795  0.315313    -0.279917  0.054986      0.947463    -0.592764   \n",
       "1   0.139348  0.315313    -0.279917  0.054986     -0.340737     0.433364   \n",
       "2   0.719383  0.315313    -0.279917  0.054986     -0.340737    -0.431010   \n",
       "3  -0.584076  0.315313    -0.279917  0.054986      0.303363    -0.845505   \n",
       "4   1.031614  0.315313    -0.279917  0.054986      1.591563     0.137657   \n",
       "\n",
       "   Utilities  WoodDeckSF  YearBuilt  YearRemodAdd    YrSold  \n",
       "0  -0.027462   -0.779739   1.018209      0.856842  0.147577  \n",
       "1  -0.027462    1.568766   0.104048     -0.476135 -0.605632  \n",
       "2  -0.027462   -0.779739   0.950494      0.807472  0.147577  \n",
       "3  -0.027462   -0.779739  -1.961278     -0.772352 -1.358840  \n",
       "4  -0.027462    0.733392   0.916636      0.708733  0.147577  "
      ]
     },
     "execution_count": 54,
     "metadata": {},
     "output_type": "execute_result"
    }
   ],
   "source": [
    "df_out.head()"
   ]
  },
  {
   "cell_type": "code",
   "execution_count": 55,
   "metadata": {},
   "outputs": [
    {
     "data": {
      "text/plain": [
       "0"
      ]
     },
     "execution_count": 55,
     "metadata": {},
     "output_type": "execute_result"
    }
   ],
   "source": [
    "df_out['SalePrice'].isnull().sum()"
   ]
  },
  {
   "cell_type": "code",
   "execution_count": 56,
   "metadata": {},
   "outputs": [
    {
     "data": {
      "text/html": [
       "<div>\n",
       "<style scoped>\n",
       "    .dataframe tbody tr th:only-of-type {\n",
       "        vertical-align: middle;\n",
       "    }\n",
       "\n",
       "    .dataframe tbody tr th {\n",
       "        vertical-align: top;\n",
       "    }\n",
       "\n",
       "    .dataframe thead th {\n",
       "        text-align: right;\n",
       "    }\n",
       "</style>\n",
       "<table border=\"1\" class=\"dataframe\">\n",
       "  <thead>\n",
       "    <tr style=\"text-align: right;\">\n",
       "      <th></th>\n",
       "      <th>count</th>\n",
       "      <th>mean</th>\n",
       "      <th>std</th>\n",
       "      <th>min</th>\n",
       "      <th>25%</th>\n",
       "      <th>50%</th>\n",
       "      <th>75%</th>\n",
       "      <th>max</th>\n",
       "    </tr>\n",
       "  </thead>\n",
       "  <tbody>\n",
       "    <tr>\n",
       "      <th>1stFlrSF</th>\n",
       "      <td>1327.0</td>\n",
       "      <td>-1.472489e-16</td>\n",
       "      <td>1.000377</td>\n",
       "      <td>-1.931937</td>\n",
       "      <td>-0.731098</td>\n",
       "      <td>-0.196514</td>\n",
       "      <td>0.617212</td>\n",
       "      <td>9.270627</td>\n",
       "    </tr>\n",
       "    <tr>\n",
       "      <th>2ndFlrSF</th>\n",
       "      <td>1327.0</td>\n",
       "      <td>6.023817e-17</td>\n",
       "      <td>1.000377</td>\n",
       "      <td>-0.814008</td>\n",
       "      <td>-0.814008</td>\n",
       "      <td>-0.814008</td>\n",
       "      <td>0.892035</td>\n",
       "      <td>3.382997</td>\n",
       "    </tr>\n",
       "    <tr>\n",
       "      <th>3SsnPorch</th>\n",
       "      <td>1327.0</td>\n",
       "      <td>-1.874077e-17</td>\n",
       "      <td>1.000377</td>\n",
       "      <td>-0.119186</td>\n",
       "      <td>-0.119186</td>\n",
       "      <td>-0.119186</td>\n",
       "      <td>-0.119186</td>\n",
       "      <td>16.626308</td>\n",
       "    </tr>\n",
       "    <tr>\n",
       "      <th>BedroomAbvGr</th>\n",
       "      <td>1327.0</td>\n",
       "      <td>5.354504e-17</td>\n",
       "      <td>1.000377</td>\n",
       "      <td>-3.703281</td>\n",
       "      <td>-1.116151</td>\n",
       "      <td>0.177414</td>\n",
       "      <td>0.177414</td>\n",
       "      <td>4.058110</td>\n",
       "    </tr>\n",
       "    <tr>\n",
       "      <th>BldgType</th>\n",
       "      <td>1327.0</td>\n",
       "      <td>6.325008e-17</td>\n",
       "      <td>1.000377</td>\n",
       "      <td>-0.396908</td>\n",
       "      <td>-0.396908</td>\n",
       "      <td>-0.396908</td>\n",
       "      <td>-0.396908</td>\n",
       "      <td>2.894951</td>\n",
       "    </tr>\n",
       "    <tr>\n",
       "      <th>BsmtCond</th>\n",
       "      <td>1327.0</td>\n",
       "      <td>1.847304e-16</td>\n",
       "      <td>1.000377</td>\n",
       "      <td>-4.388296</td>\n",
       "      <td>0.280279</td>\n",
       "      <td>0.280279</td>\n",
       "      <td>0.280279</td>\n",
       "      <td>0.280279</td>\n",
       "    </tr>\n",
       "    <tr>\n",
       "      <th>BsmtExposure</th>\n",
       "      <td>1327.0</td>\n",
       "      <td>9.370383e-17</td>\n",
       "      <td>1.000377</td>\n",
       "      <td>-1.968027</td>\n",
       "      <td>-0.227559</td>\n",
       "      <td>0.642674</td>\n",
       "      <td>0.642674</td>\n",
       "      <td>0.642674</td>\n",
       "    </tr>\n",
       "    <tr>\n",
       "      <th>BsmtFinSF1</th>\n",
       "      <td>1327.0</td>\n",
       "      <td>-1.017356e-16</td>\n",
       "      <td>1.000377</td>\n",
       "      <td>-1.019128</td>\n",
       "      <td>-1.019128</td>\n",
       "      <td>-0.106534</td>\n",
       "      <td>0.602277</td>\n",
       "      <td>11.482524</td>\n",
       "    </tr>\n",
       "    <tr>\n",
       "      <th>BsmtFinSF2</th>\n",
       "      <td>1327.0</td>\n",
       "      <td>-6.693131e-18</td>\n",
       "      <td>1.000377</td>\n",
       "      <td>-0.296107</td>\n",
       "      <td>-0.296107</td>\n",
       "      <td>-0.296107</td>\n",
       "      <td>-0.296107</td>\n",
       "      <td>8.571444</td>\n",
       "    </tr>\n",
       "    <tr>\n",
       "      <th>BsmtFinType1</th>\n",
       "      <td>1327.0</td>\n",
       "      <td>5.622230e-17</td>\n",
       "      <td>1.000377</td>\n",
       "      <td>-1.484872</td>\n",
       "      <td>-0.935088</td>\n",
       "      <td>-0.385304</td>\n",
       "      <td>1.264047</td>\n",
       "      <td>1.264047</td>\n",
       "    </tr>\n",
       "    <tr>\n",
       "      <th>BsmtFinType2</th>\n",
       "      <td>1327.0</td>\n",
       "      <td>-4.444239e-16</td>\n",
       "      <td>1.000377</td>\n",
       "      <td>-4.968667</td>\n",
       "      <td>0.317912</td>\n",
       "      <td>0.317912</td>\n",
       "      <td>0.317912</td>\n",
       "      <td>0.317912</td>\n",
       "    </tr>\n",
       "    <tr>\n",
       "      <th>BsmtFullBath</th>\n",
       "      <td>1327.0</td>\n",
       "      <td>4.015878e-18</td>\n",
       "      <td>1.000377</td>\n",
       "      <td>-0.849350</td>\n",
       "      <td>-0.849350</td>\n",
       "      <td>-0.849350</td>\n",
       "      <td>1.090559</td>\n",
       "      <td>3.030469</td>\n",
       "    </tr>\n",
       "    <tr>\n",
       "      <th>BsmtHalfBath</th>\n",
       "      <td>1327.0</td>\n",
       "      <td>-5.622230e-17</td>\n",
       "      <td>1.000377</td>\n",
       "      <td>-0.249983</td>\n",
       "      <td>-0.249983</td>\n",
       "      <td>-0.249983</td>\n",
       "      <td>-0.249983</td>\n",
       "      <td>8.043200</td>\n",
       "    </tr>\n",
       "    <tr>\n",
       "      <th>BsmtQual</th>\n",
       "      <td>1327.0</td>\n",
       "      <td>1.499261e-16</td>\n",
       "      <td>1.000377</td>\n",
       "      <td>-2.604158</td>\n",
       "      <td>-0.290320</td>\n",
       "      <td>-0.290320</td>\n",
       "      <td>0.866600</td>\n",
       "      <td>0.866600</td>\n",
       "    </tr>\n",
       "    <tr>\n",
       "      <th>BsmtUnfSF</th>\n",
       "      <td>1327.0</td>\n",
       "      <td>9.437314e-17</td>\n",
       "      <td>1.000377</td>\n",
       "      <td>-1.324700</td>\n",
       "      <td>-0.760603</td>\n",
       "      <td>-0.214741</td>\n",
       "      <td>0.533969</td>\n",
       "      <td>3.999457</td>\n",
       "    </tr>\n",
       "    <tr>\n",
       "      <th>CentralAir</th>\n",
       "      <td>1327.0</td>\n",
       "      <td>-1.405557e-16</td>\n",
       "      <td>1.000377</td>\n",
       "      <td>-4.677533</td>\n",
       "      <td>0.213788</td>\n",
       "      <td>0.213788</td>\n",
       "      <td>0.213788</td>\n",
       "      <td>0.213788</td>\n",
       "    </tr>\n",
       "    <tr>\n",
       "      <th>Condition1</th>\n",
       "      <td>1327.0</td>\n",
       "      <td>8.031757e-18</td>\n",
       "      <td>1.000377</td>\n",
       "      <td>-2.309279</td>\n",
       "      <td>-0.060993</td>\n",
       "      <td>-0.060993</td>\n",
       "      <td>-0.060993</td>\n",
       "      <td>6.683863</td>\n",
       "    </tr>\n",
       "    <tr>\n",
       "      <th>Condition2</th>\n",
       "      <td>1327.0</td>\n",
       "      <td>-4.819054e-16</td>\n",
       "      <td>1.000377</td>\n",
       "      <td>-7.438528</td>\n",
       "      <td>-0.036258</td>\n",
       "      <td>-0.036258</td>\n",
       "      <td>-0.036258</td>\n",
       "      <td>18.469415</td>\n",
       "    </tr>\n",
       "    <tr>\n",
       "      <th>Electrical</th>\n",
       "      <td>1327.0</td>\n",
       "      <td>-9.102658e-17</td>\n",
       "      <td>1.000377</td>\n",
       "      <td>-3.844012</td>\n",
       "      <td>0.273021</td>\n",
       "      <td>0.273021</td>\n",
       "      <td>0.273021</td>\n",
       "      <td>0.273021</td>\n",
       "    </tr>\n",
       "    <tr>\n",
       "      <th>EnclosedPorch</th>\n",
       "      <td>1327.0</td>\n",
       "      <td>1.740214e-17</td>\n",
       "      <td>1.000377</td>\n",
       "      <td>-0.349900</td>\n",
       "      <td>-0.349900</td>\n",
       "      <td>-0.349900</td>\n",
       "      <td>-0.349900</td>\n",
       "      <td>8.713475</td>\n",
       "    </tr>\n",
       "    <tr>\n",
       "      <th>ExterCond</th>\n",
       "      <td>1327.0</td>\n",
       "      <td>2.891432e-16</td>\n",
       "      <td>1.000377</td>\n",
       "      <td>-7.551923</td>\n",
       "      <td>0.341016</td>\n",
       "      <td>0.341016</td>\n",
       "      <td>0.341016</td>\n",
       "      <td>0.341016</td>\n",
       "    </tr>\n",
       "    <tr>\n",
       "      <th>ExterQual</th>\n",
       "      <td>1327.0</td>\n",
       "      <td>1.378785e-16</td>\n",
       "      <td>1.000377</td>\n",
       "      <td>-3.705271</td>\n",
       "      <td>-0.775933</td>\n",
       "      <td>0.688737</td>\n",
       "      <td>0.688737</td>\n",
       "      <td>0.688737</td>\n",
       "    </tr>\n",
       "    <tr>\n",
       "      <th>Exterior1st</th>\n",
       "      <td>1327.0</td>\n",
       "      <td>1.606351e-17</td>\n",
       "      <td>1.000377</td>\n",
       "      <td>-2.815771</td>\n",
       "      <td>-0.545508</td>\n",
       "      <td>0.751785</td>\n",
       "      <td>0.751785</td>\n",
       "      <td>1.400431</td>\n",
       "    </tr>\n",
       "    <tr>\n",
       "      <th>Exterior2nd</th>\n",
       "      <td>1327.0</td>\n",
       "      <td>-4.283604e-17</td>\n",
       "      <td>1.000377</td>\n",
       "      <td>-2.980419</td>\n",
       "      <td>-0.682327</td>\n",
       "      <td>0.753980</td>\n",
       "      <td>0.753980</td>\n",
       "      <td>1.328503</td>\n",
       "    </tr>\n",
       "    <tr>\n",
       "      <th>FireplaceQu</th>\n",
       "      <td>1327.0</td>\n",
       "      <td>1.606351e-17</td>\n",
       "      <td>1.000377</td>\n",
       "      <td>-1.068519</td>\n",
       "      <td>-1.068519</td>\n",
       "      <td>0.593761</td>\n",
       "      <td>1.147855</td>\n",
       "      <td>1.701948</td>\n",
       "    </tr>\n",
       "    <tr>\n",
       "      <th>Fireplaces</th>\n",
       "      <td>1327.0</td>\n",
       "      <td>8.031757e-17</td>\n",
       "      <td>1.000377</td>\n",
       "      <td>-1.003962</td>\n",
       "      <td>-1.003962</td>\n",
       "      <td>0.552414</td>\n",
       "      <td>0.552414</td>\n",
       "      <td>3.665165</td>\n",
       "    </tr>\n",
       "    <tr>\n",
       "      <th>Foundation</th>\n",
       "      <td>1327.0</td>\n",
       "      <td>8.968795e-17</td>\n",
       "      <td>1.000377</td>\n",
       "      <td>-2.055145</td>\n",
       "      <td>-0.566511</td>\n",
       "      <td>-0.566511</td>\n",
       "      <td>0.922123</td>\n",
       "      <td>3.899391</td>\n",
       "    </tr>\n",
       "    <tr>\n",
       "      <th>FullBath</th>\n",
       "      <td>1327.0</td>\n",
       "      <td>-1.017356e-16</td>\n",
       "      <td>1.000377</td>\n",
       "      <td>-2.915013</td>\n",
       "      <td>-1.058860</td>\n",
       "      <td>0.797292</td>\n",
       "      <td>0.797292</td>\n",
       "      <td>2.653445</td>\n",
       "    </tr>\n",
       "    <tr>\n",
       "      <th>Functional</th>\n",
       "      <td>1327.0</td>\n",
       "      <td>4.497784e-16</td>\n",
       "      <td>1.000377</td>\n",
       "      <td>-6.200443</td>\n",
       "      <td>0.245298</td>\n",
       "      <td>0.245298</td>\n",
       "      <td>0.245298</td>\n",
       "      <td>0.245298</td>\n",
       "    </tr>\n",
       "    <tr>\n",
       "      <th>GarageArea</th>\n",
       "      <td>1327.0</td>\n",
       "      <td>-2.811115e-17</td>\n",
       "      <td>1.000377</td>\n",
       "      <td>-1.832147</td>\n",
       "      <td>-0.667826</td>\n",
       "      <td>-0.085665</td>\n",
       "      <td>0.421030</td>\n",
       "      <td>4.948945</td>\n",
       "    </tr>\n",
       "    <tr>\n",
       "      <th>...</th>\n",
       "      <td>...</td>\n",
       "      <td>...</td>\n",
       "      <td>...</td>\n",
       "      <td>...</td>\n",
       "      <td>...</td>\n",
       "      <td>...</td>\n",
       "      <td>...</td>\n",
       "      <td>...</td>\n",
       "    </tr>\n",
       "    <tr>\n",
       "      <th>LotConfig</th>\n",
       "      <td>1327.0</td>\n",
       "      <td>-2.944977e-17</td>\n",
       "      <td>1.000377</td>\n",
       "      <td>-1.843515</td>\n",
       "      <td>-0.616047</td>\n",
       "      <td>0.611422</td>\n",
       "      <td>0.611422</td>\n",
       "      <td>0.611422</td>\n",
       "    </tr>\n",
       "    <tr>\n",
       "      <th>LotFrontage</th>\n",
       "      <td>1327.0</td>\n",
       "      <td>4.551329e-17</td>\n",
       "      <td>1.000377</td>\n",
       "      <td>-1.642268</td>\n",
       "      <td>-0.473045</td>\n",
       "      <td>0.182861</td>\n",
       "      <td>0.610626</td>\n",
       "      <td>7.283752</td>\n",
       "    </tr>\n",
       "    <tr>\n",
       "      <th>LotShape</th>\n",
       "      <td>1327.0</td>\n",
       "      <td>2.543390e-17</td>\n",
       "      <td>1.000377</td>\n",
       "      <td>-1.345230</td>\n",
       "      <td>-1.345230</td>\n",
       "      <td>0.770677</td>\n",
       "      <td>0.770677</td>\n",
       "      <td>0.770677</td>\n",
       "    </tr>\n",
       "    <tr>\n",
       "      <th>LowQualFinSF</th>\n",
       "      <td>1327.0</td>\n",
       "      <td>2.811115e-17</td>\n",
       "      <td>1.000377</td>\n",
       "      <td>-0.104174</td>\n",
       "      <td>-0.104174</td>\n",
       "      <td>-0.104174</td>\n",
       "      <td>-0.104174</td>\n",
       "      <td>13.893406</td>\n",
       "    </tr>\n",
       "    <tr>\n",
       "      <th>MSSubClass</th>\n",
       "      <td>1327.0</td>\n",
       "      <td>-8.701070e-18</td>\n",
       "      <td>1.000377</td>\n",
       "      <td>-0.875706</td>\n",
       "      <td>-0.875706</td>\n",
       "      <td>-0.150324</td>\n",
       "      <td>0.333264</td>\n",
       "      <td>3.234792</td>\n",
       "    </tr>\n",
       "    <tr>\n",
       "      <th>MSZoning</th>\n",
       "      <td>1327.0</td>\n",
       "      <td>-3.226089e-16</td>\n",
       "      <td>1.000377</td>\n",
       "      <td>-4.968902</td>\n",
       "      <td>-0.050653</td>\n",
       "      <td>-0.050653</td>\n",
       "      <td>-0.050653</td>\n",
       "      <td>1.588764</td>\n",
       "    </tr>\n",
       "    <tr>\n",
       "      <th>MasVnrArea</th>\n",
       "      <td>1327.0</td>\n",
       "      <td>-5.354504e-18</td>\n",
       "      <td>1.000377</td>\n",
       "      <td>-0.601882</td>\n",
       "      <td>-0.601882</td>\n",
       "      <td>-0.601882</td>\n",
       "      <td>0.356539</td>\n",
       "      <td>8.339654</td>\n",
       "    </tr>\n",
       "    <tr>\n",
       "      <th>MasVnrType</th>\n",
       "      <td>1327.0</td>\n",
       "      <td>-1.606351e-16</td>\n",
       "      <td>1.000377</td>\n",
       "      <td>-2.769311</td>\n",
       "      <td>-1.184630</td>\n",
       "      <td>0.400051</td>\n",
       "      <td>0.400051</td>\n",
       "      <td>1.984733</td>\n",
       "    </tr>\n",
       "    <tr>\n",
       "      <th>MiscVal</th>\n",
       "      <td>1327.0</td>\n",
       "      <td>-8.031757e-18</td>\n",
       "      <td>1.000377</td>\n",
       "      <td>-0.084808</td>\n",
       "      <td>-0.084808</td>\n",
       "      <td>-0.084808</td>\n",
       "      <td>-0.084808</td>\n",
       "      <td>30.310141</td>\n",
       "    </tr>\n",
       "    <tr>\n",
       "      <th>MoSold</th>\n",
       "      <td>1327.0</td>\n",
       "      <td>-2.141802e-17</td>\n",
       "      <td>1.000377</td>\n",
       "      <td>-1.979786</td>\n",
       "      <td>-0.496763</td>\n",
       "      <td>-0.126007</td>\n",
       "      <td>0.615505</td>\n",
       "      <td>2.098529</td>\n",
       "    </tr>\n",
       "    <tr>\n",
       "      <th>Neighborhood</th>\n",
       "      <td>1327.0</td>\n",
       "      <td>9.571177e-17</td>\n",
       "      <td>1.000377</td>\n",
       "      <td>-2.040719</td>\n",
       "      <td>-0.884357</td>\n",
       "      <td>-0.058384</td>\n",
       "      <td>0.767588</td>\n",
       "      <td>1.923950</td>\n",
       "    </tr>\n",
       "    <tr>\n",
       "      <th>OpenPorchSF</th>\n",
       "      <td>1327.0</td>\n",
       "      <td>7.027787e-17</td>\n",
       "      <td>1.000377</td>\n",
       "      <td>-0.727828</td>\n",
       "      <td>-0.727828</td>\n",
       "      <td>-0.300079</td>\n",
       "      <td>0.341546</td>\n",
       "      <td>7.628564</td>\n",
       "    </tr>\n",
       "    <tr>\n",
       "      <th>OverallCond</th>\n",
       "      <td>1327.0</td>\n",
       "      <td>1.713441e-16</td>\n",
       "      <td>1.000377</td>\n",
       "      <td>-3.342582</td>\n",
       "      <td>-0.559311</td>\n",
       "      <td>-0.559311</td>\n",
       "      <td>0.368446</td>\n",
       "      <td>3.151717</td>\n",
       "    </tr>\n",
       "    <tr>\n",
       "      <th>OverallQual</th>\n",
       "      <td>1327.0</td>\n",
       "      <td>3.426883e-16</td>\n",
       "      <td>1.000377</td>\n",
       "      <td>-3.239517</td>\n",
       "      <td>-0.929141</td>\n",
       "      <td>-0.159016</td>\n",
       "      <td>0.611109</td>\n",
       "      <td>2.921484</td>\n",
       "    </tr>\n",
       "    <tr>\n",
       "      <th>PavedDrive</th>\n",
       "      <td>1327.0</td>\n",
       "      <td>-3.373338e-16</td>\n",
       "      <td>1.000377</td>\n",
       "      <td>-4.647709</td>\n",
       "      <td>0.241320</td>\n",
       "      <td>0.241320</td>\n",
       "      <td>0.241320</td>\n",
       "      <td>0.241320</td>\n",
       "    </tr>\n",
       "    <tr>\n",
       "      <th>PoolArea</th>\n",
       "      <td>1327.0</td>\n",
       "      <td>8.031757e-18</td>\n",
       "      <td>1.000377</td>\n",
       "      <td>-0.066601</td>\n",
       "      <td>-0.066601</td>\n",
       "      <td>-0.066601</td>\n",
       "      <td>-0.066601</td>\n",
       "      <td>18.713851</td>\n",
       "    </tr>\n",
       "    <tr>\n",
       "      <th>RoofMatl</th>\n",
       "      <td>1327.0</td>\n",
       "      <td>-3.212703e-17</td>\n",
       "      <td>1.000377</td>\n",
       "      <td>-1.827196</td>\n",
       "      <td>-0.123268</td>\n",
       "      <td>-0.123268</td>\n",
       "      <td>-0.123268</td>\n",
       "      <td>10.100299</td>\n",
       "    </tr>\n",
       "    <tr>\n",
       "      <th>RoofStyle</th>\n",
       "      <td>1327.0</td>\n",
       "      <td>-1.164605e-16</td>\n",
       "      <td>1.000377</td>\n",
       "      <td>-1.689252</td>\n",
       "      <td>-0.496257</td>\n",
       "      <td>-0.496257</td>\n",
       "      <td>-0.496257</td>\n",
       "      <td>4.275723</td>\n",
       "    </tr>\n",
       "    <tr>\n",
       "      <th>SaleCondition</th>\n",
       "      <td>1327.0</td>\n",
       "      <td>9.370383e-17</td>\n",
       "      <td>1.000377</td>\n",
       "      <td>-3.624302</td>\n",
       "      <td>0.182147</td>\n",
       "      <td>0.182147</td>\n",
       "      <td>0.182147</td>\n",
       "      <td>1.133760</td>\n",
       "    </tr>\n",
       "    <tr>\n",
       "      <th>SalePrice</th>\n",
       "      <td>1327.0</td>\n",
       "      <td>4.845826e-16</td>\n",
       "      <td>1.000377</td>\n",
       "      <td>-3.015657</td>\n",
       "      <td>-0.685416</td>\n",
       "      <td>-0.076029</td>\n",
       "      <td>0.667218</td>\n",
       "      <td>2.973318</td>\n",
       "    </tr>\n",
       "    <tr>\n",
       "      <th>SaleType</th>\n",
       "      <td>1327.0</td>\n",
       "      <td>-2.677252e-17</td>\n",
       "      <td>1.000377</td>\n",
       "      <td>-4.733500</td>\n",
       "      <td>0.315313</td>\n",
       "      <td>0.315313</td>\n",
       "      <td>0.315313</td>\n",
       "      <td>0.315313</td>\n",
       "    </tr>\n",
       "    <tr>\n",
       "      <th>ScreenPorch</th>\n",
       "      <td>1327.0</td>\n",
       "      <td>2.744184e-17</td>\n",
       "      <td>1.000377</td>\n",
       "      <td>-0.279917</td>\n",
       "      <td>-0.279917</td>\n",
       "      <td>-0.279917</td>\n",
       "      <td>-0.279917</td>\n",
       "      <td>8.045048</td>\n",
       "    </tr>\n",
       "    <tr>\n",
       "      <th>Street</th>\n",
       "      <td>1327.0</td>\n",
       "      <td>-6.679744e-16</td>\n",
       "      <td>1.000377</td>\n",
       "      <td>-18.186533</td>\n",
       "      <td>0.054986</td>\n",
       "      <td>0.054986</td>\n",
       "      <td>0.054986</td>\n",
       "      <td>0.054986</td>\n",
       "    </tr>\n",
       "    <tr>\n",
       "      <th>TotRmsAbvGrd</th>\n",
       "      <td>1327.0</td>\n",
       "      <td>-3.212703e-17</td>\n",
       "      <td>1.000377</td>\n",
       "      <td>-2.273037</td>\n",
       "      <td>-0.984837</td>\n",
       "      <td>-0.340737</td>\n",
       "      <td>0.303363</td>\n",
       "      <td>3.523862</td>\n",
       "    </tr>\n",
       "    <tr>\n",
       "      <th>TotalBsmtSF</th>\n",
       "      <td>1327.0</td>\n",
       "      <td>-8.031757e-17</td>\n",
       "      <td>1.000377</td>\n",
       "      <td>-2.490847</td>\n",
       "      <td>-0.682487</td>\n",
       "      <td>-0.180796</td>\n",
       "      <td>0.567316</td>\n",
       "      <td>12.686238</td>\n",
       "    </tr>\n",
       "    <tr>\n",
       "      <th>Utilities</th>\n",
       "      <td>1327.0</td>\n",
       "      <td>-5.354504e-18</td>\n",
       "      <td>1.000377</td>\n",
       "      <td>-0.027462</td>\n",
       "      <td>-0.027462</td>\n",
       "      <td>-0.027462</td>\n",
       "      <td>-0.027462</td>\n",
       "      <td>36.414283</td>\n",
       "    </tr>\n",
       "    <tr>\n",
       "      <th>WoodDeckSF</th>\n",
       "      <td>1327.0</td>\n",
       "      <td>3.748153e-17</td>\n",
       "      <td>1.000377</td>\n",
       "      <td>-0.779739</td>\n",
       "      <td>-0.779739</td>\n",
       "      <td>-0.779739</td>\n",
       "      <td>0.579715</td>\n",
       "      <td>5.974183</td>\n",
       "    </tr>\n",
       "    <tr>\n",
       "      <th>YearBuilt</th>\n",
       "      <td>1327.0</td>\n",
       "      <td>-1.566193e-15</td>\n",
       "      <td>1.000377</td>\n",
       "      <td>-3.146301</td>\n",
       "      <td>-0.573108</td>\n",
       "      <td>0.104048</td>\n",
       "      <td>0.950494</td>\n",
       "      <td>1.255214</td>\n",
       "    </tr>\n",
       "    <tr>\n",
       "      <th>YearRemodAdd</th>\n",
       "      <td>1327.0</td>\n",
       "      <td>4.155095e-15</td>\n",
       "      <td>1.000377</td>\n",
       "      <td>-1.759742</td>\n",
       "      <td>-0.871091</td>\n",
       "      <td>0.412516</td>\n",
       "      <td>0.906211</td>\n",
       "      <td>1.202428</td>\n",
       "    </tr>\n",
       "    <tr>\n",
       "      <th>YrSold</th>\n",
       "      <td>1327.0</td>\n",
       "      <td>4.080132e-14</td>\n",
       "      <td>1.000377</td>\n",
       "      <td>-1.358840</td>\n",
       "      <td>-0.605632</td>\n",
       "      <td>0.147577</td>\n",
       "      <td>0.900785</td>\n",
       "      <td>1.653993</td>\n",
       "    </tr>\n",
       "  </tbody>\n",
       "</table>\n",
       "<p>76 rows × 8 columns</p>\n",
       "</div>"
      ],
      "text/plain": [
       "                count          mean       std        min       25%       50%  \\\n",
       "1stFlrSF       1327.0 -1.472489e-16  1.000377  -1.931937 -0.731098 -0.196514   \n",
       "2ndFlrSF       1327.0  6.023817e-17  1.000377  -0.814008 -0.814008 -0.814008   \n",
       "3SsnPorch      1327.0 -1.874077e-17  1.000377  -0.119186 -0.119186 -0.119186   \n",
       "BedroomAbvGr   1327.0  5.354504e-17  1.000377  -3.703281 -1.116151  0.177414   \n",
       "BldgType       1327.0  6.325008e-17  1.000377  -0.396908 -0.396908 -0.396908   \n",
       "BsmtCond       1327.0  1.847304e-16  1.000377  -4.388296  0.280279  0.280279   \n",
       "BsmtExposure   1327.0  9.370383e-17  1.000377  -1.968027 -0.227559  0.642674   \n",
       "BsmtFinSF1     1327.0 -1.017356e-16  1.000377  -1.019128 -1.019128 -0.106534   \n",
       "BsmtFinSF2     1327.0 -6.693131e-18  1.000377  -0.296107 -0.296107 -0.296107   \n",
       "BsmtFinType1   1327.0  5.622230e-17  1.000377  -1.484872 -0.935088 -0.385304   \n",
       "BsmtFinType2   1327.0 -4.444239e-16  1.000377  -4.968667  0.317912  0.317912   \n",
       "BsmtFullBath   1327.0  4.015878e-18  1.000377  -0.849350 -0.849350 -0.849350   \n",
       "BsmtHalfBath   1327.0 -5.622230e-17  1.000377  -0.249983 -0.249983 -0.249983   \n",
       "BsmtQual       1327.0  1.499261e-16  1.000377  -2.604158 -0.290320 -0.290320   \n",
       "BsmtUnfSF      1327.0  9.437314e-17  1.000377  -1.324700 -0.760603 -0.214741   \n",
       "CentralAir     1327.0 -1.405557e-16  1.000377  -4.677533  0.213788  0.213788   \n",
       "Condition1     1327.0  8.031757e-18  1.000377  -2.309279 -0.060993 -0.060993   \n",
       "Condition2     1327.0 -4.819054e-16  1.000377  -7.438528 -0.036258 -0.036258   \n",
       "Electrical     1327.0 -9.102658e-17  1.000377  -3.844012  0.273021  0.273021   \n",
       "EnclosedPorch  1327.0  1.740214e-17  1.000377  -0.349900 -0.349900 -0.349900   \n",
       "ExterCond      1327.0  2.891432e-16  1.000377  -7.551923  0.341016  0.341016   \n",
       "ExterQual      1327.0  1.378785e-16  1.000377  -3.705271 -0.775933  0.688737   \n",
       "Exterior1st    1327.0  1.606351e-17  1.000377  -2.815771 -0.545508  0.751785   \n",
       "Exterior2nd    1327.0 -4.283604e-17  1.000377  -2.980419 -0.682327  0.753980   \n",
       "FireplaceQu    1327.0  1.606351e-17  1.000377  -1.068519 -1.068519  0.593761   \n",
       "Fireplaces     1327.0  8.031757e-17  1.000377  -1.003962 -1.003962  0.552414   \n",
       "Foundation     1327.0  8.968795e-17  1.000377  -2.055145 -0.566511 -0.566511   \n",
       "FullBath       1327.0 -1.017356e-16  1.000377  -2.915013 -1.058860  0.797292   \n",
       "Functional     1327.0  4.497784e-16  1.000377  -6.200443  0.245298  0.245298   \n",
       "GarageArea     1327.0 -2.811115e-17  1.000377  -1.832147 -0.667826 -0.085665   \n",
       "...               ...           ...       ...        ...       ...       ...   \n",
       "LotConfig      1327.0 -2.944977e-17  1.000377  -1.843515 -0.616047  0.611422   \n",
       "LotFrontage    1327.0  4.551329e-17  1.000377  -1.642268 -0.473045  0.182861   \n",
       "LotShape       1327.0  2.543390e-17  1.000377  -1.345230 -1.345230  0.770677   \n",
       "LowQualFinSF   1327.0  2.811115e-17  1.000377  -0.104174 -0.104174 -0.104174   \n",
       "MSSubClass     1327.0 -8.701070e-18  1.000377  -0.875706 -0.875706 -0.150324   \n",
       "MSZoning       1327.0 -3.226089e-16  1.000377  -4.968902 -0.050653 -0.050653   \n",
       "MasVnrArea     1327.0 -5.354504e-18  1.000377  -0.601882 -0.601882 -0.601882   \n",
       "MasVnrType     1327.0 -1.606351e-16  1.000377  -2.769311 -1.184630  0.400051   \n",
       "MiscVal        1327.0 -8.031757e-18  1.000377  -0.084808 -0.084808 -0.084808   \n",
       "MoSold         1327.0 -2.141802e-17  1.000377  -1.979786 -0.496763 -0.126007   \n",
       "Neighborhood   1327.0  9.571177e-17  1.000377  -2.040719 -0.884357 -0.058384   \n",
       "OpenPorchSF    1327.0  7.027787e-17  1.000377  -0.727828 -0.727828 -0.300079   \n",
       "OverallCond    1327.0  1.713441e-16  1.000377  -3.342582 -0.559311 -0.559311   \n",
       "OverallQual    1327.0  3.426883e-16  1.000377  -3.239517 -0.929141 -0.159016   \n",
       "PavedDrive     1327.0 -3.373338e-16  1.000377  -4.647709  0.241320  0.241320   \n",
       "PoolArea       1327.0  8.031757e-18  1.000377  -0.066601 -0.066601 -0.066601   \n",
       "RoofMatl       1327.0 -3.212703e-17  1.000377  -1.827196 -0.123268 -0.123268   \n",
       "RoofStyle      1327.0 -1.164605e-16  1.000377  -1.689252 -0.496257 -0.496257   \n",
       "SaleCondition  1327.0  9.370383e-17  1.000377  -3.624302  0.182147  0.182147   \n",
       "SalePrice      1327.0  4.845826e-16  1.000377  -3.015657 -0.685416 -0.076029   \n",
       "SaleType       1327.0 -2.677252e-17  1.000377  -4.733500  0.315313  0.315313   \n",
       "ScreenPorch    1327.0  2.744184e-17  1.000377  -0.279917 -0.279917 -0.279917   \n",
       "Street         1327.0 -6.679744e-16  1.000377 -18.186533  0.054986  0.054986   \n",
       "TotRmsAbvGrd   1327.0 -3.212703e-17  1.000377  -2.273037 -0.984837 -0.340737   \n",
       "TotalBsmtSF    1327.0 -8.031757e-17  1.000377  -2.490847 -0.682487 -0.180796   \n",
       "Utilities      1327.0 -5.354504e-18  1.000377  -0.027462 -0.027462 -0.027462   \n",
       "WoodDeckSF     1327.0  3.748153e-17  1.000377  -0.779739 -0.779739 -0.779739   \n",
       "YearBuilt      1327.0 -1.566193e-15  1.000377  -3.146301 -0.573108  0.104048   \n",
       "YearRemodAdd   1327.0  4.155095e-15  1.000377  -1.759742 -0.871091  0.412516   \n",
       "YrSold         1327.0  4.080132e-14  1.000377  -1.358840 -0.605632  0.147577   \n",
       "\n",
       "                    75%        max  \n",
       "1stFlrSF       0.617212   9.270627  \n",
       "2ndFlrSF       0.892035   3.382997  \n",
       "3SsnPorch     -0.119186  16.626308  \n",
       "BedroomAbvGr   0.177414   4.058110  \n",
       "BldgType      -0.396908   2.894951  \n",
       "BsmtCond       0.280279   0.280279  \n",
       "BsmtExposure   0.642674   0.642674  \n",
       "BsmtFinSF1     0.602277  11.482524  \n",
       "BsmtFinSF2    -0.296107   8.571444  \n",
       "BsmtFinType1   1.264047   1.264047  \n",
       "BsmtFinType2   0.317912   0.317912  \n",
       "BsmtFullBath   1.090559   3.030469  \n",
       "BsmtHalfBath  -0.249983   8.043200  \n",
       "BsmtQual       0.866600   0.866600  \n",
       "BsmtUnfSF      0.533969   3.999457  \n",
       "CentralAir     0.213788   0.213788  \n",
       "Condition1    -0.060993   6.683863  \n",
       "Condition2    -0.036258  18.469415  \n",
       "Electrical     0.273021   0.273021  \n",
       "EnclosedPorch -0.349900   8.713475  \n",
       "ExterCond      0.341016   0.341016  \n",
       "ExterQual      0.688737   0.688737  \n",
       "Exterior1st    0.751785   1.400431  \n",
       "Exterior2nd    0.753980   1.328503  \n",
       "FireplaceQu    1.147855   1.701948  \n",
       "Fireplaces     0.552414   3.665165  \n",
       "Foundation     0.922123   3.899391  \n",
       "FullBath       0.797292   2.653445  \n",
       "Functional     0.245298   0.245298  \n",
       "GarageArea     0.421030   4.948945  \n",
       "...                 ...        ...  \n",
       "LotConfig      0.611422   0.611422  \n",
       "LotFrontage    0.610626   7.283752  \n",
       "LotShape       0.770677   0.770677  \n",
       "LowQualFinSF  -0.104174  13.893406  \n",
       "MSSubClass     0.333264   3.234792  \n",
       "MSZoning      -0.050653   1.588764  \n",
       "MasVnrArea     0.356539   8.339654  \n",
       "MasVnrType     0.400051   1.984733  \n",
       "MiscVal       -0.084808  30.310141  \n",
       "MoSold         0.615505   2.098529  \n",
       "Neighborhood   0.767588   1.923950  \n",
       "OpenPorchSF    0.341546   7.628564  \n",
       "OverallCond    0.368446   3.151717  \n",
       "OverallQual    0.611109   2.921484  \n",
       "PavedDrive     0.241320   0.241320  \n",
       "PoolArea      -0.066601  18.713851  \n",
       "RoofMatl      -0.123268  10.100299  \n",
       "RoofStyle     -0.496257   4.275723  \n",
       "SaleCondition  0.182147   1.133760  \n",
       "SalePrice      0.667218   2.973318  \n",
       "SaleType       0.315313   0.315313  \n",
       "ScreenPorch   -0.279917   8.045048  \n",
       "Street         0.054986   0.054986  \n",
       "TotRmsAbvGrd   0.303363   3.523862  \n",
       "TotalBsmtSF    0.567316  12.686238  \n",
       "Utilities     -0.027462  36.414283  \n",
       "WoodDeckSF     0.579715   5.974183  \n",
       "YearBuilt      0.950494   1.255214  \n",
       "YearRemodAdd   0.906211   1.202428  \n",
       "YrSold         0.900785   1.653993  \n",
       "\n",
       "[76 rows x 8 columns]"
      ]
     },
     "execution_count": 56,
     "metadata": {},
     "output_type": "execute_result"
    }
   ],
   "source": [
    "df_out.describe().T"
   ]
  },
  {
   "cell_type": "code",
   "execution_count": null,
   "metadata": {},
   "outputs": [],
   "source": []
  },
  {
   "cell_type": "code",
   "execution_count": null,
   "metadata": {},
   "outputs": [],
   "source": []
  },
  {
   "cell_type": "code",
   "execution_count": null,
   "metadata": {},
   "outputs": [],
   "source": []
  },
  {
   "cell_type": "code",
   "execution_count": null,
   "metadata": {},
   "outputs": [],
   "source": []
  },
  {
   "cell_type": "code",
   "execution_count": null,
   "metadata": {},
   "outputs": [],
   "source": []
  },
  {
   "cell_type": "code",
   "execution_count": null,
   "metadata": {},
   "outputs": [],
   "source": []
  },
  {
   "cell_type": "code",
   "execution_count": null,
   "metadata": {},
   "outputs": [],
   "source": []
  },
  {
   "cell_type": "code",
   "execution_count": null,
   "metadata": {},
   "outputs": [],
   "source": []
  },
  {
   "cell_type": "markdown",
   "metadata": {},
   "source": [
    "## Feature Selection"
   ]
  },
  {
   "cell_type": "markdown",
   "metadata": {},
   "source": [
    "### 1. Filter Method - Correlation Coefficient"
   ]
  },
  {
   "cell_type": "code",
   "execution_count": 57,
   "metadata": {},
   "outputs": [],
   "source": [
    "corr=df_out.corr()\n",
    "corr.sort_values([\"SalePrice\"],ascending=False,inplace=True)\n",
    "dc=corr.SalePrice"
   ]
  },
  {
   "cell_type": "code",
   "execution_count": 58,
   "metadata": {},
   "outputs": [
    {
     "data": {
      "text/plain": [
       "SalePrice        1.000000\n",
       "OverallQual      0.800472\n",
       "GrLivArea        0.688506\n",
       "GarageCars       0.656865\n",
       "GarageArea       0.608696\n",
       "FullBath         0.596161\n",
       "1stFlrSF         0.581463\n",
       "YearBuilt        0.575639\n",
       "TotalBsmtSF      0.567301\n",
       "YearRemodAdd     0.566989\n",
       "GarageYrBlt      0.535722\n",
       "TotRmsAbvGrd     0.528038\n",
       "FireplaceQu      0.526020\n",
       "Foundation       0.497030\n",
       "Fireplaces       0.462114\n",
       "MasVnrArea       0.400293\n",
       "OpenPorchSF      0.350768\n",
       "BsmtFinSF1       0.317327\n",
       "WoodDeckSF       0.311766\n",
       "2ndFlrSF         0.287777\n",
       "HalfBath         0.275812\n",
       "CentralAir       0.255389\n",
       "Electrical       0.253470\n",
       "LotArea          0.239460\n",
       "SaleCondition    0.238870\n",
       "BsmtFullBath     0.219889\n",
       "PavedDrive       0.210511\n",
       "BsmtUnfSF        0.194882\n",
       "HouseStyle       0.189904\n",
       "GarageCond       0.185935\n",
       "                   ...   \n",
       "3SsnPorch        0.057419\n",
       "PoolArea         0.036448\n",
       "Street           0.032447\n",
       "LandContour      0.008287\n",
       "MasVnrType       0.008135\n",
       "Condition2      -0.007210\n",
       "MiscVal         -0.010522\n",
       "Utilities       -0.017419\n",
       "SaleType        -0.019402\n",
       "LowQualFinSF    -0.023630\n",
       "BsmtFinSF2      -0.025906\n",
       "YrSold          -0.032200\n",
       "BsmtHalfBath    -0.036058\n",
       "LotConfig       -0.057827\n",
       "BsmtFinType1    -0.062467\n",
       "Heating         -0.068779\n",
       "BldgType        -0.071231\n",
       "MSSubClass      -0.077940\n",
       "OverallCond     -0.090940\n",
       "KitchenAbvGr    -0.126804\n",
       "EnclosedPorch   -0.147955\n",
       "MSZoning        -0.249042\n",
       "LotShape        -0.278444\n",
       "BsmtExposure    -0.282272\n",
       "GarageType      -0.430591\n",
       "HeatingQC       -0.444717\n",
       "GarageFinish    -0.547089\n",
       "BsmtQual        -0.568769\n",
       "KitchenQual     -0.575997\n",
       "ExterQual       -0.614844\n",
       "Name: SalePrice, Length: 76, dtype: float64"
      ]
     },
     "execution_count": 58,
     "metadata": {},
     "output_type": "execute_result"
    }
   ],
   "source": [
    "dc"
   ]
  },
  {
   "cell_type": "code",
   "execution_count": 59,
   "metadata": {
    "scrolled": true
   },
   "outputs": [
    {
     "data": {
      "text/plain": [
       "Index(['SalePrice', 'OverallQual', 'GrLivArea', 'GarageCars', 'GarageArea',\n",
       "       'FullBath', '1stFlrSF', 'YearBuilt', 'TotalBsmtSF', 'YearRemodAdd',\n",
       "       'GarageYrBlt', 'TotRmsAbvGrd', 'FireplaceQu', 'Foundation',\n",
       "       'Fireplaces', 'MasVnrArea', 'OpenPorchSF', 'BsmtFinSF1', 'WoodDeckSF',\n",
       "       '2ndFlrSF', 'HalfBath', 'CentralAir', 'Electrical', 'LotArea',\n",
       "       'SaleCondition', 'BsmtFullBath', 'PavedDrive', 'BsmtUnfSF',\n",
       "       'HouseStyle', 'GarageCond', 'BedroomAbvGr', 'Neighborhood', 'RoofStyle',\n",
       "       'GarageQual', 'LotFrontage', 'Exterior2nd', 'Functional', 'Exterior1st',\n",
       "       'ExterCond', 'RoofMatl', 'Condition1', 'ScreenPorch', 'BsmtCond',\n",
       "       'MoSold', 'LandSlope', 'BsmtFinType2', '3SsnPorch', 'PoolArea',\n",
       "       'Street', 'LandContour', 'MasVnrType', 'Condition2', 'MiscVal',\n",
       "       'Utilities', 'SaleType', 'LowQualFinSF', 'BsmtFinSF2', 'YrSold',\n",
       "       'BsmtHalfBath', 'LotConfig', 'BsmtFinType1', 'Heating', 'BldgType',\n",
       "       'MSSubClass', 'OverallCond', 'KitchenAbvGr', 'EnclosedPorch',\n",
       "       'MSZoning', 'LotShape', 'BsmtExposure', 'GarageType', 'HeatingQC',\n",
       "       'GarageFinish', 'BsmtQual', 'KitchenQual', 'ExterQual'],\n",
       "      dtype='object')"
      ]
     },
     "execution_count": 59,
     "metadata": {},
     "output_type": "execute_result"
    }
   ],
   "source": [
    "dc.index"
   ]
  },
  {
   "cell_type": "code",
   "execution_count": 60,
   "metadata": {},
   "outputs": [
    {
     "data": {
      "text/plain": [
       "array([ 1.        ,  0.80047154,  0.68850573,  0.65686459,  0.60869554,\n",
       "        0.59616051,  0.58146282,  0.57563927,  0.56730131,  0.56698935,\n",
       "        0.5357222 ,  0.52803828,  0.52601976,  0.49703007,  0.46211431,\n",
       "        0.40029304,  0.35076833,  0.31732661,  0.3117662 ,  0.28777656,\n",
       "        0.27581214,  0.25538861,  0.25346994,  0.23945972,  0.2388697 ,\n",
       "        0.21988929,  0.21051092,  0.19488211,  0.18990443,  0.18593494,\n",
       "        0.18360805,  0.17474432,  0.17369579,  0.17288068,  0.16714763,\n",
       "        0.13541282,  0.12507326,  0.12197676,  0.114482  ,  0.10388995,\n",
       "        0.10241645,  0.09102337,  0.08171296,  0.07411402,  0.06728272,\n",
       "        0.06089357,  0.05741875,  0.03644773,  0.03244654,  0.00828678,\n",
       "        0.0081348 , -0.00720982, -0.01052158, -0.01741858, -0.01940159,\n",
       "       -0.02362975, -0.02590568, -0.03219955, -0.03605828, -0.05782696,\n",
       "       -0.06246689, -0.06877914, -0.07123072, -0.07794025, -0.09093987,\n",
       "       -0.12680417, -0.14795531, -0.24904173, -0.27844438, -0.28227236,\n",
       "       -0.43059111, -0.44471674, -0.54708947, -0.5687691 , -0.57599733,\n",
       "       -0.61484372])"
      ]
     },
     "execution_count": 60,
     "metadata": {},
     "output_type": "execute_result"
    }
   ],
   "source": [
    "dc.values"
   ]
  },
  {
   "cell_type": "code",
   "execution_count": 61,
   "metadata": {},
   "outputs": [
    {
     "data": {
      "text/plain": [
       "array(['SalePrice', 'OverallQual', 'GrLivArea', 'GarageCars',\n",
       "       'GarageArea', 'FullBath', '1stFlrSF', 'YearBuilt', 'TotalBsmtSF',\n",
       "       'YearRemodAdd', 'GarageYrBlt', 'TotRmsAbvGrd', 'FireplaceQu',\n",
       "       'Foundation', 'Fireplaces', 'MasVnrArea', 'OpenPorchSF',\n",
       "       'BsmtFinSF1', 'WoodDeckSF', '2ndFlrSF', 'HalfBath', 'CentralAir',\n",
       "       'Electrical', 'LotArea', 'SaleCondition', 'BsmtFullBath',\n",
       "       'PavedDrive', 'BsmtUnfSF', 'HouseStyle', 'GarageCond',\n",
       "       'BedroomAbvGr', 'Neighborhood', 'RoofStyle', 'GarageQual',\n",
       "       'LotFrontage', 'Exterior2nd', 'Functional', 'Exterior1st',\n",
       "       'ExterCond', 'RoofMatl', 'Condition1', 'ScreenPorch', 'BsmtCond',\n",
       "       'MoSold', 'LandSlope', 'BsmtFinType2', '3SsnPorch', 'PoolArea',\n",
       "       'Street', 'LandContour', 'MasVnrType', 'Condition2', 'MiscVal',\n",
       "       'Utilities', 'SaleType', 'LowQualFinSF', 'BsmtFinSF2', 'YrSold',\n",
       "       'BsmtHalfBath', 'LotConfig', 'BsmtFinType1', 'Heating', 'BldgType',\n",
       "       'MSSubClass', 'OverallCond', 'KitchenAbvGr', 'EnclosedPorch',\n",
       "       'MSZoning', 'LotShape', 'BsmtExposure', 'GarageType', 'HeatingQC',\n",
       "       'GarageFinish', 'BsmtQual', 'KitchenQual', 'ExterQual'],\n",
       "      dtype=object)"
      ]
     },
     "execution_count": 61,
     "metadata": {},
     "output_type": "execute_result"
    }
   ],
   "source": [
    "dc.index.values"
   ]
  },
  {
   "cell_type": "code",
   "execution_count": 62,
   "metadata": {},
   "outputs": [
    {
     "data": {
      "text/plain": [
       "OverallQual     0.800472\n",
       "GrLivArea       0.688506\n",
       "GarageCars      0.656865\n",
       "GarageArea      0.608696\n",
       "FullBath        0.596161\n",
       "1stFlrSF        0.581463\n",
       "YearBuilt       0.575639\n",
       "TotalBsmtSF     0.567301\n",
       "YearRemodAdd    0.566989\n",
       "GarageYrBlt     0.535722\n",
       "TotRmsAbvGrd    0.528038\n",
       "FireplaceQu     0.526020\n",
       "Name: SalePrice, dtype: float64"
      ]
     },
     "execution_count": 62,
     "metadata": {},
     "output_type": "execute_result"
    }
   ],
   "source": [
    "dc_new=dc[(dc.values>0.5)&(dc.values<1)]\n",
    "dc_new"
   ]
  },
  {
   "cell_type": "code",
   "execution_count": 63,
   "metadata": {},
   "outputs": [
    {
     "data": {
      "text/plain": [
       "array(['OverallQual', 'GrLivArea', 'GarageCars', 'GarageArea', 'FullBath',\n",
       "       '1stFlrSF', 'YearBuilt', 'TotalBsmtSF', 'YearRemodAdd',\n",
       "       'GarageYrBlt', 'TotRmsAbvGrd', 'FireplaceQu'], dtype=object)"
      ]
     },
     "execution_count": 63,
     "metadata": {},
     "output_type": "execute_result"
    }
   ],
   "source": [
    "feature_col=dc_new.index.values\n",
    "feature_col"
   ]
  },
  {
   "cell_type": "markdown",
   "metadata": {},
   "source": [
    "### Select the features to be used in the data analysis"
   ]
  },
  {
   "cell_type": "code",
   "execution_count": 64,
   "metadata": {},
   "outputs": [],
   "source": [
    "X=df_out[feature_col]\n",
    "y=df_out['SalePrice']"
   ]
  },
  {
   "cell_type": "code",
   "execution_count": 65,
   "metadata": {},
   "outputs": [
    {
     "data": {
      "text/html": [
       "<div>\n",
       "<style scoped>\n",
       "    .dataframe tbody tr th:only-of-type {\n",
       "        vertical-align: middle;\n",
       "    }\n",
       "\n",
       "    .dataframe tbody tr th {\n",
       "        vertical-align: top;\n",
       "    }\n",
       "\n",
       "    .dataframe thead th {\n",
       "        text-align: right;\n",
       "    }\n",
       "</style>\n",
       "<table border=\"1\" class=\"dataframe\">\n",
       "  <thead>\n",
       "    <tr style=\"text-align: right;\">\n",
       "      <th></th>\n",
       "      <th>OverallQual</th>\n",
       "      <th>GrLivArea</th>\n",
       "      <th>GarageCars</th>\n",
       "      <th>GarageArea</th>\n",
       "      <th>FullBath</th>\n",
       "      <th>1stFlrSF</th>\n",
       "      <th>YearBuilt</th>\n",
       "      <th>TotalBsmtSF</th>\n",
       "      <th>YearRemodAdd</th>\n",
       "      <th>GarageYrBlt</th>\n",
       "      <th>TotRmsAbvGrd</th>\n",
       "      <th>FireplaceQu</th>\n",
       "    </tr>\n",
       "  </thead>\n",
       "  <tbody>\n",
       "    <tr>\n",
       "      <th>0</th>\n",
       "      <td>0.611109</td>\n",
       "      <td>0.362788</td>\n",
       "      <td>0.21303</td>\n",
       "      <td>0.259319</td>\n",
       "      <td>0.797292</td>\n",
       "      <td>-0.831168</td>\n",
       "      <td>1.018209</td>\n",
       "      <td>-0.592764</td>\n",
       "      <td>0.856842</td>\n",
       "      <td>0.989603</td>\n",
       "      <td>0.947463</td>\n",
       "      <td>-1.068519</td>\n",
       "    </tr>\n",
       "    <tr>\n",
       "      <th>1</th>\n",
       "      <td>-0.159016</td>\n",
       "      <td>-0.532593</td>\n",
       "      <td>0.21303</td>\n",
       "      <td>-0.215034</td>\n",
       "      <td>0.797292</td>\n",
       "      <td>0.238000</td>\n",
       "      <td>0.104048</td>\n",
       "      <td>0.433364</td>\n",
       "      <td>-0.476135</td>\n",
       "      <td>-0.102441</td>\n",
       "      <td>-0.340737</td>\n",
       "      <td>0.593761</td>\n",
       "    </tr>\n",
       "    <tr>\n",
       "      <th>2</th>\n",
       "      <td>0.611109</td>\n",
       "      <td>0.514683</td>\n",
       "      <td>0.21303</td>\n",
       "      <td>0.582741</td>\n",
       "      <td>0.797292</td>\n",
       "      <td>-0.662629</td>\n",
       "      <td>0.950494</td>\n",
       "      <td>-0.431010</td>\n",
       "      <td>0.807472</td>\n",
       "      <td>0.908711</td>\n",
       "      <td>-0.340737</td>\n",
       "      <td>0.593761</td>\n",
       "    </tr>\n",
       "    <tr>\n",
       "      <th>3</th>\n",
       "      <td>0.611109</td>\n",
       "      <td>0.376778</td>\n",
       "      <td>1.80118</td>\n",
       "      <td>0.766014</td>\n",
       "      <td>-1.058860</td>\n",
       "      <td>-0.554659</td>\n",
       "      <td>-1.961278</td>\n",
       "      <td>-0.845505</td>\n",
       "      <td>-0.772352</td>\n",
       "      <td>0.787372</td>\n",
       "      <td>0.303363</td>\n",
       "      <td>1.147855</td>\n",
       "    </tr>\n",
       "    <tr>\n",
       "      <th>4</th>\n",
       "      <td>1.381234</td>\n",
       "      <td>1.338113</td>\n",
       "      <td>1.80118</td>\n",
       "      <td>1.811747</td>\n",
       "      <td>0.797292</td>\n",
       "      <td>-0.070110</td>\n",
       "      <td>0.916636</td>\n",
       "      <td>0.137657</td>\n",
       "      <td>0.708733</td>\n",
       "      <td>0.868264</td>\n",
       "      <td>1.591563</td>\n",
       "      <td>0.593761</td>\n",
       "    </tr>\n",
       "  </tbody>\n",
       "</table>\n",
       "</div>"
      ],
      "text/plain": [
       "   OverallQual  GrLivArea  GarageCars  GarageArea  FullBath  1stFlrSF  \\\n",
       "0     0.611109   0.362788     0.21303    0.259319  0.797292 -0.831168   \n",
       "1    -0.159016  -0.532593     0.21303   -0.215034  0.797292  0.238000   \n",
       "2     0.611109   0.514683     0.21303    0.582741  0.797292 -0.662629   \n",
       "3     0.611109   0.376778     1.80118    0.766014 -1.058860 -0.554659   \n",
       "4     1.381234   1.338113     1.80118    1.811747  0.797292 -0.070110   \n",
       "\n",
       "   YearBuilt  TotalBsmtSF  YearRemodAdd  GarageYrBlt  TotRmsAbvGrd  \\\n",
       "0   1.018209    -0.592764      0.856842     0.989603      0.947463   \n",
       "1   0.104048     0.433364     -0.476135    -0.102441     -0.340737   \n",
       "2   0.950494    -0.431010      0.807472     0.908711     -0.340737   \n",
       "3  -1.961278    -0.845505     -0.772352     0.787372      0.303363   \n",
       "4   0.916636     0.137657      0.708733     0.868264      1.591563   \n",
       "\n",
       "   FireplaceQu  \n",
       "0    -1.068519  \n",
       "1     0.593761  \n",
       "2     0.593761  \n",
       "3     1.147855  \n",
       "4     0.593761  "
      ]
     },
     "execution_count": 65,
     "metadata": {},
     "output_type": "execute_result"
    }
   ],
   "source": [
    "X.head()"
   ]
  },
  {
   "cell_type": "code",
   "execution_count": 66,
   "metadata": {},
   "outputs": [
    {
     "data": {
      "text/plain": [
       "0    0.525795\n",
       "1    0.139348\n",
       "2    0.719383\n",
       "3   -0.584076\n",
       "4    1.031614\n",
       "Name: SalePrice, dtype: float64"
      ]
     },
     "execution_count": 66,
     "metadata": {},
     "output_type": "execute_result"
    }
   ],
   "source": [
    "y.head()"
   ]
  },
  {
   "cell_type": "markdown",
   "metadata": {},
   "source": [
    "## Modeling"
   ]
  },
  {
   "cell_type": "markdown",
   "metadata": {},
   "source": [
    "### Specify testing size"
   ]
  },
  {
   "cell_type": "code",
   "execution_count": 67,
   "metadata": {},
   "outputs": [],
   "source": [
    "TS=0.2"
   ]
  },
  {
   "cell_type": "markdown",
   "metadata": {},
   "source": [
    "### Create a Result dataframe"
   ]
  },
  {
   "cell_type": "code",
   "execution_count": 68,
   "metadata": {},
   "outputs": [],
   "source": [
    "result_col=['Algorithm','Correlation','Recursive','XGBoost']\n",
    "result=pd.DataFrame(columns=result_col)\n",
    "result['Algorithm']=['Ridge Regression','LASSO Regression','Elastic Net',\n",
    "                     'Decision Tree','Random Forest','XGBoost']"
   ]
  },
  {
   "cell_type": "code",
   "execution_count": 69,
   "metadata": {
    "scrolled": true
   },
   "outputs": [
    {
     "data": {
      "text/html": [
       "<div>\n",
       "<style scoped>\n",
       "    .dataframe tbody tr th:only-of-type {\n",
       "        vertical-align: middle;\n",
       "    }\n",
       "\n",
       "    .dataframe tbody tr th {\n",
       "        vertical-align: top;\n",
       "    }\n",
       "\n",
       "    .dataframe thead th {\n",
       "        text-align: right;\n",
       "    }\n",
       "</style>\n",
       "<table border=\"1\" class=\"dataframe\">\n",
       "  <thead>\n",
       "    <tr style=\"text-align: right;\">\n",
       "      <th></th>\n",
       "      <th>Algorithm</th>\n",
       "      <th>Correlation</th>\n",
       "      <th>Recursive</th>\n",
       "      <th>XGBoost</th>\n",
       "    </tr>\n",
       "  </thead>\n",
       "  <tbody>\n",
       "    <tr>\n",
       "      <th>0</th>\n",
       "      <td>Ridge Regression</td>\n",
       "      <td>NaN</td>\n",
       "      <td>NaN</td>\n",
       "      <td>NaN</td>\n",
       "    </tr>\n",
       "    <tr>\n",
       "      <th>1</th>\n",
       "      <td>LASSO Regression</td>\n",
       "      <td>NaN</td>\n",
       "      <td>NaN</td>\n",
       "      <td>NaN</td>\n",
       "    </tr>\n",
       "    <tr>\n",
       "      <th>2</th>\n",
       "      <td>Elastic Net</td>\n",
       "      <td>NaN</td>\n",
       "      <td>NaN</td>\n",
       "      <td>NaN</td>\n",
       "    </tr>\n",
       "    <tr>\n",
       "      <th>3</th>\n",
       "      <td>Decision Tree</td>\n",
       "      <td>NaN</td>\n",
       "      <td>NaN</td>\n",
       "      <td>NaN</td>\n",
       "    </tr>\n",
       "    <tr>\n",
       "      <th>4</th>\n",
       "      <td>Random Forest</td>\n",
       "      <td>NaN</td>\n",
       "      <td>NaN</td>\n",
       "      <td>NaN</td>\n",
       "    </tr>\n",
       "    <tr>\n",
       "      <th>5</th>\n",
       "      <td>XGBoost</td>\n",
       "      <td>NaN</td>\n",
       "      <td>NaN</td>\n",
       "      <td>NaN</td>\n",
       "    </tr>\n",
       "  </tbody>\n",
       "</table>\n",
       "</div>"
      ],
      "text/plain": [
       "          Algorithm Correlation Recursive XGBoost\n",
       "0  Ridge Regression         NaN       NaN     NaN\n",
       "1  LASSO Regression         NaN       NaN     NaN\n",
       "2       Elastic Net         NaN       NaN     NaN\n",
       "3     Decision Tree         NaN       NaN     NaN\n",
       "4     Random Forest         NaN       NaN     NaN\n",
       "5           XGBoost         NaN       NaN     NaN"
      ]
     },
     "execution_count": 69,
     "metadata": {},
     "output_type": "execute_result"
    }
   ],
   "source": [
    "result"
   ]
  },
  {
   "cell_type": "markdown",
   "metadata": {},
   "source": [
    "### Split the data to train and test dataset"
   ]
  },
  {
   "cell_type": "code",
   "execution_count": 70,
   "metadata": {},
   "outputs": [],
   "source": [
    "x_train, x_test, y_train, y_test = train_test_split(X, y, test_size=TS, random_state=200)"
   ]
  },
  {
   "cell_type": "markdown",
   "metadata": {},
   "source": [
    "### Ridge Regression"
   ]
  },
  {
   "cell_type": "code",
   "execution_count": 71,
   "metadata": {
    "scrolled": true
   },
   "outputs": [],
   "source": [
    "from sklearn.linear_model import Ridge\n",
    "RR=Ridge(alpha=10,fit_intercept=True)\n",
    "RR_fit=RR.fit(x_train,y_train)"
   ]
  },
  {
   "cell_type": "code",
   "execution_count": 72,
   "metadata": {},
   "outputs": [
    {
     "data": {
      "text/plain": [
       "0.37939020645332644"
      ]
     },
     "execution_count": 72,
     "metadata": {},
     "output_type": "execute_result"
    }
   ],
   "source": [
    "y_pred=RR_fit.predict(x_train)\n",
    "np.sqrt(mean_squared_error(y_pred,y_train))"
   ]
  },
  {
   "cell_type": "code",
   "execution_count": 73,
   "metadata": {
    "scrolled": true
   },
   "outputs": [
    {
     "data": {
      "text/plain": [
       "0.670012182392216"
      ]
     },
     "execution_count": 73,
     "metadata": {},
     "output_type": "execute_result"
    },
    {
     "data": {
      "image/png": "[encoded data removed]",
      "text/plain": [
       "<Figure size 432x288 with 1 Axes>"
      ]
     },
     "metadata": {},
     "output_type": "display_data"
    }
   ],
   "source": [
    "y_pred=RR_fit.predict(x_test)\n",
    "y_err=y_pred-y_test\n",
    "sns.residplot(y_test,y_err,lowess=True,color=\"g\")\n",
    "result['Correlation'][0]=np.sqrt(mean_squared_error(y_pred,y_test))\n",
    "result['Correlation'][0]"
   ]
  },
  {
   "cell_type": "markdown",
   "metadata": {},
   "source": [
    "### Lasso Regression"
   ]
  },
  {
   "cell_type": "code",
   "execution_count": 74,
   "metadata": {
    "scrolled": true
   },
   "outputs": [
    {
     "data": {
      "text/plain": [
       "0.9935044033854032"
      ]
     },
     "execution_count": 74,
     "metadata": {},
     "output_type": "execute_result"
    }
   ],
   "source": [
    "from sklearn.linear_model import Lasso\n",
    "LR=Lasso(alpha=10,fit_intercept=True)\n",
    "LR_fit=LR.fit(x_train,y_train)\n",
    "y_pred=LR_fit.predict(x_train)\n",
    "np.sqrt(mean_squared_error(y_pred,y_train))"
   ]
  },
  {
   "cell_type": "code",
   "execution_count": 75,
   "metadata": {},
   "outputs": [
    {
     "data": {
      "text/plain": [
       "1.0256694115933844"
      ]
     },
     "execution_count": 75,
     "metadata": {},
     "output_type": "execute_result"
    },
    {
     "data": {
      "image/png": "[encoded data removed]",
      "text/plain": [
       "<Figure size 432x288 with 1 Axes>"
      ]
     },
     "metadata": {},
     "output_type": "display_data"
    }
   ],
   "source": [
    "y_pred=LR_fit.predict(x_test)\n",
    "y_err=y_pred-y_test\n",
    "sns.residplot(y_test,y_err,lowess=True,color=\"g\")\n",
    "result['Correlation'][1]=np.sqrt(mean_squared_error(y_pred,y_test))\n",
    "result['Correlation'][1]"
   ]
  },
  {
   "cell_type": "markdown",
   "metadata": {},
   "source": [
    "### Elastic Net Model"
   ]
  },
  {
   "cell_type": "code",
   "execution_count": 76,
   "metadata": {},
   "outputs": [],
   "source": [
    "from sklearn.linear_model import ElasticNetCV\n",
    "EN = ElasticNetCV(alphas=[0.0001, 0.0005, 0.001, 0.01, 0.1, 1, 10], \n",
    "                       l1_ratio=[.01, .1, .5, .9, .99], max_iter=5000)\n",
    "EN_fit=EN.fit(x_train, y_train)"
   ]
  },
  {
   "cell_type": "code",
   "execution_count": 77,
   "metadata": {},
   "outputs": [
    {
     "data": {
      "text/plain": [
       "0.37926975534052415"
      ]
     },
     "execution_count": 77,
     "metadata": {},
     "output_type": "execute_result"
    }
   ],
   "source": [
    "y_pred=EN_fit.predict(x_train)\n",
    "np.sqrt(mean_squared_error(y_pred,y_train))"
   ]
  },
  {
   "cell_type": "code",
   "execution_count": 78,
   "metadata": {},
   "outputs": [
    {
     "data": {
      "text/plain": [
       "0.6765506077958345"
      ]
     },
     "execution_count": 78,
     "metadata": {},
     "output_type": "execute_result"
    },
    {
     "data": {
      "image/png": "[encoded data removed]",
      "text/plain": [
       "<Figure size 432x288 with 1 Axes>"
      ]
     },
     "metadata": {},
     "output_type": "display_data"
    }
   ],
   "source": [
    "y_pred=EN_fit.predict(x_test)\n",
    "y_err=y_pred-y_test\n",
    "sns.residplot(y_test,y_err,lowess=True,color=\"g\")\n",
    "result['Correlation'][2]=np.sqrt(mean_squared_error(y_pred,y_test))\n",
    "result['Correlation'][2]"
   ]
  },
  {
   "cell_type": "markdown",
   "metadata": {},
   "source": [
    "### Decision Tree Model"
   ]
  },
  {
   "cell_type": "code",
   "execution_count": 79,
   "metadata": {},
   "outputs": [],
   "source": [
    "from sklearn.tree import DecisionTreeRegressor\n",
    "DT=DecisionTreeRegressor()\n",
    "DT_fit=DT.fit(x_train,y_train)"
   ]
  },
  {
   "cell_type": "code",
   "execution_count": 80,
   "metadata": {},
   "outputs": [
    {
     "data": {
      "text/plain": [
       "0.018026085039795255"
      ]
     },
     "execution_count": 80,
     "metadata": {},
     "output_type": "execute_result"
    }
   ],
   "source": [
    "y_pred=DT_fit.predict(x_train)\n",
    "np.sqrt(mean_squared_error(y_pred,y_train))"
   ]
  },
  {
   "cell_type": "code",
   "execution_count": 81,
   "metadata": {},
   "outputs": [
    {
     "data": {
      "text/plain": [
       "0.6142234661266669"
      ]
     },
     "execution_count": 81,
     "metadata": {},
     "output_type": "execute_result"
    },
    {
     "data": {
      "image/png": "[encoded data removed]",
      "text/plain": [
       "<Figure size 432x288 with 1 Axes>"
      ]
     },
     "metadata": {},
     "output_type": "display_data"
    }
   ],
   "source": [
    "y_pred=DT_fit.predict(x_test)\n",
    "y_err=y_pred-y_test\n",
    "sns.residplot(y_test,y_err,lowess=True,color=\"g\")\n",
    "result['Correlation'][3]=np.sqrt(mean_squared_error(y_pred,y_test))\n",
    "result['Correlation'][3]"
   ]
  },
  {
   "cell_type": "markdown",
   "metadata": {},
   "source": [
    "### Random Forest Model"
   ]
  },
  {
   "cell_type": "code",
   "execution_count": 82,
   "metadata": {},
   "outputs": [],
   "source": [
    "RF = ensemble.RandomForestRegressor(n_estimators=100, random_state=0)\n",
    "RF_fit=RF.fit(x_train, y_train)"
   ]
  },
  {
   "cell_type": "code",
   "execution_count": 83,
   "metadata": {
    "scrolled": true
   },
   "outputs": [
    {
     "data": {
      "text/plain": [
       "0.14830309707507244"
      ]
     },
     "execution_count": 83,
     "metadata": {},
     "output_type": "execute_result"
    }
   ],
   "source": [
    "y_pred=RF_fit.predict(x_train)\n",
    "np.sqrt(mean_squared_error(y_pred,y_train))"
   ]
  },
  {
   "cell_type": "code",
   "execution_count": 84,
   "metadata": {},
   "outputs": [
    {
     "data": {
      "text/plain": [
       "0.4746614251608672"
      ]
     },
     "execution_count": 84,
     "metadata": {},
     "output_type": "execute_result"
    },
    {
     "data": {
      "image/png": "[encoded data removed]",
      "text/plain": [
       "<Figure size 432x288 with 1 Axes>"
      ]
     },
     "metadata": {},
     "output_type": "display_data"
    }
   ],
   "source": [
    "y_pred=RF_fit.predict(x_test)\n",
    "y_err=y_pred-y_test\n",
    "sns.residplot(y_test,y_err,lowess=True,color=\"g\")\n",
    "result['Correlation'][4]=np.sqrt(mean_squared_error(y_pred,y_test))\n",
    "result['Correlation'][4]"
   ]
  },
  {
   "cell_type": "markdown",
   "metadata": {},
   "source": [
    "### XGBoost Model"
   ]
  },
  {
   "cell_type": "code",
   "execution_count": 85,
   "metadata": {},
   "outputs": [],
   "source": [
    "XG = ensemble.GradientBoostingRegressor(loss='huber', learning_rate=0.05, n_estimators=3000, max_depth=10, \n",
    "                                  max_features='sqrt', min_samples_leaf=15, \n",
    "                                  min_samples_split=10)\n",
    "XG_fit=XG.fit(x_train, y_train)"
   ]
  },
  {
   "cell_type": "code",
   "execution_count": 86,
   "metadata": {},
   "outputs": [
    {
     "data": {
      "text/plain": [
       "0.09661189585591769"
      ]
     },
     "execution_count": 86,
     "metadata": {},
     "output_type": "execute_result"
    }
   ],
   "source": [
    "y_pred=XG_fit.predict(x_train)\n",
    "np.sqrt(mean_squared_error(y_pred,y_train))"
   ]
  },
  {
   "cell_type": "code",
   "execution_count": 87,
   "metadata": {},
   "outputs": [
    {
     "data": {
      "text/plain": [
       "0.4849446168677457"
      ]
     },
     "execution_count": 87,
     "metadata": {},
     "output_type": "execute_result"
    },
    {
     "data": {
      "image/png": "[encoded data removed]",
      "text/plain": [
       "<Figure size 432x288 with 1 Axes>"
      ]
     },
     "metadata": {},
     "output_type": "display_data"
    }
   ],
   "source": [
    "y_pred=XG_fit.predict(x_test)\n",
    "y_err=y_pred-y_test\n",
    "sns.residplot(y_test,y_err,lowess=True,color=\"g\")\n",
    "result['Correlation'][5]=np.sqrt(mean_squared_error(y_pred,y_test))\n",
    "result['Correlation'][5]"
   ]
  },
  {
   "cell_type": "markdown",
   "metadata": {},
   "source": [
    "### Wrapper Method - Recursive Feature Elimination Method"
   ]
  },
  {
   "cell_type": "code",
   "execution_count": 88,
   "metadata": {},
   "outputs": [],
   "source": [
    "from sklearn.feature_selection import RFECV"
   ]
  },
  {
   "cell_type": "markdown",
   "metadata": {},
   "source": [
    "### Split the data to train and test dataset"
   ]
  },
  {
   "cell_type": "code",
   "execution_count": 89,
   "metadata": {},
   "outputs": [],
   "source": [
    "x_train, x_test, y_train, y_test = train_test_split(X, y, test_size=TS, random_state=200)"
   ]
  },
  {
   "cell_type": "markdown",
   "metadata": {},
   "source": [
    "### Ridge Regression"
   ]
  },
  {
   "cell_type": "code",
   "execution_count": 90,
   "metadata": {
    "scrolled": true
   },
   "outputs": [
    {
     "data": {
      "text/plain": [
       "9"
      ]
     },
     "execution_count": 90,
     "metadata": {},
     "output_type": "execute_result"
    }
   ],
   "source": [
    "RR=Ridge(alpha=10,fit_intercept=True)\n",
    "RM_RR=RFECV(RR, step=1, cv=20, scoring='neg_mean_squared_error')\n",
    "RM_RR_fit=RM_RR.fit(x_train,y_train)\n",
    "RM_RR_fit.n_features_"
   ]
  },
  {
   "cell_type": "code",
   "execution_count": 91,
   "metadata": {
    "scrolled": true
   },
   "outputs": [
    {
     "data": {
      "text/plain": [
       "0.3801325082636028"
      ]
     },
     "execution_count": 91,
     "metadata": {},
     "output_type": "execute_result"
    }
   ],
   "source": [
    "y_pred=RM_RR_fit.predict(x_train)\n",
    "np.sqrt(mean_squared_error(y_pred,y_train))"
   ]
  },
  {
   "cell_type": "code",
   "execution_count": 92,
   "metadata": {
    "scrolled": true
   },
   "outputs": [
    {
     "data": {
      "text/plain": [
       "0.6708896993034941"
      ]
     },
     "execution_count": 92,
     "metadata": {},
     "output_type": "execute_result"
    },
    {
     "data": {
      "image/png": "[encoded data removed]",
      "text/plain": [
       "<Figure size 432x288 with 1 Axes>"
      ]
     },
     "metadata": {},
     "output_type": "display_data"
    }
   ],
   "source": [
    "y_pred=RM_RR_fit.predict(x_test)\n",
    "y_err=y_pred-y_test\n",
    "sns.residplot(y_test,y_err,lowess=True,color=\"g\")\n",
    "result['Recursive'][0]=np.sqrt(mean_squared_error(y_pred,y_test))\n",
    "result['Recursive'][0]"
   ]
  },
  {
   "cell_type": "markdown",
   "metadata": {},
   "source": [
    "### Lasso Regression"
   ]
  },
  {
   "cell_type": "code",
   "execution_count": 93,
   "metadata": {
    "scrolled": true
   },
   "outputs": [
    {
     "data": {
      "text/plain": [
       "1"
      ]
     },
     "execution_count": 93,
     "metadata": {},
     "output_type": "execute_result"
    }
   ],
   "source": [
    "LR=Lasso(alpha=10,fit_intercept=True)\n",
    "RM_LR=RFECV(LR, step=1, cv=20, scoring='neg_mean_squared_error')\n",
    "RM_LR_fit=RM_LR.fit(x_train,y_train)\n",
    "RM_LR_fit.n_features_"
   ]
  },
  {
   "cell_type": "code",
   "execution_count": 94,
   "metadata": {
    "scrolled": true
   },
   "outputs": [
    {
     "data": {
      "text/plain": [
       "0.9935044033854032"
      ]
     },
     "execution_count": 94,
     "metadata": {},
     "output_type": "execute_result"
    }
   ],
   "source": [
    "y_pred=RM_LR_fit.predict(x_train)\n",
    "np.sqrt(mean_squared_error(y_pred,y_train))"
   ]
  },
  {
   "cell_type": "code",
   "execution_count": 95,
   "metadata": {
    "scrolled": false
   },
   "outputs": [
    {
     "data": {
      "text/plain": [
       "1.0256694115933844"
      ]
     },
     "execution_count": 95,
     "metadata": {},
     "output_type": "execute_result"
    },
    {
     "data": {
      "image/png": "[encoded data removed]",
      "text/plain": [
       "<Figure size 432x288 with 1 Axes>"
      ]
     },
     "metadata": {},
     "output_type": "display_data"
    }
   ],
   "source": [
    "y_pred=RM_LR_fit.predict(x_test)\n",
    "y_err=y_pred-y_test\n",
    "sns.residplot(y_test,y_err,lowess=True,color=\"g\")\n",
    "result['Recursive'][1]=np.sqrt(mean_squared_error(y_pred,y_test))\n",
    "result['Recursive'][1]"
   ]
  },
  {
   "cell_type": "markdown",
   "metadata": {},
   "source": [
    "### Elastic Net Model"
   ]
  },
  {
   "cell_type": "code",
   "execution_count": 96,
   "metadata": {
    "scrolled": true
   },
   "outputs": [
    {
     "data": {
      "text/plain": [
       "10"
      ]
     },
     "execution_count": 96,
     "metadata": {},
     "output_type": "execute_result"
    }
   ],
   "source": [
    "EN = ElasticNetCV(alphas=[0.0001, 0.0005, 0.001, 0.01, 0.1, 1, 10], \n",
    "                       l1_ratio=[.01, .1, .5, .9, .99], max_iter=5000)\n",
    "RM_EN=RFECV(EN, step=1, cv=20, scoring='neg_mean_squared_error')\n",
    "RM_EN_fit=RM_EN.fit(x_train,y_train)\n",
    "RM_EN_fit.n_features_"
   ]
  },
  {
   "cell_type": "code",
   "execution_count": 97,
   "metadata": {
    "scrolled": true
   },
   "outputs": [
    {
     "data": {
      "text/plain": [
       "0.3794133148253151"
      ]
     },
     "execution_count": 97,
     "metadata": {},
     "output_type": "execute_result"
    }
   ],
   "source": [
    "y_pred=RM_EN_fit.predict(x_train)\n",
    "np.sqrt(mean_squared_error(y_pred,y_train))"
   ]
  },
  {
   "cell_type": "code",
   "execution_count": 98,
   "metadata": {
    "scrolled": false
   },
   "outputs": [
    {
     "data": {
      "text/plain": [
       "0.6829728596057882"
      ]
     },
     "execution_count": 98,
     "metadata": {},
     "output_type": "execute_result"
    },
    {
     "data": {
      "image/png": "[encoded data removed]",
      "text/plain": [
       "<Figure size 432x288 with 1 Axes>"
      ]
     },
     "metadata": {},
     "output_type": "display_data"
    }
   ],
   "source": [
    "y_pred=RM_EN_fit.predict(x_test)\n",
    "y_err=y_pred-y_test\n",
    "sns.residplot(y_test,y_err,lowess=True,color=\"g\")\n",
    "result['Recursive'][2]=np.sqrt(mean_squared_error(y_pred,y_test))\n",
    "result['Recursive'][2]"
   ]
  },
  {
   "cell_type": "markdown",
   "metadata": {},
   "source": [
    "### Decision Tree Model"
   ]
  },
  {
   "cell_type": "code",
   "execution_count": 99,
   "metadata": {},
   "outputs": [
    {
     "data": {
      "text/plain": [
       "4"
      ]
     },
     "execution_count": 99,
     "metadata": {},
     "output_type": "execute_result"
    }
   ],
   "source": [
    "DT=DecisionTreeRegressor()\n",
    "RM_DT=RFECV(DT, step=1, cv=20, scoring='neg_mean_squared_error')\n",
    "RM_DT_fit=RM_DT.fit(x_train,y_train)\n",
    "RM_DT_fit.n_features_"
   ]
  },
  {
   "cell_type": "code",
   "execution_count": 100,
   "metadata": {
    "scrolled": true
   },
   "outputs": [
    {
     "data": {
      "text/plain": [
       "0.028495818103157114"
      ]
     },
     "execution_count": 100,
     "metadata": {},
     "output_type": "execute_result"
    }
   ],
   "source": [
    "y_pred=RM_DT_fit.predict(x_train)\n",
    "np.sqrt(mean_squared_error(y_pred,y_train))"
   ]
  },
  {
   "cell_type": "code",
   "execution_count": 101,
   "metadata": {},
   "outputs": [
    {
     "data": {
      "text/plain": [
       "0.6244900459481558"
      ]
     },
     "execution_count": 101,
     "metadata": {},
     "output_type": "execute_result"
    },
    {
     "data": {
      "image/png": "[encoded data removed]",
      "text/plain": [
       "<Figure size 432x288 with 1 Axes>"
      ]
     },
     "metadata": {},
     "output_type": "display_data"
    }
   ],
   "source": [
    "y_pred=RM_DT_fit.predict(x_test)\n",
    "y_err=y_pred-y_test\n",
    "sns.residplot(y_test,y_err,lowess=True,color=\"g\")\n",
    "result['Recursive'][3]=np.sqrt(mean_squared_error(y_pred,y_test))\n",
    "result['Recursive'][3]"
   ]
  },
  {
   "cell_type": "markdown",
   "metadata": {},
   "source": [
    "### Random Forest Model"
   ]
  },
  {
   "cell_type": "code",
   "execution_count": 102,
   "metadata": {},
   "outputs": [
    {
     "data": {
      "text/plain": [
       "11"
      ]
     },
     "execution_count": 102,
     "metadata": {},
     "output_type": "execute_result"
    }
   ],
   "source": [
    "RF = ensemble.RandomForestRegressor(n_estimators=100, random_state=0)\n",
    "RM_RF=RFECV(RF, step=1, cv=10, scoring='neg_mean_squared_error')\n",
    "RM_RF_fit=RM_RF.fit(x_train,y_train)\n",
    "RM_RF_fit.n_features_"
   ]
  },
  {
   "cell_type": "code",
   "execution_count": 103,
   "metadata": {
    "scrolled": false
   },
   "outputs": [
    {
     "data": {
      "text/plain": [
       "0.14952625049956755"
      ]
     },
     "execution_count": 103,
     "metadata": {},
     "output_type": "execute_result"
    }
   ],
   "source": [
    "y_pred=RM_RF_fit.predict(x_train)\n",
    "np.sqrt(mean_squared_error(y_pred,y_train))"
   ]
  },
  {
   "cell_type": "code",
   "execution_count": 104,
   "metadata": {
    "scrolled": true
   },
   "outputs": [
    {
     "data": {
      "text/plain": [
       "0.47544146881862914"
      ]
     },
     "execution_count": 104,
     "metadata": {},
     "output_type": "execute_result"
    },
    {
     "data": {
      "image/png": "[encoded data removed]",
      "text/plain": [
       "<Figure size 432x288 with 1 Axes>"
      ]
     },
     "metadata": {},
     "output_type": "display_data"
    }
   ],
   "source": [
    "y_pred=RM_RF_fit.predict(x_test)\n",
    "y_err=y_pred-y_test\n",
    "sns.residplot(y_test,y_err,lowess=True,color=\"g\")\n",
    "result['Recursive'][4]=np.sqrt(mean_squared_error(y_pred,y_test))\n",
    "result['Recursive'][4]"
   ]
  },
  {
   "cell_type": "markdown",
   "metadata": {},
   "source": [
    "### XGBoost Model"
   ]
  },
  {
   "cell_type": "code",
   "execution_count": 105,
   "metadata": {},
   "outputs": [
    {
     "data": {
      "text/plain": [
       "12"
      ]
     },
     "execution_count": 105,
     "metadata": {},
     "output_type": "execute_result"
    }
   ],
   "source": [
    "XG = ensemble.GradientBoostingRegressor(loss='huber', learning_rate=0.05, n_estimators=300, max_depth=10, \n",
    "                                  max_features='sqrt', min_samples_leaf=15, \n",
    "                                  min_samples_split=10)\n",
    "RM_XG=RFECV(XG, step=1, cv=5, scoring='neg_mean_squared_error')\n",
    "RM_XG_fit=RM_XG.fit(x_train,y_train)\n",
    "RM_XG_fit.n_features_"
   ]
  },
  {
   "cell_type": "code",
   "execution_count": 106,
   "metadata": {},
   "outputs": [
    {
     "data": {
      "text/plain": [
       "0.17488643323450428"
      ]
     },
     "execution_count": 106,
     "metadata": {},
     "output_type": "execute_result"
    }
   ],
   "source": [
    "y_pred=RM_XG_fit.predict(x_train)\n",
    "np.sqrt(mean_squared_error(y_pred,y_train))"
   ]
  },
  {
   "cell_type": "code",
   "execution_count": 107,
   "metadata": {
    "scrolled": true
   },
   "outputs": [
    {
     "data": {
      "text/plain": [
       "0.4745646147038013"
      ]
     },
     "execution_count": 107,
     "metadata": {},
     "output_type": "execute_result"
    },
    {
     "data": {
      "image/png": "[encoded data removed]",
      "text/plain": [
       "<Figure size 432x288 with 1 Axes>"
      ]
     },
     "metadata": {},
     "output_type": "display_data"
    }
   ],
   "source": [
    "y_pred=RM_XG_fit.predict(x_test)\n",
    "y_err=y_pred-y_test\n",
    "sns.residplot(y_test,y_err,lowess=True,color=\"g\")\n",
    "result['Recursive'][5]=np.sqrt(mean_squared_error(y_pred,y_test))\n",
    "result['Recursive'][5]"
   ]
  },
  {
   "cell_type": "markdown",
   "metadata": {},
   "source": [
    "## Embedded Method - XGBoost Feature Importance"
   ]
  },
  {
   "cell_type": "code",
   "execution_count": 108,
   "metadata": {},
   "outputs": [
    {
     "name": "stdout",
     "output_type": "stream",
     "text": [
      "[0.06598394 0.03439553 0.00045491 0.00369475 0.0009542  0.00057696\n",
      " 0.00674596 0.0587054  0.00229673 0.00907598 0.00048819 0.00254083\n",
      " 0.00051039 0.00256302 0.08779735 0.00043272 0.00129815 0.\n",
      " 0.00114282 0.00318436 0.0016532  0.00178635 0.00752263 0.01070699\n",
      " 0.00802192 0.00109844 0.00221907 0.00240769 0.00108734 0.06741523\n",
      " 0.00128706 0.00065462 0.00720087 0.00025519 0.00480428 0.02182452\n",
      " 0.09082638 0.00233002 0.         0.00863217 0.00413856 0.\n",
      " 0.00402761 0.00079886 0.00053258 0.09761672 0.00533685 0.03503906\n",
      " 0.00666829 0.         0.00733401 0.00180854 0.03741346 0.0033175\n",
      " 0.00034396 0.02109222 0.01954997 0.03713607 0.00510385 0.00939775\n",
      " 0.00042162 0.         0.000233   0.00252974 0.00139801 0.00096529\n",
      " 0.00149787 0.         0.00828821 0.0615569  0.         0.03628173\n",
      " 0.02144727 0.02960234 0.01454598]\n"
     ]
    }
   ],
   "source": [
    "from xgboost import XGBClassifier\n",
    "model = XGBClassifier()\n",
    "df_out_X=df_out.drop(columns=['SalePrice'])\n",
    "df_out_y=df_out['SalePrice']\n",
    "model.fit(df_out_X, df_out_y)\n",
    "print(model.feature_importances_)"
   ]
  },
  {
   "cell_type": "code",
   "execution_count": 109,
   "metadata": {},
   "outputs": [
    {
     "data": {
      "text/plain": [
       "75"
      ]
     },
     "execution_count": 109,
     "metadata": {},
     "output_type": "execute_result"
    }
   ],
   "source": [
    "len(model.feature_importances_)"
   ]
  },
  {
   "cell_type": "code",
   "execution_count": 110,
   "metadata": {},
   "outputs": [
    {
     "data": {
      "text/plain": [
       "(1327, 75)"
      ]
     },
     "execution_count": 110,
     "metadata": {},
     "output_type": "execute_result"
    }
   ],
   "source": [
    "df_out_X.shape"
   ]
  },
  {
   "cell_type": "code",
   "execution_count": 111,
   "metadata": {},
   "outputs": [],
   "source": [
    "df_out_X_col=df_out_X.columns.values"
   ]
  },
  {
   "cell_type": "code",
   "execution_count": 112,
   "metadata": {
    "scrolled": false
   },
   "outputs": [
    {
     "data": {
      "image/png": "[encoded data removed]",
      "text/plain": [
       "<Figure size 720x1440 with 1 Axes>"
      ]
     },
     "metadata": {},
     "output_type": "display_data"
    }
   ],
   "source": [
    "plt.rcParams[\"figure.figsize\"] = (10,20)\n",
    "plt.barh(df_out_X_col, model.feature_importances_)\n",
    "plt.show()"
   ]
  },
  {
   "cell_type": "code",
   "execution_count": 113,
   "metadata": {},
   "outputs": [],
   "source": [
    "df_XG=pd.DataFrame()"
   ]
  },
  {
   "cell_type": "code",
   "execution_count": 114,
   "metadata": {},
   "outputs": [],
   "source": [
    "df_XG['Feature']=df_out_X_col\n",
    "df_XG['Feature_Importance']=model.feature_importances_"
   ]
  },
  {
   "cell_type": "code",
   "execution_count": 115,
   "metadata": {},
   "outputs": [
    {
     "data": {
      "text/html": [
       "<div>\n",
       "<style scoped>\n",
       "    .dataframe tbody tr th:only-of-type {\n",
       "        vertical-align: middle;\n",
       "    }\n",
       "\n",
       "    .dataframe tbody tr th {\n",
       "        vertical-align: top;\n",
       "    }\n",
       "\n",
       "    .dataframe thead th {\n",
       "        text-align: right;\n",
       "    }\n",
       "</style>\n",
       "<table border=\"1\" class=\"dataframe\">\n",
       "  <thead>\n",
       "    <tr style=\"text-align: right;\">\n",
       "      <th></th>\n",
       "      <th>Feature</th>\n",
       "      <th>Feature_Importance</th>\n",
       "    </tr>\n",
       "  </thead>\n",
       "  <tbody>\n",
       "    <tr>\n",
       "      <th>0</th>\n",
       "      <td>1stFlrSF</td>\n",
       "      <td>0.065984</td>\n",
       "    </tr>\n",
       "    <tr>\n",
       "      <th>1</th>\n",
       "      <td>2ndFlrSF</td>\n",
       "      <td>0.034396</td>\n",
       "    </tr>\n",
       "    <tr>\n",
       "      <th>2</th>\n",
       "      <td>3SsnPorch</td>\n",
       "      <td>0.000455</td>\n",
       "    </tr>\n",
       "    <tr>\n",
       "      <th>3</th>\n",
       "      <td>BedroomAbvGr</td>\n",
       "      <td>0.003695</td>\n",
       "    </tr>\n",
       "    <tr>\n",
       "      <th>4</th>\n",
       "      <td>BldgType</td>\n",
       "      <td>0.000954</td>\n",
       "    </tr>\n",
       "  </tbody>\n",
       "</table>\n",
       "</div>"
      ],
      "text/plain": [
       "        Feature  Feature_Importance\n",
       "0      1stFlrSF            0.065984\n",
       "1      2ndFlrSF            0.034396\n",
       "2     3SsnPorch            0.000455\n",
       "3  BedroomAbvGr            0.003695\n",
       "4      BldgType            0.000954"
      ]
     },
     "execution_count": 115,
     "metadata": {},
     "output_type": "execute_result"
    }
   ],
   "source": [
    "df_XG.head()"
   ]
  },
  {
   "cell_type": "code",
   "execution_count": 116,
   "metadata": {},
   "outputs": [],
   "source": [
    "df_XG=df_XG.sort_values(by=['Feature_Importance'],ascending=False)"
   ]
  },
  {
   "cell_type": "code",
   "execution_count": 117,
   "metadata": {},
   "outputs": [
    {
     "data": {
      "text/html": [
       "<div>\n",
       "<style scoped>\n",
       "    .dataframe tbody tr th:only-of-type {\n",
       "        vertical-align: middle;\n",
       "    }\n",
       "\n",
       "    .dataframe tbody tr th {\n",
       "        vertical-align: top;\n",
       "    }\n",
       "\n",
       "    .dataframe thead th {\n",
       "        text-align: right;\n",
       "    }\n",
       "</style>\n",
       "<table border=\"1\" class=\"dataframe\">\n",
       "  <thead>\n",
       "    <tr style=\"text-align: right;\">\n",
       "      <th></th>\n",
       "      <th>Feature</th>\n",
       "      <th>Feature_Importance</th>\n",
       "    </tr>\n",
       "  </thead>\n",
       "  <tbody>\n",
       "    <tr>\n",
       "      <th>45</th>\n",
       "      <td>LotArea</td>\n",
       "      <td>0.097617</td>\n",
       "    </tr>\n",
       "    <tr>\n",
       "      <th>36</th>\n",
       "      <td>GrLivArea</td>\n",
       "      <td>0.090826</td>\n",
       "    </tr>\n",
       "    <tr>\n",
       "      <th>14</th>\n",
       "      <td>BsmtUnfSF</td>\n",
       "      <td>0.087797</td>\n",
       "    </tr>\n",
       "    <tr>\n",
       "      <th>29</th>\n",
       "      <td>GarageArea</td>\n",
       "      <td>0.067415</td>\n",
       "    </tr>\n",
       "    <tr>\n",
       "      <th>0</th>\n",
       "      <td>1stFlrSF</td>\n",
       "      <td>0.065984</td>\n",
       "    </tr>\n",
       "    <tr>\n",
       "      <th>69</th>\n",
       "      <td>TotalBsmtSF</td>\n",
       "      <td>0.061557</td>\n",
       "    </tr>\n",
       "    <tr>\n",
       "      <th>7</th>\n",
       "      <td>BsmtFinSF1</td>\n",
       "      <td>0.058705</td>\n",
       "    </tr>\n",
       "    <tr>\n",
       "      <th>52</th>\n",
       "      <td>MasVnrArea</td>\n",
       "      <td>0.037413</td>\n",
       "    </tr>\n",
       "    <tr>\n",
       "      <th>57</th>\n",
       "      <td>OpenPorchSF</td>\n",
       "      <td>0.037136</td>\n",
       "    </tr>\n",
       "    <tr>\n",
       "      <th>71</th>\n",
       "      <td>WoodDeckSF</td>\n",
       "      <td>0.036282</td>\n",
       "    </tr>\n",
       "    <tr>\n",
       "      <th>47</th>\n",
       "      <td>LotFrontage</td>\n",
       "      <td>0.035039</td>\n",
       "    </tr>\n",
       "    <tr>\n",
       "      <th>1</th>\n",
       "      <td>2ndFlrSF</td>\n",
       "      <td>0.034396</td>\n",
       "    </tr>\n",
       "    <tr>\n",
       "      <th>73</th>\n",
       "      <td>YearRemodAdd</td>\n",
       "      <td>0.029602</td>\n",
       "    </tr>\n",
       "    <tr>\n",
       "      <th>35</th>\n",
       "      <td>GarageYrBlt</td>\n",
       "      <td>0.021825</td>\n",
       "    </tr>\n",
       "    <tr>\n",
       "      <th>72</th>\n",
       "      <td>YearBuilt</td>\n",
       "      <td>0.021447</td>\n",
       "    </tr>\n",
       "    <tr>\n",
       "      <th>55</th>\n",
       "      <td>MoSold</td>\n",
       "      <td>0.021092</td>\n",
       "    </tr>\n",
       "    <tr>\n",
       "      <th>56</th>\n",
       "      <td>Neighborhood</td>\n",
       "      <td>0.019550</td>\n",
       "    </tr>\n",
       "    <tr>\n",
       "      <th>74</th>\n",
       "      <td>YrSold</td>\n",
       "      <td>0.014546</td>\n",
       "    </tr>\n",
       "    <tr>\n",
       "      <th>23</th>\n",
       "      <td>Exterior2nd</td>\n",
       "      <td>0.010707</td>\n",
       "    </tr>\n",
       "    <tr>\n",
       "      <th>59</th>\n",
       "      <td>OverallQual</td>\n",
       "      <td>0.009398</td>\n",
       "    </tr>\n",
       "    <tr>\n",
       "      <th>9</th>\n",
       "      <td>BsmtFinType1</td>\n",
       "      <td>0.009076</td>\n",
       "    </tr>\n",
       "    <tr>\n",
       "      <th>39</th>\n",
       "      <td>HeatingQC</td>\n",
       "      <td>0.008632</td>\n",
       "    </tr>\n",
       "    <tr>\n",
       "      <th>68</th>\n",
       "      <td>TotRmsAbvGrd</td>\n",
       "      <td>0.008288</td>\n",
       "    </tr>\n",
       "    <tr>\n",
       "      <th>24</th>\n",
       "      <td>FireplaceQu</td>\n",
       "      <td>0.008022</td>\n",
       "    </tr>\n",
       "    <tr>\n",
       "      <th>22</th>\n",
       "      <td>Exterior1st</td>\n",
       "      <td>0.007523</td>\n",
       "    </tr>\n",
       "    <tr>\n",
       "      <th>50</th>\n",
       "      <td>MSSubClass</td>\n",
       "      <td>0.007334</td>\n",
       "    </tr>\n",
       "    <tr>\n",
       "      <th>32</th>\n",
       "      <td>GarageFinish</td>\n",
       "      <td>0.007201</td>\n",
       "    </tr>\n",
       "    <tr>\n",
       "      <th>6</th>\n",
       "      <td>BsmtExposure</td>\n",
       "      <td>0.006746</td>\n",
       "    </tr>\n",
       "    <tr>\n",
       "      <th>48</th>\n",
       "      <td>LotShape</td>\n",
       "      <td>0.006668</td>\n",
       "    </tr>\n",
       "    <tr>\n",
       "      <th>46</th>\n",
       "      <td>LotConfig</td>\n",
       "      <td>0.005337</td>\n",
       "    </tr>\n",
       "    <tr>\n",
       "      <th>...</th>\n",
       "      <td>...</td>\n",
       "      <td>...</td>\n",
       "    </tr>\n",
       "    <tr>\n",
       "      <th>21</th>\n",
       "      <td>ExterQual</td>\n",
       "      <td>0.001786</td>\n",
       "    </tr>\n",
       "    <tr>\n",
       "      <th>20</th>\n",
       "      <td>ExterCond</td>\n",
       "      <td>0.001653</td>\n",
       "    </tr>\n",
       "    <tr>\n",
       "      <th>66</th>\n",
       "      <td>ScreenPorch</td>\n",
       "      <td>0.001498</td>\n",
       "    </tr>\n",
       "    <tr>\n",
       "      <th>64</th>\n",
       "      <td>SaleCondition</td>\n",
       "      <td>0.001398</td>\n",
       "    </tr>\n",
       "    <tr>\n",
       "      <th>16</th>\n",
       "      <td>Condition1</td>\n",
       "      <td>0.001298</td>\n",
       "    </tr>\n",
       "    <tr>\n",
       "      <th>30</th>\n",
       "      <td>GarageCars</td>\n",
       "      <td>0.001287</td>\n",
       "    </tr>\n",
       "    <tr>\n",
       "      <th>18</th>\n",
       "      <td>Electrical</td>\n",
       "      <td>0.001143</td>\n",
       "    </tr>\n",
       "    <tr>\n",
       "      <th>25</th>\n",
       "      <td>Fireplaces</td>\n",
       "      <td>0.001098</td>\n",
       "    </tr>\n",
       "    <tr>\n",
       "      <th>28</th>\n",
       "      <td>Functional</td>\n",
       "      <td>0.001087</td>\n",
       "    </tr>\n",
       "    <tr>\n",
       "      <th>65</th>\n",
       "      <td>SaleType</td>\n",
       "      <td>0.000965</td>\n",
       "    </tr>\n",
       "    <tr>\n",
       "      <th>4</th>\n",
       "      <td>BldgType</td>\n",
       "      <td>0.000954</td>\n",
       "    </tr>\n",
       "    <tr>\n",
       "      <th>43</th>\n",
       "      <td>LandContour</td>\n",
       "      <td>0.000799</td>\n",
       "    </tr>\n",
       "    <tr>\n",
       "      <th>31</th>\n",
       "      <td>GarageCond</td>\n",
       "      <td>0.000655</td>\n",
       "    </tr>\n",
       "    <tr>\n",
       "      <th>5</th>\n",
       "      <td>BsmtCond</td>\n",
       "      <td>0.000577</td>\n",
       "    </tr>\n",
       "    <tr>\n",
       "      <th>44</th>\n",
       "      <td>LandSlope</td>\n",
       "      <td>0.000533</td>\n",
       "    </tr>\n",
       "    <tr>\n",
       "      <th>12</th>\n",
       "      <td>BsmtHalfBath</td>\n",
       "      <td>0.000510</td>\n",
       "    </tr>\n",
       "    <tr>\n",
       "      <th>10</th>\n",
       "      <td>BsmtFinType2</td>\n",
       "      <td>0.000488</td>\n",
       "    </tr>\n",
       "    <tr>\n",
       "      <th>2</th>\n",
       "      <td>3SsnPorch</td>\n",
       "      <td>0.000455</td>\n",
       "    </tr>\n",
       "    <tr>\n",
       "      <th>15</th>\n",
       "      <td>CentralAir</td>\n",
       "      <td>0.000433</td>\n",
       "    </tr>\n",
       "    <tr>\n",
       "      <th>60</th>\n",
       "      <td>PavedDrive</td>\n",
       "      <td>0.000422</td>\n",
       "    </tr>\n",
       "    <tr>\n",
       "      <th>54</th>\n",
       "      <td>MiscVal</td>\n",
       "      <td>0.000344</td>\n",
       "    </tr>\n",
       "    <tr>\n",
       "      <th>33</th>\n",
       "      <td>GarageQual</td>\n",
       "      <td>0.000255</td>\n",
       "    </tr>\n",
       "    <tr>\n",
       "      <th>62</th>\n",
       "      <td>RoofMatl</td>\n",
       "      <td>0.000233</td>\n",
       "    </tr>\n",
       "    <tr>\n",
       "      <th>38</th>\n",
       "      <td>Heating</td>\n",
       "      <td>0.000000</td>\n",
       "    </tr>\n",
       "    <tr>\n",
       "      <th>67</th>\n",
       "      <td>Street</td>\n",
       "      <td>0.000000</td>\n",
       "    </tr>\n",
       "    <tr>\n",
       "      <th>49</th>\n",
       "      <td>LowQualFinSF</td>\n",
       "      <td>0.000000</td>\n",
       "    </tr>\n",
       "    <tr>\n",
       "      <th>70</th>\n",
       "      <td>Utilities</td>\n",
       "      <td>0.000000</td>\n",
       "    </tr>\n",
       "    <tr>\n",
       "      <th>61</th>\n",
       "      <td>PoolArea</td>\n",
       "      <td>0.000000</td>\n",
       "    </tr>\n",
       "    <tr>\n",
       "      <th>17</th>\n",
       "      <td>Condition2</td>\n",
       "      <td>0.000000</td>\n",
       "    </tr>\n",
       "    <tr>\n",
       "      <th>41</th>\n",
       "      <td>KitchenAbvGr</td>\n",
       "      <td>0.000000</td>\n",
       "    </tr>\n",
       "  </tbody>\n",
       "</table>\n",
       "<p>75 rows × 2 columns</p>\n",
       "</div>"
      ],
      "text/plain": [
       "          Feature  Feature_Importance\n",
       "45        LotArea            0.097617\n",
       "36      GrLivArea            0.090826\n",
       "14      BsmtUnfSF            0.087797\n",
       "29     GarageArea            0.067415\n",
       "0        1stFlrSF            0.065984\n",
       "69    TotalBsmtSF            0.061557\n",
       "7      BsmtFinSF1            0.058705\n",
       "52     MasVnrArea            0.037413\n",
       "57    OpenPorchSF            0.037136\n",
       "71     WoodDeckSF            0.036282\n",
       "47    LotFrontage            0.035039\n",
       "1        2ndFlrSF            0.034396\n",
       "73   YearRemodAdd            0.029602\n",
       "35    GarageYrBlt            0.021825\n",
       "72      YearBuilt            0.021447\n",
       "55         MoSold            0.021092\n",
       "56   Neighborhood            0.019550\n",
       "74         YrSold            0.014546\n",
       "23    Exterior2nd            0.010707\n",
       "59    OverallQual            0.009398\n",
       "9    BsmtFinType1            0.009076\n",
       "39      HeatingQC            0.008632\n",
       "68   TotRmsAbvGrd            0.008288\n",
       "24    FireplaceQu            0.008022\n",
       "22    Exterior1st            0.007523\n",
       "50     MSSubClass            0.007334\n",
       "32   GarageFinish            0.007201\n",
       "6    BsmtExposure            0.006746\n",
       "48       LotShape            0.006668\n",
       "46      LotConfig            0.005337\n",
       "..            ...                 ...\n",
       "21      ExterQual            0.001786\n",
       "20      ExterCond            0.001653\n",
       "66    ScreenPorch            0.001498\n",
       "64  SaleCondition            0.001398\n",
       "16     Condition1            0.001298\n",
       "30     GarageCars            0.001287\n",
       "18     Electrical            0.001143\n",
       "25     Fireplaces            0.001098\n",
       "28     Functional            0.001087\n",
       "65       SaleType            0.000965\n",
       "4        BldgType            0.000954\n",
       "43    LandContour            0.000799\n",
       "31     GarageCond            0.000655\n",
       "5        BsmtCond            0.000577\n",
       "44      LandSlope            0.000533\n",
       "12   BsmtHalfBath            0.000510\n",
       "10   BsmtFinType2            0.000488\n",
       "2       3SsnPorch            0.000455\n",
       "15     CentralAir            0.000433\n",
       "60     PavedDrive            0.000422\n",
       "54        MiscVal            0.000344\n",
       "33     GarageQual            0.000255\n",
       "62       RoofMatl            0.000233\n",
       "38        Heating            0.000000\n",
       "67         Street            0.000000\n",
       "49   LowQualFinSF            0.000000\n",
       "70      Utilities            0.000000\n",
       "61       PoolArea            0.000000\n",
       "17     Condition2            0.000000\n",
       "41   KitchenAbvGr            0.000000\n",
       "\n",
       "[75 rows x 2 columns]"
      ]
     },
     "execution_count": 117,
     "metadata": {},
     "output_type": "execute_result"
    }
   ],
   "source": [
    "df_XG"
   ]
  },
  {
   "cell_type": "code",
   "execution_count": 118,
   "metadata": {},
   "outputs": [],
   "source": [
    "feature_col_XG=df_XG['Feature'][:12].values"
   ]
  },
  {
   "cell_type": "code",
   "execution_count": 119,
   "metadata": {},
   "outputs": [
    {
     "data": {
      "text/plain": [
       "array(['LotArea', 'GrLivArea', 'BsmtUnfSF', 'GarageArea', '1stFlrSF',\n",
       "       'TotalBsmtSF', 'BsmtFinSF1', 'MasVnrArea', 'OpenPorchSF',\n",
       "       'WoodDeckSF', 'LotFrontage', '2ndFlrSF'], dtype=object)"
      ]
     },
     "execution_count": 119,
     "metadata": {},
     "output_type": "execute_result"
    }
   ],
   "source": [
    "feature_col_XG"
   ]
  },
  {
   "cell_type": "markdown",
   "metadata": {},
   "source": [
    "### Using the new selected features in the 6 models again."
   ]
  },
  {
   "cell_type": "code",
   "execution_count": 120,
   "metadata": {},
   "outputs": [],
   "source": [
    "X=df_out[feature_col_XG]\n",
    "y=df_out['SalePrice']"
   ]
  },
  {
   "cell_type": "code",
   "execution_count": 121,
   "metadata": {},
   "outputs": [
    {
     "data": {
      "text/plain": [
       "array(['LotArea', 'GrLivArea', 'BsmtUnfSF', 'GarageArea', '1stFlrSF',\n",
       "       'TotalBsmtSF', 'BsmtFinSF1', 'MasVnrArea', 'OpenPorchSF',\n",
       "       'WoodDeckSF', 'LotFrontage', '2ndFlrSF'], dtype=object)"
      ]
     },
     "execution_count": 121,
     "metadata": {},
     "output_type": "execute_result"
    }
   ],
   "source": [
    "feature_col_XG"
   ]
  },
  {
   "cell_type": "markdown",
   "metadata": {},
   "source": [
    "### Split the data to train and test dataset"
   ]
  },
  {
   "cell_type": "code",
   "execution_count": 122,
   "metadata": {},
   "outputs": [],
   "source": [
    "x_train, x_test, y_train, y_test = train_test_split(X, y, test_size=TS, random_state=200)"
   ]
  },
  {
   "cell_type": "markdown",
   "metadata": {},
   "source": [
    "### Ridge Regression"
   ]
  },
  {
   "cell_type": "code",
   "execution_count": 123,
   "metadata": {},
   "outputs": [],
   "source": [
    "plt.rcParams[\"figure.figsize\"] = (8,6)"
   ]
  },
  {
   "cell_type": "code",
   "execution_count": 124,
   "metadata": {},
   "outputs": [
    {
     "data": {
      "text/plain": [
       "0.5116441339023867"
      ]
     },
     "execution_count": 124,
     "metadata": {},
     "output_type": "execute_result"
    }
   ],
   "source": [
    "from sklearn.linear_model import Ridge\n",
    "RR=Ridge(alpha=10,fit_intercept=True)\n",
    "RR_fit=RR.fit(x_train,y_train)\n",
    "y_pred=RR_fit.predict(x_train)\n",
    "np.sqrt(mean_squared_error(y_pred,y_train))"
   ]
  },
  {
   "cell_type": "code",
   "execution_count": 125,
   "metadata": {},
   "outputs": [
    {
     "data": {
      "text/plain": [
       "0.9600347833515187"
      ]
     },
     "execution_count": 125,
     "metadata": {},
     "output_type": "execute_result"
    },
    {
     "data": {
      "image/png": "[encoded data removed]",
      "text/plain": [
       "<Figure size 576x432 with 1 Axes>"
      ]
     },
     "metadata": {},
     "output_type": "display_data"
    }
   ],
   "source": [
    "y_pred=RR_fit.predict(x_test)\n",
    "y_err=y_pred-y_test\n",
    "sns.residplot(y_test,y_err,lowess=True,color=\"g\")\n",
    "result['XGBoost'][0]=np.sqrt(mean_squared_error(y_pred,y_test))\n",
    "result['XGBoost'][0]"
   ]
  },
  {
   "cell_type": "markdown",
   "metadata": {},
   "source": [
    "### Lasso Regression"
   ]
  },
  {
   "cell_type": "code",
   "execution_count": 126,
   "metadata": {},
   "outputs": [
    {
     "data": {
      "text/plain": [
       "0.9935044033854032"
      ]
     },
     "execution_count": 126,
     "metadata": {},
     "output_type": "execute_result"
    }
   ],
   "source": [
    "from sklearn.linear_model import Lasso\n",
    "LR=Lasso(alpha=10,fit_intercept=True)\n",
    "LR_fit=LR.fit(x_train,y_train)\n",
    "y_pred=LR_fit.predict(x_train)\n",
    "np.sqrt(mean_squared_error(y_pred,y_train))"
   ]
  },
  {
   "cell_type": "code",
   "execution_count": 127,
   "metadata": {},
   "outputs": [
    {
     "data": {
      "text/plain": [
       "1.0256694115933844"
      ]
     },
     "execution_count": 127,
     "metadata": {},
     "output_type": "execute_result"
    },
    {
     "data": {
      "image/png": "[encoded data removed]",
      "text/plain": [
       "<Figure size 576x432 with 1 Axes>"
      ]
     },
     "metadata": {},
     "output_type": "display_data"
    }
   ],
   "source": [
    "y_pred=LR_fit.predict(x_test)\n",
    "y_err=y_pred-y_test\n",
    "sns.residplot(y_test,y_err,lowess=True,color=\"g\")\n",
    "result['XGBoost'][1]=np.sqrt(mean_squared_error(y_pred,y_test))\n",
    "result['XGBoost'][1]"
   ]
  },
  {
   "cell_type": "markdown",
   "metadata": {},
   "source": [
    "### Elastic Net Model"
   ]
  },
  {
   "cell_type": "code",
   "execution_count": 128,
   "metadata": {},
   "outputs": [],
   "source": [
    "from sklearn.linear_model import ElasticNetCV\n",
    "EN = ElasticNetCV(alphas=[0.0001, 0.0005, 0.001, 0.01, 0.1, 1, 10], \n",
    "                       l1_ratio=[.01, .1, .5, .9, .99], max_iter=5000)\n",
    "EN_fit=EN.fit(x_train, y_train)"
   ]
  },
  {
   "cell_type": "code",
   "execution_count": 129,
   "metadata": {},
   "outputs": [
    {
     "data": {
      "text/plain": [
       "0.5116642414693039"
      ]
     },
     "execution_count": 129,
     "metadata": {},
     "output_type": "execute_result"
    }
   ],
   "source": [
    "y_pred=EN_fit.predict(x_train)\n",
    "np.sqrt(mean_squared_error(y_pred,y_train))"
   ]
  },
  {
   "cell_type": "code",
   "execution_count": 130,
   "metadata": {},
   "outputs": [
    {
     "data": {
      "text/plain": [
       "0.9595318384077949"
      ]
     },
     "execution_count": 130,
     "metadata": {},
     "output_type": "execute_result"
    },
    {
     "data": {
      "image/png": "[encoded data removed]",
      "text/plain": [
       "<Figure size 576x432 with 1 Axes>"
      ]
     },
     "metadata": {},
     "output_type": "display_data"
    }
   ],
   "source": [
    "y_pred=EN_fit.predict(x_test)\n",
    "y_err=y_pred-y_test\n",
    "sns.residplot(y_test,y_err,lowess=True,color=\"g\")\n",
    "result['XGBoost'][2]=np.sqrt(mean_squared_error(y_pred,y_test))\n",
    "result['XGBoost'][2]"
   ]
  },
  {
   "cell_type": "markdown",
   "metadata": {},
   "source": [
    "### Decision Tree Model"
   ]
  },
  {
   "cell_type": "code",
   "execution_count": 131,
   "metadata": {},
   "outputs": [],
   "source": [
    "from sklearn.tree import DecisionTreeRegressor\n",
    "DT=DecisionTreeRegressor()\n",
    "DT_fit=DT.fit(x_train,y_train)"
   ]
  },
  {
   "cell_type": "code",
   "execution_count": 132,
   "metadata": {},
   "outputs": [
    {
     "data": {
      "text/plain": [
       "0.005933186741367199"
      ]
     },
     "execution_count": 132,
     "metadata": {},
     "output_type": "execute_result"
    }
   ],
   "source": [
    "y_pred=DT_fit.predict(x_train)\n",
    "np.sqrt(mean_squared_error(y_pred,y_train))"
   ]
  },
  {
   "cell_type": "code",
   "execution_count": 133,
   "metadata": {},
   "outputs": [
    {
     "data": {
      "text/plain": [
       "0.6621061312232266"
      ]
     },
     "execution_count": 133,
     "metadata": {},
     "output_type": "execute_result"
    },
    {
     "data": {
      "image/png": "[encoded data removed]",
      "text/plain": [
       "<Figure size 576x432 with 1 Axes>"
      ]
     },
     "metadata": {},
     "output_type": "display_data"
    }
   ],
   "source": [
    "y_pred=DT_fit.predict(x_test)\n",
    "y_err=y_pred-y_test\n",
    "sns.residplot(y_test,y_err,lowess=True,color=\"g\")\n",
    "result['XGBoost'][3]=np.sqrt(mean_squared_error(y_pred,y_test))\n",
    "result['XGBoost'][3]"
   ]
  },
  {
   "cell_type": "markdown",
   "metadata": {},
   "source": [
    "### Random Forest Model"
   ]
  },
  {
   "cell_type": "code",
   "execution_count": 134,
   "metadata": {},
   "outputs": [],
   "source": [
    "RF = ensemble.RandomForestRegressor(n_estimators=100, random_state=0)\n",
    "RF_fit=RF.fit(x_train, y_train)"
   ]
  },
  {
   "cell_type": "code",
   "execution_count": 135,
   "metadata": {},
   "outputs": [
    {
     "data": {
      "text/plain": [
       "0.1767208700330106"
      ]
     },
     "execution_count": 135,
     "metadata": {},
     "output_type": "execute_result"
    }
   ],
   "source": [
    "y_pred=RF_fit.predict(x_train)\n",
    "np.sqrt(mean_squared_error(y_pred,y_train))"
   ]
  },
  {
   "cell_type": "code",
   "execution_count": 136,
   "metadata": {},
   "outputs": [
    {
     "data": {
      "text/plain": [
       "0.5656115991479793"
      ]
     },
     "execution_count": 136,
     "metadata": {},
     "output_type": "execute_result"
    },
    {
     "data": {
      "image/png": "[encoded data removed]",
      "text/plain": [
       "<Figure size 576x432 with 1 Axes>"
      ]
     },
     "metadata": {},
     "output_type": "display_data"
    }
   ],
   "source": [
    "y_pred=RF_fit.predict(x_test)\n",
    "y_err=y_pred-y_test\n",
    "sns.residplot(y_test,y_err,lowess=True,color=\"g\")\n",
    "result['XGBoost'][4]=np.sqrt(mean_squared_error(y_pred,y_test))\n",
    "result['XGBoost'][4]"
   ]
  },
  {
   "cell_type": "markdown",
   "metadata": {},
   "source": [
    "### XGBoost Model"
   ]
  },
  {
   "cell_type": "code",
   "execution_count": 137,
   "metadata": {},
   "outputs": [],
   "source": [
    "XG = ensemble.GradientBoostingRegressor(loss='huber', learning_rate=0.05, n_estimators=3000, max_depth=10, \n",
    "                                  max_features='sqrt', min_samples_leaf=15, \n",
    "                                  min_samples_split=10)\n",
    "XG_fit=XG.fit(x_train, y_train)"
   ]
  },
  {
   "cell_type": "code",
   "execution_count": 138,
   "metadata": {},
   "outputs": [
    {
     "data": {
      "text/plain": [
       "0.11049244195062444"
      ]
     },
     "execution_count": 138,
     "metadata": {},
     "output_type": "execute_result"
    }
   ],
   "source": [
    "y_pred=XG_fit.predict(x_train)\n",
    "np.sqrt(mean_squared_error(y_pred,y_train))"
   ]
  },
  {
   "cell_type": "code",
   "execution_count": 139,
   "metadata": {},
   "outputs": [
    {
     "data": {
      "text/plain": [
       "0.5794249995063"
      ]
     },
     "execution_count": 139,
     "metadata": {},
     "output_type": "execute_result"
    },
    {
     "data": {
      "image/png": "[encoded data removed]",
      "text/plain": [
       "<Figure size 576x432 with 1 Axes>"
      ]
     },
     "metadata": {},
     "output_type": "display_data"
    }
   ],
   "source": [
    "y_pred=XG_fit.predict(x_test)\n",
    "y_err=y_pred-y_test\n",
    "sns.residplot(y_test,y_err,lowess=True,color=\"g\")\n",
    "result['XGBoost'][5]=np.sqrt(mean_squared_error(y_pred,y_test))\n",
    "result['XGBoost'][5]"
   ]
  },
  {
   "cell_type": "markdown",
   "metadata": {},
   "source": [
    "## Examine the result"
   ]
  },
  {
   "cell_type": "code",
   "execution_count": 140,
   "metadata": {},
   "outputs": [
    {
     "name": "stdout",
     "output_type": "stream",
     "text": [
      "test-size:  0.2\n"
     ]
    }
   ],
   "source": [
    "print('test-size: ',TS)"
   ]
  },
  {
   "cell_type": "code",
   "execution_count": 141,
   "metadata": {},
   "outputs": [
    {
     "data": {
      "text/html": [
       "<div>\n",
       "<style scoped>\n",
       "    .dataframe tbody tr th:only-of-type {\n",
       "        vertical-align: middle;\n",
       "    }\n",
       "\n",
       "    .dataframe tbody tr th {\n",
       "        vertical-align: top;\n",
       "    }\n",
       "\n",
       "    .dataframe thead th {\n",
       "        text-align: right;\n",
       "    }\n",
       "</style>\n",
       "<table border=\"1\" class=\"dataframe\">\n",
       "  <thead>\n",
       "    <tr style=\"text-align: right;\">\n",
       "      <th></th>\n",
       "      <th>Algorithm</th>\n",
       "      <th>Correlation</th>\n",
       "      <th>Recursive</th>\n",
       "      <th>XGBoost</th>\n",
       "    </tr>\n",
       "  </thead>\n",
       "  <tbody>\n",
       "    <tr>\n",
       "      <th>0</th>\n",
       "      <td>Ridge Regression</td>\n",
       "      <td>0.670012</td>\n",
       "      <td>0.67089</td>\n",
       "      <td>0.960035</td>\n",
       "    </tr>\n",
       "    <tr>\n",
       "      <th>1</th>\n",
       "      <td>LASSO Regression</td>\n",
       "      <td>1.02567</td>\n",
       "      <td>1.02567</td>\n",
       "      <td>1.02567</td>\n",
       "    </tr>\n",
       "    <tr>\n",
       "      <th>2</th>\n",
       "      <td>Elastic Net</td>\n",
       "      <td>0.676551</td>\n",
       "      <td>0.682973</td>\n",
       "      <td>0.959532</td>\n",
       "    </tr>\n",
       "    <tr>\n",
       "      <th>3</th>\n",
       "      <td>Decision Tree</td>\n",
       "      <td>0.614223</td>\n",
       "      <td>0.62449</td>\n",
       "      <td>0.662106</td>\n",
       "    </tr>\n",
       "    <tr>\n",
       "      <th>4</th>\n",
       "      <td>Random Forest</td>\n",
       "      <td>0.474661</td>\n",
       "      <td>0.475441</td>\n",
       "      <td>0.565612</td>\n",
       "    </tr>\n",
       "    <tr>\n",
       "      <th>5</th>\n",
       "      <td>XGBoost</td>\n",
       "      <td>0.484945</td>\n",
       "      <td>0.474565</td>\n",
       "      <td>0.579425</td>\n",
       "    </tr>\n",
       "  </tbody>\n",
       "</table>\n",
       "</div>"
      ],
      "text/plain": [
       "          Algorithm Correlation Recursive   XGBoost\n",
       "0  Ridge Regression    0.670012   0.67089  0.960035\n",
       "1  LASSO Regression     1.02567   1.02567   1.02567\n",
       "2       Elastic Net    0.676551  0.682973  0.959532\n",
       "3     Decision Tree    0.614223   0.62449  0.662106\n",
       "4     Random Forest    0.474661  0.475441  0.565612\n",
       "5           XGBoost    0.484945  0.474565  0.579425"
      ]
     },
     "execution_count": 141,
     "metadata": {},
     "output_type": "execute_result"
    }
   ],
   "source": [
    "result"
   ]
  },
  {
   "cell_type": "code",
   "execution_count": null,
   "metadata": {},
   "outputs": [],
   "source": []
  }
 ],
 "metadata": {
  "kernelspec": {
   "display_name": "Python 3",
   "language": "python",
   "name": "python3"
  },
  "language_info": {
   "codemirror_mode": {
    "name": "ipython",
    "version": 3
   },
   "file_extension": ".py",
   "mimetype": "text/x-python",
   "name": "python",
   "nbconvert_exporter": "python",
   "pygments_lexer": "ipython3",
   "version": "3.7.0"
  }
 },
 "nbformat": 4,
 "nbformat_minor": 2
}
