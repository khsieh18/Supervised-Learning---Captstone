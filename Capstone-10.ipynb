{
 "cells": [
  {
   "cell_type": "markdown",
   "metadata": {},
   "source": [
    "- 1stFlrSF:\t First Floor square feet\n",
    "- 2ndFlrSF:\t Second floor square feet\n",
    "- 3SsnPorch:\t Three season porch area in square feet\n",
    "- Alley:\t Type of alley access\n",
    "- Bedroom:\t Number of bedrooms above basement level\n",
    "- BldgType:\t Type of dwelling\n",
    "- BsmtCond:\t General condition of the basement\n",
    "- BsmtExposure:\t Walkout or garden level basement walls\n",
    "- BsmtFinSF1:\t Type 1 finished square feet\n",
    "- BsmtFinSF2:\t Type 2 finished square feet\n",
    "- BsmtFinType1:\t Quality of basement finished area\n",
    "- BsmtFinType2:\t Quality of second finished area (if present)\n",
    "- BsmtFullBath:\t Basement full bathrooms\n",
    "- BsmtHalfBath:\t Basement half bathrooms\n",
    "- BsmtQual:\t Height of the basement\n",
    "- BsmtUnfSF:\t Unfinished square feet of basement area\n",
    "- CentralAir:\t Central air conditioning\n",
    "- Condition1:\t Proximity to main road or railroad\n",
    "- Condition2:\t Proximity to main road or railroad (if a second is present)\n",
    "- Electrical:\t Electrical system\n",
    "- EnclosedPorch:\t Enclosed porch area in square feet\n",
    "- ExterCond:\t Present condition of the material on the exterior\n",
    "- Exterior1st:\t Exterior covering on house\n",
    "- Exterior2nd:\t Exterior covering on house (if more than one material)\n",
    "- ExterQual:\t Exterior material quality\n",
    "- Fence:\t Fence quality\n",
    "- FireplaceQu:\t Fireplace quality\n",
    "- Fireplaces:\t Number of fireplaces\n",
    "- Foundation:\t Type of foundation\n",
    "- FullBath:\t Full bathrooms above grade\n",
    "- Functional:\t Home functionality rating\n",
    "- GarageArea:\t Size of garage in square feet\n",
    "- GarageCars:\t Size of garage in car capacity\n",
    "- GarageCond:\t Garage condition\n",
    "- GarageFinish:\t Interior finish of the garage\n",
    "- GarageQual:\t Garage quality\n",
    "- GarageType:\t Garage location\n",
    "- GarageYrBlt:\t Year garage was built\n",
    "- GrLivArea:\t Above grade (ground) living area square feet\n",
    "- HalfBath:\t Half baths above grade\n",
    "- - Heating:\t Type of heating\n",
    "- HeatingQC:\t Heating quality and condition\n",
    "- HouseStyle:\t Style of dwelling\n",
    "- Id:\tObservation Id\n",
    "- Kitchen:\t Number of kitchens\n",
    "- KitchenQual:\t Kitchen quality\n",
    "- LandContour:\t Flatness of the property\n",
    "- LandSlope:\t Slope of property\n",
    "- LotArea:\t Lot size in square feet\n",
    "- LotConfig:\t Lot configuration\n",
    "- LotFrontage:\t Linear feet of street connected to property\n",
    "- LotShape:\t General shape of property\n",
    "- LowQualFinSF:\t Low quality finished square feet (all floors)\n",
    "- MasVnrArea:\t Masonry veneer area in square feet\n",
    "- MasVnrType:\t Masonry veneer type\n",
    "- MiscFeature:\t Miscellaneous feature not covered in other categories\n",
    "- MiscVal:\t $Value of miscellaneous feature\n",
    "- MoSold:\t Month Sold\n",
    "- MSSubClass:\t The building class\n",
    "- MSZoning:\t The general zoning classification\n",
    "- Neighborhood:\t Physical locations within Ames city limits\n",
    "- OpenPorchSF:\t Open porch area in square feet\n",
    "- OverallCond:\t Overall condition rating\n",
    "- OverallQual:\t Overall material and finish quality\n",
    "- PavedDrive:\t Paved driveway\n",
    "- PoolArea:\t Pool area in square feet\n",
    "- PoolQC:\t Pool quality\n",
    "- RoofMatl:\t Roof material\n",
    "- RoofStyle:\t Type of roof\n",
    "- SaleCondition:\t Condition of sale\n",
    "- SalePrice:\t the property's sale price in dollars. This is the target variable that you're trying to predict.\n",
    "- SaleType:\t Type of sale\n",
    "- ScreenPorch:\t Screen porch area in square feet\n",
    "- Street:\t Type of road access\n",
    "- TotalBsmtSF:\t Total square feet of basement area\n",
    "- TotRmsAbvGrd:\t Total rooms above grade (does not include bathrooms)\n",
    "- Utilities:\t Type of utilities available\n",
    "- WoodDeckSF:\t Wood deck area in square feet\n",
    "- YearBuilt:\t Original construction date\n",
    "- YearRemodAdd:\t Remodel date\n",
    "- YrSold:\t Year Sold\n"
   ]
  },
  {
   "cell_type": "code",
   "execution_count": 1,
   "metadata": {},
   "outputs": [],
   "source": [
    "import pandas as pd\n",
    "import numpy as np\n",
    "import matplotlib.pyplot as plt\n",
    "%matplotlib inline\n",
    "import seaborn as sns\n",
    "\n",
    "from scipy import stats\n",
    "from scipy.stats import norm\n",
    "\n",
    "from sklearn.preprocessing import StandardScaler\n",
    "from sklearn import ensemble, tree, linear_model\n",
    "from sklearn.metrics import r2_score, mean_squared_error\n",
    "from sklearn.utils import shuffle\n",
    "from sklearn.model_selection import train_test_split, cross_val_score\n",
    "\n",
    "\n",
    "\n",
    "import warnings\n",
    "warnings.filterwarnings('ignore')"
   ]
  },
  {
   "cell_type": "code",
   "execution_count": 2,
   "metadata": {},
   "outputs": [],
   "source": [
    "df=pd.read_csv('train.csv')"
   ]
  },
  {
   "cell_type": "code",
   "execution_count": 3,
   "metadata": {
    "scrolled": true
   },
   "outputs": [
    {
     "data": {
      "text/html": [
       "<div>\n",
       "<style scoped>\n",
       "    .dataframe tbody tr th:only-of-type {\n",
       "        vertical-align: middle;\n",
       "    }\n",
       "\n",
       "    .dataframe tbody tr th {\n",
       "        vertical-align: top;\n",
       "    }\n",
       "\n",
       "    .dataframe thead th {\n",
       "        text-align: right;\n",
       "    }\n",
       "</style>\n",
       "<table border=\"1\" class=\"dataframe\">\n",
       "  <thead>\n",
       "    <tr style=\"text-align: right;\">\n",
       "      <th></th>\n",
       "      <th>1stFlrSF</th>\n",
       "      <th>2ndFlrSF</th>\n",
       "      <th>3SsnPorch</th>\n",
       "      <th>Alley</th>\n",
       "      <th>BedroomAbvGr</th>\n",
       "      <th>BldgType</th>\n",
       "      <th>BsmtCond</th>\n",
       "      <th>BsmtExposure</th>\n",
       "      <th>BsmtFinSF1</th>\n",
       "      <th>BsmtFinSF2</th>\n",
       "      <th>BsmtFinType1</th>\n",
       "      <th>BsmtFinType2</th>\n",
       "      <th>BsmtFullBath</th>\n",
       "      <th>BsmtHalfBath</th>\n",
       "      <th>BsmtQual</th>\n",
       "      <th>BsmtUnfSF</th>\n",
       "      <th>CentralAir</th>\n",
       "      <th>Condition1</th>\n",
       "      <th>Condition2</th>\n",
       "      <th>Electrical</th>\n",
       "      <th>EnclosedPorch</th>\n",
       "      <th>ExterCond</th>\n",
       "      <th>ExterQual</th>\n",
       "      <th>Exterior1st</th>\n",
       "      <th>Exterior2nd</th>\n",
       "      <th>Fence</th>\n",
       "      <th>FireplaceQu</th>\n",
       "      <th>Fireplaces</th>\n",
       "      <th>Foundation</th>\n",
       "      <th>FullBath</th>\n",
       "      <th>Functional</th>\n",
       "      <th>GarageArea</th>\n",
       "      <th>GarageCars</th>\n",
       "      <th>GarageCond</th>\n",
       "      <th>GarageFinish</th>\n",
       "      <th>GarageQual</th>\n",
       "      <th>GarageType</th>\n",
       "      <th>GarageYrBlt</th>\n",
       "      <th>GrLivArea</th>\n",
       "      <th>HalfBath</th>\n",
       "      <th>Heating</th>\n",
       "      <th>HeatingQC</th>\n",
       "      <th>HouseStyle</th>\n",
       "      <th>Id</th>\n",
       "      <th>KitchenAbvGr</th>\n",
       "      <th>KitchenQual</th>\n",
       "      <th>LandContour</th>\n",
       "      <th>LandSlope</th>\n",
       "      <th>LotArea</th>\n",
       "      <th>LotConfig</th>\n",
       "      <th>LotFrontage</th>\n",
       "      <th>LotShape</th>\n",
       "      <th>LowQualFinSF</th>\n",
       "      <th>MSSubClass</th>\n",
       "      <th>MSZoning</th>\n",
       "      <th>MasVnrArea</th>\n",
       "      <th>MasVnrType</th>\n",
       "      <th>MiscFeature</th>\n",
       "      <th>MiscVal</th>\n",
       "      <th>MoSold</th>\n",
       "      <th>Neighborhood</th>\n",
       "      <th>OpenPorchSF</th>\n",
       "      <th>OverallCond</th>\n",
       "      <th>OverallQual</th>\n",
       "      <th>PavedDrive</th>\n",
       "      <th>PoolArea</th>\n",
       "      <th>PoolQC</th>\n",
       "      <th>RoofMatl</th>\n",
       "      <th>RoofStyle</th>\n",
       "      <th>SaleCondition</th>\n",
       "      <th>SalePrice</th>\n",
       "      <th>SaleType</th>\n",
       "      <th>ScreenPorch</th>\n",
       "      <th>Street</th>\n",
       "      <th>TotRmsAbvGrd</th>\n",
       "      <th>TotalBsmtSF</th>\n",
       "      <th>Utilities</th>\n",
       "      <th>WoodDeckSF</th>\n",
       "      <th>YearBuilt</th>\n",
       "      <th>YearRemodAdd</th>\n",
       "      <th>YrSold</th>\n",
       "    </tr>\n",
       "  </thead>\n",
       "  <tbody>\n",
       "    <tr>\n",
       "      <th>0</th>\n",
       "      <td>856</td>\n",
       "      <td>854</td>\n",
       "      <td>0</td>\n",
       "      <td>NaN</td>\n",
       "      <td>3</td>\n",
       "      <td>1Fam</td>\n",
       "      <td>TA</td>\n",
       "      <td>No</td>\n",
       "      <td>706</td>\n",
       "      <td>0</td>\n",
       "      <td>GLQ</td>\n",
       "      <td>Unf</td>\n",
       "      <td>1</td>\n",
       "      <td>0</td>\n",
       "      <td>Gd</td>\n",
       "      <td>150</td>\n",
       "      <td>Y</td>\n",
       "      <td>Norm</td>\n",
       "      <td>Norm</td>\n",
       "      <td>SBrkr</td>\n",
       "      <td>0</td>\n",
       "      <td>TA</td>\n",
       "      <td>Gd</td>\n",
       "      <td>VinylSd</td>\n",
       "      <td>VinylSd</td>\n",
       "      <td>NaN</td>\n",
       "      <td>NaN</td>\n",
       "      <td>0</td>\n",
       "      <td>PConc</td>\n",
       "      <td>2</td>\n",
       "      <td>Typ</td>\n",
       "      <td>548</td>\n",
       "      <td>2</td>\n",
       "      <td>TA</td>\n",
       "      <td>RFn</td>\n",
       "      <td>TA</td>\n",
       "      <td>Attchd</td>\n",
       "      <td>2003.0</td>\n",
       "      <td>1710</td>\n",
       "      <td>1</td>\n",
       "      <td>GasA</td>\n",
       "      <td>Ex</td>\n",
       "      <td>2Story</td>\n",
       "      <td>1</td>\n",
       "      <td>1</td>\n",
       "      <td>Gd</td>\n",
       "      <td>Lvl</td>\n",
       "      <td>Gtl</td>\n",
       "      <td>8450</td>\n",
       "      <td>Inside</td>\n",
       "      <td>65.0</td>\n",
       "      <td>Reg</td>\n",
       "      <td>0</td>\n",
       "      <td>60</td>\n",
       "      <td>RL</td>\n",
       "      <td>196.0</td>\n",
       "      <td>BrkFace</td>\n",
       "      <td>NaN</td>\n",
       "      <td>0</td>\n",
       "      <td>2</td>\n",
       "      <td>CollgCr</td>\n",
       "      <td>61</td>\n",
       "      <td>5</td>\n",
       "      <td>7</td>\n",
       "      <td>Y</td>\n",
       "      <td>0</td>\n",
       "      <td>NaN</td>\n",
       "      <td>CompShg</td>\n",
       "      <td>Gable</td>\n",
       "      <td>Normal</td>\n",
       "      <td>208500</td>\n",
       "      <td>WD</td>\n",
       "      <td>0</td>\n",
       "      <td>Pave</td>\n",
       "      <td>8</td>\n",
       "      <td>856</td>\n",
       "      <td>AllPub</td>\n",
       "      <td>0</td>\n",
       "      <td>2003</td>\n",
       "      <td>2003</td>\n",
       "      <td>2008</td>\n",
       "    </tr>\n",
       "    <tr>\n",
       "      <th>1</th>\n",
       "      <td>1262</td>\n",
       "      <td>0</td>\n",
       "      <td>0</td>\n",
       "      <td>NaN</td>\n",
       "      <td>3</td>\n",
       "      <td>1Fam</td>\n",
       "      <td>TA</td>\n",
       "      <td>Gd</td>\n",
       "      <td>978</td>\n",
       "      <td>0</td>\n",
       "      <td>ALQ</td>\n",
       "      <td>Unf</td>\n",
       "      <td>0</td>\n",
       "      <td>1</td>\n",
       "      <td>Gd</td>\n",
       "      <td>284</td>\n",
       "      <td>Y</td>\n",
       "      <td>Feedr</td>\n",
       "      <td>Norm</td>\n",
       "      <td>SBrkr</td>\n",
       "      <td>0</td>\n",
       "      <td>TA</td>\n",
       "      <td>TA</td>\n",
       "      <td>MetalSd</td>\n",
       "      <td>MetalSd</td>\n",
       "      <td>NaN</td>\n",
       "      <td>TA</td>\n",
       "      <td>1</td>\n",
       "      <td>CBlock</td>\n",
       "      <td>2</td>\n",
       "      <td>Typ</td>\n",
       "      <td>460</td>\n",
       "      <td>2</td>\n",
       "      <td>TA</td>\n",
       "      <td>RFn</td>\n",
       "      <td>TA</td>\n",
       "      <td>Attchd</td>\n",
       "      <td>1976.0</td>\n",
       "      <td>1262</td>\n",
       "      <td>0</td>\n",
       "      <td>GasA</td>\n",
       "      <td>Ex</td>\n",
       "      <td>1Story</td>\n",
       "      <td>2</td>\n",
       "      <td>1</td>\n",
       "      <td>TA</td>\n",
       "      <td>Lvl</td>\n",
       "      <td>Gtl</td>\n",
       "      <td>9600</td>\n",
       "      <td>FR2</td>\n",
       "      <td>80.0</td>\n",
       "      <td>Reg</td>\n",
       "      <td>0</td>\n",
       "      <td>20</td>\n",
       "      <td>RL</td>\n",
       "      <td>0.0</td>\n",
       "      <td>None</td>\n",
       "      <td>NaN</td>\n",
       "      <td>0</td>\n",
       "      <td>5</td>\n",
       "      <td>Veenker</td>\n",
       "      <td>0</td>\n",
       "      <td>8</td>\n",
       "      <td>6</td>\n",
       "      <td>Y</td>\n",
       "      <td>0</td>\n",
       "      <td>NaN</td>\n",
       "      <td>CompShg</td>\n",
       "      <td>Gable</td>\n",
       "      <td>Normal</td>\n",
       "      <td>181500</td>\n",
       "      <td>WD</td>\n",
       "      <td>0</td>\n",
       "      <td>Pave</td>\n",
       "      <td>6</td>\n",
       "      <td>1262</td>\n",
       "      <td>AllPub</td>\n",
       "      <td>298</td>\n",
       "      <td>1976</td>\n",
       "      <td>1976</td>\n",
       "      <td>2007</td>\n",
       "    </tr>\n",
       "    <tr>\n",
       "      <th>2</th>\n",
       "      <td>920</td>\n",
       "      <td>866</td>\n",
       "      <td>0</td>\n",
       "      <td>NaN</td>\n",
       "      <td>3</td>\n",
       "      <td>1Fam</td>\n",
       "      <td>TA</td>\n",
       "      <td>Mn</td>\n",
       "      <td>486</td>\n",
       "      <td>0</td>\n",
       "      <td>GLQ</td>\n",
       "      <td>Unf</td>\n",
       "      <td>1</td>\n",
       "      <td>0</td>\n",
       "      <td>Gd</td>\n",
       "      <td>434</td>\n",
       "      <td>Y</td>\n",
       "      <td>Norm</td>\n",
       "      <td>Norm</td>\n",
       "      <td>SBrkr</td>\n",
       "      <td>0</td>\n",
       "      <td>TA</td>\n",
       "      <td>Gd</td>\n",
       "      <td>VinylSd</td>\n",
       "      <td>VinylSd</td>\n",
       "      <td>NaN</td>\n",
       "      <td>TA</td>\n",
       "      <td>1</td>\n",
       "      <td>PConc</td>\n",
       "      <td>2</td>\n",
       "      <td>Typ</td>\n",
       "      <td>608</td>\n",
       "      <td>2</td>\n",
       "      <td>TA</td>\n",
       "      <td>RFn</td>\n",
       "      <td>TA</td>\n",
       "      <td>Attchd</td>\n",
       "      <td>2001.0</td>\n",
       "      <td>1786</td>\n",
       "      <td>1</td>\n",
       "      <td>GasA</td>\n",
       "      <td>Ex</td>\n",
       "      <td>2Story</td>\n",
       "      <td>3</td>\n",
       "      <td>1</td>\n",
       "      <td>Gd</td>\n",
       "      <td>Lvl</td>\n",
       "      <td>Gtl</td>\n",
       "      <td>11250</td>\n",
       "      <td>Inside</td>\n",
       "      <td>68.0</td>\n",
       "      <td>IR1</td>\n",
       "      <td>0</td>\n",
       "      <td>60</td>\n",
       "      <td>RL</td>\n",
       "      <td>162.0</td>\n",
       "      <td>BrkFace</td>\n",
       "      <td>NaN</td>\n",
       "      <td>0</td>\n",
       "      <td>9</td>\n",
       "      <td>CollgCr</td>\n",
       "      <td>42</td>\n",
       "      <td>5</td>\n",
       "      <td>7</td>\n",
       "      <td>Y</td>\n",
       "      <td>0</td>\n",
       "      <td>NaN</td>\n",
       "      <td>CompShg</td>\n",
       "      <td>Gable</td>\n",
       "      <td>Normal</td>\n",
       "      <td>223500</td>\n",
       "      <td>WD</td>\n",
       "      <td>0</td>\n",
       "      <td>Pave</td>\n",
       "      <td>6</td>\n",
       "      <td>920</td>\n",
       "      <td>AllPub</td>\n",
       "      <td>0</td>\n",
       "      <td>2001</td>\n",
       "      <td>2002</td>\n",
       "      <td>2008</td>\n",
       "    </tr>\n",
       "    <tr>\n",
       "      <th>3</th>\n",
       "      <td>961</td>\n",
       "      <td>756</td>\n",
       "      <td>0</td>\n",
       "      <td>NaN</td>\n",
       "      <td>3</td>\n",
       "      <td>1Fam</td>\n",
       "      <td>Gd</td>\n",
       "      <td>No</td>\n",
       "      <td>216</td>\n",
       "      <td>0</td>\n",
       "      <td>ALQ</td>\n",
       "      <td>Unf</td>\n",
       "      <td>1</td>\n",
       "      <td>0</td>\n",
       "      <td>TA</td>\n",
       "      <td>540</td>\n",
       "      <td>Y</td>\n",
       "      <td>Norm</td>\n",
       "      <td>Norm</td>\n",
       "      <td>SBrkr</td>\n",
       "      <td>272</td>\n",
       "      <td>TA</td>\n",
       "      <td>TA</td>\n",
       "      <td>Wd Sdng</td>\n",
       "      <td>Wd Shng</td>\n",
       "      <td>NaN</td>\n",
       "      <td>Gd</td>\n",
       "      <td>1</td>\n",
       "      <td>BrkTil</td>\n",
       "      <td>1</td>\n",
       "      <td>Typ</td>\n",
       "      <td>642</td>\n",
       "      <td>3</td>\n",
       "      <td>TA</td>\n",
       "      <td>Unf</td>\n",
       "      <td>TA</td>\n",
       "      <td>Detchd</td>\n",
       "      <td>1998.0</td>\n",
       "      <td>1717</td>\n",
       "      <td>0</td>\n",
       "      <td>GasA</td>\n",
       "      <td>Gd</td>\n",
       "      <td>2Story</td>\n",
       "      <td>4</td>\n",
       "      <td>1</td>\n",
       "      <td>Gd</td>\n",
       "      <td>Lvl</td>\n",
       "      <td>Gtl</td>\n",
       "      <td>9550</td>\n",
       "      <td>Corner</td>\n",
       "      <td>60.0</td>\n",
       "      <td>IR1</td>\n",
       "      <td>0</td>\n",
       "      <td>70</td>\n",
       "      <td>RL</td>\n",
       "      <td>0.0</td>\n",
       "      <td>None</td>\n",
       "      <td>NaN</td>\n",
       "      <td>0</td>\n",
       "      <td>2</td>\n",
       "      <td>Crawfor</td>\n",
       "      <td>35</td>\n",
       "      <td>5</td>\n",
       "      <td>7</td>\n",
       "      <td>Y</td>\n",
       "      <td>0</td>\n",
       "      <td>NaN</td>\n",
       "      <td>CompShg</td>\n",
       "      <td>Gable</td>\n",
       "      <td>Abnorml</td>\n",
       "      <td>140000</td>\n",
       "      <td>WD</td>\n",
       "      <td>0</td>\n",
       "      <td>Pave</td>\n",
       "      <td>7</td>\n",
       "      <td>756</td>\n",
       "      <td>AllPub</td>\n",
       "      <td>0</td>\n",
       "      <td>1915</td>\n",
       "      <td>1970</td>\n",
       "      <td>2006</td>\n",
       "    </tr>\n",
       "    <tr>\n",
       "      <th>4</th>\n",
       "      <td>1145</td>\n",
       "      <td>1053</td>\n",
       "      <td>0</td>\n",
       "      <td>NaN</td>\n",
       "      <td>4</td>\n",
       "      <td>1Fam</td>\n",
       "      <td>TA</td>\n",
       "      <td>Av</td>\n",
       "      <td>655</td>\n",
       "      <td>0</td>\n",
       "      <td>GLQ</td>\n",
       "      <td>Unf</td>\n",
       "      <td>1</td>\n",
       "      <td>0</td>\n",
       "      <td>Gd</td>\n",
       "      <td>490</td>\n",
       "      <td>Y</td>\n",
       "      <td>Norm</td>\n",
       "      <td>Norm</td>\n",
       "      <td>SBrkr</td>\n",
       "      <td>0</td>\n",
       "      <td>TA</td>\n",
       "      <td>Gd</td>\n",
       "      <td>VinylSd</td>\n",
       "      <td>VinylSd</td>\n",
       "      <td>NaN</td>\n",
       "      <td>TA</td>\n",
       "      <td>1</td>\n",
       "      <td>PConc</td>\n",
       "      <td>2</td>\n",
       "      <td>Typ</td>\n",
       "      <td>836</td>\n",
       "      <td>3</td>\n",
       "      <td>TA</td>\n",
       "      <td>RFn</td>\n",
       "      <td>TA</td>\n",
       "      <td>Attchd</td>\n",
       "      <td>2000.0</td>\n",
       "      <td>2198</td>\n",
       "      <td>1</td>\n",
       "      <td>GasA</td>\n",
       "      <td>Ex</td>\n",
       "      <td>2Story</td>\n",
       "      <td>5</td>\n",
       "      <td>1</td>\n",
       "      <td>Gd</td>\n",
       "      <td>Lvl</td>\n",
       "      <td>Gtl</td>\n",
       "      <td>14260</td>\n",
       "      <td>FR2</td>\n",
       "      <td>84.0</td>\n",
       "      <td>IR1</td>\n",
       "      <td>0</td>\n",
       "      <td>60</td>\n",
       "      <td>RL</td>\n",
       "      <td>350.0</td>\n",
       "      <td>BrkFace</td>\n",
       "      <td>NaN</td>\n",
       "      <td>0</td>\n",
       "      <td>12</td>\n",
       "      <td>NoRidge</td>\n",
       "      <td>84</td>\n",
       "      <td>5</td>\n",
       "      <td>8</td>\n",
       "      <td>Y</td>\n",
       "      <td>0</td>\n",
       "      <td>NaN</td>\n",
       "      <td>CompShg</td>\n",
       "      <td>Gable</td>\n",
       "      <td>Normal</td>\n",
       "      <td>250000</td>\n",
       "      <td>WD</td>\n",
       "      <td>0</td>\n",
       "      <td>Pave</td>\n",
       "      <td>9</td>\n",
       "      <td>1145</td>\n",
       "      <td>AllPub</td>\n",
       "      <td>192</td>\n",
       "      <td>2000</td>\n",
       "      <td>2000</td>\n",
       "      <td>2008</td>\n",
       "    </tr>\n",
       "  </tbody>\n",
       "</table>\n",
       "</div>"
      ],
      "text/plain": [
       "   1stFlrSF  2ndFlrSF  3SsnPorch Alley  BedroomAbvGr BldgType BsmtCond  \\\n",
       "0       856       854          0   NaN             3     1Fam       TA   \n",
       "1      1262         0          0   NaN             3     1Fam       TA   \n",
       "2       920       866          0   NaN             3     1Fam       TA   \n",
       "3       961       756          0   NaN             3     1Fam       Gd   \n",
       "4      1145      1053          0   NaN             4     1Fam       TA   \n",
       "\n",
       "  BsmtExposure  BsmtFinSF1  BsmtFinSF2 BsmtFinType1 BsmtFinType2  \\\n",
       "0           No         706           0          GLQ          Unf   \n",
       "1           Gd         978           0          ALQ          Unf   \n",
       "2           Mn         486           0          GLQ          Unf   \n",
       "3           No         216           0          ALQ          Unf   \n",
       "4           Av         655           0          GLQ          Unf   \n",
       "\n",
       "   BsmtFullBath  BsmtHalfBath BsmtQual  BsmtUnfSF CentralAir Condition1  \\\n",
       "0             1             0       Gd        150          Y       Norm   \n",
       "1             0             1       Gd        284          Y      Feedr   \n",
       "2             1             0       Gd        434          Y       Norm   \n",
       "3             1             0       TA        540          Y       Norm   \n",
       "4             1             0       Gd        490          Y       Norm   \n",
       "\n",
       "  Condition2 Electrical  EnclosedPorch ExterCond ExterQual Exterior1st  \\\n",
       "0       Norm      SBrkr              0        TA        Gd     VinylSd   \n",
       "1       Norm      SBrkr              0        TA        TA     MetalSd   \n",
       "2       Norm      SBrkr              0        TA        Gd     VinylSd   \n",
       "3       Norm      SBrkr            272        TA        TA     Wd Sdng   \n",
       "4       Norm      SBrkr              0        TA        Gd     VinylSd   \n",
       "\n",
       "  Exterior2nd Fence FireplaceQu  Fireplaces Foundation  FullBath Functional  \\\n",
       "0     VinylSd   NaN         NaN           0      PConc         2        Typ   \n",
       "1     MetalSd   NaN          TA           1     CBlock         2        Typ   \n",
       "2     VinylSd   NaN          TA           1      PConc         2        Typ   \n",
       "3     Wd Shng   NaN          Gd           1     BrkTil         1        Typ   \n",
       "4     VinylSd   NaN          TA           1      PConc         2        Typ   \n",
       "\n",
       "   GarageArea  GarageCars GarageCond GarageFinish GarageQual GarageType  \\\n",
       "0         548           2         TA          RFn         TA     Attchd   \n",
       "1         460           2         TA          RFn         TA     Attchd   \n",
       "2         608           2         TA          RFn         TA     Attchd   \n",
       "3         642           3         TA          Unf         TA     Detchd   \n",
       "4         836           3         TA          RFn         TA     Attchd   \n",
       "\n",
       "   GarageYrBlt  GrLivArea  HalfBath Heating HeatingQC HouseStyle  Id  \\\n",
       "0       2003.0       1710         1    GasA        Ex     2Story   1   \n",
       "1       1976.0       1262         0    GasA        Ex     1Story   2   \n",
       "2       2001.0       1786         1    GasA        Ex     2Story   3   \n",
       "3       1998.0       1717         0    GasA        Gd     2Story   4   \n",
       "4       2000.0       2198         1    GasA        Ex     2Story   5   \n",
       "\n",
       "   KitchenAbvGr KitchenQual LandContour LandSlope  LotArea LotConfig  \\\n",
       "0             1          Gd         Lvl       Gtl     8450    Inside   \n",
       "1             1          TA         Lvl       Gtl     9600       FR2   \n",
       "2             1          Gd         Lvl       Gtl    11250    Inside   \n",
       "3             1          Gd         Lvl       Gtl     9550    Corner   \n",
       "4             1          Gd         Lvl       Gtl    14260       FR2   \n",
       "\n",
       "   LotFrontage LotShape  LowQualFinSF  MSSubClass MSZoning  MasVnrArea  \\\n",
       "0         65.0      Reg             0          60       RL       196.0   \n",
       "1         80.0      Reg             0          20       RL         0.0   \n",
       "2         68.0      IR1             0          60       RL       162.0   \n",
       "3         60.0      IR1             0          70       RL         0.0   \n",
       "4         84.0      IR1             0          60       RL       350.0   \n",
       "\n",
       "  MasVnrType MiscFeature  MiscVal  MoSold Neighborhood  OpenPorchSF  \\\n",
       "0    BrkFace         NaN        0       2      CollgCr           61   \n",
       "1       None         NaN        0       5      Veenker            0   \n",
       "2    BrkFace         NaN        0       9      CollgCr           42   \n",
       "3       None         NaN        0       2      Crawfor           35   \n",
       "4    BrkFace         NaN        0      12      NoRidge           84   \n",
       "\n",
       "   OverallCond  OverallQual PavedDrive  PoolArea PoolQC RoofMatl RoofStyle  \\\n",
       "0            5            7          Y         0    NaN  CompShg     Gable   \n",
       "1            8            6          Y         0    NaN  CompShg     Gable   \n",
       "2            5            7          Y         0    NaN  CompShg     Gable   \n",
       "3            5            7          Y         0    NaN  CompShg     Gable   \n",
       "4            5            8          Y         0    NaN  CompShg     Gable   \n",
       "\n",
       "  SaleCondition  SalePrice SaleType  ScreenPorch Street  TotRmsAbvGrd  \\\n",
       "0        Normal     208500       WD            0   Pave             8   \n",
       "1        Normal     181500       WD            0   Pave             6   \n",
       "2        Normal     223500       WD            0   Pave             6   \n",
       "3       Abnorml     140000       WD            0   Pave             7   \n",
       "4        Normal     250000       WD            0   Pave             9   \n",
       "\n",
       "   TotalBsmtSF Utilities  WoodDeckSF  YearBuilt  YearRemodAdd  YrSold  \n",
       "0          856    AllPub           0       2003          2003    2008  \n",
       "1         1262    AllPub         298       1976          1976    2007  \n",
       "2          920    AllPub           0       2001          2002    2008  \n",
       "3          756    AllPub           0       1915          1970    2006  \n",
       "4         1145    AllPub         192       2000          2000    2008  "
      ]
     },
     "execution_count": 3,
     "metadata": {},
     "output_type": "execute_result"
    }
   ],
   "source": [
    "from IPython.display import display\n",
    "pd.options.display.max_columns=None\n",
    "df=df.reindex_axis(sorted(df.columns),axis=1)\n",
    "df.head()"
   ]
  },
  {
   "cell_type": "code",
   "execution_count": 4,
   "metadata": {
    "scrolled": false
   },
   "outputs": [
    {
     "data": {
      "text/plain": [
       "0    690\n",
       "1    650\n",
       "2    115\n",
       "3      5\n",
       "Name: Fireplaces, dtype: int64"
      ]
     },
     "execution_count": 4,
     "metadata": {},
     "output_type": "execute_result"
    }
   ],
   "source": [
    "df.Fireplaces.value_counts()"
   ]
  },
  {
   "cell_type": "code",
   "execution_count": 5,
   "metadata": {
    "scrolled": true
   },
   "outputs": [
    {
     "data": {
      "text/plain": [
       "(1460, 81)"
      ]
     },
     "execution_count": 5,
     "metadata": {},
     "output_type": "execute_result"
    }
   ],
   "source": [
    "df.shape"
   ]
  },
  {
   "cell_type": "code",
   "execution_count": 6,
   "metadata": {},
   "outputs": [
    {
     "data": {
      "text/plain": [
       "1stFlrSF           int64\n",
       "2ndFlrSF           int64\n",
       "3SsnPorch          int64\n",
       "Alley             object\n",
       "BedroomAbvGr       int64\n",
       "BldgType          object\n",
       "BsmtCond          object\n",
       "BsmtExposure      object\n",
       "BsmtFinSF1         int64\n",
       "BsmtFinSF2         int64\n",
       "BsmtFinType1      object\n",
       "BsmtFinType2      object\n",
       "BsmtFullBath       int64\n",
       "BsmtHalfBath       int64\n",
       "BsmtQual          object\n",
       "BsmtUnfSF          int64\n",
       "CentralAir        object\n",
       "Condition1        object\n",
       "Condition2        object\n",
       "Electrical        object\n",
       "EnclosedPorch      int64\n",
       "ExterCond         object\n",
       "ExterQual         object\n",
       "Exterior1st       object\n",
       "Exterior2nd       object\n",
       "Fence             object\n",
       "FireplaceQu       object\n",
       "Fireplaces         int64\n",
       "Foundation        object\n",
       "FullBath           int64\n",
       "                  ...   \n",
       "LotShape          object\n",
       "LowQualFinSF       int64\n",
       "MSSubClass         int64\n",
       "MSZoning          object\n",
       "MasVnrArea       float64\n",
       "MasVnrType        object\n",
       "MiscFeature       object\n",
       "MiscVal            int64\n",
       "MoSold             int64\n",
       "Neighborhood      object\n",
       "OpenPorchSF        int64\n",
       "OverallCond        int64\n",
       "OverallQual        int64\n",
       "PavedDrive        object\n",
       "PoolArea           int64\n",
       "PoolQC            object\n",
       "RoofMatl          object\n",
       "RoofStyle         object\n",
       "SaleCondition     object\n",
       "SalePrice          int64\n",
       "SaleType          object\n",
       "ScreenPorch        int64\n",
       "Street            object\n",
       "TotRmsAbvGrd       int64\n",
       "TotalBsmtSF        int64\n",
       "Utilities         object\n",
       "WoodDeckSF         int64\n",
       "YearBuilt          int64\n",
       "YearRemodAdd       int64\n",
       "YrSold             int64\n",
       "Length: 81, dtype: object"
      ]
     },
     "execution_count": 6,
     "metadata": {},
     "output_type": "execute_result"
    }
   ],
   "source": [
    "df.dtypes"
   ]
  },
  {
   "cell_type": "markdown",
   "metadata": {},
   "source": [
    "### Data Cleaning"
   ]
  },
  {
   "cell_type": "markdown",
   "metadata": {},
   "source": [
    "### Checking NAs"
   ]
  },
  {
   "cell_type": "code",
   "execution_count": 7,
   "metadata": {
    "scrolled": false
   },
   "outputs": [
    {
     "data": {
      "text/plain": [
       "PoolQC          1453\n",
       "MiscFeature     1406\n",
       "Alley           1369\n",
       "Fence           1179\n",
       "FireplaceQu      690\n",
       "LotFrontage      259\n",
       "GarageYrBlt       81\n",
       "GarageType        81\n",
       "GarageQual        81\n",
       "GarageFinish      81\n",
       "GarageCond        81\n",
       "BsmtFinType2      38\n",
       "BsmtExposure      38\n",
       "BsmtQual          37\n",
       "BsmtFinType1      37\n",
       "BsmtCond          37\n",
       "MasVnrArea         8\n",
       "MasVnrType         8\n",
       "Electrical         1\n",
       "dtype: int64"
      ]
     },
     "execution_count": 7,
     "metadata": {},
     "output_type": "execute_result"
    }
   ],
   "source": [
    "null_cols=df.columns[df.isnull().any()]\n",
    "df[null_cols].isnull().sum().sort_values(ascending=False)"
   ]
  },
  {
   "cell_type": "code",
   "execution_count": 8,
   "metadata": {
    "scrolled": true
   },
   "outputs": [
    {
     "data": {
      "text/plain": [
       "PoolQC          99.520548\n",
       "MiscFeature     96.301370\n",
       "Alley           93.767123\n",
       "Fence           80.753425\n",
       "FireplaceQu     47.260274\n",
       "LotFrontage     17.739726\n",
       "GarageYrBlt      5.547945\n",
       "GarageType       5.547945\n",
       "GarageQual       5.547945\n",
       "GarageFinish     5.547945\n",
       "GarageCond       5.547945\n",
       "BsmtFinType2     2.602740\n",
       "BsmtExposure     2.602740\n",
       "BsmtQual         2.534247\n",
       "BsmtFinType1     2.534247\n",
       "BsmtCond         2.534247\n",
       "MasVnrArea       0.547945\n",
       "MasVnrType       0.547945\n",
       "Electrical       0.068493\n",
       "dtype: float64"
      ]
     },
     "execution_count": 8,
     "metadata": {},
     "output_type": "execute_result"
    }
   ],
   "source": [
    "dg=(df[null_cols].isnull().sum()/len(df)*100).sort_values(ascending=False)\n",
    "dg"
   ]
  },
  {
   "cell_type": "code",
   "execution_count": 9,
   "metadata": {},
   "outputs": [
    {
     "data": {
      "text/plain": [
       "array(['PoolQC', 'MiscFeature', 'Alley', 'Fence', 'FireplaceQu',\n",
       "       'LotFrontage', 'GarageYrBlt', 'GarageType', 'GarageQual',\n",
       "       'GarageFinish', 'GarageCond', 'BsmtFinType2', 'BsmtExposure',\n",
       "       'BsmtQual', 'BsmtFinType1', 'BsmtCond', 'MasVnrArea', 'MasVnrType',\n",
       "       'Electrical'], dtype=object)"
      ]
     },
     "execution_count": 9,
     "metadata": {},
     "output_type": "execute_result"
    }
   ],
   "source": [
    "featureName=dg.index.values\n",
    "featureName"
   ]
  },
  {
   "cell_type": "code",
   "execution_count": 10,
   "metadata": {},
   "outputs": [],
   "source": [
    "def missingness(featureName):\n",
    "    for i in featureName:\n",
    "        print(i)\n",
    "        print(df[i].value_counts(dropna=False))\n",
    "        print(\"Value missing: %2.1f %%\" % (df[i].isnull().sum()/len(df)*100))\n",
    "        print()"
   ]
  },
  {
   "cell_type": "markdown",
   "metadata": {},
   "source": [
    "### Checking unique values of feature with more than 70% missning values"
   ]
  },
  {
   "cell_type": "code",
   "execution_count": 11,
   "metadata": {
    "scrolled": true
   },
   "outputs": [
    {
     "name": "stdout",
     "output_type": "stream",
     "text": [
      "PoolQC\n",
      "NaN    1453\n",
      "Gd        3\n",
      "Fa        2\n",
      "Ex        2\n",
      "Name: PoolQC, dtype: int64\n",
      "Value missing: 99.5 %\n",
      "\n",
      "MiscFeature\n",
      "NaN     1406\n",
      "Shed      49\n",
      "Othr       2\n",
      "Gar2       2\n",
      "TenC       1\n",
      "Name: MiscFeature, dtype: int64\n",
      "Value missing: 96.3 %\n",
      "\n",
      "Alley\n",
      "NaN     1369\n",
      "Grvl      50\n",
      "Pave      41\n",
      "Name: Alley, dtype: int64\n",
      "Value missing: 93.8 %\n",
      "\n",
      "Fence\n",
      "NaN      1179\n",
      "MnPrv     157\n",
      "GdPrv      59\n",
      "GdWo       54\n",
      "MnWw       11\n",
      "Name: Fence, dtype: int64\n",
      "Value missing: 80.8 %\n",
      "\n",
      "FireplaceQu\n",
      "NaN    690\n",
      "Gd     380\n",
      "TA     313\n",
      "Fa      33\n",
      "Ex      24\n",
      "Po      20\n",
      "Name: FireplaceQu, dtype: int64\n",
      "Value missing: 47.3 %\n",
      "\n",
      "LotFrontage\n",
      "NaN       259\n",
      " 60.0     143\n",
      " 70.0      70\n",
      " 80.0      69\n",
      " 50.0      57\n",
      " 75.0      53\n",
      " 65.0      44\n",
      " 85.0      40\n",
      " 78.0      25\n",
      " 21.0      23\n",
      " 90.0      23\n",
      " 68.0      19\n",
      " 24.0      19\n",
      " 64.0      19\n",
      " 73.0      18\n",
      " 72.0      17\n",
      " 79.0      17\n",
      " 63.0      17\n",
      " 55.0      17\n",
      " 100.0     16\n",
      " 51.0      15\n",
      " 66.0      15\n",
      " 74.0      15\n",
      " 52.0      14\n",
      " 59.0      13\n",
      " 71.0      12\n",
      " 67.0      12\n",
      " 57.0      12\n",
      " 82.0      12\n",
      " 43.0      12\n",
      "         ... \n",
      " 129.0      2\n",
      " 313.0      2\n",
      " 118.0      2\n",
      " 122.0      2\n",
      " 121.0      2\n",
      " 101.0      2\n",
      " 109.0      2\n",
      " 115.0      2\n",
      " 116.0      2\n",
      " 114.0      2\n",
      " 153.0      1\n",
      " 149.0      1\n",
      " 150.0      1\n",
      " 111.0      1\n",
      " 182.0      1\n",
      " 46.0       1\n",
      " 112.0      1\n",
      " 141.0      1\n",
      " 33.0       1\n",
      " 152.0      1\n",
      " 160.0      1\n",
      " 168.0      1\n",
      " 128.0      1\n",
      " 144.0      1\n",
      " 39.0       1\n",
      " 106.0      1\n",
      " 38.0       1\n",
      " 138.0      1\n",
      " 140.0      1\n",
      " 137.0      1\n",
      "Name: LotFrontage, Length: 111, dtype: int64\n",
      "Value missing: 17.7 %\n",
      "\n",
      "GarageYrBlt\n",
      "NaN        81\n",
      " 2005.0    65\n",
      " 2006.0    59\n",
      " 2004.0    53\n",
      " 2003.0    50\n",
      " 2007.0    49\n",
      " 1977.0    35\n",
      " 1998.0    31\n",
      " 1999.0    30\n",
      " 1976.0    29\n",
      " 2008.0    29\n",
      " 2000.0    27\n",
      " 2002.0    26\n",
      " 1968.0    26\n",
      " 1950.0    24\n",
      " 1993.0    22\n",
      " 1962.0    21\n",
      " 2009.0    21\n",
      " 1966.0    21\n",
      " 1965.0    21\n",
      " 1958.0    21\n",
      " 1970.0    20\n",
      " 1996.0    20\n",
      " 1957.0    20\n",
      " 2001.0    20\n",
      " 1997.0    19\n",
      " 1978.0    19\n",
      " 1960.0    19\n",
      " 1954.0    19\n",
      " 1974.0    18\n",
      "           ..\n",
      " 1916.0     5\n",
      " 1922.0     5\n",
      " 1936.0     5\n",
      " 1945.0     4\n",
      " 1946.0     4\n",
      " 1982.0     4\n",
      " 1931.0     4\n",
      " 1928.0     4\n",
      " 1935.0     4\n",
      " 1932.0     3\n",
      " 1952.0     3\n",
      " 1921.0     3\n",
      " 1938.0     3\n",
      " 2010.0     3\n",
      " 1910.0     3\n",
      " 1924.0     3\n",
      " 1923.0     3\n",
      " 1947.0     2\n",
      " 1918.0     2\n",
      " 1929.0     2\n",
      " 1914.0     2\n",
      " 1915.0     2\n",
      " 1934.0     2\n",
      " 1937.0     2\n",
      " 1942.0     2\n",
      " 1906.0     1\n",
      " 1927.0     1\n",
      " 1900.0     1\n",
      " 1908.0     1\n",
      " 1933.0     1\n",
      "Name: GarageYrBlt, Length: 98, dtype: int64\n",
      "Value missing: 5.5 %\n",
      "\n",
      "GarageType\n",
      "Attchd     870\n",
      "Detchd     387\n",
      "BuiltIn     88\n",
      "NaN         81\n",
      "Basment     19\n",
      "CarPort      9\n",
      "2Types       6\n",
      "Name: GarageType, dtype: int64\n",
      "Value missing: 5.5 %\n",
      "\n",
      "GarageQual\n",
      "TA     1311\n",
      "NaN      81\n",
      "Fa       48\n",
      "Gd       14\n",
      "Po        3\n",
      "Ex        3\n",
      "Name: GarageQual, dtype: int64\n",
      "Value missing: 5.5 %\n",
      "\n",
      "GarageFinish\n",
      "Unf    605\n",
      "RFn    422\n",
      "Fin    352\n",
      "NaN     81\n",
      "Name: GarageFinish, dtype: int64\n",
      "Value missing: 5.5 %\n",
      "\n",
      "GarageCond\n",
      "TA     1326\n",
      "NaN      81\n",
      "Fa       35\n",
      "Gd        9\n",
      "Po        7\n",
      "Ex        2\n",
      "Name: GarageCond, dtype: int64\n",
      "Value missing: 5.5 %\n",
      "\n",
      "BsmtFinType2\n",
      "Unf    1256\n",
      "Rec      54\n",
      "LwQ      46\n",
      "NaN      38\n",
      "BLQ      33\n",
      "ALQ      19\n",
      "GLQ      14\n",
      "Name: BsmtFinType2, dtype: int64\n",
      "Value missing: 2.6 %\n",
      "\n",
      "BsmtExposure\n",
      "No     953\n",
      "Av     221\n",
      "Gd     134\n",
      "Mn     114\n",
      "NaN     38\n",
      "Name: BsmtExposure, dtype: int64\n",
      "Value missing: 2.6 %\n",
      "\n",
      "BsmtQual\n",
      "TA     649\n",
      "Gd     618\n",
      "Ex     121\n",
      "NaN     37\n",
      "Fa      35\n",
      "Name: BsmtQual, dtype: int64\n",
      "Value missing: 2.5 %\n",
      "\n",
      "BsmtFinType1\n",
      "Unf    430\n",
      "GLQ    418\n",
      "ALQ    220\n",
      "BLQ    148\n",
      "Rec    133\n",
      "LwQ     74\n",
      "NaN     37\n",
      "Name: BsmtFinType1, dtype: int64\n",
      "Value missing: 2.5 %\n",
      "\n",
      "BsmtCond\n",
      "TA     1311\n",
      "Gd       65\n",
      "Fa       45\n",
      "NaN      37\n",
      "Po        2\n",
      "Name: BsmtCond, dtype: int64\n",
      "Value missing: 2.5 %\n",
      "\n",
      "MasVnrArea\n",
      " 0.0       861\n",
      " 72.0        8\n",
      " 180.0       8\n",
      "NaN          8\n",
      " 108.0       8\n",
      " 120.0       7\n",
      " 16.0        7\n",
      " 106.0       6\n",
      " 80.0        6\n",
      " 340.0       6\n",
      " 200.0       6\n",
      " 132.0       5\n",
      " 170.0       5\n",
      " 360.0       5\n",
      " 84.0        5\n",
      " 320.0       5\n",
      " 270.0       4\n",
      " 183.0       4\n",
      " 100.0       4\n",
      " 168.0       4\n",
      " 252.0       4\n",
      " 178.0       4\n",
      " 246.0       4\n",
      " 196.0       4\n",
      " 288.0       4\n",
      " 216.0       4\n",
      " 160.0       4\n",
      " 220.0       4\n",
      " 336.0       4\n",
      " 210.0       4\n",
      "          ... \n",
      " 24.0        1\n",
      " 760.0       1\n",
      " 138.0       1\n",
      " 27.0        1\n",
      " 541.0       1\n",
      " 275.0       1\n",
      " 365.0       1\n",
      " 562.0       1\n",
      " 161.0       1\n",
      " 247.0       1\n",
      " 452.0       1\n",
      " 278.0       1\n",
      " 375.0       1\n",
      " 225.0       1\n",
      " 604.0       1\n",
      " 762.0       1\n",
      " 290.0       1\n",
      " 109.0       1\n",
      " 299.0       1\n",
      " 731.0       1\n",
      " 167.0       1\n",
      " 309.0       1\n",
      " 202.0       1\n",
      " 1129.0      1\n",
      " 651.0       1\n",
      " 337.0       1\n",
      " 415.0       1\n",
      " 293.0       1\n",
      " 259.0       1\n",
      " 621.0       1\n",
      "Name: MasVnrArea, Length: 328, dtype: int64\n",
      "Value missing: 0.5 %\n",
      "\n",
      "MasVnrType\n",
      "None       864\n",
      "BrkFace    445\n",
      "Stone      128\n",
      "BrkCmn      15\n",
      "NaN          8\n",
      "Name: MasVnrType, dtype: int64\n",
      "Value missing: 0.5 %\n",
      "\n",
      "Electrical\n",
      "SBrkr    1334\n",
      "FuseA      94\n",
      "FuseF      27\n",
      "FuseP       3\n",
      "Mix         1\n",
      "NaN         1\n",
      "Name: Electrical, dtype: int64\n",
      "Value missing: 0.1 %\n",
      "\n"
     ]
    }
   ],
   "source": [
    "missingness(featureName)"
   ]
  },
  {
   "cell_type": "markdown",
   "metadata": {},
   "source": [
    "### Remove columns with more than 70% of missing values"
   ]
  },
  {
   "cell_type": "code",
   "execution_count": 12,
   "metadata": {},
   "outputs": [],
   "source": [
    "df=df.drop(columns=['PoolQC','MiscFeature','Alley','Fence'])"
   ]
  },
  {
   "cell_type": "code",
   "execution_count": 13,
   "metadata": {},
   "outputs": [
    {
     "data": {
      "text/plain": [
       "(1460, 77)"
      ]
     },
     "execution_count": 13,
     "metadata": {},
     "output_type": "execute_result"
    }
   ],
   "source": [
    "df.shape"
   ]
  },
  {
   "cell_type": "markdown",
   "metadata": {},
   "source": [
    "### Checking the rest of features with missing values"
   ]
  },
  {
   "cell_type": "code",
   "execution_count": 14,
   "metadata": {},
   "outputs": [
    {
     "name": "stdout",
     "output_type": "stream",
     "text": [
      "FireplaceQu     47.260274\n",
      "LotFrontage     17.739726\n",
      "GarageYrBlt      5.547945\n",
      "GarageType       5.547945\n",
      "GarageQual       5.547945\n",
      "GarageFinish     5.547945\n",
      "GarageCond       5.547945\n",
      "BsmtFinType2     2.602740\n",
      "BsmtExposure     2.602740\n",
      "BsmtQual         2.534247\n",
      "BsmtFinType1     2.534247\n",
      "BsmtCond         2.534247\n",
      "MasVnrType       0.547945\n",
      "MasVnrArea       0.547945\n",
      "Electrical       0.068493\n",
      "dtype: float64\n"
     ]
    },
    {
     "data": {
      "text/plain": [
       "array(['FireplaceQu', 'LotFrontage', 'GarageYrBlt', 'GarageType',\n",
       "       'GarageQual', 'GarageFinish', 'GarageCond', 'BsmtFinType2',\n",
       "       'BsmtExposure', 'BsmtQual', 'BsmtFinType1', 'BsmtCond',\n",
       "       'MasVnrType', 'MasVnrArea', 'Electrical'], dtype=object)"
      ]
     },
     "execution_count": 14,
     "metadata": {},
     "output_type": "execute_result"
    }
   ],
   "source": [
    "null_cols=df.columns[df.isnull().any()]\n",
    "dg=(df[null_cols].isnull().sum()/len(df)*100).sort_values(ascending=False)\n",
    "print(dg)\n",
    "nullCol=dg.index.values\n",
    "nullCol"
   ]
  },
  {
   "cell_type": "markdown",
   "metadata": {},
   "source": [
    "### It looks like \"FireplaceQu\" has \"NaN\" value when \"Fireplaces\" has \"zero\" value. \n",
    "### Let's check if the number of missing value in \"FireplaceQu\" is the same as the number of rows with zero value in \"Fireplaces\""
   ]
  },
  {
   "cell_type": "code",
   "execution_count": 15,
   "metadata": {
    "scrolled": false
   },
   "outputs": [
    {
     "data": {
      "text/plain": [
       "690"
      ]
     },
     "execution_count": 15,
     "metadata": {},
     "output_type": "execute_result"
    }
   ],
   "source": [
    "df['FireplaceQu'].isnull().sum()"
   ]
  },
  {
   "cell_type": "code",
   "execution_count": 16,
   "metadata": {},
   "outputs": [
    {
     "data": {
      "text/plain": [
       "690"
      ]
     },
     "execution_count": 16,
     "metadata": {},
     "output_type": "execute_result"
    }
   ],
   "source": [
    "len(df.loc[df['Fireplaces']==0])"
   ]
  },
  {
   "cell_type": "markdown",
   "metadata": {},
   "source": [
    "### It turns out the number is the same. \n",
    "### We can go ahead and replace the \"NaN\" in \"FireplaceQu\" with \"0\""
   ]
  },
  {
   "cell_type": "markdown",
   "metadata": {},
   "source": [
    "### Also, we will change the datatype of \"FireplaceQu\" to a \"Ordinal\" Variable"
   ]
  },
  {
   "cell_type": "markdown",
   "metadata": {},
   "source": [
    "### First we will need to replace \"NaN\" with \"0\" value"
   ]
  },
  {
   "cell_type": "code",
   "execution_count": 17,
   "metadata": {},
   "outputs": [],
   "source": [
    "df['FireplaceQu'].fillna(0,inplace=True)"
   ]
  },
  {
   "cell_type": "code",
   "execution_count": 18,
   "metadata": {},
   "outputs": [
    {
     "data": {
      "text/plain": [
       "0     690\n",
       "Gd    380\n",
       "TA    313\n",
       "Fa     33\n",
       "Ex     24\n",
       "Po     20\n",
       "Name: FireplaceQu, dtype: int64"
      ]
     },
     "execution_count": 18,
     "metadata": {},
     "output_type": "execute_result"
    }
   ],
   "source": [
    "df['FireplaceQu'].value_counts()"
   ]
  },
  {
   "cell_type": "markdown",
   "metadata": {},
   "source": [
    "### Replace string values to ordinal value in \"FireplaceQu\""
   ]
  },
  {
   "cell_type": "code",
   "execution_count": 19,
   "metadata": {
    "scrolled": true
   },
   "outputs": [],
   "source": [
    "#quality={'Po':1,'Fa':2,'TA':3,'Gd':4,\"Ex\":5}\n",
    "df.FireplaceQu[df.FireplaceQu=='Po']=1\n",
    "df.FireplaceQu[df.FireplaceQu=='Fa']=2\n",
    "df.FireplaceQu[df.FireplaceQu=='TA']=3\n",
    "df.FireplaceQu[df.FireplaceQu=='Gd']=4\n",
    "df.FireplaceQu[df.FireplaceQu=='Ex']=5"
   ]
  },
  {
   "cell_type": "code",
   "execution_count": 20,
   "metadata": {},
   "outputs": [
    {
     "data": {
      "text/plain": [
       "dtype('O')"
      ]
     },
     "execution_count": 20,
     "metadata": {},
     "output_type": "execute_result"
    }
   ],
   "source": [
    "df.FireplaceQu.dtypes"
   ]
  },
  {
   "cell_type": "markdown",
   "metadata": {},
   "source": [
    "### Let's change the datatype of \"FireplaceQu\" to \"int\""
   ]
  },
  {
   "cell_type": "code",
   "execution_count": 21,
   "metadata": {},
   "outputs": [],
   "source": [
    "df=df.astype({\"FireplaceQu\":int})"
   ]
  },
  {
   "cell_type": "code",
   "execution_count": 22,
   "metadata": {},
   "outputs": [
    {
     "data": {
      "text/plain": [
       "dtype('int32')"
      ]
     },
     "execution_count": 22,
     "metadata": {},
     "output_type": "execute_result"
    }
   ],
   "source": [
    "df.FireplaceQu.dtypes"
   ]
  },
  {
   "cell_type": "code",
   "execution_count": 23,
   "metadata": {},
   "outputs": [
    {
     "data": {
      "text/plain": [
       "259"
      ]
     },
     "execution_count": 23,
     "metadata": {},
     "output_type": "execute_result"
    }
   ],
   "source": [
    "df['LotFrontage'].isnull().sum()"
   ]
  },
  {
   "cell_type": "markdown",
   "metadata": {},
   "source": [
    "### Some Lot just does not have LotFronage.\n",
    "### Change \"NaN\" value to \"zero\" in \"LotFrontage\""
   ]
  },
  {
   "cell_type": "code",
   "execution_count": 24,
   "metadata": {
    "scrolled": true
   },
   "outputs": [],
   "source": [
    "df['LotFrontage'].fillna(0,inplace=True)"
   ]
  },
  {
   "cell_type": "markdown",
   "metadata": {},
   "source": [
    "### Check if the number of \"0\" value is the same as the number \"NaN\" value"
   ]
  },
  {
   "cell_type": "code",
   "execution_count": 25,
   "metadata": {
    "scrolled": false
   },
   "outputs": [
    {
     "data": {
      "text/plain": [
       "0.0      259\n",
       "60.0     143\n",
       "70.0      70\n",
       "80.0      69\n",
       "50.0      57\n",
       "75.0      53\n",
       "65.0      44\n",
       "85.0      40\n",
       "78.0      25\n",
       "21.0      23\n",
       "90.0      23\n",
       "68.0      19\n",
       "24.0      19\n",
       "64.0      19\n",
       "73.0      18\n",
       "72.0      17\n",
       "79.0      17\n",
       "63.0      17\n",
       "55.0      17\n",
       "100.0     16\n",
       "51.0      15\n",
       "66.0      15\n",
       "74.0      15\n",
       "52.0      14\n",
       "59.0      13\n",
       "71.0      12\n",
       "67.0      12\n",
       "57.0      12\n",
       "82.0      12\n",
       "43.0      12\n",
       "        ... \n",
       "129.0      2\n",
       "313.0      2\n",
       "118.0      2\n",
       "122.0      2\n",
       "121.0      2\n",
       "101.0      2\n",
       "109.0      2\n",
       "115.0      2\n",
       "116.0      2\n",
       "114.0      2\n",
       "153.0      1\n",
       "149.0      1\n",
       "150.0      1\n",
       "111.0      1\n",
       "182.0      1\n",
       "46.0       1\n",
       "112.0      1\n",
       "141.0      1\n",
       "33.0       1\n",
       "152.0      1\n",
       "160.0      1\n",
       "168.0      1\n",
       "128.0      1\n",
       "144.0      1\n",
       "39.0       1\n",
       "106.0      1\n",
       "38.0       1\n",
       "138.0      1\n",
       "140.0      1\n",
       "137.0      1\n",
       "Name: LotFrontage, Length: 111, dtype: int64"
      ]
     },
     "execution_count": 25,
     "metadata": {},
     "output_type": "execute_result"
    }
   ],
   "source": [
    "df['LotFrontage'].value_counts()"
   ]
  },
  {
   "cell_type": "markdown",
   "metadata": {},
   "source": [
    "### Double check all the missing values again "
   ]
  },
  {
   "cell_type": "code",
   "execution_count": 26,
   "metadata": {},
   "outputs": [
    {
     "data": {
      "text/plain": [
       "GarageYrBlt     5.547945\n",
       "GarageType      5.547945\n",
       "GarageQual      5.547945\n",
       "GarageFinish    5.547945\n",
       "GarageCond      5.547945\n",
       "BsmtFinType2    2.602740\n",
       "BsmtExposure    2.602740\n",
       "BsmtQual        2.534247\n",
       "BsmtFinType1    2.534247\n",
       "BsmtCond        2.534247\n",
       "MasVnrType      0.547945\n",
       "MasVnrArea      0.547945\n",
       "Electrical      0.068493\n",
       "dtype: float64"
      ]
     },
     "execution_count": 26,
     "metadata": {},
     "output_type": "execute_result"
    }
   ],
   "source": [
    "null_cols=df.columns[df.isnull().any()]\n",
    "df[null_cols].isnull().sum().sort_values(ascending=False)\n",
    "dg=(df[null_cols].isnull().sum()/len(df)*100).sort_values(ascending=False)\n",
    "dg"
   ]
  },
  {
   "cell_type": "markdown",
   "metadata": {},
   "source": [
    "### All the remaining variables have less than 6% of missing values.\n",
    "### We will remove all the rows with any missing values."
   ]
  },
  {
   "cell_type": "code",
   "execution_count": 27,
   "metadata": {},
   "outputs": [],
   "source": [
    "df_miss=df.dropna()"
   ]
  },
  {
   "cell_type": "code",
   "execution_count": 28,
   "metadata": {},
   "outputs": [
    {
     "data": {
      "text/plain": [
       "1stFlrSF         0\n",
       "2ndFlrSF         0\n",
       "3SsnPorch        0\n",
       "BedroomAbvGr     0\n",
       "BldgType         0\n",
       "BsmtCond         0\n",
       "BsmtExposure     0\n",
       "BsmtFinSF1       0\n",
       "BsmtFinSF2       0\n",
       "BsmtFinType1     0\n",
       "BsmtFinType2     0\n",
       "BsmtFullBath     0\n",
       "BsmtHalfBath     0\n",
       "BsmtQual         0\n",
       "BsmtUnfSF        0\n",
       "CentralAir       0\n",
       "Condition1       0\n",
       "Condition2       0\n",
       "Electrical       0\n",
       "EnclosedPorch    0\n",
       "ExterCond        0\n",
       "ExterQual        0\n",
       "Exterior1st      0\n",
       "Exterior2nd      0\n",
       "FireplaceQu      0\n",
       "Fireplaces       0\n",
       "Foundation       0\n",
       "FullBath         0\n",
       "Functional       0\n",
       "GarageArea       0\n",
       "                ..\n",
       "LotConfig        0\n",
       "LotFrontage      0\n",
       "LotShape         0\n",
       "LowQualFinSF     0\n",
       "MSSubClass       0\n",
       "MSZoning         0\n",
       "MasVnrArea       0\n",
       "MasVnrType       0\n",
       "MiscVal          0\n",
       "MoSold           0\n",
       "Neighborhood     0\n",
       "OpenPorchSF      0\n",
       "OverallCond      0\n",
       "OverallQual      0\n",
       "PavedDrive       0\n",
       "PoolArea         0\n",
       "RoofMatl         0\n",
       "RoofStyle        0\n",
       "SaleCondition    0\n",
       "SalePrice        0\n",
       "SaleType         0\n",
       "ScreenPorch      0\n",
       "Street           0\n",
       "TotRmsAbvGrd     0\n",
       "TotalBsmtSF      0\n",
       "Utilities        0\n",
       "WoodDeckSF       0\n",
       "YearBuilt        0\n",
       "YearRemodAdd     0\n",
       "YrSold           0\n",
       "Length: 77, dtype: int64"
      ]
     },
     "execution_count": 28,
     "metadata": {},
     "output_type": "execute_result"
    }
   ],
   "source": [
    "df_miss.isnull().sum()"
   ]
  },
  {
   "cell_type": "code",
   "execution_count": 29,
   "metadata": {},
   "outputs": [
    {
     "data": {
      "text/plain": [
       "(1338, 77)"
      ]
     },
     "execution_count": 29,
     "metadata": {},
     "output_type": "execute_result"
    }
   ],
   "source": [
    "df_miss.shape"
   ]
  },
  {
   "cell_type": "code",
   "execution_count": 30,
   "metadata": {},
   "outputs": [
    {
     "data": {
      "text/plain": [
       "122"
      ]
     },
     "execution_count": 30,
     "metadata": {},
     "output_type": "execute_result"
    }
   ],
   "source": [
    "len(df)-len(df_miss)"
   ]
  },
  {
   "cell_type": "markdown",
   "metadata": {},
   "source": [
    "### Checking the percentage of data removed"
   ]
  },
  {
   "cell_type": "code",
   "execution_count": 31,
   "metadata": {
    "scrolled": true
   },
   "outputs": [
    {
     "data": {
      "text/plain": [
       "8.356164383561644"
      ]
     },
     "execution_count": 31,
     "metadata": {},
     "output_type": "execute_result"
    }
   ],
   "source": [
    "(len(df)-len(df_miss))/len(df)*100"
   ]
  },
  {
   "cell_type": "markdown",
   "metadata": {},
   "source": [
    "### Start working on Outliers"
   ]
  },
  {
   "cell_type": "markdown",
   "metadata": {},
   "source": [
    "### Explore z-score for \"SalePrice\" variable"
   ]
  },
  {
   "cell_type": "code",
   "execution_count": 32,
   "metadata": {
    "scrolled": true
   },
   "outputs": [
    {
     "data": {
      "text/plain": [
       "1338"
      ]
     },
     "execution_count": 32,
     "metadata": {},
     "output_type": "execute_result"
    }
   ],
   "source": [
    "df_miss['z']=np.abs(stats.zscore(df_miss['SalePrice']))\n",
    "len(df_miss['z'])"
   ]
  },
  {
   "cell_type": "code",
   "execution_count": 33,
   "metadata": {},
   "outputs": [
    {
     "data": {
      "text/plain": [
       "dtype('float64')"
      ]
     },
     "execution_count": 33,
     "metadata": {},
     "output_type": "execute_result"
    }
   ],
   "source": [
    "df_miss['z'].dtype"
   ]
  },
  {
   "cell_type": "markdown",
   "metadata": {},
   "source": [
    "### Setup \"Threshold\""
   ]
  },
  {
   "cell_type": "code",
   "execution_count": 34,
   "metadata": {},
   "outputs": [],
   "source": [
    "threshold=3"
   ]
  },
  {
   "cell_type": "markdown",
   "metadata": {},
   "source": [
    "### Checking the percentage of outliers"
   ]
  },
  {
   "cell_type": "code",
   "execution_count": 35,
   "metadata": {
    "scrolled": true
   },
   "outputs": [
    {
     "data": {
      "text/plain": [
       "1.4947683109118086"
      ]
     },
     "execution_count": 35,
     "metadata": {},
     "output_type": "execute_result"
    }
   ],
   "source": [
    "len(df_miss[df_miss['z']>threshold])/len(df_miss)*100"
   ]
  },
  {
   "cell_type": "code",
   "execution_count": 36,
   "metadata": {},
   "outputs": [
    {
     "data": {
      "text/plain": [
       "(1318, 78)"
      ]
     },
     "execution_count": 36,
     "metadata": {},
     "output_type": "execute_result"
    }
   ],
   "source": [
    "df_out=df_miss.drop(df_miss[df_miss.z>threshold].index)\n",
    "df_out.shape"
   ]
  },
  {
   "cell_type": "markdown",
   "metadata": {},
   "source": [
    "### Percentage data will be used for the feature engineering step"
   ]
  },
  {
   "cell_type": "code",
   "execution_count": 37,
   "metadata": {},
   "outputs": [
    {
     "data": {
      "text/plain": [
       "90.27397260273973"
      ]
     },
     "execution_count": 37,
     "metadata": {},
     "output_type": "execute_result"
    }
   ],
   "source": [
    "len(df_out)/len(df)*100"
   ]
  },
  {
   "cell_type": "markdown",
   "metadata": {},
   "source": [
    "### Remove column \"z\" from dataframe"
   ]
  },
  {
   "cell_type": "code",
   "execution_count": 38,
   "metadata": {},
   "outputs": [],
   "source": [
    "df_out=df_out.drop(columns=['z'])"
   ]
  },
  {
   "cell_type": "code",
   "execution_count": 39,
   "metadata": {},
   "outputs": [
    {
     "data": {
      "text/plain": [
       "(1318, 77)"
      ]
     },
     "execution_count": 39,
     "metadata": {},
     "output_type": "execute_result"
    }
   ],
   "source": [
    "df_out.shape"
   ]
  },
  {
   "cell_type": "markdown",
   "metadata": {},
   "source": [
    "## Feature Selection"
   ]
  },
  {
   "cell_type": "markdown",
   "metadata": {},
   "source": [
    "### 1. Filter Method - Correlation Coefficient"
   ]
  },
  {
   "cell_type": "code",
   "execution_count": 40,
   "metadata": {},
   "outputs": [],
   "source": [
    "corr=df_out.corr()\n",
    "corr.sort_values([\"SalePrice\"],ascending=False,inplace=True)\n",
    "dc=corr.SalePrice"
   ]
  },
  {
   "cell_type": "code",
   "execution_count": 41,
   "metadata": {},
   "outputs": [
    {
     "data": {
      "text/plain": [
       "SalePrice        1.000000\n",
       "OverallQual      0.787558\n",
       "GrLivArea        0.669168\n",
       "GarageCars       0.645356\n",
       "GarageArea       0.605845\n",
       "1stFlrSF         0.574687\n",
       "TotalBsmtSF      0.565156\n",
       "FullBath         0.556483\n",
       "YearBuilt        0.540736\n",
       "YearRemodAdd     0.533880\n",
       "FireplaceQu      0.511371\n",
       "GarageYrBlt      0.502445\n",
       "TotRmsAbvGrd     0.500812\n",
       "Fireplaces       0.441213\n",
       "MasVnrArea       0.401726\n",
       "OpenPorchSF      0.334349\n",
       "BsmtFinSF1       0.316212\n",
       "WoodDeckSF       0.314208\n",
       "2ndFlrSF         0.268134\n",
       "HalfBath         0.251482\n",
       "LotArea          0.245630\n",
       "BsmtFullBath     0.216414\n",
       "BsmtUnfSF        0.188832\n",
       "LotFrontage      0.187709\n",
       "BedroomAbvGr     0.160144\n",
       "MoSold           0.075371\n",
       "ScreenPorch      0.073429\n",
       "3SsnPorch        0.059207\n",
       "PoolArea         0.032981\n",
       "MiscVal         -0.013775\n",
       "YrSold          -0.017135\n",
       "BsmtFinSF2      -0.028344\n",
       "Id              -0.035097\n",
       "BsmtHalfBath    -0.043828\n",
       "LowQualFinSF    -0.054584\n",
       "MSSubClass      -0.082260\n",
       "OverallCond     -0.105969\n",
       "KitchenAbvGr    -0.119534\n",
       "EnclosedPorch   -0.141240\n",
       "Name: SalePrice, dtype: float64"
      ]
     },
     "execution_count": 41,
     "metadata": {},
     "output_type": "execute_result"
    }
   ],
   "source": [
    "dc"
   ]
  },
  {
   "cell_type": "code",
   "execution_count": 42,
   "metadata": {
    "scrolled": true
   },
   "outputs": [
    {
     "data": {
      "text/plain": [
       "Index(['SalePrice', 'OverallQual', 'GrLivArea', 'GarageCars', 'GarageArea',\n",
       "       '1stFlrSF', 'TotalBsmtSF', 'FullBath', 'YearBuilt', 'YearRemodAdd',\n",
       "       'FireplaceQu', 'GarageYrBlt', 'TotRmsAbvGrd', 'Fireplaces',\n",
       "       'MasVnrArea', 'OpenPorchSF', 'BsmtFinSF1', 'WoodDeckSF', '2ndFlrSF',\n",
       "       'HalfBath', 'LotArea', 'BsmtFullBath', 'BsmtUnfSF', 'LotFrontage',\n",
       "       'BedroomAbvGr', 'MoSold', 'ScreenPorch', '3SsnPorch', 'PoolArea',\n",
       "       'MiscVal', 'YrSold', 'BsmtFinSF2', 'Id', 'BsmtHalfBath', 'LowQualFinSF',\n",
       "       'MSSubClass', 'OverallCond', 'KitchenAbvGr', 'EnclosedPorch'],\n",
       "      dtype='object')"
      ]
     },
     "execution_count": 42,
     "metadata": {},
     "output_type": "execute_result"
    }
   ],
   "source": [
    "dc.index"
   ]
  },
  {
   "cell_type": "code",
   "execution_count": 43,
   "metadata": {},
   "outputs": [
    {
     "data": {
      "text/plain": [
       "array([ 1.        ,  0.7875578 ,  0.6691678 ,  0.64535555,  0.60584492,\n",
       "        0.57468693,  0.56515591,  0.55648257,  0.54073618,  0.53387957,\n",
       "        0.51137121,  0.50244467,  0.500812  ,  0.44121252,  0.40172606,\n",
       "        0.33434857,  0.31621243,  0.31420821,  0.26813404,  0.25148237,\n",
       "        0.24562999,  0.21641383,  0.1888324 ,  0.18770874,  0.16014423,\n",
       "        0.07537071,  0.07342898,  0.0592067 ,  0.03298128, -0.01377451,\n",
       "       -0.01713518, -0.02834359, -0.03509668, -0.043828  , -0.05458422,\n",
       "       -0.08225995, -0.10596948, -0.11953372, -0.14123985])"
      ]
     },
     "execution_count": 43,
     "metadata": {},
     "output_type": "execute_result"
    }
   ],
   "source": [
    "dc.values"
   ]
  },
  {
   "cell_type": "code",
   "execution_count": 44,
   "metadata": {},
   "outputs": [
    {
     "data": {
      "text/plain": [
       "array(['SalePrice', 'OverallQual', 'GrLivArea', 'GarageCars',\n",
       "       'GarageArea', '1stFlrSF', 'TotalBsmtSF', 'FullBath', 'YearBuilt',\n",
       "       'YearRemodAdd', 'FireplaceQu', 'GarageYrBlt', 'TotRmsAbvGrd',\n",
       "       'Fireplaces', 'MasVnrArea', 'OpenPorchSF', 'BsmtFinSF1',\n",
       "       'WoodDeckSF', '2ndFlrSF', 'HalfBath', 'LotArea', 'BsmtFullBath',\n",
       "       'BsmtUnfSF', 'LotFrontage', 'BedroomAbvGr', 'MoSold',\n",
       "       'ScreenPorch', '3SsnPorch', 'PoolArea', 'MiscVal', 'YrSold',\n",
       "       'BsmtFinSF2', 'Id', 'BsmtHalfBath', 'LowQualFinSF', 'MSSubClass',\n",
       "       'OverallCond', 'KitchenAbvGr', 'EnclosedPorch'], dtype=object)"
      ]
     },
     "execution_count": 44,
     "metadata": {},
     "output_type": "execute_result"
    }
   ],
   "source": [
    "dc.index.values"
   ]
  },
  {
   "cell_type": "code",
   "execution_count": 45,
   "metadata": {},
   "outputs": [
    {
     "data": {
      "text/plain": [
       "OverallQual     0.787558\n",
       "GrLivArea       0.669168\n",
       "GarageCars      0.645356\n",
       "GarageArea      0.605845\n",
       "1stFlrSF        0.574687\n",
       "TotalBsmtSF     0.565156\n",
       "FullBath        0.556483\n",
       "YearBuilt       0.540736\n",
       "YearRemodAdd    0.533880\n",
       "FireplaceQu     0.511371\n",
       "GarageYrBlt     0.502445\n",
       "TotRmsAbvGrd    0.500812\n",
       "Name: SalePrice, dtype: float64"
      ]
     },
     "execution_count": 45,
     "metadata": {},
     "output_type": "execute_result"
    }
   ],
   "source": [
    "dc_new=dc[(dc.values>0.5)&(dc.values<1)]\n",
    "dc_new"
   ]
  },
  {
   "cell_type": "code",
   "execution_count": 46,
   "metadata": {},
   "outputs": [
    {
     "data": {
      "text/plain": [
       "array(['OverallQual', 'GrLivArea', 'GarageCars', 'GarageArea', '1stFlrSF',\n",
       "       'TotalBsmtSF', 'FullBath', 'YearBuilt', 'YearRemodAdd',\n",
       "       'FireplaceQu', 'GarageYrBlt', 'TotRmsAbvGrd'], dtype=object)"
      ]
     },
     "execution_count": 46,
     "metadata": {},
     "output_type": "execute_result"
    }
   ],
   "source": [
    "feature_col=dc_new.index.values\n",
    "feature_col"
   ]
  },
  {
   "cell_type": "code",
   "execution_count": 47,
   "metadata": {},
   "outputs": [
    {
     "data": {
      "text/plain": [
       "12"
      ]
     },
     "execution_count": 47,
     "metadata": {},
     "output_type": "execute_result"
    }
   ],
   "source": [
    "len(feature_col)"
   ]
  },
  {
   "cell_type": "markdown",
   "metadata": {},
   "source": [
    "### Select the features to be used in the data analysis"
   ]
  },
  {
   "cell_type": "code",
   "execution_count": 48,
   "metadata": {},
   "outputs": [],
   "source": [
    "X=df_out[feature_col]\n",
    "y=df_out[['SalePrice']]"
   ]
  },
  {
   "cell_type": "code",
   "execution_count": 49,
   "metadata": {},
   "outputs": [
    {
     "data": {
      "text/html": [
       "<div>\n",
       "<style scoped>\n",
       "    .dataframe tbody tr th:only-of-type {\n",
       "        vertical-align: middle;\n",
       "    }\n",
       "\n",
       "    .dataframe tbody tr th {\n",
       "        vertical-align: top;\n",
       "    }\n",
       "\n",
       "    .dataframe thead th {\n",
       "        text-align: right;\n",
       "    }\n",
       "</style>\n",
       "<table border=\"1\" class=\"dataframe\">\n",
       "  <thead>\n",
       "    <tr style=\"text-align: right;\">\n",
       "      <th></th>\n",
       "      <th>OverallQual</th>\n",
       "      <th>GrLivArea</th>\n",
       "      <th>GarageCars</th>\n",
       "      <th>GarageArea</th>\n",
       "      <th>1stFlrSF</th>\n",
       "      <th>TotalBsmtSF</th>\n",
       "      <th>FullBath</th>\n",
       "      <th>YearBuilt</th>\n",
       "      <th>YearRemodAdd</th>\n",
       "      <th>FireplaceQu</th>\n",
       "      <th>GarageYrBlt</th>\n",
       "      <th>TotRmsAbvGrd</th>\n",
       "    </tr>\n",
       "  </thead>\n",
       "  <tbody>\n",
       "    <tr>\n",
       "      <th>0</th>\n",
       "      <td>7</td>\n",
       "      <td>1710</td>\n",
       "      <td>2</td>\n",
       "      <td>548</td>\n",
       "      <td>856</td>\n",
       "      <td>856</td>\n",
       "      <td>2</td>\n",
       "      <td>2003</td>\n",
       "      <td>2003</td>\n",
       "      <td>0</td>\n",
       "      <td>2003.0</td>\n",
       "      <td>8</td>\n",
       "    </tr>\n",
       "    <tr>\n",
       "      <th>1</th>\n",
       "      <td>6</td>\n",
       "      <td>1262</td>\n",
       "      <td>2</td>\n",
       "      <td>460</td>\n",
       "      <td>1262</td>\n",
       "      <td>1262</td>\n",
       "      <td>2</td>\n",
       "      <td>1976</td>\n",
       "      <td>1976</td>\n",
       "      <td>3</td>\n",
       "      <td>1976.0</td>\n",
       "      <td>6</td>\n",
       "    </tr>\n",
       "    <tr>\n",
       "      <th>2</th>\n",
       "      <td>7</td>\n",
       "      <td>1786</td>\n",
       "      <td>2</td>\n",
       "      <td>608</td>\n",
       "      <td>920</td>\n",
       "      <td>920</td>\n",
       "      <td>2</td>\n",
       "      <td>2001</td>\n",
       "      <td>2002</td>\n",
       "      <td>3</td>\n",
       "      <td>2001.0</td>\n",
       "      <td>6</td>\n",
       "    </tr>\n",
       "    <tr>\n",
       "      <th>3</th>\n",
       "      <td>7</td>\n",
       "      <td>1717</td>\n",
       "      <td>3</td>\n",
       "      <td>642</td>\n",
       "      <td>961</td>\n",
       "      <td>756</td>\n",
       "      <td>1</td>\n",
       "      <td>1915</td>\n",
       "      <td>1970</td>\n",
       "      <td>4</td>\n",
       "      <td>1998.0</td>\n",
       "      <td>7</td>\n",
       "    </tr>\n",
       "    <tr>\n",
       "      <th>4</th>\n",
       "      <td>8</td>\n",
       "      <td>2198</td>\n",
       "      <td>3</td>\n",
       "      <td>836</td>\n",
       "      <td>1145</td>\n",
       "      <td>1145</td>\n",
       "      <td>2</td>\n",
       "      <td>2000</td>\n",
       "      <td>2000</td>\n",
       "      <td>3</td>\n",
       "      <td>2000.0</td>\n",
       "      <td>9</td>\n",
       "    </tr>\n",
       "  </tbody>\n",
       "</table>\n",
       "</div>"
      ],
      "text/plain": [
       "   OverallQual  GrLivArea  GarageCars  GarageArea  1stFlrSF  TotalBsmtSF  \\\n",
       "0            7       1710           2         548       856          856   \n",
       "1            6       1262           2         460      1262         1262   \n",
       "2            7       1786           2         608       920          920   \n",
       "3            7       1717           3         642       961          756   \n",
       "4            8       2198           3         836      1145         1145   \n",
       "\n",
       "   FullBath  YearBuilt  YearRemodAdd  FireplaceQu  GarageYrBlt  TotRmsAbvGrd  \n",
       "0         2       2003          2003            0       2003.0             8  \n",
       "1         2       1976          1976            3       1976.0             6  \n",
       "2         2       2001          2002            3       2001.0             6  \n",
       "3         1       1915          1970            4       1998.0             7  \n",
       "4         2       2000          2000            3       2000.0             9  "
      ]
     },
     "execution_count": 49,
     "metadata": {},
     "output_type": "execute_result"
    }
   ],
   "source": [
    "X.head()"
   ]
  },
  {
   "cell_type": "code",
   "execution_count": 50,
   "metadata": {},
   "outputs": [
    {
     "data": {
      "text/html": [
       "<div>\n",
       "<style scoped>\n",
       "    .dataframe tbody tr th:only-of-type {\n",
       "        vertical-align: middle;\n",
       "    }\n",
       "\n",
       "    .dataframe tbody tr th {\n",
       "        vertical-align: top;\n",
       "    }\n",
       "\n",
       "    .dataframe thead th {\n",
       "        text-align: right;\n",
       "    }\n",
       "</style>\n",
       "<table border=\"1\" class=\"dataframe\">\n",
       "  <thead>\n",
       "    <tr style=\"text-align: right;\">\n",
       "      <th></th>\n",
       "      <th>SalePrice</th>\n",
       "    </tr>\n",
       "  </thead>\n",
       "  <tbody>\n",
       "    <tr>\n",
       "      <th>0</th>\n",
       "      <td>208500</td>\n",
       "    </tr>\n",
       "    <tr>\n",
       "      <th>1</th>\n",
       "      <td>181500</td>\n",
       "    </tr>\n",
       "    <tr>\n",
       "      <th>2</th>\n",
       "      <td>223500</td>\n",
       "    </tr>\n",
       "    <tr>\n",
       "      <th>3</th>\n",
       "      <td>140000</td>\n",
       "    </tr>\n",
       "    <tr>\n",
       "      <th>4</th>\n",
       "      <td>250000</td>\n",
       "    </tr>\n",
       "  </tbody>\n",
       "</table>\n",
       "</div>"
      ],
      "text/plain": [
       "   SalePrice\n",
       "0     208500\n",
       "1     181500\n",
       "2     223500\n",
       "3     140000\n",
       "4     250000"
      ]
     },
     "execution_count": 50,
     "metadata": {},
     "output_type": "execute_result"
    }
   ],
   "source": [
    "y.head()"
   ]
  },
  {
   "cell_type": "markdown",
   "metadata": {},
   "source": [
    "## Log Transformation of \"SalePrice'"
   ]
  },
  {
   "cell_type": "code",
   "execution_count": 51,
   "metadata": {
    "scrolled": true
   },
   "outputs": [
    {
     "data": {
      "text/plain": [
       "<matplotlib.axes._subplots.AxesSubplot at 0x1a2cad68>"
      ]
     },
     "execution_count": 51,
     "metadata": {},
     "output_type": "execute_result"
    },
    {
     "data": {
      "image/png": "[encoded data removed]",
      "text/plain": [
       "<Figure size 432x288 with 1 Axes>"
      ]
     },
     "metadata": {},
     "output_type": "display_data"
    }
   ],
   "source": [
    "sns.distplot(y)"
   ]
  },
  {
   "cell_type": "code",
   "execution_count": 52,
   "metadata": {},
   "outputs": [
    {
     "data": {
      "text/plain": [
       "<matplotlib.axes._subplots.AxesSubplot at 0x1c3de898>"
      ]
     },
     "execution_count": 52,
     "metadata": {},
     "output_type": "execute_result"
    },
    {
     "data": {
      "image/png": "[encoded data removed]",
      "text/plain": [
       "<Figure size 432x288 with 1 Axes>"
      ]
     },
     "metadata": {},
     "output_type": "display_data"
    }
   ],
   "source": [
    "y=np.log(y)\n",
    "sns.distplot(y)"
   ]
  },
  {
   "cell_type": "markdown",
   "metadata": {},
   "source": [
    "## Modeling"
   ]
  },
  {
   "cell_type": "markdown",
   "metadata": {},
   "source": [
    "### Split the data to train and test dataset"
   ]
  },
  {
   "cell_type": "code",
   "execution_count": 53,
   "metadata": {},
   "outputs": [],
   "source": [
    "x_train, x_test, y_train, y_test = train_test_split(X, y, test_size=0.1, random_state=200)"
   ]
  },
  {
   "cell_type": "markdown",
   "metadata": {},
   "source": [
    "### Ridge Regression"
   ]
  },
  {
   "cell_type": "code",
   "execution_count": 54,
   "metadata": {
    "scrolled": true
   },
   "outputs": [
    {
     "data": {
      "text/plain": [
       "0.1494721671439278"
      ]
     },
     "execution_count": 54,
     "metadata": {},
     "output_type": "execute_result"
    }
   ],
   "source": [
    "from sklearn.linear_model import Ridge\n",
    "RR=Ridge(alpha=10,fit_intercept=False)\n",
    "RR_fit=RR.fit(x_train,y_train)\n",
    "y_pred=RR_fit.predict(x_train)\n",
    "np.sqrt(mean_squared_error(y_pred,y_train))"
   ]
  },
  {
   "cell_type": "code",
   "execution_count": 55,
   "metadata": {},
   "outputs": [
    {
     "data": {
      "text/plain": [
       "0.2652481245848191"
      ]
     },
     "execution_count": 55,
     "metadata": {},
     "output_type": "execute_result"
    }
   ],
   "source": [
    "y_pred=RR_fit.predict(x_test)\n",
    "np.sqrt(mean_squared_error(y_pred,y_test))"
   ]
  },
  {
   "cell_type": "markdown",
   "metadata": {},
   "source": [
    "### Lasso Regression"
   ]
  },
  {
   "cell_type": "code",
   "execution_count": 56,
   "metadata": {
    "scrolled": true
   },
   "outputs": [
    {
     "data": {
      "text/plain": [
       "0.18324303660153016"
      ]
     },
     "execution_count": 56,
     "metadata": {},
     "output_type": "execute_result"
    }
   ],
   "source": [
    "from sklearn.linear_model import Lasso\n",
    "LR=Lasso(alpha=10,fit_intercept=False)\n",
    "LR_fit=LR.fit(x_train,y_train)\n",
    "y_pred=LR_fit.predict(x_train)\n",
    "np.sqrt(mean_squared_error(y_pred,y_train))"
   ]
  },
  {
   "cell_type": "code",
   "execution_count": 57,
   "metadata": {},
   "outputs": [
    {
     "data": {
      "text/plain": [
       "0.2856415334226336"
      ]
     },
     "execution_count": 57,
     "metadata": {},
     "output_type": "execute_result"
    }
   ],
   "source": [
    "y_pred=LR_fit.predict(x_test)\n",
    "np.sqrt(mean_squared_error(y_pred,y_test))"
   ]
  },
  {
   "cell_type": "markdown",
   "metadata": {},
   "source": [
    "### Elastic Net Model"
   ]
  },
  {
   "cell_type": "code",
   "execution_count": 58,
   "metadata": {},
   "outputs": [],
   "source": [
    "from sklearn.linear_model import ElasticNetCV\n",
    "EN = ElasticNetCV(alphas=[0.0001, 0.0005, 0.001, 0.01, 0.1, 1, 10], \n",
    "                       l1_ratio=[.01, .1, .5, .9, .99], max_iter=5000)\n",
    "EN_fit=EN.fit(x_train, y_train)"
   ]
  },
  {
   "cell_type": "code",
   "execution_count": 59,
   "metadata": {},
   "outputs": [
    {
     "data": {
      "text/plain": [
       "0.14936399282987664"
      ]
     },
     "execution_count": 59,
     "metadata": {},
     "output_type": "execute_result"
    }
   ],
   "source": [
    "y_pred=EN_fit.predict(x_train)\n",
    "np.sqrt(mean_squared_error(y_pred,y_train))"
   ]
  },
  {
   "cell_type": "code",
   "execution_count": 60,
   "metadata": {},
   "outputs": [
    {
     "data": {
      "text/plain": [
       "0.2627850680495355"
      ]
     },
     "execution_count": 60,
     "metadata": {},
     "output_type": "execute_result"
    }
   ],
   "source": [
    "y_pred=EN_fit.predict(x_test)\n",
    "np.sqrt(mean_squared_error(y_pred,y_test))"
   ]
  },
  {
   "cell_type": "markdown",
   "metadata": {},
   "source": [
    "### Decision Tree Model"
   ]
  },
  {
   "cell_type": "code",
   "execution_count": 61,
   "metadata": {},
   "outputs": [],
   "source": [
    "from sklearn.tree import DecisionTreeRegressor\n",
    "DT=DecisionTreeRegressor()\n",
    "DT_fit=DT.fit(x_train,y_train)"
   ]
  },
  {
   "cell_type": "code",
   "execution_count": 62,
   "metadata": {},
   "outputs": [
    {
     "data": {
      "text/plain": [
       "0.006473479566308707"
      ]
     },
     "execution_count": 62,
     "metadata": {},
     "output_type": "execute_result"
    }
   ],
   "source": [
    "y_pred=DT_fit.predict(x_train)\n",
    "np.sqrt(mean_squared_error(y_pred,y_train))"
   ]
  },
  {
   "cell_type": "code",
   "execution_count": 63,
   "metadata": {},
   "outputs": [
    {
     "data": {
      "text/plain": [
       "0.2159706942811763"
      ]
     },
     "execution_count": 63,
     "metadata": {},
     "output_type": "execute_result"
    }
   ],
   "source": [
    "y_pred=DT_fit.predict(x_test)\n",
    "np.sqrt(mean_squared_error(y_pred,y_test))"
   ]
  },
  {
   "cell_type": "markdown",
   "metadata": {},
   "source": [
    "### Random Forest Model"
   ]
  },
  {
   "cell_type": "code",
   "execution_count": 64,
   "metadata": {},
   "outputs": [],
   "source": [
    "RF = ensemble.RandomForestRegressor(n_estimators=100, random_state=0)\n",
    "RF_fit=RF.fit(x_train, y_train)"
   ]
  },
  {
   "cell_type": "code",
   "execution_count": 65,
   "metadata": {
    "scrolled": true
   },
   "outputs": [
    {
     "data": {
      "text/plain": [
       "0.05645300134606978"
      ]
     },
     "execution_count": 65,
     "metadata": {},
     "output_type": "execute_result"
    }
   ],
   "source": [
    "y_pred=RF_fit.predict(x_train)\n",
    "np.sqrt(mean_squared_error(y_pred,y_train))"
   ]
  },
  {
   "cell_type": "code",
   "execution_count": 66,
   "metadata": {},
   "outputs": [
    {
     "data": {
      "text/plain": [
       "0.1582242966480905"
      ]
     },
     "execution_count": 66,
     "metadata": {},
     "output_type": "execute_result"
    }
   ],
   "source": [
    "y_pred=RF_fit.predict(x_test)\n",
    "np.sqrt(mean_squared_error(y_pred,y_test))"
   ]
  },
  {
   "cell_type": "markdown",
   "metadata": {},
   "source": [
    "### XGBoost Model"
   ]
  },
  {
   "cell_type": "code",
   "execution_count": 67,
   "metadata": {},
   "outputs": [],
   "source": [
    "XG = ensemble.GradientBoostingRegressor(loss='huber', learning_rate=0.05, n_estimators=3000, max_depth=10, \n",
    "                                  max_features='sqrt', min_samples_leaf=15, \n",
    "                                  min_samples_split=10)\n",
    "XG_fit=XG.fit(x_train, y_train)"
   ]
  },
  {
   "cell_type": "code",
   "execution_count": 68,
   "metadata": {},
   "outputs": [
    {
     "data": {
      "text/plain": [
       "0.047024058860390495"
      ]
     },
     "execution_count": 68,
     "metadata": {},
     "output_type": "execute_result"
    }
   ],
   "source": [
    "y_pred=XG_fit.predict(x_train)\n",
    "np.sqrt(mean_squared_error(y_pred,y_train))"
   ]
  },
  {
   "cell_type": "code",
   "execution_count": 69,
   "metadata": {},
   "outputs": [
    {
     "data": {
      "text/plain": [
       "0.16453419112894327"
      ]
     },
     "execution_count": 69,
     "metadata": {},
     "output_type": "execute_result"
    }
   ],
   "source": [
    "y_pred=XG_fit.predict(x_test)\n",
    "np.sqrt(mean_squared_error(y_pred,y_test))"
   ]
  },
  {
   "cell_type": "markdown",
   "metadata": {},
   "source": [
    "### Wrapper Method - Recursive Feature Elimination Method"
   ]
  },
  {
   "cell_type": "code",
   "execution_count": 70,
   "metadata": {},
   "outputs": [],
   "source": [
    "from sklearn.feature_selection import RFECV"
   ]
  },
  {
   "cell_type": "code",
   "execution_count": 71,
   "metadata": {},
   "outputs": [],
   "source": [
    "RM=RFECV(DT, step=1, cv=20, scoring='neg_mean_squared_error')"
   ]
  },
  {
   "cell_type": "code",
   "execution_count": 72,
   "metadata": {
    "scrolled": true
   },
   "outputs": [],
   "source": [
    "RM_fit=RM.fit(x_train,y_train)"
   ]
  },
  {
   "cell_type": "code",
   "execution_count": 73,
   "metadata": {},
   "outputs": [
    {
     "data": {
      "text/plain": [
       "0.006473479566308707"
      ]
     },
     "execution_count": 73,
     "metadata": {},
     "output_type": "execute_result"
    }
   ],
   "source": [
    "y_pred=RM_fit.predict(x_train)\n",
    "np.sqrt(mean_squared_error(y_pred,y_train))"
   ]
  },
  {
   "cell_type": "code",
   "execution_count": 74,
   "metadata": {},
   "outputs": [
    {
     "data": {
      "text/plain": [
       "12"
      ]
     },
     "execution_count": 74,
     "metadata": {},
     "output_type": "execute_result"
    }
   ],
   "source": [
    "RM_fit.n_features_"
   ]
  },
  {
   "cell_type": "markdown",
   "metadata": {},
   "source": [
    "## Embedded Method - XGBoost Feature Importance"
   ]
  },
  {
   "cell_type": "code",
   "execution_count": 76,
   "metadata": {},
   "outputs": [
    {
     "name": "stdout",
     "output_type": "stream",
     "text": [
      "[0.0246229  0.21559298 0.00495196 0.16633578 0.14933479 0.16452157\n",
      " 0.0072682  0.07133566 0.08546131 0.02418932 0.0629835  0.02340202]\n"
     ]
    }
   ],
   "source": [
    "from xgboost import XGBClassifier\n",
    "model = XGBClassifier()\n",
    "model.fit(x_train, y_train)\n",
    "print(model.feature_importances_)"
   ]
  },
  {
   "cell_type": "code",
   "execution_count": 87,
   "metadata": {},
   "outputs": [
    {
     "data": {
      "image/png": "[encoded data removed]",
      "text/plain": [
       "<Figure size 432x288 with 1 Axes>"
      ]
     },
     "metadata": {},
     "output_type": "display_data"
    }
   ],
   "source": [
    "plt.barh(feature_col, model.feature_importances_)\n",
    "plt.show()"
   ]
  },
  {
   "cell_type": "code",
   "execution_count": 90,
   "metadata": {},
   "outputs": [
    {
     "data": {
      "text/plain": [
       "array(['OverallQual', 'GrLivArea', 'GarageCars', 'GarageArea', '1stFlrSF',\n",
       "       'TotalBsmtSF', 'FullBath', 'YearBuilt', 'YearRemodAdd',\n",
       "       'FireplaceQu', 'GarageYrBlt', 'TotRmsAbvGrd'], dtype=object)"
      ]
     },
     "execution_count": 90,
     "metadata": {},
     "output_type": "execute_result"
    }
   ],
   "source": [
    "feature_col"
   ]
  },
  {
   "cell_type": "code",
   "execution_count": 93,
   "metadata": {},
   "outputs": [],
   "source": [
    "df_XG=pd.DataFrame()"
   ]
  },
  {
   "cell_type": "code",
   "execution_count": 95,
   "metadata": {},
   "outputs": [],
   "source": [
    "df_XG['Feature']=feature_col\n",
    "df_XG['Feature_Importance']=model.feature_importances_"
   ]
  },
  {
   "cell_type": "code",
   "execution_count": 96,
   "metadata": {},
   "outputs": [
    {
     "data": {
      "text/html": [
       "<div>\n",
       "<style scoped>\n",
       "    .dataframe tbody tr th:only-of-type {\n",
       "        vertical-align: middle;\n",
       "    }\n",
       "\n",
       "    .dataframe tbody tr th {\n",
       "        vertical-align: top;\n",
       "    }\n",
       "\n",
       "    .dataframe thead th {\n",
       "        text-align: right;\n",
       "    }\n",
       "</style>\n",
       "<table border=\"1\" class=\"dataframe\">\n",
       "  <thead>\n",
       "    <tr style=\"text-align: right;\">\n",
       "      <th></th>\n",
       "      <th>Feature</th>\n",
       "      <th>Feature_Importance</th>\n",
       "    </tr>\n",
       "  </thead>\n",
       "  <tbody>\n",
       "    <tr>\n",
       "      <th>0</th>\n",
       "      <td>OverallQual</td>\n",
       "      <td>0.024623</td>\n",
       "    </tr>\n",
       "    <tr>\n",
       "      <th>1</th>\n",
       "      <td>GrLivArea</td>\n",
       "      <td>0.215593</td>\n",
       "    </tr>\n",
       "    <tr>\n",
       "      <th>2</th>\n",
       "      <td>GarageCars</td>\n",
       "      <td>0.004952</td>\n",
       "    </tr>\n",
       "    <tr>\n",
       "      <th>3</th>\n",
       "      <td>GarageArea</td>\n",
       "      <td>0.166336</td>\n",
       "    </tr>\n",
       "    <tr>\n",
       "      <th>4</th>\n",
       "      <td>1stFlrSF</td>\n",
       "      <td>0.149335</td>\n",
       "    </tr>\n",
       "    <tr>\n",
       "      <th>5</th>\n",
       "      <td>TotalBsmtSF</td>\n",
       "      <td>0.164522</td>\n",
       "    </tr>\n",
       "    <tr>\n",
       "      <th>6</th>\n",
       "      <td>FullBath</td>\n",
       "      <td>0.007268</td>\n",
       "    </tr>\n",
       "    <tr>\n",
       "      <th>7</th>\n",
       "      <td>YearBuilt</td>\n",
       "      <td>0.071336</td>\n",
       "    </tr>\n",
       "    <tr>\n",
       "      <th>8</th>\n",
       "      <td>YearRemodAdd</td>\n",
       "      <td>0.085461</td>\n",
       "    </tr>\n",
       "    <tr>\n",
       "      <th>9</th>\n",
       "      <td>FireplaceQu</td>\n",
       "      <td>0.024189</td>\n",
       "    </tr>\n",
       "    <tr>\n",
       "      <th>10</th>\n",
       "      <td>GarageYrBlt</td>\n",
       "      <td>0.062983</td>\n",
       "    </tr>\n",
       "    <tr>\n",
       "      <th>11</th>\n",
       "      <td>TotRmsAbvGrd</td>\n",
       "      <td>0.023402</td>\n",
       "    </tr>\n",
       "  </tbody>\n",
       "</table>\n",
       "</div>"
      ],
      "text/plain": [
       "         Feature  Feature_Importance\n",
       "0    OverallQual            0.024623\n",
       "1      GrLivArea            0.215593\n",
       "2     GarageCars            0.004952\n",
       "3     GarageArea            0.166336\n",
       "4       1stFlrSF            0.149335\n",
       "5    TotalBsmtSF            0.164522\n",
       "6       FullBath            0.007268\n",
       "7      YearBuilt            0.071336\n",
       "8   YearRemodAdd            0.085461\n",
       "9    FireplaceQu            0.024189\n",
       "10   GarageYrBlt            0.062983\n",
       "11  TotRmsAbvGrd            0.023402"
      ]
     },
     "execution_count": 96,
     "metadata": {},
     "output_type": "execute_result"
    }
   ],
   "source": [
    "df_XG"
   ]
  },
  {
   "cell_type": "code",
   "execution_count": 104,
   "metadata": {},
   "outputs": [],
   "source": [
    "df_XG=df_XG.sort_values(by=['Feature_Importance'],ascending=False)"
   ]
  },
  {
   "cell_type": "code",
   "execution_count": 105,
   "metadata": {},
   "outputs": [
    {
     "data": {
      "text/html": [
       "<div>\n",
       "<style scoped>\n",
       "    .dataframe tbody tr th:only-of-type {\n",
       "        vertical-align: middle;\n",
       "    }\n",
       "\n",
       "    .dataframe tbody tr th {\n",
       "        vertical-align: top;\n",
       "    }\n",
       "\n",
       "    .dataframe thead th {\n",
       "        text-align: right;\n",
       "    }\n",
       "</style>\n",
       "<table border=\"1\" class=\"dataframe\">\n",
       "  <thead>\n",
       "    <tr style=\"text-align: right;\">\n",
       "      <th></th>\n",
       "      <th>Feature</th>\n",
       "      <th>Feature_Importance</th>\n",
       "    </tr>\n",
       "  </thead>\n",
       "  <tbody>\n",
       "    <tr>\n",
       "      <th>1</th>\n",
       "      <td>GrLivArea</td>\n",
       "      <td>0.215593</td>\n",
       "    </tr>\n",
       "    <tr>\n",
       "      <th>3</th>\n",
       "      <td>GarageArea</td>\n",
       "      <td>0.166336</td>\n",
       "    </tr>\n",
       "    <tr>\n",
       "      <th>5</th>\n",
       "      <td>TotalBsmtSF</td>\n",
       "      <td>0.164522</td>\n",
       "    </tr>\n",
       "    <tr>\n",
       "      <th>4</th>\n",
       "      <td>1stFlrSF</td>\n",
       "      <td>0.149335</td>\n",
       "    </tr>\n",
       "    <tr>\n",
       "      <th>8</th>\n",
       "      <td>YearRemodAdd</td>\n",
       "      <td>0.085461</td>\n",
       "    </tr>\n",
       "    <tr>\n",
       "      <th>7</th>\n",
       "      <td>YearBuilt</td>\n",
       "      <td>0.071336</td>\n",
       "    </tr>\n",
       "    <tr>\n",
       "      <th>10</th>\n",
       "      <td>GarageYrBlt</td>\n",
       "      <td>0.062983</td>\n",
       "    </tr>\n",
       "    <tr>\n",
       "      <th>0</th>\n",
       "      <td>OverallQual</td>\n",
       "      <td>0.024623</td>\n",
       "    </tr>\n",
       "    <tr>\n",
       "      <th>9</th>\n",
       "      <td>FireplaceQu</td>\n",
       "      <td>0.024189</td>\n",
       "    </tr>\n",
       "    <tr>\n",
       "      <th>11</th>\n",
       "      <td>TotRmsAbvGrd</td>\n",
       "      <td>0.023402</td>\n",
       "    </tr>\n",
       "    <tr>\n",
       "      <th>6</th>\n",
       "      <td>FullBath</td>\n",
       "      <td>0.007268</td>\n",
       "    </tr>\n",
       "    <tr>\n",
       "      <th>2</th>\n",
       "      <td>GarageCars</td>\n",
       "      <td>0.004952</td>\n",
       "    </tr>\n",
       "  </tbody>\n",
       "</table>\n",
       "</div>"
      ],
      "text/plain": [
       "         Feature  Feature_Importance\n",
       "1      GrLivArea            0.215593\n",
       "3     GarageArea            0.166336\n",
       "5    TotalBsmtSF            0.164522\n",
       "4       1stFlrSF            0.149335\n",
       "8   YearRemodAdd            0.085461\n",
       "7      YearBuilt            0.071336\n",
       "10   GarageYrBlt            0.062983\n",
       "0    OverallQual            0.024623\n",
       "9    FireplaceQu            0.024189\n",
       "11  TotRmsAbvGrd            0.023402\n",
       "6       FullBath            0.007268\n",
       "2     GarageCars            0.004952"
      ]
     },
     "execution_count": 105,
     "metadata": {},
     "output_type": "execute_result"
    }
   ],
   "source": [
    "df_XG"
   ]
  },
  {
   "cell_type": "code",
   "execution_count": 112,
   "metadata": {},
   "outputs": [],
   "source": [
    "feature_col_XG=df_XG['Feature'][:7]"
   ]
  },
  {
   "cell_type": "code",
   "execution_count": 113,
   "metadata": {},
   "outputs": [
    {
     "data": {
      "text/plain": [
       "1        GrLivArea\n",
       "3       GarageArea\n",
       "5      TotalBsmtSF\n",
       "4         1stFlrSF\n",
       "8     YearRemodAdd\n",
       "7        YearBuilt\n",
       "10     GarageYrBlt\n",
       "Name: Feature, dtype: object"
      ]
     },
     "execution_count": 113,
     "metadata": {},
     "output_type": "execute_result"
    }
   ],
   "source": [
    "feature_col_XG"
   ]
  },
  {
   "cell_type": "markdown",
   "metadata": {},
   "source": [
    "### Using the new selected features in the 6 models again."
   ]
  },
  {
   "cell_type": "code",
   "execution_count": null,
   "metadata": {},
   "outputs": [],
   "source": []
  }
 ],
 "metadata": {
  "kernelspec": {
   "display_name": "Python 3",
   "language": "python",
   "name": "python3"
  },
  "language_info": {
   "codemirror_mode": {
    "name": "ipython",
    "version": 3
   },
   "file_extension": ".py",
   "mimetype": "text/x-python",
   "name": "python",
   "nbconvert_exporter": "python",
   "pygments_lexer": "ipython3",
   "version": "3.7.0"
  }
 },
 "nbformat": 4,
 "nbformat_minor": 2
}
